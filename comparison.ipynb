{
 "cells": [
  {
   "cell_type": "code",
   "execution_count": 1,
   "metadata": {},
   "outputs": [],
   "source": [
    "# This code is for comparing the difference between AI generated paths, human navigated paths, and the actual shortest path\n",
    "\n",
    "import pandas as pd\n",
    "import networkx as nx\n",
    "import os\n",
    "import csv\n",
    "import matplotlib.pyplot as plt\n",
    "import numpy as np\n",
    "import seaborn as sns\n",
    "from scipy.spatial.distance import cosine\n",
    "from sentence_transformers import SentenceTransformer\n",
    "from src.data.paths_loader import *\n",
    "from src.utils.evaluation_utils import *\n",
    "from src.utils.plot_utils import *\n",
    "import plotly.io as pio\n",
    "\n",
    "# load the links file\n",
    "df = pd.read_csv('data/wikispeedia_paths-and-graph/links.tsv', sep='\\t', comment='#', header=None, names=['origin', 'destination'])\n",
    "\n",
    "# Create a directed graph\n",
    "G = nx.from_pandas_edgelist(df, source='origin', target='destination', create_using=nx.DiGraph())\n",
    "\n",
    "# load the origin and destination pairs, in the first column\n",
    "ori_dest = pd.read_csv('data/ori_dest.csv').iloc[:, 0].tolist()\n",
    "ori_dest = [eval(pair) for pair in ori_dest]"
   ]
  },
  {
   "cell_type": "code",
   "execution_count": 2,
   "metadata": {},
   "outputs": [],
   "source": [
    "# for each pair, load the AI generated path and the human navigated path\n",
    "AI_paths = load_ai_paths('data/paths', ori_dest)\n",
    "improved_ai_paths = load_ai_paths('data/paths_improved_prompt', ori_dest)\n",
    "human_paths = load_human_paths(ori_dest)\n",
    "shortest_paths = get_shortest_path(G, ori_dest)"
   ]
  },
  {
   "cell_type": "code",
   "execution_count": 3,
   "metadata": {},
   "outputs": [
    {
     "name": "stdout",
     "output_type": "stream",
     "text": [
      "Start: Brain, Target: Telephone\n",
      "AI path length: 5.6, improved AI path length: 5.0, Human path length: 7.1, Shortest path length: 4\n",
      "Start: Theatre, Target: Zebra\n",
      "AI path length: 8.6, improved AI path length: 10.75, Human path length: 7.83646408839779, Shortest path length: 4\n",
      "Start: Pyramid, Target: Bean\n",
      "AI path length: 5.6, improved AI path length: 5.0, Human path length: 8.246105919003115, Shortest path length: 4\n",
      "Start: Batman, Target: Wood\n",
      "AI path length: 7.5, improved AI path length: 5.8, Human path length: 7.263513513513513, Shortest path length: 4\n",
      "Start: Bird, Target: Great_white_shark\n",
      "AI path length: 9.6, improved AI path length: 10.0, Human path length: 5.695652173913044, Shortest path length: 4\n",
      "Start: Batman, Target: The_Holocaust\n",
      "AI path length: 5.4, improved AI path length: 6.0, Human path length: 5.420168067226891, Shortest path length: 4\n",
      "Start: Bird, Target: Adolf_Hitler\n",
      "AI path length: 5.0, improved AI path length: 4.0, Human path length: 5.401869158878505, Shortest path length: 3\n",
      "Start: Beer, Target: Sun\n",
      "AI path length: 7.6, improved AI path length: 8.0, Human path length: 5.181818181818182, Shortest path length: 3\n",
      "Start: Batman, Target: Banana\n",
      "AI path length: 6.0, improved AI path length: 6.0, Human path length: 7.260869565217392, Shortest path length: 5\n",
      "Start: Cat, Target: Computer\n",
      "AI path length: 3.0, improved AI path length: 3.0, Human path length: 7.192982456140351, Shortest path length: 3\n",
      "Start: Cat, Target: Microsoft\n",
      "AI path length: 7.0, improved AI path length: 5.0, Human path length: 8.196428571428571, Shortest path length: 4\n",
      "Start: Dog, Target: Telephone\n",
      "AI path length: 5.0, improved AI path length: 5.0, Human path length: 7.622641509433962, Shortest path length: 4\n",
      "Start: Flower, Target: Adolf_Hitler\n",
      "AI path length: 5.2, improved AI path length: 5.4, Human path length: 5.0588235294117645, Shortest path length: 4\n",
      "Start: Automobile, Target: Pluto\n",
      "AI path length: 5.0, improved AI path length: 5.0, Human path length: 5.787234042553192, Shortest path length: 4\n",
      "Start: Dog, Target: Venus\n",
      "AI path length: 11.2, improved AI path length: 14.5, Human path length: 7.25531914893617, Shortest path length: 4\n",
      "Start: Batman, Target: Bible\n",
      "AI path length: 4.0, improved AI path length: 4.0, Human path length: 5.790697674418604, Shortest path length: 4\n",
      "Start: Aluminium_chloride, Target: Parrot\n",
      "AI path length: 6.0, improved AI path length: 6.0, Human path length: 9.047619047619047, Shortest path length: 4\n",
      "Start: England, Target: God\n",
      "AI path length: 4.0, improved AI path length: 3.6, Human path length: 4.761904761904762, Shortest path length: 3\n",
      "Start: Achilles_tendon, Target: Ocean\n",
      "AI path length: 5.0, improved AI path length: 5.0, Human path length: 6.4, Shortest path length: 5\n",
      "Start: Calculus, Target: Paul_McCartney\n",
      "AI path length: 7.4, improved AI path length: 10.0, Human path length: 7.0, Shortest path length: 4\n",
      "Start: Electricity, Target: God\n",
      "AI path length: 5.0, improved AI path length: 5.0, Human path length: 6.529411764705882, Shortest path length: 3\n",
      "Start: Art, Target: Mango\n",
      "AI path length: 8.8, improved AI path length: 5.8, Human path length: 9.53125, Shortest path length: 3\n",
      "Start: Brazil, Target: Hydrogen\n",
      "AI path length: 4.4, improved AI path length: 8.6, Human path length: 5.65625, Shortest path length: 3\n",
      "Start: Africa, Target: England\n",
      "AI path length: 3.0, improved AI path length: 3.0, Human path length: 4.333333333333333, Shortest path length: 3\n",
      "Start: Archbishop_of_Canterbury, Target: Vietnam\n",
      "AI path length: 5.0, improved AI path length: 4.4, Human path length: 6.566666666666666, Shortest path length: 4\n",
      "Start: Computer, Target: Russia\n",
      "AI path length: 4.6, improved AI path length: 4.0, Human path length: 4.827586206896552, Shortest path length: 3\n",
      "Start: Computer, Target: Fruit\n",
      "AI path length: 5.8, improved AI path length: 4.0, Human path length: 8.344827586206897, Shortest path length: 4\n",
      "Start: 14th_century, Target: Rainbow\n",
      "AI path length: 9.4, improved AI path length: 5.0, Human path length: 7.444444444444445, Shortest path length: 4\n",
      "Start: Cat, Target: Adolf_Hitler\n",
      "AI path length: 5.25, improved AI path length: 5.0, Human path length: 5.296296296296297, Shortest path length: 4\n",
      "Start: Jesus, Target: God\n",
      "AI path length: 2.0, improved AI path length: 2.0, Human path length: 2.0, Shortest path length: 2\n",
      "Start: Manchester, Target: Water\n",
      "AI path length: 5.0, improved AI path length: 5.0, Human path length: 6.1923076923076925, Shortest path length: 3\n",
      "Start: China, Target: Moon\n",
      "AI path length: 5.2, improved AI path length: 5.2, Human path length: 4.84, Shortest path length: 3\n",
      "Start: Antlion, Target: Hip_hop_music\n",
      "AI path length: 5.0, improved AI path length: 5.0, Human path length: 6.25, Shortest path length: 4\n",
      "Start: Batman, Target: Japan\n",
      "AI path length: 4.0, improved AI path length: 4.0, Human path length: 4.416666666666667, Shortest path length: 3\n",
      "Start: Batman, Target: Vitamin_D\n",
      "AI path length: 7.0, improved AI path length: 7.2, Human path length: 7.0, Shortest path length: 4\n",
      "Start: Batman, Target: Penguin\n",
      "AI path length: 14.5, improved AI path length: 19.666666666666668, Human path length: 7.875, Shortest path length: 5\n",
      "Start: Jesus, Target: Adolf_Hitler\n",
      "AI path length: 5.0, improved AI path length: 4.6, Human path length: 4.25, Shortest path length: 3\n",
      "Start: Achilles_tendon, Target: Ivory\n",
      "AI path length: 6.0, improved AI path length: 6.8, Human path length: 8.391304347826088, Shortest path length: 5\n",
      "Start: Batman, Target: Albert_Einstein\n",
      "AI path length: 4.6, improved AI path length: 4.0, Human path length: 4.478260869565218, Shortest path length: 4\n",
      "Start: Brothers_Grimm, Target: Windows_Vista\n",
      "AI path length: 6.0, improved AI path length: 6.0, Human path length: 8.869565217391305, Shortest path length: 5\n",
      "Start: Calculus, Target: Lemon\n",
      "AI path length: 8.5, improved AI path length: 6.0, Human path length: 8.380952380952381, Shortest path length: 4\n",
      "Start: California, Target: Adolf_Hitler\n",
      "AI path length: 4.0, improved AI path length: 4.0, Human path length: 4.761904761904762, Shortest path length: 3\n",
      "Start: Computer_programming, Target: Fresh_water\n",
      "AI path length: 7.4, improved AI path length: 8.2, Human path length: 8.619047619047619, Shortest path length: 5\n",
      "Start: Automobile, Target: Windows_XP\n",
      "AI path length: 5.0, improved AI path length: 5.0, Human path length: 6.15, Shortest path length: 5\n",
      "Start: Cat, Target: Dog\n",
      "AI path length: 12.5, improved AI path length: 9.25, Human path length: 2.55, Shortest path length: 2\n",
      "Start: Apple, Target: Banana\n",
      "AI path length: 3.0, improved AI path length: 3.0, Human path length: 3.0, Shortest path length: 3\n",
      "Start: China, Target: Afghanistan\n",
      "AI path length: 3.6, improved AI path length: 3.0, Human path length: 4.7368421052631575, Shortest path length: 3\n",
      "Start: God, Target: Adolf_Hitler\n",
      "AI path length: 5.0, improved AI path length: 4.6, Human path length: 4.631578947368421, Shortest path length: 4\n",
      "Start: Linux, Target: Adolf_Hitler\n",
      "AI path length: 5.0, improved AI path length: 5.0, Human path length: 5.684210526315789, Shortest path length: 4\n",
      "Start: Moon, Target: Mars\n",
      "AI path length: 3.0, improved AI path length: 3.0, Human path length: 3.0, Shortest path length: 2\n",
      "Start: Apple, Target: Fruit\n",
      "AI path length: 2.0, improved AI path length: 2.0, Human path length: 2.0, Shortest path length: 2\n",
      "Start: Bamako, Target: Sun\n",
      "AI path length: 6.4, improved AI path length: 5.8, Human path length: 6.888888888888889, Shortest path length: 4\n",
      "Start: Bird_migration, Target: Hubble_Space_Telescope\n",
      "AI path length: 14.75, improved AI path length: 7.0, Human path length: 6.166666666666667, Shortest path length: 4\n",
      "Start: Jew, Target: Telephone\n",
      "AI path length: 6.0, improved AI path length: 6.2, Human path length: 6.444444444444445, Shortest path length: 3\n",
      "Start: Video, Target: China\n",
      "AI path length: 4.0, improved AI path length: 4.0, Human path length: 6.5, Shortest path length: 4\n",
      "Start: Famine, Target: Arctic\n",
      "AI path length: 5.0, improved AI path length: 5.2, Human path length: 3.0, Shortest path length: 3\n",
      "Start: AIDS, Target: Jesus\n",
      "AI path length: 5.4, improved AI path length: 6.0, Human path length: 5.411764705882353, Shortest path length: 4\n",
      "Start: George_W._Bush, Target: Monkey\n",
      "AI path length: 4.6, improved AI path length: 4.2, Human path length: 10.588235294117647, Shortest path length: 4\n",
      "Start: Human, Target: Pluto\n",
      "AI path length: 7.75, improved AI path length: 3.4, Human path length: 5.647058823529412, Shortest path length: 3\n",
      "Start: Smog, Target: Toy_Story\n",
      "AI path length: 9.2, improved AI path length: 8.8, Human path length: 8.529411764705882, Shortest path length: 6\n",
      "Start: Pikachu, Target: Sun\n",
      "AI path length: 6.6, improved AI path length: 7.0, Human path length: 4.176470588235294, Shortest path length: 3\n",
      "Start: Earth, Target: Odysseus\n",
      "AI path length: 5.6, improved AI path length: 6.2, Human path length: 6.1875, Shortest path length: 4\n",
      "Start: 15th_century, Target: Windows_Vista\n",
      "AI path length: 8.0, improved AI path length: 6.6, Human path length: 7.625, Shortest path length: 4\n",
      "Start: Batman, Target: Peanut\n",
      "AI path length: 8.0, improved AI path length: 8.6, Human path length: 8.533333333333333, Shortest path length: 5\n",
      "Start: Bird, Target: Thomas_Jefferson\n",
      "AI path length: 5.2, improved AI path length: 4.4, Human path length: 6.733333333333333, Shortest path length: 3\n",
      "Start: Chemistry, Target: Fidel_Castro\n",
      "AI path length: 7.0, improved AI path length: 4.0, Human path length: 8.066666666666666, Shortest path length: 4\n",
      "Start: Dinosaur, Target: China\n",
      "AI path length: 2.0, improved AI path length: 2.0, Human path length: 3.2666666666666666, Shortest path length: 2\n",
      "Start: John_Dee, Target: China\n",
      "AI path length: 4.0, improved AI path length: 4.0, Human path length: 4.6, Shortest path length: 3\n",
      "Start: Reptile, Target: Jesus\n",
      "AI path length: 5.0, improved AI path length: 5.0, Human path length: 5.466666666666667, Shortest path length: 4\n",
      "Start: United_States, Target: English_language\n",
      "AI path length: 3.0, improved AI path length: 3.0, Human path length: 31.933333333333334, Shortest path length: 3\n",
      "Start: Adolf_Hitler, Target: Jesus\n",
      "AI path length: 3.0, improved AI path length: 3.0, Human path length: 4.6, Shortest path length: 3\n",
      "Start: Mario, Target: Nintendo\n",
      "AI path length: 2.0, improved AI path length: 2.0, Human path length: 5.266666666666667, Shortest path length: 2\n",
      "Start: Pikachu, Target: Jesus\n",
      "AI path length: 5.2, improved AI path length: 5.0, Human path length: 5.933333333333334, Shortest path length: 4\n",
      "Start: Africa, Target: Differential_equation\n",
      "AI path length: 6.0, improved AI path length: 9.0, Human path length: 7.642857142857143, Shortest path length: 4\n",
      "Start: Cat, Target: University\n",
      "AI path length: 5.0, improved AI path length: 7.25, Human path length: 7.5, Shortest path length: 4\n",
      "Start: Citrus, Target: Physics\n",
      "AI path length: 4.0, improved AI path length: 4.0, Human path length: 6.571428571428571, Shortest path length: 4\n",
      "Start: Computer, Target: Whale\n",
      "AI path length: 7.0, improved AI path length: 7.0, Human path length: 7.214285714285714, Shortest path length: 4\n",
      "Start: Dinosaur, Target: George_W._Bush\n",
      "AI path length: 3.4, improved AI path length: 3.0, Human path length: 4.428571428571429, Shortest path length: 3\n",
      "Start: England, Target: Train\n",
      "AI path length: 4.0, improved AI path length: 4.0, Human path length: 5.428571428571429, Shortest path length: 3\n",
      "Start: North_America, Target: Canada\n",
      "AI path length: 2.0, improved AI path length: 2.0, Human path length: 7.071428571428571, Shortest path length: 2\n",
      "Start: The_Godfather, Target: Neptune\n",
      "AI path length: 13.0, improved AI path length: 12.4, Human path length: 9.642857142857142, Shortest path length: 4\n",
      "Start: Volcano, Target: Alphabet\n",
      "AI path length: 6.0, improved AI path length: 6.0, Human path length: 5.642857142857143, Shortest path length: 3\n",
      "Start: Nintendo, Target: Snow\n",
      "AI path length: 9.5, improved AI path length: 9.0, Human path length: 5.857142857142857, Shortest path length: 3\n",
      "Start: Bangladesh, Target: Harry_S._Truman\n",
      "AI path length: 4.8, improved AI path length: 3.4, Human path length: 4.538461538461538, Shortest path length: 3\n",
      "Start: Computer, Target: Baseball\n",
      "AI path length: 12.4, improved AI path length: 6.0, Human path length: 7.6923076923076925, Shortest path length: 4\n",
      "Start: Electricity, Target: Anne_Frank\n",
      "AI path length: 10.6, improved AI path length: 11.0, Human path length: 6.076923076923077, Shortest path length: 4\n",
      "Start: Achilles, Target: Winston_Churchill\n",
      "AI path length: 3.8, improved AI path length: 4.2, Human path length: 5.166666666666667, Shortest path length: 3\n",
      "Start: Aircraft, Target: Yugoslavia\n",
      "AI path length: 4.0, improved AI path length: 4.0, Human path length: 5.416666666666667, Shortest path length: 3\n",
      "Start: AT%26T, Target: Vegetable\n",
      "AI path length: 4.0, improved AI path length: 4.0, Human path length: 5.416666666666667, Shortest path length: 4\n",
      "Start: Batman, Target: Jesus\n",
      "AI path length: 4.4, improved AI path length: 4.0, Human path length: 5.666666666666667, Shortest path length: 4\n",
      "Start: Beer, Target: Warsaw\n",
      "AI path length: 4.4, improved AI path length: 4.0, Human path length: 4.916666666666667, Shortest path length: 3\n",
      "Start: Colombia, Target: Meat\n",
      "AI path length: 4.0, improved AI path length: 4.0, Human path length: 8.75, Shortest path length: 3\n",
      "Start: Dog, Target: Sea\n",
      "AI path length: 5.2, improved AI path length: 4.6, Human path length: 6.083333333333333, Shortest path length: 3\n",
      "Start: England, Target: Japan\n",
      "AI path length: 3.2, improved AI path length: 3.0, Human path length: 4.0, Shortest path length: 3\n",
      "Start: Linguistics, Target: Rome\n",
      "AI path length: 4.0, improved AI path length: 4.0, Human path length: 5.333333333333333, Shortest path length: 4\n",
      "Start: Metal, Target: Prague\n",
      "AI path length: 4.2, improved AI path length: 5.6, Human path length: 7.333333333333333, Shortest path length: 4\n",
      "Start: Jesus, Target: Google\n",
      "AI path length: 7.25, improved AI path length: 8.2, Human path length: 8.25, Shortest path length: 4\n",
      "Start: Fourteenth_Amendment_to_the_United_States_Constitution, Target: Reptile\n",
      "AI path length: 9.2, improved AI path length: 6.2, Human path length: 8.333333333333334, Shortest path length: 4\n",
      "Start: Arnold_Schwarzenegger, Target: Vegetable\n",
      "AI path length: 4.75, improved AI path length: 3.4, Human path length: 8.833333333333334, Shortest path length: 3\n",
      "Start: Google, Target: God\n",
      "AI path length: 6.4, improved AI path length: 6.0, Human path length: 6.166666666666667, Shortest path length: 3\n",
      "Start: Harry_Potter, Target: Kangaroo\n",
      "AI path length: 6.0, improved AI path length: 6.0, Human path length: 5.666666666666667, Shortest path length: 4\n",
      "Start: Acceleration, Target: Mozilla_Firefox\n",
      "AI path length: 7.6, improved AI path length: 6.8, Human path length: 9.090909090909092, Shortest path length: 5\n",
      "Start: Agriculture, Target: Sparrow\n",
      "AI path length: 7.0, improved AI path length: 6.0, Human path length: 7.909090909090909, Shortest path length: 4\n",
      "Start: Aircraft, Target: Solar_eclipse\n",
      "AI path length: 4.0, improved AI path length: 4.0, Human path length: 4.7272727272727275, Shortest path length: 3\n",
      "Start: Batman, Target: Superman\n",
      "AI path length: 2.0, improved AI path length: 2.0, Human path length: 2.0, Shortest path length: 2\n",
      "Start: Batman, Target: Bill_Clinton\n",
      "AI path length: 6.0, improved AI path length: 5.8, Human path length: 5.909090909090909, Shortest path length: 4\n",
      "Start: Batman, Target: Coconut_crab\n",
      "AI path length: 20.0, improved AI path length: 18.5, Human path length: 10.181818181818182, Shortest path length: 5\n",
      "Start: Brazil, Target: Vitamin\n",
      "AI path length: 6.6, improved AI path length: 5.0, Human path length: 6.363636363636363, Shortest path length: 4\n",
      "Start: Citrus, Target: Desert\n",
      "AI path length: 5.0, improved AI path length: 5.6, Human path length: 5.545454545454546, Shortest path length: 3\n",
      "Start: Continent, Target: Gorilla\n",
      "AI path length: 8.0, improved AI path length: 6.2, Human path length: 6.909090909090909, Shortest path length: 4\n",
      "Start: David_Beckham, Target: Great_white_shark\n",
      "AI path length: 10.0, improved AI path length: 9.8, Human path length: 9.545454545454545, Shortest path length: 5\n",
      "Start: Dog, Target: Elementary_algebra\n",
      "AI path length: 7.0, improved AI path length: 7.0, Human path length: 8.909090909090908, Shortest path length: 5\n",
      "Start: Flower, Target: George_H._W._Bush\n",
      "AI path length: 6.6, improved AI path length: 5.8, Human path length: 6.090909090909091, Shortest path length: 4\n",
      "Start: Forth, Target: Anne_Frank\n",
      "AI path length: 12.75, improved AI path length: 9.0, Human path length: 9.545454545454545, Shortest path length: 5\n",
      "Start: Mormon, Target: Ice\n",
      "AI path length: 6.6, improved AI path length: 6.4, Human path length: 8.454545454545455, Shortest path length: 4\n",
      "Start: Solar_System, Target: Babe_Ruth\n",
      "AI path length: 5.0, improved AI path length: 5.0, Human path length: 9.454545454545455, Shortest path length: 5\n",
      "Start: Ocean, Target: Love\n",
      "AI path length: 4.0, improved AI path length: 5.8, Human path length: 10.545454545454545, Shortest path length: 4\n",
      "Start: Seed, Target: New_York_City\n",
      "AI path length: 5.8, improved AI path length: 5.0, Human path length: 4.909090909090909, Shortest path length: 4\n",
      "Start: Weed, Target: Jesus\n",
      "AI path length: 7.666666666666667, improved AI path length: 6.2, Human path length: 7.363636363636363, Shortest path length: 5\n",
      "Start: Scent_of_a_Woman, Target: Firearm\n",
      "AI path length: 12.5, improved AI path length: 7.8, Human path length: 6.363636363636363, Shortest path length: 4\n",
      "Start: Meteorological_history_of_Hurricane_Katrina, Target: Iraq_War\n",
      "AI path length: 4.0, improved AI path length: 8.2, Human path length: 4.7272727272727275, Shortest path length: 4\n",
      "Start: Chocolate, Target: Velociraptor\n",
      "AI path length: 20.4, improved AI path length: 12.2, Human path length: 9.090909090909092, Shortest path length: 4\n",
      "Start: Mario, Target: God\n",
      "AI path length: 6.0, improved AI path length: 5.8, Human path length: 6.636363636363637, Shortest path length: 4\n",
      "Start: Age_of_Enlightenment, Target: Kazakhstan\n",
      "AI path length: 4.8, improved AI path length: 4.4, Human path length: 6.2, Shortest path length: 3\n",
      "Start: American_Civil_War, Target: Kuwait_City\n",
      "AI path length: 4.0, improved AI path length: 4.0, Human path length: 6.3, Shortest path length: 4\n",
      "Start: Anaconda, Target: Agnosticism\n",
      "AI path length: 5.0, improved AI path length: 5.2, Human path length: 6.4, Shortest path length: 3\n",
      "Start: Archbishop_of_Canterbury, Target: Neil_Armstrong\n",
      "AI path length: 7.2, improved AI path length: 6.4, Human path length: 10.4, Shortest path length: 4\n",
      "Start: California, Target: Middle_East\n",
      "AI path length: 3.6, improved AI path length: 4.0, Human path length: 5.0, Shortest path length: 3\n",
      "Start: Canada, Target: Pony\n",
      "AI path length: 14.0, improved AI path length: 7.0, Human path length: 7.6, Shortest path length: 4\n",
      "Start: Chemistry, Target: George_H._W._Bush\n",
      "AI path length: 5.0, improved AI path length: 5.0, Human path length: 6.6, Shortest path length: 4\n",
      "Start: Colombia, Target: 6th_century\n",
      "AI path length: 8.0, improved AI path length: 6.2, Human path length: 7.8, Shortest path length: 4\n",
      "Start: Dodo, Target: Film\n",
      "AI path length: 5.0, improved AI path length: 5.0, Human path length: 8.1, Shortest path length: 4\n",
      "Start: Dog, Target: Beer\n",
      "AI path length: 7.6, improved AI path length: 7.0, Human path length: 6.0, Shortest path length: 4\n",
      "Start: Germany, Target: Adolf_Hitler\n",
      "AI path length: 2.0, improved AI path length: 2.0, Human path length: 2.1, Shortest path length: 2\n",
      "Start: Global_warming, Target: Wood\n",
      "AI path length: 5.0, improved AI path length: 5.0, Human path length: 5.2, Shortest path length: 3\n",
      "Start: God, Target: Aztec\n",
      "AI path length: 9.0, improved AI path length: 10.6, Human path length: 7.7, Shortest path length: 4\n",
      "Start: Gregorian_chant, Target: Inductance\n",
      "AI path length: 8.6, improved AI path length: 8.6, Human path length: 9.1, Shortest path length: 5\n",
      "Start: Hydrogen, Target: Gold\n",
      "AI path length: 3.8, improved AI path length: 3.2, Human path length: 3.7, Shortest path length: 3\n",
      "Start: Judaism, Target: Flute\n",
      "AI path length: 6.4, improved AI path length: 5.4, Human path length: 7.9, Shortest path length: 4\n",
      "Start: Mathematics, Target: Juice\n",
      "AI path length: 11.0, improved AI path length: 11.8, Human path length: 10.9, Shortest path length: 4\n",
      "Start: Shark, Target: FIFA\n",
      "AI path length: 11.2, improved AI path length: 9.6, Human path length: 4.0, Shortest path length: 4\n",
      "Start: Booby, Target: Ununhexium\n",
      "AI path length: 8.6, improved AI path length: 6.8, Human path length: 8.1, Shortest path length: 5\n",
      "Start: Jesus, Target: Microsoft\n",
      "AI path length: 9.0, improved AI path length: 6.0, Human path length: 9.1, Shortest path length: 4\n",
      "Start: Pluto, Target: Wall_Street\n",
      "AI path length: 6.4, improved AI path length: 5.0, Human path length: 6.4, Shortest path length: 4\n",
      "Start: Brain, Target: DVD\n",
      "AI path length: 5.0, improved AI path length: 5.0, Human path length: 8.1, Shortest path length: 4\n",
      "Start: Planet, Target: Nuclear_power\n",
      "AI path length: 5.0, improved AI path length: 5.0, Human path length: 6.4, Shortest path length: 4\n",
      "Start: James_Bond, Target: Human_rights\n",
      "AI path length: 3.0, improved AI path length: 3.0, Human path length: 8.0, Shortest path length: 3\n",
      "Start: Pyramid, Target: Adolf_Hitler\n",
      "AI path length: 6.0, improved AI path length: 5.4, Human path length: 5.3, Shortest path length: 3\n",
      "Start: Tennis, Target: Nuclear_weapon\n",
      "AI path length: 4.8, improved AI path length: 5.6, Human path length: 5.8, Shortest path length: 3\n",
      "Start: Khudai_Khidmatgar, Target: Whale\n",
      "AI path length: 4.0, improved AI path length: 4.0, Human path length: 6.3, Shortest path length: 4\n",
      "Start: Earless_seal, Target: Citrus\n",
      "AI path length: 5.8, improved AI path length: 5.8, Human path length: 6.9, Shortest path length: 4\n",
      "Start: Wasp, Target: United_Arab_Emirates\n",
      "AI path length: 6.0, improved AI path length: 5.6, Human path length: 7.2, Shortest path length: 4\n",
      "Start: Weasel, Target: Barium\n",
      "AI path length: 8.4, improved AI path length: 8.2, Human path length: 9.6, Shortest path length: 5\n",
      "Start: Alpaca, Target: Nuclear_fission\n",
      "AI path length: 4.4, improved AI path length: 6.0, Human path length: 6.9, Shortest path length: 4\n",
      "Start: Australian_Open, Target: George_W._Bush\n",
      "AI path length: 4.0, improved AI path length: 4.0, Human path length: 5.2, Shortest path length: 4\n",
      "Start: Necktie, Target: Lion\n",
      "AI path length: 3.0, improved AI path length: 3.0, Human path length: 5.2, Shortest path length: 3\n",
      "Start: Sonic_the_Hedgehog_%28character%29, Target: Cancer\n",
      "AI path length: 8.2, improved AI path length: 7.75, Human path length: 6.1, Shortest path length: 3\n"
     ]
    }
   ],
   "source": [
    "# print the average path length for each pair\n",
    "for pair in ori_dest:\n",
    "    start_article, target_article = pair\n",
    "    ai_path = AI_paths[pair]\n",
    "    human_path = human_paths[pair]\n",
    "    shortest_path = shortest_paths[pair]\n",
    "    # calculat the mean path length\n",
    "    ai_path_len = sum([len(path) for path in ai_path]) / len(ai_path) if ai_path else 0\n",
    "    improved_ai_path_len = sum([len(path) for path in improved_ai_paths[pair]]) / len(improved_ai_paths[pair]) if improved_ai_paths[pair] else 0\n",
    "    human_path_len = sum([len(path) for path in human_path]) / len(human_path) if human_path else 0\n",
    "    shortest_path_len = len(shortest_path[0]) if shortest_path else 0\n",
    "    print(f\"Start: {start_article}, Target: {target_article}\")\n",
    "    print(f\"AI path length: {ai_path_len}, improved AI path length: {improved_ai_path_len}, Human path length: {human_path_len}, Shortest path length: {shortest_path_len}\")\n"
   ]
  },
  {
   "cell_type": "code",
   "execution_count": 5,
   "metadata": {},
   "outputs": [],
   "source": [
    "\n",
    "ai_path_len = [[len(path) for path in AI_paths[pair]] for pair in ori_dest]\n",
    "improved_ai_paths_len = [[len(path) for path in improved_ai_paths[pair]] for pair in ori_dest]\n",
    "human_path_len = [[len(path) for path in human_paths[pair]] for pair in ori_dest]\n",
    "shortest_path_len = [[len(shortest_paths[pair][0])] for pair in ori_dest]\n",
    "\n",
    "# Calculate mean values of AI path lengths and sort pairs based on these means\n",
    "mean_ai_path_len = [np.mean(lengths) for lengths in ai_path_len]\n",
    "sorted_indices = np.argsort(mean_ai_path_len)\n",
    "sorted_ori_dest = [ori_dest[i] for i in sorted_indices]\n",
    "sorted_ai_path_len = [ai_path_len[i] for i in sorted_indices]\n",
    "sorted_improved_ai_path_len = [improved_ai_paths_len[i] for i in sorted_indices]\n",
    "sorted_human_path_len = [human_path_len[i] for i in sorted_indices]\n",
    "sorted_shortest_path_len = [shortest_path_len[i] for i in sorted_indices]"
   ]
  },
  {
   "cell_type": "code",
   "execution_count": 6,
   "metadata": {},
   "outputs": [
    {
     "data": {
      "application/vnd.plotly.v1+json": {
       "config": {
        "plotlyServerURL": "https://plot.ly"
       },
       "data": [
        {
         "base": 3,
         "hovertemplate": "<b>Min:</b> 3<br><b>Median:</b> 3.0<br><b>Max:</b> 3<extra></extra>",
         "marker": {
          "color": "rgba(58, 85, 209, 0.7)"
         },
         "name": "AI",
         "orientation": "h",
         "showlegend": true,
         "type": "bar",
         "width": 0.35,
         "x": [
          0.10000000000000009
         ],
         "y": [
          0.15
         ]
        },
        {
         "base": 3,
         "hovertemplate": "<b>Min:</b> 3<br><b>Median:</b> 3.0<br><b>Max:</b> 3<extra></extra>",
         "marker": {
          "color": "rgba(58, 85, 209, 0.7)"
         },
         "name": "AI",
         "orientation": "h",
         "showlegend": false,
         "type": "bar",
         "width": 0.35,
         "x": [
          0.10000000000000009
         ],
         "y": [
          1.15
         ]
        },
        {
         "base": 4,
         "hovertemplate": "<b>Min:</b> 4<br><b>Median:</b> 4.0<br><b>Max:</b> 4<extra></extra>",
         "marker": {
          "color": "rgba(58, 85, 209, 0.7)"
         },
         "name": "AI",
         "orientation": "h",
         "showlegend": false,
         "type": "bar",
         "width": 0.35,
         "x": [
          0.09999999999999964
         ],
         "y": [
          2.15
         ]
        },
        {
         "base": 4,
         "hovertemplate": "<b>Min:</b> 4<br><b>Median:</b> 4.0<br><b>Max:</b> 4<extra></extra>",
         "marker": {
          "color": "rgba(58, 85, 209, 0.7)"
         },
         "name": "AI",
         "orientation": "h",
         "showlegend": false,
         "type": "bar",
         "width": 0.35,
         "x": [
          0.09999999999999964
         ],
         "y": [
          3.15
         ]
        },
        {
         "base": 4,
         "hovertemplate": "<b>Min:</b> 4<br><b>Median:</b> 4.0<br><b>Max:</b> 5<extra></extra>",
         "marker": {
          "color": "rgba(58, 85, 209, 0.7)"
         },
         "name": "AI",
         "orientation": "h",
         "showlegend": false,
         "type": "bar",
         "width": 0.35,
         "x": [
          1
         ],
         "y": [
          4.15
         ]
        },
        {
         "base": 3,
         "hovertemplate": "<b>Min:</b> 3<br><b>Median:</b> 5.0<br><b>Max:</b> 6<extra></extra>",
         "marker": {
          "color": "rgba(58, 85, 209, 0.7)"
         },
         "name": "AI",
         "orientation": "h",
         "showlegend": false,
         "type": "bar",
         "width": 0.35,
         "x": [
          3
         ],
         "y": [
          5.15
         ]
        },
        {
         "base": 4,
         "hovertemplate": "<b>Min:</b> 4<br><b>Median:</b> 4.0<br><b>Max:</b> 6<extra></extra>",
         "marker": {
          "color": "rgba(58, 85, 209, 0.7)"
         },
         "name": "AI",
         "orientation": "h",
         "showlegend": false,
         "type": "bar",
         "width": 0.35,
         "x": [
          2
         ],
         "y": [
          6.15
         ]
        },
        {
         "base": 4,
         "hovertemplate": "<b>Min:</b> 4<br><b>Median:</b> 5.0<br><b>Max:</b> 5<extra></extra>",
         "marker": {
          "color": "rgba(58, 85, 209, 0.7)"
         },
         "name": "AI",
         "orientation": "h",
         "showlegend": false,
         "type": "bar",
         "width": 0.35,
         "x": [
          1
         ],
         "y": [
          7.15
         ]
        },
        {
         "base": 4,
         "hovertemplate": "<b>Min:</b> 4<br><b>Median:</b> 5.0<br><b>Max:</b> 6<extra></extra>",
         "marker": {
          "color": "rgba(58, 85, 209, 0.7)"
         },
         "name": "AI",
         "orientation": "h",
         "showlegend": false,
         "type": "bar",
         "width": 0.35,
         "x": [
          2
         ],
         "y": [
          8.15
         ]
        },
        {
         "base": 5,
         "hovertemplate": "<b>Min:</b> 5<br><b>Median:</b> 5.0<br><b>Max:</b> 5<extra></extra>",
         "marker": {
          "color": "rgba(58, 85, 209, 0.7)"
         },
         "name": "AI",
         "orientation": "h",
         "showlegend": false,
         "type": "bar",
         "width": 0.35,
         "x": [
          0.09999999999999964
         ],
         "y": [
          9.15
         ]
        },
        {
         "base": 5,
         "hovertemplate": "<b>Min:</b> 5<br><b>Median:</b> 5.0<br><b>Max:</b> 5<extra></extra>",
         "marker": {
          "color": "rgba(58, 85, 209, 0.7)"
         },
         "name": "AI",
         "orientation": "h",
         "showlegend": false,
         "type": "bar",
         "width": 0.35,
         "x": [
          0.09999999999999964
         ],
         "y": [
          10.15
         ]
        },
        {
         "base": 5,
         "hovertemplate": "<b>Min:</b> 5<br><b>Median:</b> 5.0<br><b>Max:</b> 5<extra></extra>",
         "marker": {
          "color": "rgba(58, 85, 209, 0.7)"
         },
         "name": "AI",
         "orientation": "h",
         "showlegend": false,
         "type": "bar",
         "width": 0.35,
         "x": [
          0.09999999999999964
         ],
         "y": [
          11.15
         ]
        },
        {
         "base": 4,
         "hovertemplate": "<b>Min:</b> 4<br><b>Median:</b> 6.0<br><b>Max:</b> 6<extra></extra>",
         "marker": {
          "color": "rgba(58, 85, 209, 0.7)"
         },
         "name": "AI",
         "orientation": "h",
         "showlegend": false,
         "type": "bar",
         "width": 0.35,
         "x": [
          2
         ],
         "y": [
          12.15
         ]
        },
        {
         "base": 6,
         "hovertemplate": "<b>Min:</b> 6<br><b>Median:</b> 6.0<br><b>Max:</b> 6<extra></extra>",
         "marker": {
          "color": "rgba(58, 85, 209, 0.7)"
         },
         "name": "AI",
         "orientation": "h",
         "showlegend": false,
         "type": "bar",
         "width": 0.35,
         "x": [
          0.09999999999999964
         ],
         "y": [
          13.15
         ]
        },
        {
         "base": 5,
         "hovertemplate": "<b>Min:</b> 5<br><b>Median:</b> 6.0<br><b>Max:</b> 8<extra></extra>",
         "marker": {
          "color": "rgba(58, 85, 209, 0.7)"
         },
         "name": "AI",
         "orientation": "h",
         "showlegend": false,
         "type": "bar",
         "width": 0.35,
         "x": [
          3
         ],
         "y": [
          14.15
         ]
        },
        {
         "base": 7,
         "hovertemplate": "<b>Min:</b> 7<br><b>Median:</b> 7.0<br><b>Max:</b> 8<extra></extra>",
         "marker": {
          "color": "rgba(58, 85, 209, 0.7)"
         },
         "name": "AI",
         "orientation": "h",
         "showlegend": false,
         "type": "bar",
         "width": 0.35,
         "x": [
          1
         ],
         "y": [
          15.15
         ]
        },
        {
         "base": 4,
         "hovertemplate": "<b>Min:</b> 4<br><b>Median:</b> 5.5<br><b>Max:</b> 7<extra></extra>",
         "marker": {
          "color": "rgba(58, 85, 209, 0.7)"
         },
         "name": "AI",
         "orientation": "h",
         "showlegend": false,
         "type": "bar",
         "width": 0.35,
         "x": [
          3
         ],
         "y": [
          16.15
         ]
        },
        {
         "base": 6,
         "hovertemplate": "<b>Min:</b> 6<br><b>Median:</b> 7.0<br><b>Max:</b> 10<extra></extra>",
         "marker": {
          "color": "rgba(58, 85, 209, 0.7)"
         },
         "name": "AI",
         "orientation": "h",
         "showlegend": false,
         "type": "bar",
         "width": 0.35,
         "x": [
          4
         ],
         "y": [
          17.15
         ]
        },
        {
         "base": 8,
         "hovertemplate": "<b>Min:</b> 8<br><b>Median:</b> 8.0<br><b>Max:</b> 8<extra></extra>",
         "marker": {
          "color": "rgba(58, 85, 209, 0.7)"
         },
         "name": "AI",
         "orientation": "h",
         "showlegend": false,
         "type": "bar",
         "width": 0.35,
         "x": [
          0.09999999999999964
         ],
         "y": [
          18.15
         ]
        },
        {
         "base": 7,
         "hovertemplate": "<b>Min:</b> 7<br><b>Median:</b> 9.0<br><b>Max:</b> 10<extra></extra>",
         "marker": {
          "color": "rgba(58, 85, 209, 0.7)"
         },
         "name": "AI",
         "orientation": "h",
         "showlegend": false,
         "type": "bar",
         "width": 0.35,
         "x": [
          3
         ],
         "y": [
          19.15
         ]
        },
        {
         "base": 8,
         "hovertemplate": "<b>Min:</b> 8<br><b>Median:</b> 9.5<br><b>Max:</b> 11<extra></extra>",
         "marker": {
          "color": "rgba(58, 85, 209, 0.7)"
         },
         "name": "AI",
         "orientation": "h",
         "showlegend": false,
         "type": "bar",
         "width": 0.35,
         "x": [
          3
         ],
         "y": [
          20.15
         ]
        },
        {
         "base": 7,
         "hovertemplate": "<b>Min:</b> 7<br><b>Median:</b> 7.0<br><b>Max:</b> 7<extra></extra>",
         "marker": {
          "color": "rgba(58, 85, 209, 0.7)"
         },
         "name": "AI",
         "orientation": "h",
         "showlegend": false,
         "type": "bar",
         "width": 0.35,
         "x": [
          0.09999999999999964
         ],
         "y": [
          21.15
         ]
        },
        {
         "base": 9,
         "hovertemplate": "<b>Min:</b> 9<br><b>Median:</b> 13.0<br><b>Max:</b> 16<extra></extra>",
         "marker": {
          "color": "rgba(58, 85, 209, 0.7)"
         },
         "name": "AI",
         "orientation": "h",
         "showlegend": false,
         "type": "bar",
         "width": 0.35,
         "x": [
          7
         ],
         "y": [
          22.15
         ]
        },
        {
         "base": 3,
         "hovertemplate": "<b>Min:</b> 3<br><b>Median:</b> 4.0<br><b>Max:</b> 8<extra></extra>",
         "marker": {
          "color": "rgba(242, 153, 74, 0.7)"
         },
         "name": "Human",
         "orientation": "h",
         "showlegend": true,
         "type": "bar",
         "width": 0.35,
         "x": [
          5
         ],
         "y": [
          -0.15
         ]
        },
        {
         "base": 3,
         "hovertemplate": "<b>Min:</b> 3<br><b>Median:</b> 4.0<br><b>Max:</b> 9<extra></extra>",
         "marker": {
          "color": "rgba(242, 153, 74, 0.7)"
         },
         "name": "Human",
         "orientation": "h",
         "showlegend": false,
         "type": "bar",
         "width": 0.35,
         "x": [
          6
         ],
         "y": [
          0.85
         ]
        },
        {
         "base": 4,
         "hovertemplate": "<b>Min:</b> 4<br><b>Median:</b> 8.0<br><b>Max:</b> 14<extra></extra>",
         "marker": {
          "color": "rgba(242, 153, 74, 0.7)"
         },
         "name": "Human",
         "orientation": "h",
         "showlegend": false,
         "type": "bar",
         "width": 0.35,
         "x": [
          10
         ],
         "y": [
          1.85
         ]
        },
        {
         "base": 3,
         "hovertemplate": "<b>Min:</b> 3<br><b>Median:</b> 4.0<br><b>Max:</b> 6<extra></extra>",
         "marker": {
          "color": "rgba(242, 153, 74, 0.7)"
         },
         "name": "Human",
         "orientation": "h",
         "showlegend": false,
         "type": "bar",
         "width": 0.35,
         "x": [
          3
         ],
         "y": [
          2.85
         ]
        },
        {
         "base": 4,
         "hovertemplate": "<b>Min:</b> 4<br><b>Median:</b> 7.0<br><b>Max:</b> 10<extra></extra>",
         "marker": {
          "color": "rgba(242, 153, 74, 0.7)"
         },
         "name": "Human",
         "orientation": "h",
         "showlegend": false,
         "type": "bar",
         "width": 0.35,
         "x": [
          6
         ],
         "y": [
          3.85
         ]
        },
        {
         "base": 3,
         "hovertemplate": "<b>Min:</b> 3<br><b>Median:</b> 7.0<br><b>Max:</b> 14<extra></extra>",
         "marker": {
          "color": "rgba(242, 153, 74, 0.7)"
         },
         "name": "Human",
         "orientation": "h",
         "showlegend": false,
         "type": "bar",
         "width": 0.35,
         "x": [
          11
         ],
         "y": [
          4.85
         ]
        },
        {
         "base": 3,
         "hovertemplate": "<b>Min:</b> 3<br><b>Median:</b> 5.0<br><b>Max:</b> 11<extra></extra>",
         "marker": {
          "color": "rgba(242, 153, 74, 0.7)"
         },
         "name": "Human",
         "orientation": "h",
         "showlegend": false,
         "type": "bar",
         "width": 0.35,
         "x": [
          8
         ],
         "y": [
          5.85
         ]
        },
        {
         "base": 4,
         "hovertemplate": "<b>Min:</b> 4<br><b>Median:</b> 6.0<br><b>Max:</b> 10<extra></extra>",
         "marker": {
          "color": "rgba(242, 153, 74, 0.7)"
         },
         "name": "Human",
         "orientation": "h",
         "showlegend": false,
         "type": "bar",
         "width": 0.35,
         "x": [
          6
         ],
         "y": [
          6.85
         ]
        },
        {
         "base": 4,
         "hovertemplate": "<b>Min:</b> 4<br><b>Median:</b> 5.0<br><b>Max:</b> 9<extra></extra>",
         "marker": {
          "color": "rgba(242, 153, 74, 0.7)"
         },
         "name": "Human",
         "orientation": "h",
         "showlegend": false,
         "type": "bar",
         "width": 0.35,
         "x": [
          5
         ],
         "y": [
          7.85
         ]
        },
        {
         "base": 5,
         "hovertemplate": "<b>Min:</b> 5<br><b>Median:</b> 6.0<br><b>Max:</b> 9<extra></extra>",
         "marker": {
          "color": "rgba(242, 153, 74, 0.7)"
         },
         "name": "Human",
         "orientation": "h",
         "showlegend": false,
         "type": "bar",
         "width": 0.35,
         "x": [
          4
         ],
         "y": [
          8.85
         ]
        },
        {
         "base": 3,
         "hovertemplate": "<b>Min:</b> 3<br><b>Median:</b> 6.0<br><b>Max:</b> 12<extra></extra>",
         "marker": {
          "color": "rgba(242, 153, 74, 0.7)"
         },
         "name": "Human",
         "orientation": "h",
         "showlegend": false,
         "type": "bar",
         "width": 0.35,
         "x": [
          9
         ],
         "y": [
          9.85
         ]
        },
        {
         "base": 3,
         "hovertemplate": "<b>Min:</b> 3<br><b>Median:</b> 5.5<br><b>Max:</b> 9<extra></extra>",
         "marker": {
          "color": "rgba(242, 153, 74, 0.7)"
         },
         "name": "Human",
         "orientation": "h",
         "showlegend": false,
         "type": "bar",
         "width": 0.35,
         "x": [
          6
         ],
         "y": [
          10.85
         ]
        },
        {
         "base": 4,
         "hovertemplate": "<b>Min:</b> 4<br><b>Median:</b> 5.0<br><b>Max:</b> 9<extra></extra>",
         "marker": {
          "color": "rgba(242, 153, 74, 0.7)"
         },
         "name": "Human",
         "orientation": "h",
         "showlegend": false,
         "type": "bar",
         "width": 0.35,
         "x": [
          5
         ],
         "y": [
          11.85
         ]
        },
        {
         "base": 5,
         "hovertemplate": "<b>Min:</b> 5<br><b>Median:</b> 6.0<br><b>Max:</b> 14<extra></extra>",
         "marker": {
          "color": "rgba(242, 153, 74, 0.7)"
         },
         "name": "Human",
         "orientation": "h",
         "showlegend": false,
         "type": "bar",
         "width": 0.35,
         "x": [
          9
         ],
         "y": [
          12.85
         ]
        },
        {
         "base": 5,
         "hovertemplate": "<b>Min:</b> 5<br><b>Median:</b> 7.5<br><b>Max:</b> 11<extra></extra>",
         "marker": {
          "color": "rgba(242, 153, 74, 0.7)"
         },
         "name": "Human",
         "orientation": "h",
         "showlegend": false,
         "type": "bar",
         "width": 0.35,
         "x": [
          6
         ],
         "y": [
          13.85
         ]
        },
        {
         "base": 5,
         "hovertemplate": "<b>Min:</b> 5<br><b>Median:</b> 7.5<br><b>Max:</b> 12<extra></extra>",
         "marker": {
          "color": "rgba(242, 153, 74, 0.7)"
         },
         "name": "Human",
         "orientation": "h",
         "showlegend": false,
         "type": "bar",
         "width": 0.35,
         "x": [
          7
         ],
         "y": [
          14.85
         ]
        },
        {
         "base": 4,
         "hovertemplate": "<b>Min:</b> 4<br><b>Median:</b> 5.0<br><b>Max:</b> 11<extra></extra>",
         "marker": {
          "color": "rgba(242, 153, 74, 0.7)"
         },
         "name": "Human",
         "orientation": "h",
         "showlegend": false,
         "type": "bar",
         "width": 0.35,
         "x": [
          7
         ],
         "y": [
          15.85
         ]
        },
        {
         "base": 5,
         "hovertemplate": "<b>Min:</b> 5<br><b>Median:</b> 6.0<br><b>Max:</b> 14<extra></extra>",
         "marker": {
          "color": "rgba(242, 153, 74, 0.7)"
         },
         "name": "Human",
         "orientation": "h",
         "showlegend": false,
         "type": "bar",
         "width": 0.35,
         "x": [
          9
         ],
         "y": [
          16.85
         ]
        },
        {
         "base": 4,
         "hovertemplate": "<b>Min:</b> 4<br><b>Median:</b> 7.0<br><b>Max:</b> 12<extra></extra>",
         "marker": {
          "color": "rgba(242, 153, 74, 0.7)"
         },
         "name": "Human",
         "orientation": "h",
         "showlegend": false,
         "type": "bar",
         "width": 0.35,
         "x": [
          8
         ],
         "y": [
          17.85
         ]
        },
        {
         "base": 7,
         "hovertemplate": "<b>Min:</b> 7<br><b>Median:</b> 8.5<br><b>Max:</b> 15<extra></extra>",
         "marker": {
          "color": "rgba(242, 153, 74, 0.7)"
         },
         "name": "Human",
         "orientation": "h",
         "showlegend": false,
         "type": "bar",
         "width": 0.35,
         "x": [
          8
         ],
         "y": [
          18.85
         ]
        },
        {
         "base": 4,
         "hovertemplate": "<b>Min:</b> 4<br><b>Median:</b> 5.0<br><b>Max:</b> 10<extra></extra>",
         "marker": {
          "color": "rgba(242, 153, 74, 0.7)"
         },
         "name": "Human",
         "orientation": "h",
         "showlegend": false,
         "type": "bar",
         "width": 0.35,
         "x": [
          6
         ],
         "y": [
          19.85
         ]
        },
        {
         "base": 5,
         "hovertemplate": "<b>Min:</b> 5<br><b>Median:</b> 6.0<br><b>Max:</b> 13<extra></extra>",
         "marker": {
          "color": "rgba(242, 153, 74, 0.7)"
         },
         "name": "Human",
         "orientation": "h",
         "showlegend": false,
         "type": "bar",
         "width": 0.35,
         "x": [
          8
         ],
         "y": [
          20.85
         ]
        },
        {
         "base": 6,
         "hovertemplate": "<b>Min:</b> 6<br><b>Median:</b> 9.0<br><b>Max:</b> 13<extra></extra>",
         "marker": {
          "color": "rgba(242, 153, 74, 0.7)"
         },
         "name": "Human",
         "orientation": "h",
         "showlegend": false,
         "type": "bar",
         "width": 0.35,
         "x": [
          7
         ],
         "y": [
          21.85
         ]
        },
        {
         "hovertemplate": "<b>Shortest Path Length:</b> 3<extra></extra>",
         "marker": {
          "color": "rgba(111, 207, 151, 0.8)",
          "line": {
           "color": "white",
           "width": 1.5
          },
          "size": 10
         },
         "mode": "markers",
         "name": "Shortest",
         "showlegend": true,
         "type": "scatter",
         "x": [
          3
         ],
         "y": [
          0
         ]
        },
        {
         "hovertemplate": "<b>Shortest Path Length:</b> 3<extra></extra>",
         "marker": {
          "color": "rgba(111, 207, 151, 0.8)",
          "line": {
           "color": "white",
           "width": 1.5
          },
          "size": 10
         },
         "mode": "markers",
         "name": "Shortest",
         "showlegend": false,
         "type": "scatter",
         "x": [
          3
         ],
         "y": [
          1
         ]
        },
        {
         "hovertemplate": "<b>Shortest Path Length:</b> 3<extra></extra>",
         "marker": {
          "color": "rgba(111, 207, 151, 0.8)",
          "line": {
           "color": "white",
           "width": 1.5
          },
          "size": 10
         },
         "mode": "markers",
         "name": "Shortest",
         "showlegend": false,
         "type": "scatter",
         "x": [
          3
         ],
         "y": [
          2
         ]
        },
        {
         "hovertemplate": "<b>Shortest Path Length:</b> 3<extra></extra>",
         "marker": {
          "color": "rgba(111, 207, 151, 0.8)",
          "line": {
           "color": "white",
           "width": 1.5
          },
          "size": 10
         },
         "mode": "markers",
         "name": "Shortest",
         "showlegend": false,
         "type": "scatter",
         "x": [
          3
         ],
         "y": [
          3
         ]
        },
        {
         "hovertemplate": "<b>Shortest Path Length:</b> 4<extra></extra>",
         "marker": {
          "color": "rgba(111, 207, 151, 0.8)",
          "line": {
           "color": "white",
           "width": 1.5
          },
          "size": 10
         },
         "mode": "markers",
         "name": "Shortest",
         "showlegend": false,
         "type": "scatter",
         "x": [
          4
         ],
         "y": [
          4
         ]
        },
        {
         "hovertemplate": "<b>Shortest Path Length:</b> 3<extra></extra>",
         "marker": {
          "color": "rgba(111, 207, 151, 0.8)",
          "line": {
           "color": "white",
           "width": 1.5
          },
          "size": 10
         },
         "mode": "markers",
         "name": "Shortest",
         "showlegend": false,
         "type": "scatter",
         "x": [
          3
         ],
         "y": [
          5
         ]
        },
        {
         "hovertemplate": "<b>Shortest Path Length:</b> 3<extra></extra>",
         "marker": {
          "color": "rgba(111, 207, 151, 0.8)",
          "line": {
           "color": "white",
           "width": 1.5
          },
          "size": 10
         },
         "mode": "markers",
         "name": "Shortest",
         "showlegend": false,
         "type": "scatter",
         "x": [
          3
         ],
         "y": [
          6
         ]
        },
        {
         "hovertemplate": "<b>Shortest Path Length:</b> 3<extra></extra>",
         "marker": {
          "color": "rgba(111, 207, 151, 0.8)",
          "line": {
           "color": "white",
           "width": 1.5
          },
          "size": 10
         },
         "mode": "markers",
         "name": "Shortest",
         "showlegend": false,
         "type": "scatter",
         "x": [
          3
         ],
         "y": [
          7
         ]
        },
        {
         "hovertemplate": "<b>Shortest Path Length:</b> 3<extra></extra>",
         "marker": {
          "color": "rgba(111, 207, 151, 0.8)",
          "line": {
           "color": "white",
           "width": 1.5
          },
          "size": 10
         },
         "mode": "markers",
         "name": "Shortest",
         "showlegend": false,
         "type": "scatter",
         "x": [
          3
         ],
         "y": [
          8
         ]
        },
        {
         "hovertemplate": "<b>Shortest Path Length:</b> 3<extra></extra>",
         "marker": {
          "color": "rgba(111, 207, 151, 0.8)",
          "line": {
           "color": "white",
           "width": 1.5
          },
          "size": 10
         },
         "mode": "markers",
         "name": "Shortest",
         "showlegend": false,
         "type": "scatter",
         "x": [
          3
         ],
         "y": [
          9
         ]
        },
        {
         "hovertemplate": "<b>Shortest Path Length:</b> 3<extra></extra>",
         "marker": {
          "color": "rgba(111, 207, 151, 0.8)",
          "line": {
           "color": "white",
           "width": 1.5
          },
          "size": 10
         },
         "mode": "markers",
         "name": "Shortest",
         "showlegend": false,
         "type": "scatter",
         "x": [
          3
         ],
         "y": [
          10
         ]
        },
        {
         "hovertemplate": "<b>Shortest Path Length:</b> 3<extra></extra>",
         "marker": {
          "color": "rgba(111, 207, 151, 0.8)",
          "line": {
           "color": "white",
           "width": 1.5
          },
          "size": 10
         },
         "mode": "markers",
         "name": "Shortest",
         "showlegend": false,
         "type": "scatter",
         "x": [
          3
         ],
         "y": [
          11
         ]
        },
        {
         "hovertemplate": "<b>Shortest Path Length:</b> 3<extra></extra>",
         "marker": {
          "color": "rgba(111, 207, 151, 0.8)",
          "line": {
           "color": "white",
           "width": 1.5
          },
          "size": 10
         },
         "mode": "markers",
         "name": "Shortest",
         "showlegend": false,
         "type": "scatter",
         "x": [
          3
         ],
         "y": [
          12
         ]
        },
        {
         "hovertemplate": "<b>Shortest Path Length:</b> 5<extra></extra>",
         "marker": {
          "color": "rgba(111, 207, 151, 0.8)",
          "line": {
           "color": "white",
           "width": 1.5
          },
          "size": 10
         },
         "mode": "markers",
         "name": "Shortest",
         "showlegend": false,
         "type": "scatter",
         "x": [
          5
         ],
         "y": [
          13
         ]
        },
        {
         "hovertemplate": "<b>Shortest Path Length:</b> 4<extra></extra>",
         "marker": {
          "color": "rgba(111, 207, 151, 0.8)",
          "line": {
           "color": "white",
           "width": 1.5
          },
          "size": 10
         },
         "mode": "markers",
         "name": "Shortest",
         "showlegend": false,
         "type": "scatter",
         "x": [
          4
         ],
         "y": [
          14
         ]
        },
        {
         "hovertemplate": "<b>Shortest Path Length:</b> 4<extra></extra>",
         "marker": {
          "color": "rgba(111, 207, 151, 0.8)",
          "line": {
           "color": "white",
           "width": 1.5
          },
          "size": 10
         },
         "mode": "markers",
         "name": "Shortest",
         "showlegend": false,
         "type": "scatter",
         "x": [
          4
         ],
         "y": [
          15
         ]
        },
        {
         "hovertemplate": "<b>Shortest Path Length:</b> 4<extra></extra>",
         "marker": {
          "color": "rgba(111, 207, 151, 0.8)",
          "line": {
           "color": "white",
           "width": 1.5
          },
          "size": 10
         },
         "mode": "markers",
         "name": "Shortest",
         "showlegend": false,
         "type": "scatter",
         "x": [
          4
         ],
         "y": [
          16
         ]
        },
        {
         "hovertemplate": "<b>Shortest Path Length:</b> 4<extra></extra>",
         "marker": {
          "color": "rgba(111, 207, 151, 0.8)",
          "line": {
           "color": "white",
           "width": 1.5
          },
          "size": 10
         },
         "mode": "markers",
         "name": "Shortest",
         "showlegend": false,
         "type": "scatter",
         "x": [
          4
         ],
         "y": [
          17
         ]
        },
        {
         "hovertemplate": "<b>Shortest Path Length:</b> 4<extra></extra>",
         "marker": {
          "color": "rgba(111, 207, 151, 0.8)",
          "line": {
           "color": "white",
           "width": 1.5
          },
          "size": 10
         },
         "mode": "markers",
         "name": "Shortest",
         "showlegend": false,
         "type": "scatter",
         "x": [
          4
         ],
         "y": [
          18
         ]
        },
        {
         "hovertemplate": "<b>Shortest Path Length:</b> 5<extra></extra>",
         "marker": {
          "color": "rgba(111, 207, 151, 0.8)",
          "line": {
           "color": "white",
           "width": 1.5
          },
          "size": 10
         },
         "mode": "markers",
         "name": "Shortest",
         "showlegend": false,
         "type": "scatter",
         "x": [
          5
         ],
         "y": [
          19
         ]
        },
        {
         "hovertemplate": "<b>Shortest Path Length:</b> 3<extra></extra>",
         "marker": {
          "color": "rgba(111, 207, 151, 0.8)",
          "line": {
           "color": "white",
           "width": 1.5
          },
          "size": 10
         },
         "mode": "markers",
         "name": "Shortest",
         "showlegend": false,
         "type": "scatter",
         "x": [
          3
         ],
         "y": [
          20
         ]
        },
        {
         "hovertemplate": "<b>Shortest Path Length:</b> 4<extra></extra>",
         "marker": {
          "color": "rgba(111, 207, 151, 0.8)",
          "line": {
           "color": "white",
           "width": 1.5
          },
          "size": 10
         },
         "mode": "markers",
         "name": "Shortest",
         "showlegend": false,
         "type": "scatter",
         "x": [
          4
         ],
         "y": [
          21
         ]
        },
        {
         "hovertemplate": "<b>Shortest Path Length:</b> 5<extra></extra>",
         "marker": {
          "color": "rgba(111, 207, 151, 0.8)",
          "line": {
           "color": "white",
           "width": 1.5
          },
          "size": 10
         },
         "mode": "markers",
         "name": "Shortest",
         "showlegend": false,
         "type": "scatter",
         "x": [
          5
         ],
         "y": [
          22
         ]
        }
       ],
       "layout": {
        "height": 1150,
        "legend": {
         "bgcolor": "white",
         "bordercolor": "#E0E8F0",
         "borderwidth": 1,
         "font": {
          "color": "rgba(0, 0, 0, 0.7)"
         }
        },
        "paper_bgcolor": "white",
        "plot_bgcolor": "#F0F4FF",
        "shapes": [
         {
          "line": {
           "color": "#E0E8F0",
           "dash": "dot",
           "width": 1
          },
          "type": "line",
          "x0": 0,
          "x1": 1,
          "xref": "paper",
          "y0": 0,
          "y1": 0,
          "yref": "y"
         },
         {
          "line": {
           "color": "#E0E8F0",
           "dash": "dot",
           "width": 1
          },
          "type": "line",
          "x0": 0,
          "x1": 1,
          "xref": "paper",
          "y0": 1,
          "y1": 1,
          "yref": "y"
         },
         {
          "line": {
           "color": "#E0E8F0",
           "dash": "dot",
           "width": 1
          },
          "type": "line",
          "x0": 0,
          "x1": 1,
          "xref": "paper",
          "y0": 2,
          "y1": 2,
          "yref": "y"
         },
         {
          "line": {
           "color": "#E0E8F0",
           "dash": "dot",
           "width": 1
          },
          "type": "line",
          "x0": 0,
          "x1": 1,
          "xref": "paper",
          "y0": 3,
          "y1": 3,
          "yref": "y"
         },
         {
          "line": {
           "color": "#E0E8F0",
           "dash": "dot",
           "width": 1
          },
          "type": "line",
          "x0": 0,
          "x1": 1,
          "xref": "paper",
          "y0": 4,
          "y1": 4,
          "yref": "y"
         },
         {
          "line": {
           "color": "#E0E8F0",
           "dash": "dot",
           "width": 1
          },
          "type": "line",
          "x0": 0,
          "x1": 1,
          "xref": "paper",
          "y0": 5,
          "y1": 5,
          "yref": "y"
         },
         {
          "line": {
           "color": "#E0E8F0",
           "dash": "dot",
           "width": 1
          },
          "type": "line",
          "x0": 0,
          "x1": 1,
          "xref": "paper",
          "y0": 6,
          "y1": 6,
          "yref": "y"
         },
         {
          "line": {
           "color": "#E0E8F0",
           "dash": "dot",
           "width": 1
          },
          "type": "line",
          "x0": 0,
          "x1": 1,
          "xref": "paper",
          "y0": 7,
          "y1": 7,
          "yref": "y"
         },
         {
          "line": {
           "color": "#E0E8F0",
           "dash": "dot",
           "width": 1
          },
          "type": "line",
          "x0": 0,
          "x1": 1,
          "xref": "paper",
          "y0": 8,
          "y1": 8,
          "yref": "y"
         },
         {
          "line": {
           "color": "#E0E8F0",
           "dash": "dot",
           "width": 1
          },
          "type": "line",
          "x0": 0,
          "x1": 1,
          "xref": "paper",
          "y0": 9,
          "y1": 9,
          "yref": "y"
         },
         {
          "line": {
           "color": "#E0E8F0",
           "dash": "dot",
           "width": 1
          },
          "type": "line",
          "x0": 0,
          "x1": 1,
          "xref": "paper",
          "y0": 10,
          "y1": 10,
          "yref": "y"
         },
         {
          "line": {
           "color": "#E0E8F0",
           "dash": "dot",
           "width": 1
          },
          "type": "line",
          "x0": 0,
          "x1": 1,
          "xref": "paper",
          "y0": 11,
          "y1": 11,
          "yref": "y"
         },
         {
          "line": {
           "color": "#E0E8F0",
           "dash": "dot",
           "width": 1
          },
          "type": "line",
          "x0": 0,
          "x1": 1,
          "xref": "paper",
          "y0": 12,
          "y1": 12,
          "yref": "y"
         },
         {
          "line": {
           "color": "#E0E8F0",
           "dash": "dot",
           "width": 1
          },
          "type": "line",
          "x0": 0,
          "x1": 1,
          "xref": "paper",
          "y0": 13,
          "y1": 13,
          "yref": "y"
         },
         {
          "line": {
           "color": "#E0E8F0",
           "dash": "dot",
           "width": 1
          },
          "type": "line",
          "x0": 0,
          "x1": 1,
          "xref": "paper",
          "y0": 14,
          "y1": 14,
          "yref": "y"
         },
         {
          "line": {
           "color": "#E0E8F0",
           "dash": "dot",
           "width": 1
          },
          "type": "line",
          "x0": 0,
          "x1": 1,
          "xref": "paper",
          "y0": 15,
          "y1": 15,
          "yref": "y"
         },
         {
          "line": {
           "color": "#E0E8F0",
           "dash": "dot",
           "width": 1
          },
          "type": "line",
          "x0": 0,
          "x1": 1,
          "xref": "paper",
          "y0": 16,
          "y1": 16,
          "yref": "y"
         },
         {
          "line": {
           "color": "#E0E8F0",
           "dash": "dot",
           "width": 1
          },
          "type": "line",
          "x0": 0,
          "x1": 1,
          "xref": "paper",
          "y0": 17,
          "y1": 17,
          "yref": "y"
         },
         {
          "line": {
           "color": "#E0E8F0",
           "dash": "dot",
           "width": 1
          },
          "type": "line",
          "x0": 0,
          "x1": 1,
          "xref": "paper",
          "y0": 18,
          "y1": 18,
          "yref": "y"
         },
         {
          "line": {
           "color": "#E0E8F0",
           "dash": "dot",
           "width": 1
          },
          "type": "line",
          "x0": 0,
          "x1": 1,
          "xref": "paper",
          "y0": 19,
          "y1": 19,
          "yref": "y"
         },
         {
          "line": {
           "color": "#E0E8F0",
           "dash": "dot",
           "width": 1
          },
          "type": "line",
          "x0": 0,
          "x1": 1,
          "xref": "paper",
          "y0": 20,
          "y1": 20,
          "yref": "y"
         },
         {
          "line": {
           "color": "#E0E8F0",
           "dash": "dot",
           "width": 1
          },
          "type": "line",
          "x0": 0,
          "x1": 1,
          "xref": "paper",
          "y0": 21,
          "y1": 21,
          "yref": "y"
         },
         {
          "line": {
           "color": "#E0E8F0",
           "dash": "dot",
           "width": 1
          },
          "type": "line",
          "x0": 0,
          "x1": 1,
          "xref": "paper",
          "y0": 22,
          "y1": 22,
          "yref": "y"
         }
        ],
        "showlegend": true,
        "template": {
         "data": {
          "bar": [
           {
            "error_x": {
             "color": "#2a3f5f"
            },
            "error_y": {
             "color": "#2a3f5f"
            },
            "marker": {
             "line": {
              "color": "#E5ECF6",
              "width": 0.5
             },
             "pattern": {
              "fillmode": "overlay",
              "size": 10,
              "solidity": 0.2
             }
            },
            "type": "bar"
           }
          ],
          "barpolar": [
           {
            "marker": {
             "line": {
              "color": "#E5ECF6",
              "width": 0.5
             },
             "pattern": {
              "fillmode": "overlay",
              "size": 10,
              "solidity": 0.2
             }
            },
            "type": "barpolar"
           }
          ],
          "carpet": [
           {
            "aaxis": {
             "endlinecolor": "#2a3f5f",
             "gridcolor": "white",
             "linecolor": "white",
             "minorgridcolor": "white",
             "startlinecolor": "#2a3f5f"
            },
            "baxis": {
             "endlinecolor": "#2a3f5f",
             "gridcolor": "white",
             "linecolor": "white",
             "minorgridcolor": "white",
             "startlinecolor": "#2a3f5f"
            },
            "type": "carpet"
           }
          ],
          "choropleth": [
           {
            "colorbar": {
             "outlinewidth": 0,
             "ticks": ""
            },
            "type": "choropleth"
           }
          ],
          "contour": [
           {
            "colorbar": {
             "outlinewidth": 0,
             "ticks": ""
            },
            "colorscale": [
             [
              0,
              "#0d0887"
             ],
             [
              0.1111111111111111,
              "#46039f"
             ],
             [
              0.2222222222222222,
              "#7201a8"
             ],
             [
              0.3333333333333333,
              "#9c179e"
             ],
             [
              0.4444444444444444,
              "#bd3786"
             ],
             [
              0.5555555555555556,
              "#d8576b"
             ],
             [
              0.6666666666666666,
              "#ed7953"
             ],
             [
              0.7777777777777778,
              "#fb9f3a"
             ],
             [
              0.8888888888888888,
              "#fdca26"
             ],
             [
              1,
              "#f0f921"
             ]
            ],
            "type": "contour"
           }
          ],
          "contourcarpet": [
           {
            "colorbar": {
             "outlinewidth": 0,
             "ticks": ""
            },
            "type": "contourcarpet"
           }
          ],
          "heatmap": [
           {
            "colorbar": {
             "outlinewidth": 0,
             "ticks": ""
            },
            "colorscale": [
             [
              0,
              "#0d0887"
             ],
             [
              0.1111111111111111,
              "#46039f"
             ],
             [
              0.2222222222222222,
              "#7201a8"
             ],
             [
              0.3333333333333333,
              "#9c179e"
             ],
             [
              0.4444444444444444,
              "#bd3786"
             ],
             [
              0.5555555555555556,
              "#d8576b"
             ],
             [
              0.6666666666666666,
              "#ed7953"
             ],
             [
              0.7777777777777778,
              "#fb9f3a"
             ],
             [
              0.8888888888888888,
              "#fdca26"
             ],
             [
              1,
              "#f0f921"
             ]
            ],
            "type": "heatmap"
           }
          ],
          "heatmapgl": [
           {
            "colorbar": {
             "outlinewidth": 0,
             "ticks": ""
            },
            "colorscale": [
             [
              0,
              "#0d0887"
             ],
             [
              0.1111111111111111,
              "#46039f"
             ],
             [
              0.2222222222222222,
              "#7201a8"
             ],
             [
              0.3333333333333333,
              "#9c179e"
             ],
             [
              0.4444444444444444,
              "#bd3786"
             ],
             [
              0.5555555555555556,
              "#d8576b"
             ],
             [
              0.6666666666666666,
              "#ed7953"
             ],
             [
              0.7777777777777778,
              "#fb9f3a"
             ],
             [
              0.8888888888888888,
              "#fdca26"
             ],
             [
              1,
              "#f0f921"
             ]
            ],
            "type": "heatmapgl"
           }
          ],
          "histogram": [
           {
            "marker": {
             "pattern": {
              "fillmode": "overlay",
              "size": 10,
              "solidity": 0.2
             }
            },
            "type": "histogram"
           }
          ],
          "histogram2d": [
           {
            "colorbar": {
             "outlinewidth": 0,
             "ticks": ""
            },
            "colorscale": [
             [
              0,
              "#0d0887"
             ],
             [
              0.1111111111111111,
              "#46039f"
             ],
             [
              0.2222222222222222,
              "#7201a8"
             ],
             [
              0.3333333333333333,
              "#9c179e"
             ],
             [
              0.4444444444444444,
              "#bd3786"
             ],
             [
              0.5555555555555556,
              "#d8576b"
             ],
             [
              0.6666666666666666,
              "#ed7953"
             ],
             [
              0.7777777777777778,
              "#fb9f3a"
             ],
             [
              0.8888888888888888,
              "#fdca26"
             ],
             [
              1,
              "#f0f921"
             ]
            ],
            "type": "histogram2d"
           }
          ],
          "histogram2dcontour": [
           {
            "colorbar": {
             "outlinewidth": 0,
             "ticks": ""
            },
            "colorscale": [
             [
              0,
              "#0d0887"
             ],
             [
              0.1111111111111111,
              "#46039f"
             ],
             [
              0.2222222222222222,
              "#7201a8"
             ],
             [
              0.3333333333333333,
              "#9c179e"
             ],
             [
              0.4444444444444444,
              "#bd3786"
             ],
             [
              0.5555555555555556,
              "#d8576b"
             ],
             [
              0.6666666666666666,
              "#ed7953"
             ],
             [
              0.7777777777777778,
              "#fb9f3a"
             ],
             [
              0.8888888888888888,
              "#fdca26"
             ],
             [
              1,
              "#f0f921"
             ]
            ],
            "type": "histogram2dcontour"
           }
          ],
          "mesh3d": [
           {
            "colorbar": {
             "outlinewidth": 0,
             "ticks": ""
            },
            "type": "mesh3d"
           }
          ],
          "parcoords": [
           {
            "line": {
             "colorbar": {
              "outlinewidth": 0,
              "ticks": ""
             }
            },
            "type": "parcoords"
           }
          ],
          "pie": [
           {
            "automargin": true,
            "type": "pie"
           }
          ],
          "scatter": [
           {
            "fillpattern": {
             "fillmode": "overlay",
             "size": 10,
             "solidity": 0.2
            },
            "type": "scatter"
           }
          ],
          "scatter3d": [
           {
            "line": {
             "colorbar": {
              "outlinewidth": 0,
              "ticks": ""
             }
            },
            "marker": {
             "colorbar": {
              "outlinewidth": 0,
              "ticks": ""
             }
            },
            "type": "scatter3d"
           }
          ],
          "scattercarpet": [
           {
            "marker": {
             "colorbar": {
              "outlinewidth": 0,
              "ticks": ""
             }
            },
            "type": "scattercarpet"
           }
          ],
          "scattergeo": [
           {
            "marker": {
             "colorbar": {
              "outlinewidth": 0,
              "ticks": ""
             }
            },
            "type": "scattergeo"
           }
          ],
          "scattergl": [
           {
            "marker": {
             "colorbar": {
              "outlinewidth": 0,
              "ticks": ""
             }
            },
            "type": "scattergl"
           }
          ],
          "scattermapbox": [
           {
            "marker": {
             "colorbar": {
              "outlinewidth": 0,
              "ticks": ""
             }
            },
            "type": "scattermapbox"
           }
          ],
          "scatterpolar": [
           {
            "marker": {
             "colorbar": {
              "outlinewidth": 0,
              "ticks": ""
             }
            },
            "type": "scatterpolar"
           }
          ],
          "scatterpolargl": [
           {
            "marker": {
             "colorbar": {
              "outlinewidth": 0,
              "ticks": ""
             }
            },
            "type": "scatterpolargl"
           }
          ],
          "scatterternary": [
           {
            "marker": {
             "colorbar": {
              "outlinewidth": 0,
              "ticks": ""
             }
            },
            "type": "scatterternary"
           }
          ],
          "surface": [
           {
            "colorbar": {
             "outlinewidth": 0,
             "ticks": ""
            },
            "colorscale": [
             [
              0,
              "#0d0887"
             ],
             [
              0.1111111111111111,
              "#46039f"
             ],
             [
              0.2222222222222222,
              "#7201a8"
             ],
             [
              0.3333333333333333,
              "#9c179e"
             ],
             [
              0.4444444444444444,
              "#bd3786"
             ],
             [
              0.5555555555555556,
              "#d8576b"
             ],
             [
              0.6666666666666666,
              "#ed7953"
             ],
             [
              0.7777777777777778,
              "#fb9f3a"
             ],
             [
              0.8888888888888888,
              "#fdca26"
             ],
             [
              1,
              "#f0f921"
             ]
            ],
            "type": "surface"
           }
          ],
          "table": [
           {
            "cells": {
             "fill": {
              "color": "#EBF0F8"
             },
             "line": {
              "color": "white"
             }
            },
            "header": {
             "fill": {
              "color": "#C8D4E3"
             },
             "line": {
              "color": "white"
             }
            },
            "type": "table"
           }
          ]
         },
         "layout": {
          "annotationdefaults": {
           "arrowcolor": "#2a3f5f",
           "arrowhead": 0,
           "arrowwidth": 1
          },
          "autotypenumbers": "strict",
          "coloraxis": {
           "colorbar": {
            "outlinewidth": 0,
            "ticks": ""
           }
          },
          "colorscale": {
           "diverging": [
            [
             0,
             "#8e0152"
            ],
            [
             0.1,
             "#c51b7d"
            ],
            [
             0.2,
             "#de77ae"
            ],
            [
             0.3,
             "#f1b6da"
            ],
            [
             0.4,
             "#fde0ef"
            ],
            [
             0.5,
             "#f7f7f7"
            ],
            [
             0.6,
             "#e6f5d0"
            ],
            [
             0.7,
             "#b8e186"
            ],
            [
             0.8,
             "#7fbc41"
            ],
            [
             0.9,
             "#4d9221"
            ],
            [
             1,
             "#276419"
            ]
           ],
           "sequential": [
            [
             0,
             "#0d0887"
            ],
            [
             0.1111111111111111,
             "#46039f"
            ],
            [
             0.2222222222222222,
             "#7201a8"
            ],
            [
             0.3333333333333333,
             "#9c179e"
            ],
            [
             0.4444444444444444,
             "#bd3786"
            ],
            [
             0.5555555555555556,
             "#d8576b"
            ],
            [
             0.6666666666666666,
             "#ed7953"
            ],
            [
             0.7777777777777778,
             "#fb9f3a"
            ],
            [
             0.8888888888888888,
             "#fdca26"
            ],
            [
             1,
             "#f0f921"
            ]
           ],
           "sequentialminus": [
            [
             0,
             "#0d0887"
            ],
            [
             0.1111111111111111,
             "#46039f"
            ],
            [
             0.2222222222222222,
             "#7201a8"
            ],
            [
             0.3333333333333333,
             "#9c179e"
            ],
            [
             0.4444444444444444,
             "#bd3786"
            ],
            [
             0.5555555555555556,
             "#d8576b"
            ],
            [
             0.6666666666666666,
             "#ed7953"
            ],
            [
             0.7777777777777778,
             "#fb9f3a"
            ],
            [
             0.8888888888888888,
             "#fdca26"
            ],
            [
             1,
             "#f0f921"
            ]
           ]
          },
          "colorway": [
           "#636efa",
           "#EF553B",
           "#00cc96",
           "#ab63fa",
           "#FFA15A",
           "#19d3f3",
           "#FF6692",
           "#B6E880",
           "#FF97FF",
           "#FECB52"
          ],
          "font": {
           "color": "#2a3f5f"
          },
          "geo": {
           "bgcolor": "white",
           "lakecolor": "white",
           "landcolor": "#E5ECF6",
           "showlakes": true,
           "showland": true,
           "subunitcolor": "white"
          },
          "hoverlabel": {
           "align": "left"
          },
          "hovermode": "closest",
          "mapbox": {
           "style": "light"
          },
          "paper_bgcolor": "white",
          "plot_bgcolor": "#E5ECF6",
          "polar": {
           "angularaxis": {
            "gridcolor": "white",
            "linecolor": "white",
            "ticks": ""
           },
           "bgcolor": "#E5ECF6",
           "radialaxis": {
            "gridcolor": "white",
            "linecolor": "white",
            "ticks": ""
           }
          },
          "scene": {
           "xaxis": {
            "backgroundcolor": "#E5ECF6",
            "gridcolor": "white",
            "gridwidth": 2,
            "linecolor": "white",
            "showbackground": true,
            "ticks": "",
            "zerolinecolor": "white"
           },
           "yaxis": {
            "backgroundcolor": "#E5ECF6",
            "gridcolor": "white",
            "gridwidth": 2,
            "linecolor": "white",
            "showbackground": true,
            "ticks": "",
            "zerolinecolor": "white"
           },
           "zaxis": {
            "backgroundcolor": "#E5ECF6",
            "gridcolor": "white",
            "gridwidth": 2,
            "linecolor": "white",
            "showbackground": true,
            "ticks": "",
            "zerolinecolor": "white"
           }
          },
          "shapedefaults": {
           "line": {
            "color": "#2a3f5f"
           }
          },
          "ternary": {
           "aaxis": {
            "gridcolor": "white",
            "linecolor": "white",
            "ticks": ""
           },
           "baxis": {
            "gridcolor": "white",
            "linecolor": "white",
            "ticks": ""
           },
           "bgcolor": "#E5ECF6",
           "caxis": {
            "gridcolor": "white",
            "linecolor": "white",
            "ticks": ""
           }
          },
          "title": {
           "x": 0.05
          },
          "xaxis": {
           "automargin": true,
           "gridcolor": "white",
           "linecolor": "white",
           "ticks": "",
           "title": {
            "standoff": 15
           },
           "zerolinecolor": "white",
           "zerolinewidth": 2
          },
          "yaxis": {
           "automargin": true,
           "gridcolor": "white",
           "linecolor": "white",
           "ticks": "",
           "title": {
            "standoff": 15
           },
           "zerolinecolor": "white",
           "zerolinewidth": 2
          }
         }
        },
        "title": {
         "font": {
          "color": "rgba(0, 0, 0, 0.7)",
          "family": "Arial, sans-serif",
          "size": 24
         },
         "text": "Path Length Comparison"
        },
        "width": 1400,
        "xaxis": {
         "gridcolor": "#E0E8F0",
         "side": "top",
         "title": {
          "standoff": 10,
          "text": "Path Length"
         },
         "zerolinecolor": "#E0E8F0"
        },
        "yaxis": {
         "gridcolor": "#E0E8F0",
         "tickangle": 0,
         "tickfont": {
          "color": "rgba(0, 0, 0, 0.8)",
          "family": "Arial, sans-serif",
          "size": 15
         },
         "ticktext": [
          "Africa → England",
          "Necktie → Lion",
          "Colombia → Meat",
          "Batman → Japan",
          "Metal → Prague",
          "Arnold_Schwarzenegger → Vegetable",
          "Tennis → Nuclear_weapon",
          "Age_of_Enlightenment → Kazakhstan",
          "Bird → Adolf_Hitler",
          "Anaconda → Agnosticism",
          "Electricity → God",
          "Global_warming → Wood",
          "Bird → Thomas_Jefferson",
          "Batman → Banana",
          "Judaism → Flute",
          "Jesus → Google",
          "Dog → Beer",
          "15th_century → Windows_Vista",
          "Continent → Gorilla",
          "Weasel → Barium",
          "Nintendo → Snow",
          "Dog → Venus",
          "Forth → Anne_Frank"
         ],
         "tickvals": [
          0,
          1,
          2,
          3,
          4,
          5,
          6,
          7,
          8,
          9,
          10,
          11,
          12,
          13,
          14,
          15,
          16,
          17,
          18,
          19,
          20,
          21,
          22
         ]
        }
       }
      }
     },
     "metadata": {},
     "output_type": "display_data"
    }
   ],
   "source": [
    "import plotly.graph_objects as go\n",
    "import numpy as np\n",
    "\n",
    "# Parameters\n",
    "sample_fraction = 0.15  # Fraction of sublists to select\n",
    "outlier_threshold = 2  # Factor of the mean to use as the outlier threshold\n",
    "fixed_height_per_pair = 50  # Fixed height for each pair in pixels\n",
    "fixed_width = 1400  # Fixed width for the figure\n",
    "x_jitter_offset = 0.025  # Small horizontal shift to avoid overlapping\n",
    "seed = 58\n",
    "np.random.seed(seed)\n",
    "y_offset = 0.15\n",
    "\n",
    "# Standard Colors\n",
    "PRIMARY_BLUE = \"#3A55D1\"  # AI paths\n",
    "SOFT_ORANGE = \"#F2994A\"   # Human paths\n",
    "LIGHT_GREEN = \"#6FCF97\"   # Shortest paths\n",
    "BACKGROUND = \"#F0F4FF\"    # Plot background\n",
    "LIGHT_GRAY = \"#E0E8F0\"    # Grid lines\n",
    "\n",
    "# Helper function to filter out large values within a sublist\n",
    "def filter_outliers(data, threshold):\n",
    "    mean = np.mean(data)\n",
    "    return [x for x in data if x <= mean * threshold]\n",
    "\n",
    "# Sample indices first and preserve original order\n",
    "def sample_indices(data, fraction):\n",
    "    total = len(data)\n",
    "    num_samples = max(1, int(total * fraction))\n",
    "    sampled_indices = sorted(np.random.choice(total, num_samples, replace=False))\n",
    "    return sampled_indices\n",
    "\n",
    "# Sample the indices\n",
    "sampled_indices = sample_indices(sorted_ai_path_len, sample_fraction)\n",
    "\n",
    "# Filter all paths using the same sampled indices\n",
    "aligned_ai_path_len = [filter_outliers(sorted_ai_path_len[i], outlier_threshold) for i in sampled_indices]\n",
    "aligned_human_path_len = [filter_outliers(sorted_human_path_len[i], outlier_threshold) for i in sampled_indices]\n",
    "aligned_shortest_path_len = [sorted_shortest_path_len[i] for i in sampled_indices]\n",
    "selected_ori_dest = [sorted_ori_dest[i] for i in sampled_indices]\n",
    "\n",
    "# Assign y-positions for alignment\n",
    "y_positions = np.arange(len(sampled_indices))\n",
    "\n",
    "# Adjust figure height\n",
    "total_height = fixed_height_per_pair * len(y_positions)\n",
    "\n",
    "# Create the Plotly figure\n",
    "fig = go.Figure()\n",
    "\n",
    "# Add grey reference lines for each pair\n",
    "for y in y_positions:\n",
    "    fig.add_shape(\n",
    "        type=\"line\",\n",
    "        x0=0, x1=1, y0=y, y1=y,\n",
    "        xref=\"paper\", yref=\"y\",\n",
    "        line=dict(color=LIGHT_GRAY, width=1, dash=\"dot\")\n",
    "    )\n",
    "\n",
    "# Apply horizontal jitter for AI and Human paths\n",
    "def jitter(data, offset):\n",
    "    return [x + offset for x in data]\n",
    "\n",
    "# Helper function to calculate min and max\n",
    "def calculate_min_max(data):\n",
    "    \"\"\"Return min and max of a list.\"\"\"\n",
    "    if not data:  # Handle empty lists\n",
    "        return None, None\n",
    "    min_val = min(data)\n",
    "    max_val = max(data)\n",
    "    return min_val, max_val\n",
    "\n",
    "# Standard Colors with Transparency\n",
    "PRIMARY_BLUE = \"rgba(58, 85, 209, 0.7)\"  # AI paths - Light Blue with opacity\n",
    "SOFT_ORANGE = \"rgba(242, 153, 74, 0.7)\"  # Human paths - Soft Orange with opacity\n",
    "LIGHT_GREEN = \"rgba(111, 207, 151, 0.8)\" # Shortest paths - Light Green with slight opacity\n",
    "BACKGROUND = \"#F0F4FF\"                   # Plot background\n",
    "LIGHT_GRAY = \"#E0E8F0\"                   # Grid lines\n",
    "\n",
    "\n",
    "\n",
    "# Plot AI paths\n",
    "for y, lengths in zip(y_positions, aligned_ai_path_len):\n",
    "    if lengths:\n",
    "        min_val, max_val = calculate_min_max(lengths)\n",
    "        median_val = np.median(lengths)  # Calculate median\n",
    "        if min_val is not None:\n",
    "            plot_max_val = max_val if max_val > min_val else min_val + 0.1\n",
    "            fig.add_trace(go.Bar(\n",
    "                x=[plot_max_val - min_val],\n",
    "                y=[y + y_offset],\n",
    "                base=min_val,\n",
    "                name=\"AI\",\n",
    "                marker=dict(color=PRIMARY_BLUE),\n",
    "                orientation='h',\n",
    "                width=0.35,\n",
    "                hovertemplate=f\"<b>Min:</b> {min_val}<br>\"\n",
    "                              f\"<b>Median:</b> {median_val}<br>\"\n",
    "                              f\"<b>Max:</b> {max_val}<extra></extra>\",\n",
    "                showlegend=bool(y == 0)\n",
    "            ))\n",
    "\n",
    "# Plot Human paths\n",
    "for y, lengths in zip(y_positions, aligned_human_path_len):\n",
    "    if lengths:\n",
    "        min_val, max_val = calculate_min_max(lengths)\n",
    "        median_val = np.median(lengths)  # Calculate median\n",
    "        if min_val is not None:\n",
    "            plot_max_val = max_val if max_val > min_val else min_val + 0.1\n",
    "            fig.add_trace(go.Bar(\n",
    "                x=[plot_max_val - min_val],\n",
    "                y=[y - y_offset],\n",
    "                base=min_val,\n",
    "                name=\"Human\",\n",
    "                marker=dict(color=SOFT_ORANGE),\n",
    "                orientation='h',\n",
    "                width=0.35,\n",
    "                hovertemplate=f\"<b>Min:</b> {min_val}<br>\"\n",
    "                              f\"<b>Median:</b> {median_val}<br>\"\n",
    "                              f\"<b>Max:</b> {max_val}<extra></extra>\",\n",
    "                showlegend=bool(y == 0)\n",
    "            ))\n",
    "\n",
    "\n",
    "# Plot Shortest paths\n",
    "for y, lengths in zip(y_positions, aligned_shortest_path_len):\n",
    "    if lengths:\n",
    "        fig.add_trace(go.Scatter(\n",
    "            x=lengths,\n",
    "            y=[y] * len(lengths),\n",
    "            mode='markers',\n",
    "            name=\"Shortest\",\n",
    "            marker=dict(color=LIGHT_GREEN, size=10, line=dict(color=\"white\", width=1.5)),\n",
    "            hovertemplate=f\"<b>Shortest Path Length:</b> {lengths[0]}<extra></extra>\",\n",
    "            showlegend=bool(y == 0)\n",
    "        ))\n",
    "\n",
    "# Update layout\n",
    "fig.update_layout(\n",
    "    title=dict(\n",
    "        text=\"Path Length Comparison\",\n",
    "        font=dict(family=\"Arial, sans-serif\", size=24, color=\"rgba(0, 0, 0, 0.7)\")\n",
    "    ),\n",
    "    xaxis=dict(\n",
    "        title=\"Path Length\",\n",
    "        title_standoff=10,  # Add space between title and axis\n",
    "        side=\"top\",  # Move the title to the top\n",
    "        gridcolor=LIGHT_GRAY,\n",
    "        zerolinecolor=LIGHT_GRAY\n",
    "    ),\n",
    "    yaxis=dict(\n",
    "        tickvals=y_positions,\n",
    "        ticktext=[f\"{pair[0]} → {pair[1]}\" for pair in selected_ori_dest],\n",
    "        tickangle=0,\n",
    "        tickfont=dict(size=15, family=\"Arial, sans-serif\", color=\"rgba(0, 0, 0, 0.8)\"),\n",
    "        gridcolor=LIGHT_GRAY\n",
    "    ),\n",
    "    plot_bgcolor=BACKGROUND,\n",
    "    paper_bgcolor=\"white\",\n",
    "    width=fixed_width,\n",
    "    height=total_height,\n",
    "    showlegend=True,\n",
    "    legend=dict(\n",
    "        font=dict(color=\"rgba(0, 0, 0, 0.7)\"),\n",
    "        bgcolor=\"white\",\n",
    "        bordercolor=LIGHT_GRAY,\n",
    "        borderwidth=1\n",
    "    )\n",
    ")\n",
    "\n",
    "# Show the plot\n",
    "fig.show()\n",
    "# pio.write_html(fig, \"path_length_comparison.html\", full_html=True)\n",
    "\n"
   ]
  },
  {
   "cell_type": "code",
   "execution_count": 7,
   "metadata": {},
   "outputs": [],
   "source": [
    "# Get Sentence embedding\n",
    "model = SentenceTransformer('all-MiniLM-L6-v2')\n",
    "sentence_embeddings = {node: model.encode(node.replace('_', ' ')) for node in G.nodes}"
   ]
  },
  {
   "cell_type": "code",
   "execution_count": 8,
   "metadata": {},
   "outputs": [
    {
     "data": {
      "application/vnd.plotly.v1+json": {
       "config": {
        "plotlyServerURL": "https://plot.ly"
       },
       "data": [
        {
         "hovertemplate": "AI path: %{y:.3f}<extra></extra>",
         "line": {
          "color": "rgba(58, 85, 209, 0.7)",
          "width": 3
         },
         "mode": "lines",
         "name": "AI path",
         "type": "scatter",
         "x": [
          -0.5594454054711513,
          -0.5447582307271973,
          -0.5300710559832432,
          -0.5153838812392892,
          -0.5006967064953352,
          -0.4860095317513811,
          -0.4713223570074271,
          -0.4566351822634731,
          -0.441948007519519,
          -0.42726083277556504,
          -0.41257365803161095,
          -0.39788648328765697,
          -0.38319930854370293,
          -0.3685121337997489,
          -0.35382495905579486,
          -0.33913778431184083,
          -0.3244506095678868,
          -0.30976343482393276,
          -0.2950762600799787,
          -0.2803890853360247,
          -0.26570191059207066,
          -0.2510147358481166,
          -0.2363275611041626,
          -0.22164038636020855,
          -0.20695321161625457,
          -0.19226603687230054,
          -0.1775788621283465,
          -0.16289168738439247,
          -0.14820451264043843,
          -0.1335173378964844,
          -0.11883016315253037,
          -0.10414298840857633,
          -0.0894558136646223,
          -0.07476863892066826,
          -0.06008146417671423,
          -0.04539428943276025,
          -0.03070711468880616,
          -0.01601993994485218,
          -0.0013327652008980895,
          0.01335440954305589,
          0.02804158428700998,
          0.04272875903096396,
          0.05741593377491805,
          0.07210310851887203,
          0.08679028326282612,
          0.1014774580067801,
          0.11616463275073419,
          0.13085180749468817,
          0.14553898223864215,
          0.16022615698259624,
          0.17491333172655021,
          0.1896005064705043,
          0.20428768121445828,
          0.21897485595841237,
          0.23366203070236635,
          0.24834920544632044,
          0.2630363801902744,
          0.2777235549342285,
          0.2924107296781825,
          0.3070979044221366,
          0.32178507916609056,
          0.33647225391004465,
          0.35115942865399863,
          0.3658466033979527,
          0.3805337781419067,
          0.3952209528858607,
          0.40990812762981477,
          0.42459530237376875,
          0.43928247711772284,
          0.4539696518616769,
          0.4686568266056308,
          0.4833440013495849,
          0.498031176093539,
          0.5127183508374931,
          0.5274055255814469,
          0.542092700325401,
          0.5567798750693551,
          0.5714670498133092,
          0.5861542245572631,
          0.6008413993012172,
          0.6155285740451713,
          0.6302157487891251,
          0.6449029235330792,
          0.6595900982770333,
          0.6742772730209874,
          0.6889644477649413,
          0.7036516225088953,
          0.7183387972528494,
          0.7330259719968035,
          0.7477131467407574,
          0.7624003214847115,
          0.7770874962286656,
          0.7917746709726197,
          0.8064618457165735,
          0.8211490204605276,
          0.8358361952044817,
          0.8505233699484356,
          0.8652105446923897,
          0.8798977194363438,
          0.8945848941802979
         ],
         "y": [
          0.002557993539582125,
          0.0024170617466008366,
          0.0020433556869004343,
          0.0015729396634225302,
          0.0011762740178781325,
          0.0010186523869519068,
          0.001245553685117134,
          0.001976995220365839,
          0.0032812827992875983,
          0.005123158116173092,
          0.007326792597280428,
          0.009616627705233055,
          0.011765680690958662,
          0.01380768134819297,
          0.016215926603784174,
          0.01996109762082694,
          0.026409727588168817,
          0.03706181887450399,
          0.05315289197314513,
          0.07522675301261433,
          0.10292870000702666,
          0.1353287508080735,
          0.17186366863460384,
          0.21350087815936575,
          0.26333567714051426,
          0.3259935630319952,
          0.4060054413007011,
          0.5062200578618541,
          0.6274836386954342,
          0.7698572075586705,
          0.9341481594950674,
          1.121821813789932,
          1.3323780197658603,
          1.5595316993392774,
          1.7891932904393508,
          2.00163510017224,
          2.1774816822208347,
          2.304340146285815,
          2.380273646487818,
          2.4123855587979297,
          2.411819915901711,
          2.388269626844816,
          2.3467334274461416,
          2.287525265665403,
          2.2087218140493983,
          2.1092263249412877,
          1.990731714375596,
          1.8579014588896239,
          1.7173730774967924,
          1.576768022924094,
          1.4442789476388636,
          1.328237368793609,
          1.235666406421184,
          1.169800826013418,
          1.1279603227283064,
          1.1014366117449443,
          1.0778277393354974,
          1.0447504243757149,
          0.9934022437403487,
          0.9209797236906031,
          0.8314862951718464,
          0.7345728169039429,
          0.64237739540227,
          0.5653674926434344,
          0.5092020351551143,
          0.47430360604313826,
          0.45797717696476314,
          0.4570714598204313,
          0.46909039266275065,
          0.4913356187589069,
          0.5194032555987739,
          0.5466762468166757,
          0.565445951552019,
          0.5691016161545589,
          0.5542772001528338,
          0.5219963106268078,
          0.4773845209278924,
          0.4280976470871878,
          0.3820231428283801,
          0.3449949858967242,
          0.31927602961308965,
          0.3033712862019216,
          0.29323052714273756,
          0.28421359351971864,
          0.2728044590871242,
          0.25733969834051956,
          0.2377495136048079,
          0.21487080332891895,
          0.18989432401106382,
          0.16413050947891225,
          0.13895421063956137,
          0.11573390954989561,
          0.09566925054451987,
          0.07957335324811095,
          0.06767339885136038,
          0.059498656803096135,
          0.0539234116341757,
          0.04942306393932654,
          0.0445329440602541,
          0.03836018892522427
         ]
        },
        {
         "hovertemplate": "Human path: %{y:.3f}<extra></extra>",
         "line": {
          "color": "rgba(242, 153, 74, 0.7)",
          "width": 3
         },
         "mode": "lines",
         "name": "Human path",
         "type": "scatter",
         "x": [
          -0.6598001136377447,
          -0.6436103813641294,
          -0.627420649090514,
          -0.6112309168168986,
          -0.5950411845432833,
          -0.5788514522696679,
          -0.5626617199960525,
          -0.5464719877224371,
          -0.5302822554488218,
          -0.5140925231752065,
          -0.49790279090159106,
          -0.4817130586279757,
          -0.46552332635436033,
          -0.44933359408074497,
          -0.4331438618071296,
          -0.41695412953351424,
          -0.4007643972598989,
          -0.3845746649862835,
          -0.36838493271266814,
          -0.3521952004390528,
          -0.3360054681654374,
          -0.31981573589182205,
          -0.3036260036182067,
          -0.2874362713445913,
          -0.27124653907097596,
          -0.2550568067973606,
          -0.23886707452374523,
          -0.22267734225012986,
          -0.2064876099765145,
          -0.19029787770289913,
          -0.17410814542928377,
          -0.15791841315566835,
          -0.14172868088205304,
          -0.12553894860843773,
          -0.10934921633482231,
          -0.09315948406120689,
          -0.07696975178759158,
          -0.06078001951397627,
          -0.04459028724036085,
          -0.028400554966745428,
          -0.012210822693130119,
          0.00397890958048519,
          0.02016864185410061,
          0.03635837412771603,
          0.05254810640133134,
          0.06873783867494665,
          0.08492757094856207,
          0.10111730322217749,
          0.1173070354957928,
          0.1334967677694081,
          0.14968650004302353,
          0.16587623231663895,
          0.18206596459025426,
          0.19825569686386957,
          0.214445429137485,
          0.2306351614111004,
          0.24682489368471572,
          0.263014625958331,
          0.27920435823194645,
          0.29539409050556187,
          0.3115838227791772,
          0.3277735550527925,
          0.343963287326408,
          0.3601530196000233,
          0.37634275187363864,
          0.39253248414725395,
          0.40872221642086926,
          0.4249119486944848,
          0.4411016809681001,
          0.4572914132417154,
          0.47348114551533094,
          0.48967087778894625,
          0.5058606100625616,
          0.5220503423361769,
          0.5382400746097922,
          0.5544298068834077,
          0.570619539157023,
          0.5868092714306383,
          0.6029990037042539,
          0.6191887359778692,
          0.6353784682514845,
          0.6515682005250998,
          0.6677579327987151,
          0.6839476650723306,
          0.7001373973459459,
          0.7163271296195612,
          0.7325168618931768,
          0.7487065941667921,
          0.7648963264404074,
          0.7810860587140227,
          0.797275790987638,
          0.8134655232612535,
          0.8296552555348689,
          0.8458449878084842,
          0.8620347200820997,
          0.878224452355715,
          0.8944141846293303,
          0.9106039169029456,
          0.9267936491765609,
          0.9429833814501762
         ],
         "y": [
          0.0004808841461274976,
          0.000546525200850447,
          0.0006844400186345981,
          0.0009456007309065699,
          0.0011719766841570424,
          0.0012141985883091504,
          0.0011986808296696322,
          0.001411941725136461,
          0.0019423811622835871,
          0.0026285244611286658,
          0.003395216521764457,
          0.004319940850381802,
          0.005376390073866615,
          0.006572673521021239,
          0.008186240619051387,
          0.010477408551357434,
          0.013609674654765204,
          0.01813202937635268,
          0.02508057594422436,
          0.0357379749929373,
          0.051850791225376315,
          0.07493414976381221,
          0.10394186104877143,
          0.13534080234753468,
          0.1658048875041495,
          0.19329871647815614,
          0.22104472624721314,
          0.2636051801117256,
          0.34125509946463656,
          0.4618831884818778,
          0.6045726776157572,
          0.7295142726737843,
          0.8249055258945085,
          0.936164675671274,
          1.1249830346534488,
          1.402828013773873,
          1.7148913227785847,
          1.985004669854272,
          2.1663532651282678,
          2.253004128007694,
          2.2705565878215275,
          2.2678247303975767,
          2.2907536396557084,
          2.3450743333483453,
          2.3991494643463316,
          2.4261165223913386,
          2.41873863228056,
          2.3725090713072587,
          2.282240311374733,
          2.1382044131196007,
          1.9249312492187178,
          1.6552571976076806,
          1.388135632498581,
          1.1869282394457394,
          1.0721903152079728,
          1.01516032361543,
          0.9626103650324658,
          0.8774744030351659,
          0.7663907020270038,
          0.6620059329205282,
          0.5836110968250512,
          0.5222374293596147,
          0.45909315043573434,
          0.3935928119376534,
          0.34349195868407134,
          0.31540981101401405,
          0.2975197289335176,
          0.28836300552613536,
          0.3115682940011446,
          0.39587343960021243,
          0.5413903236798653,
          0.6927039060915993,
          0.7659084872771772,
          0.7355174929331075,
          0.6566973210822323,
          0.5848050898608328,
          0.5324006616545028,
          0.4871136042196488,
          0.4218450696121668,
          0.32450964039495744,
          0.2252055026938944,
          0.16047876880156933,
          0.13268972028182202,
          0.1222590941418124,
          0.11501728549903434,
          0.10854663618844963,
          0.10346336668600772,
          0.09653239829273515,
          0.08568289433592163,
          0.0749785277758384,
          0.06693296002022364,
          0.057300394861184295,
          0.043151447145292954,
          0.028743880180781136,
          0.019672122191553235,
          0.016012529812251444,
          0.01366807598556846,
          0.010090356816598773,
          0.006152019131131775,
          0.003307873957593146
         ]
        },
        {
         "hovertemplate": "Shortest path: %{y:.3f}<extra></extra>",
         "line": {
          "color": "rgba(111, 207, 151, 0.8)",
          "width": 3
         },
         "mode": "lines",
         "name": "Shortest path",
         "type": "scatter",
         "x": [
          -0.3651073745246165,
          -0.35174816911458134,
          -0.3383889637045462,
          -0.32502975829451103,
          -0.31167055288447587,
          -0.2983113474744407,
          -0.28495214206440556,
          -0.27159293665437045,
          -0.25823373124433524,
          -0.2448745258343001,
          -0.23151532042426495,
          -0.2181561150142298,
          -0.20479690960419467,
          -0.1914377041941595,
          -0.17807849878412435,
          -0.1647192933740892,
          -0.15136008796405404,
          -0.13800088255401888,
          -0.12464167714398372,
          -0.11128247173394856,
          -0.0979232663239134,
          -0.08456406091387825,
          -0.07120485550384309,
          -0.05784565009380793,
          -0.04448644468377283,
          -0.031127239273737672,
          -0.017768033863702515,
          -0.004408828453667357,
          0.0089503769563678,
          0.022309582366402958,
          0.035668787776438116,
          0.04902799318647327,
          0.06238719859650843,
          0.07574640400654359,
          0.08910560941657875,
          0.1024648148266139,
          0.11582402023664906,
          0.12918322564668422,
          0.14254243105671938,
          0.15590163646675448,
          0.1692608418767897,
          0.1826200472868248,
          0.19597925269686,
          0.2093384581068951,
          0.22269766351693032,
          0.23605686892696542,
          0.24941607433700064,
          0.26277527974703574,
          0.27613448515707084,
          0.28949369056710605,
          0.30285289597714116,
          0.31621210138717637,
          0.32957130679721147,
          0.3429305122072467,
          0.3562897176172818,
          0.369648923027317,
          0.3830081284373521,
          0.3963673338473873,
          0.4097265392574224,
          0.42308574466745763,
          0.43644495007749273,
          0.44980415548752795,
          0.46316336089756305,
          0.47652256630759826,
          0.48988177171763336,
          0.5032409771276685,
          0.5166001825377037,
          0.5299593879477388,
          0.543318593357774,
          0.5566777987678091,
          0.5700370041778443,
          0.5833962095878794,
          0.5967554149979146,
          0.6101146204079497,
          0.6234738258179849,
          0.6368330312280202,
          0.6501922366380553,
          0.6635514420480904,
          0.6769106474581255,
          0.6902698528681608,
          0.7036290582781959,
          0.716988263688231,
          0.7303474690982661,
          0.7437066745083012,
          0.7570658799183365,
          0.7704250853283716,
          0.7837842907384067,
          0.7971434961484418,
          0.8105027015584771,
          0.8238619069685122,
          0.8372211123785473,
          0.8505803177885825,
          0.8639395231986178,
          0.8772987286086529,
          0.890657934018688,
          0.9040171394287231,
          0.9173763448387582,
          0.9307355502487935,
          0.9440947556588286,
          0.9574539610688637
         ],
         "y": [
          0.07057975457937053,
          0.0853636040819737,
          0.10270443103006398,
          0.12294290096986776,
          0.14644788888898014,
          0.17361356970138164,
          0.2048529456057451,
          0.24058649978848723,
          0.2812248093598138,
          0.3271443655403773,
          0.37865654945179567,
          0.4359706590013774,
          0.49915298135639596,
          0.5680850110509529,
          0.642424847596837,
          0.7215763843306858,
          0.8046709642664984,
          0.8905656295843627,
          0.9778609138016763,
          1.064939401848678,
          1.1500241903187622,
          1.2312541705128357,
          1.3067710237881347,
          1.3748112519172584,
          1.4337957041719827,
          1.4824090559391254,
          1.5196625703412652,
          1.5449351366973554,
          1.557989815050942,
          1.5589656289791678,
          1.5483468073277857,
          1.5269137625219995,
          1.4956815557172816,
          1.4558322849684338,
          1.4086477088380744,
          1.3554475688651975,
          1.2975376807330767,
          1.236170167244963,
          1.1725164660456526,
          1.107652197910778,
          1.0425518072768403,
          0.9780901885208325,
          0.9150483101341274,
          0.8541200916342051,
          0.7959183676554858,
          0.7409785532525103,
          0.6897594624921403,
          0.6426415039046245,
          0.5999230873057088,
          0.5618164706568662,
          0.5284444342496362,
          0.49983910581710606,
          0.47594401096156624,
          0.4566200396340098,
          0.44165555833925835,
          0.4307804155705179,
          0.42368313551760867,
          0.42003021461357537,
          0.419486158916946,
          0.4217327483947557,
          0.42648599622686517,
          0.43350938575583053,
          0.44262220333933366,
          0.45370212271223975,
          0.46668161012810916,
          0.4815381803628696,
          0.49827901075181463,
          0.51692088279228,
          0.5374668383427094,
          0.5598812813140501,
          0.5840654988825191,
          0.6098356937978142,
          0.6369055900176078,
          0.6648754822986724,
          0.6932292405118186,
          0.7213402587194212,
          0.7484866819997962,
          0.7738754945154436,
          0.7966742730633278,
          0.8160486784280729,
          0.8312031555765907,
          0.8414219210868201,
          0.8461071919833718,
          0.8448117840757997,
          0.8372636715375117,
          0.823380804271297,
          0.8032753421614951,
          0.7772473794621322,
          0.7457690864216381,
          0.70946088970227,
          0.6690617781542434,
          0.6253960254751784,
          0.5793385775871884,
          0.5317811075801034,
          0.4836003655227907,
          0.4356300221121287,
          0.38863679285414565,
          0.3433012810948003,
          0.3002037148541596,
          0.25981456975175565
         ]
        }
       ],
       "layout": {
        "font": {
         "size": 12
        },
        "height": 600,
        "legend": {
         "bgcolor": "#F0F4FF",
         "bordercolor": "#E0E8F0",
         "borderwidth": 1,
         "x": 0.7,
         "y": 0.95
        },
        "paper_bgcolor": "#F0F4FF",
        "plot_bgcolor": "#F0F4FF",
        "template": {
         "data": {
          "bar": [
           {
            "error_x": {
             "color": "#2a3f5f"
            },
            "error_y": {
             "color": "#2a3f5f"
            },
            "marker": {
             "line": {
              "color": "#E5ECF6",
              "width": 0.5
             },
             "pattern": {
              "fillmode": "overlay",
              "size": 10,
              "solidity": 0.2
             }
            },
            "type": "bar"
           }
          ],
          "barpolar": [
           {
            "marker": {
             "line": {
              "color": "#E5ECF6",
              "width": 0.5
             },
             "pattern": {
              "fillmode": "overlay",
              "size": 10,
              "solidity": 0.2
             }
            },
            "type": "barpolar"
           }
          ],
          "carpet": [
           {
            "aaxis": {
             "endlinecolor": "#2a3f5f",
             "gridcolor": "white",
             "linecolor": "white",
             "minorgridcolor": "white",
             "startlinecolor": "#2a3f5f"
            },
            "baxis": {
             "endlinecolor": "#2a3f5f",
             "gridcolor": "white",
             "linecolor": "white",
             "minorgridcolor": "white",
             "startlinecolor": "#2a3f5f"
            },
            "type": "carpet"
           }
          ],
          "choropleth": [
           {
            "colorbar": {
             "outlinewidth": 0,
             "ticks": ""
            },
            "type": "choropleth"
           }
          ],
          "contour": [
           {
            "colorbar": {
             "outlinewidth": 0,
             "ticks": ""
            },
            "colorscale": [
             [
              0,
              "#0d0887"
             ],
             [
              0.1111111111111111,
              "#46039f"
             ],
             [
              0.2222222222222222,
              "#7201a8"
             ],
             [
              0.3333333333333333,
              "#9c179e"
             ],
             [
              0.4444444444444444,
              "#bd3786"
             ],
             [
              0.5555555555555556,
              "#d8576b"
             ],
             [
              0.6666666666666666,
              "#ed7953"
             ],
             [
              0.7777777777777778,
              "#fb9f3a"
             ],
             [
              0.8888888888888888,
              "#fdca26"
             ],
             [
              1,
              "#f0f921"
             ]
            ],
            "type": "contour"
           }
          ],
          "contourcarpet": [
           {
            "colorbar": {
             "outlinewidth": 0,
             "ticks": ""
            },
            "type": "contourcarpet"
           }
          ],
          "heatmap": [
           {
            "colorbar": {
             "outlinewidth": 0,
             "ticks": ""
            },
            "colorscale": [
             [
              0,
              "#0d0887"
             ],
             [
              0.1111111111111111,
              "#46039f"
             ],
             [
              0.2222222222222222,
              "#7201a8"
             ],
             [
              0.3333333333333333,
              "#9c179e"
             ],
             [
              0.4444444444444444,
              "#bd3786"
             ],
             [
              0.5555555555555556,
              "#d8576b"
             ],
             [
              0.6666666666666666,
              "#ed7953"
             ],
             [
              0.7777777777777778,
              "#fb9f3a"
             ],
             [
              0.8888888888888888,
              "#fdca26"
             ],
             [
              1,
              "#f0f921"
             ]
            ],
            "type": "heatmap"
           }
          ],
          "heatmapgl": [
           {
            "colorbar": {
             "outlinewidth": 0,
             "ticks": ""
            },
            "colorscale": [
             [
              0,
              "#0d0887"
             ],
             [
              0.1111111111111111,
              "#46039f"
             ],
             [
              0.2222222222222222,
              "#7201a8"
             ],
             [
              0.3333333333333333,
              "#9c179e"
             ],
             [
              0.4444444444444444,
              "#bd3786"
             ],
             [
              0.5555555555555556,
              "#d8576b"
             ],
             [
              0.6666666666666666,
              "#ed7953"
             ],
             [
              0.7777777777777778,
              "#fb9f3a"
             ],
             [
              0.8888888888888888,
              "#fdca26"
             ],
             [
              1,
              "#f0f921"
             ]
            ],
            "type": "heatmapgl"
           }
          ],
          "histogram": [
           {
            "marker": {
             "pattern": {
              "fillmode": "overlay",
              "size": 10,
              "solidity": 0.2
             }
            },
            "type": "histogram"
           }
          ],
          "histogram2d": [
           {
            "colorbar": {
             "outlinewidth": 0,
             "ticks": ""
            },
            "colorscale": [
             [
              0,
              "#0d0887"
             ],
             [
              0.1111111111111111,
              "#46039f"
             ],
             [
              0.2222222222222222,
              "#7201a8"
             ],
             [
              0.3333333333333333,
              "#9c179e"
             ],
             [
              0.4444444444444444,
              "#bd3786"
             ],
             [
              0.5555555555555556,
              "#d8576b"
             ],
             [
              0.6666666666666666,
              "#ed7953"
             ],
             [
              0.7777777777777778,
              "#fb9f3a"
             ],
             [
              0.8888888888888888,
              "#fdca26"
             ],
             [
              1,
              "#f0f921"
             ]
            ],
            "type": "histogram2d"
           }
          ],
          "histogram2dcontour": [
           {
            "colorbar": {
             "outlinewidth": 0,
             "ticks": ""
            },
            "colorscale": [
             [
              0,
              "#0d0887"
             ],
             [
              0.1111111111111111,
              "#46039f"
             ],
             [
              0.2222222222222222,
              "#7201a8"
             ],
             [
              0.3333333333333333,
              "#9c179e"
             ],
             [
              0.4444444444444444,
              "#bd3786"
             ],
             [
              0.5555555555555556,
              "#d8576b"
             ],
             [
              0.6666666666666666,
              "#ed7953"
             ],
             [
              0.7777777777777778,
              "#fb9f3a"
             ],
             [
              0.8888888888888888,
              "#fdca26"
             ],
             [
              1,
              "#f0f921"
             ]
            ],
            "type": "histogram2dcontour"
           }
          ],
          "mesh3d": [
           {
            "colorbar": {
             "outlinewidth": 0,
             "ticks": ""
            },
            "type": "mesh3d"
           }
          ],
          "parcoords": [
           {
            "line": {
             "colorbar": {
              "outlinewidth": 0,
              "ticks": ""
             }
            },
            "type": "parcoords"
           }
          ],
          "pie": [
           {
            "automargin": true,
            "type": "pie"
           }
          ],
          "scatter": [
           {
            "fillpattern": {
             "fillmode": "overlay",
             "size": 10,
             "solidity": 0.2
            },
            "type": "scatter"
           }
          ],
          "scatter3d": [
           {
            "line": {
             "colorbar": {
              "outlinewidth": 0,
              "ticks": ""
             }
            },
            "marker": {
             "colorbar": {
              "outlinewidth": 0,
              "ticks": ""
             }
            },
            "type": "scatter3d"
           }
          ],
          "scattercarpet": [
           {
            "marker": {
             "colorbar": {
              "outlinewidth": 0,
              "ticks": ""
             }
            },
            "type": "scattercarpet"
           }
          ],
          "scattergeo": [
           {
            "marker": {
             "colorbar": {
              "outlinewidth": 0,
              "ticks": ""
             }
            },
            "type": "scattergeo"
           }
          ],
          "scattergl": [
           {
            "marker": {
             "colorbar": {
              "outlinewidth": 0,
              "ticks": ""
             }
            },
            "type": "scattergl"
           }
          ],
          "scattermapbox": [
           {
            "marker": {
             "colorbar": {
              "outlinewidth": 0,
              "ticks": ""
             }
            },
            "type": "scattermapbox"
           }
          ],
          "scatterpolar": [
           {
            "marker": {
             "colorbar": {
              "outlinewidth": 0,
              "ticks": ""
             }
            },
            "type": "scatterpolar"
           }
          ],
          "scatterpolargl": [
           {
            "marker": {
             "colorbar": {
              "outlinewidth": 0,
              "ticks": ""
             }
            },
            "type": "scatterpolargl"
           }
          ],
          "scatterternary": [
           {
            "marker": {
             "colorbar": {
              "outlinewidth": 0,
              "ticks": ""
             }
            },
            "type": "scatterternary"
           }
          ],
          "surface": [
           {
            "colorbar": {
             "outlinewidth": 0,
             "ticks": ""
            },
            "colorscale": [
             [
              0,
              "#0d0887"
             ],
             [
              0.1111111111111111,
              "#46039f"
             ],
             [
              0.2222222222222222,
              "#7201a8"
             ],
             [
              0.3333333333333333,
              "#9c179e"
             ],
             [
              0.4444444444444444,
              "#bd3786"
             ],
             [
              0.5555555555555556,
              "#d8576b"
             ],
             [
              0.6666666666666666,
              "#ed7953"
             ],
             [
              0.7777777777777778,
              "#fb9f3a"
             ],
             [
              0.8888888888888888,
              "#fdca26"
             ],
             [
              1,
              "#f0f921"
             ]
            ],
            "type": "surface"
           }
          ],
          "table": [
           {
            "cells": {
             "fill": {
              "color": "#EBF0F8"
             },
             "line": {
              "color": "white"
             }
            },
            "header": {
             "fill": {
              "color": "#C8D4E3"
             },
             "line": {
              "color": "white"
             }
            },
            "type": "table"
           }
          ]
         },
         "layout": {
          "annotationdefaults": {
           "arrowcolor": "#2a3f5f",
           "arrowhead": 0,
           "arrowwidth": 1
          },
          "autotypenumbers": "strict",
          "coloraxis": {
           "colorbar": {
            "outlinewidth": 0,
            "ticks": ""
           }
          },
          "colorscale": {
           "diverging": [
            [
             0,
             "#8e0152"
            ],
            [
             0.1,
             "#c51b7d"
            ],
            [
             0.2,
             "#de77ae"
            ],
            [
             0.3,
             "#f1b6da"
            ],
            [
             0.4,
             "#fde0ef"
            ],
            [
             0.5,
             "#f7f7f7"
            ],
            [
             0.6,
             "#e6f5d0"
            ],
            [
             0.7,
             "#b8e186"
            ],
            [
             0.8,
             "#7fbc41"
            ],
            [
             0.9,
             "#4d9221"
            ],
            [
             1,
             "#276419"
            ]
           ],
           "sequential": [
            [
             0,
             "#0d0887"
            ],
            [
             0.1111111111111111,
             "#46039f"
            ],
            [
             0.2222222222222222,
             "#7201a8"
            ],
            [
             0.3333333333333333,
             "#9c179e"
            ],
            [
             0.4444444444444444,
             "#bd3786"
            ],
            [
             0.5555555555555556,
             "#d8576b"
            ],
            [
             0.6666666666666666,
             "#ed7953"
            ],
            [
             0.7777777777777778,
             "#fb9f3a"
            ],
            [
             0.8888888888888888,
             "#fdca26"
            ],
            [
             1,
             "#f0f921"
            ]
           ],
           "sequentialminus": [
            [
             0,
             "#0d0887"
            ],
            [
             0.1111111111111111,
             "#46039f"
            ],
            [
             0.2222222222222222,
             "#7201a8"
            ],
            [
             0.3333333333333333,
             "#9c179e"
            ],
            [
             0.4444444444444444,
             "#bd3786"
            ],
            [
             0.5555555555555556,
             "#d8576b"
            ],
            [
             0.6666666666666666,
             "#ed7953"
            ],
            [
             0.7777777777777778,
             "#fb9f3a"
            ],
            [
             0.8888888888888888,
             "#fdca26"
            ],
            [
             1,
             "#f0f921"
            ]
           ]
          },
          "colorway": [
           "#636efa",
           "#EF553B",
           "#00cc96",
           "#ab63fa",
           "#FFA15A",
           "#19d3f3",
           "#FF6692",
           "#B6E880",
           "#FF97FF",
           "#FECB52"
          ],
          "font": {
           "color": "#2a3f5f"
          },
          "geo": {
           "bgcolor": "white",
           "lakecolor": "white",
           "landcolor": "#E5ECF6",
           "showlakes": true,
           "showland": true,
           "subunitcolor": "white"
          },
          "hoverlabel": {
           "align": "left"
          },
          "hovermode": "closest",
          "mapbox": {
           "style": "light"
          },
          "paper_bgcolor": "white",
          "plot_bgcolor": "#E5ECF6",
          "polar": {
           "angularaxis": {
            "gridcolor": "white",
            "linecolor": "white",
            "ticks": ""
           },
           "bgcolor": "#E5ECF6",
           "radialaxis": {
            "gridcolor": "white",
            "linecolor": "white",
            "ticks": ""
           }
          },
          "scene": {
           "xaxis": {
            "backgroundcolor": "#E5ECF6",
            "gridcolor": "white",
            "gridwidth": 2,
            "linecolor": "white",
            "showbackground": true,
            "ticks": "",
            "zerolinecolor": "white"
           },
           "yaxis": {
            "backgroundcolor": "#E5ECF6",
            "gridcolor": "white",
            "gridwidth": 2,
            "linecolor": "white",
            "showbackground": true,
            "ticks": "",
            "zerolinecolor": "white"
           },
           "zaxis": {
            "backgroundcolor": "#E5ECF6",
            "gridcolor": "white",
            "gridwidth": 2,
            "linecolor": "white",
            "showbackground": true,
            "ticks": "",
            "zerolinecolor": "white"
           }
          },
          "shapedefaults": {
           "line": {
            "color": "#2a3f5f"
           }
          },
          "ternary": {
           "aaxis": {
            "gridcolor": "white",
            "linecolor": "white",
            "ticks": ""
           },
           "baxis": {
            "gridcolor": "white",
            "linecolor": "white",
            "ticks": ""
           },
           "bgcolor": "#E5ECF6",
           "caxis": {
            "gridcolor": "white",
            "linecolor": "white",
            "ticks": ""
           }
          },
          "title": {
           "x": 0.05
          },
          "xaxis": {
           "automargin": true,
           "gridcolor": "white",
           "linecolor": "white",
           "ticks": "",
           "title": {
            "standoff": 15
           },
           "zerolinecolor": "white",
           "zerolinewidth": 2
          },
          "yaxis": {
           "automargin": true,
           "gridcolor": "white",
           "linecolor": "white",
           "ticks": "",
           "title": {
            "standoff": 15
           },
           "zerolinecolor": "white",
           "zerolinewidth": 2
          }
         }
        },
        "title": {
         "text": "Closeness Scores Distribution"
        },
        "width": 900,
        "xaxis": {
         "title": {
          "text": "Closeness Score"
         }
        },
        "yaxis": {
         "gridcolor": "#E0E8F0",
         "showgrid": true,
         "title": {
          "text": "Density"
         }
        }
       }
      }
     },
     "metadata": {},
     "output_type": "display_data"
    }
   ],
   "source": [
    "import plotly.graph_objects as go\n",
    "import numpy as np\n",
    "from scipy.stats import gaussian_kde\n",
    "\n",
    "# Calculate closeness scores for AI paths and human paths\n",
    "ai_closeness_scores = {}\n",
    "human_closeness_scores = {}\n",
    "optimal_closeness_scores = {}\n",
    "ai_target_scores = {}\n",
    "human_target_scores = {}\n",
    "optimal_target_scores = {}\n",
    "\n",
    "for pair in ori_dest:\n",
    "    start_article, target_article = pair\n",
    "    ai_path = AI_paths[pair]\n",
    "    human_path = human_paths[pair]\n",
    "    ai_closeness_scores[pair] = [calculate_closeness_scores(path, sentence_embeddings) for path in ai_path]\n",
    "    human_closeness_scores[pair] = [calculate_closeness_scores(path, sentence_embeddings) for path in human_path]\n",
    "    optimal_closeness_scores[pair] = [calculate_closeness_scores(path, sentence_embeddings) for path in shortest_paths[pair]]\n",
    "    ai_target_scores[pair] = [calculate_target_scores(path, sentence_embeddings) for path in ai_path]\n",
    "    human_target_scores[pair] = [calculate_target_scores(path, sentence_embeddings) for path in human_path]\n",
    "    optimal_target_scores[pair] = [calculate_target_scores(path, sentence_embeddings) for path in shortest_paths[pair]]\n",
    "\n",
    "\n",
    "# Function to clean and calculate KDE for smooth curves\n",
    "def calculate_kde(data, points=100):\n",
    "    # Clean data: remove NaN and infinite values\n",
    "    clean_data = np.array(data)\n",
    "    clean_data = clean_data[~np.isnan(clean_data)]  # Remove NaNs\n",
    "    clean_data = clean_data[np.isfinite(clean_data)]  # Remove infinities\n",
    "    \n",
    "    if len(clean_data) == 0:\n",
    "        raise ValueError(\"No valid data points available after cleaning.\")\n",
    "    \n",
    "    kde = gaussian_kde(clean_data)\n",
    "    x_range = np.linspace(min(clean_data), max(clean_data), points)\n",
    "    y_range = kde(x_range)\n",
    "    return x_range, y_range\n",
    "\n",
    "\n",
    "ai_scores = [score for pair in ori_dest for score in ai_closeness_scores[pair]]\n",
    "human_scores = [score for pair in ori_dest for score in human_closeness_scores[pair]]\n",
    "optimal_scores = [score for pair in ori_dest for score in optimal_closeness_scores[pair]]\n",
    "ai_scores = [score for sublist in ai_scores for score in sublist]\n",
    "human_scores = [score for sublist in human_scores for score in sublist]\n",
    "optimal_scores = [score for sublist in optimal_scores for score in sublist]\n",
    "\n",
    "# Clean data and calculate KDE\n",
    "ai_x, ai_y = calculate_kde(ai_scores)\n",
    "human_x, human_y = calculate_kde(human_scores)\n",
    "optimal_x, optimal_y = calculate_kde(optimal_scores)\n",
    "\n",
    "# Create smooth density plots\n",
    "fig = go.Figure()\n",
    "\n",
    "fig.add_trace(go.Scatter(\n",
    "    x=ai_x, y=ai_y,\n",
    "    mode='lines',\n",
    "    name='AI path',\n",
    "    line=dict(color=PRIMARY_BLUE, width=3),\n",
    "    hovertemplate=\"AI path: %{y:.3f}<extra></extra>\"  # Round to 3 decimal places\n",
    "))\n",
    "\n",
    "fig.add_trace(go.Scatter(\n",
    "    x=human_x, y=human_y,\n",
    "    mode='lines',\n",
    "    name='Human path',\n",
    "    line=dict(color=SOFT_ORANGE, width=3),\n",
    "    hovertemplate=\"Human path: %{y:.3f}<extra></extra>\"  # Round to 3 decimal places\n",
    "))\n",
    "\n",
    "fig.add_trace(go.Scatter(\n",
    "    x=optimal_x, y=optimal_y,\n",
    "    mode='lines',\n",
    "    name='Shortest path',\n",
    "    line=dict(color=LIGHT_GREEN, width=3),\n",
    "    hovertemplate=\"Shortest path: %{y:.3f}<extra></extra>\"  # Round to 3 decimal places\n",
    "))\n",
    "\n",
    "# Update layout for aesthetics and fixed size\n",
    "fig.update_layout(\n",
    "    title=\"Closeness Scores Distribution\",\n",
    "    xaxis_title=\"Closeness Score\",\n",
    "    yaxis_title=\"Density\",\n",
    "    plot_bgcolor=BACKGROUND,\n",
    "    paper_bgcolor=BACKGROUND,\n",
    "    legend=dict(\n",
    "        x=0.7, y=0.95,\n",
    "        bgcolor=BACKGROUND,\n",
    "        bordercolor=LIGHT_GRAY,\n",
    "        borderwidth=1\n",
    "    ),\n",
    "    font=dict(size=12),\n",
    "    width=900,   # Fixed width\n",
    "    height=600   # Fixed height\n",
    ")\n",
    "\n",
    "# Hide x-axis grid and ticks if needed\n",
    "# fig.update_xaxes(showticklabels=False, showgrid=False)\n",
    "\n",
    "# Update grid line styles for y-axis\n",
    "fig.update_yaxes(showgrid=True, gridcolor=LIGHT_GRAY)\n",
    "\n",
    "# Show the plot\n",
    "fig.show()\n"
   ]
  },
  {
   "cell_type": "code",
   "execution_count": 9,
   "metadata": {},
   "outputs": [
    {
     "name": "stdout",
     "output_type": "stream",
     "text": [
      "Node Wikipedia_Text_of_the_GNU_Free_Documentation_License is not in the neighbors of Programming_language\n",
      "Node Wikipedia_Text_of_the_GNU_Free_Documentation_License is not in the graph\n",
      "Node Wikipedia_Text_of_the_GNU_Free_Documentation_License is not in the neighbors of Bird\n",
      "Node Wikipedia_Text_of_the_GNU_Free_Documentation_License is not in the graph\n",
      "Node Wikipedia_Text_of_the_GNU_Free_Documentation_License is not in the neighbors of Cat\n",
      "Node Wikipedia_Text_of_the_GNU_Free_Documentation_License is not in the graph\n",
      "Node %C3%85land is not in the neighbors of Finland\n",
      "Node Functional_programming is not in the neighbors of Functional_programming\n",
      "Node Unix is not in the neighbors of Programming_language\n",
      "Node GNU is not in the neighbors of Linux\n",
      "Node Internet is not in the neighbors of Linux\n",
      "Node Season is not in the neighbors of Internet\n",
      "Node Bioinformatics is not in the neighbors of Programming_language\n",
      "Node Fourteenth_Amendment_to_the_United_States_Constitution is not in the neighbors of Crime\n",
      "Node Crime is not in the neighbors of Scent_of_a_Woman\n"
     ]
    },
    {
     "data": {
      "text/plain": [
       "<Figure size 1000x600 with 0 Axes>"
      ]
     },
     "metadata": {},
     "output_type": "display_data"
    }
   ],
   "source": [
    "# Calculate rank of neighbors for AI paths and human paths\n",
    "ai_rank_scores = {}\n",
    "human_rank_scores = {}\n",
    "optimal_rank_scores = {}\n",
    "for pair in ori_dest:\n",
    "    start_article, target_article = pair\n",
    "    ai_path = AI_paths[pair]\n",
    "    human_path = human_paths[pair]\n",
    "    ai_rank_scores[pair] = [calculate_rank_of_neighbors(path, G, sentence_embeddings) for path in ai_path]\n",
    "    human_rank_scores[pair] = [calculate_rank_of_neighbors(path, G, sentence_embeddings) for path in human_path]\n",
    "    optimal_rank_scores[pair] = [calculate_rank_of_neighbors(path, G, sentence_embeddings) for path in shortest_paths[pair]]\n",
    "\n",
    "# Plot to show the difference in rank of neighbors distribution between AI paths and human paths\n",
    "plt.figure(figsize=(10, 6))\n",
    "ai_scores = [score for pair in ori_dest for score in ai_rank_scores[pair]]\n",
    "human_scores = [score for pair in ori_dest for score in human_rank_scores[pair]]\n",
    "optimal_scores = [score for pair in ori_dest for score in optimal_rank_scores[pair]]\n",
    "ai_scores = np.array([score for sublist in ai_scores for score in sublist])\n",
    "human_scores = np.array([score for sublist in human_scores for score in sublist])\n",
    "optimal_scores = np.array([score for sublist in optimal_scores for score in sublist])\n",
    "\n",
    "# some are not in links like Wikipedia_Text_of_the_GNU_Free_Documentation_License"
   ]
  },
  {
   "cell_type": "code",
   "execution_count": 10,
   "metadata": {},
   "outputs": [
    {
     "data": {
      "application/vnd.plotly.v1+json": {
       "config": {
        "plotlyServerURL": "https://plot.ly"
       },
       "data": [
        {
         "hovertemplate": "AI: %{y:.2f}%<extra></extra>",
         "marker": {
          "color": "rgba(58, 85, 209, 0.7)"
         },
         "name": "AI path",
         "text": [
          "41.37%",
          "8.85%",
          "5.93%",
          "4.52%",
          "2.89%"
         ],
         "textposition": "outside",
         "type": "bar",
         "x": [
          1,
          2,
          3,
          4,
          5
         ],
         "y": [
          41.37265711135612,
          8.847850055126791,
          5.926130099228225,
          4.5203969128996695,
          2.8941565600882027
         ]
        },
        {
         "hovertemplate": "Human: %{y:.2f}%<extra></extra>",
         "marker": {
          "color": "rgba(242, 153, 74, 0.7)"
         },
         "name": "Human path",
         "text": [
          "35.14%",
          "10.50%",
          "6.73%",
          "4.74%",
          "3.48%"
         ],
         "textposition": "outside",
         "type": "bar",
         "x": [
          1,
          2,
          3,
          4,
          5
         ],
         "y": [
          35.142963663999545,
          10.499297370156873,
          6.725171355645415,
          4.737732656514383,
          3.4758668157962664
         ]
        },
        {
         "hovertemplate": "Shortest: %{y:.2f}%<extra></extra>",
         "marker": {
          "color": "rgba(111, 207, 151, 0.8)"
         },
         "name": "Shortest path",
         "text": [
          "48.35%",
          "3.54%",
          "3.30%",
          "3.07%",
          "3.30%"
         ],
         "textposition": "outside",
         "type": "bar",
         "x": [
          1,
          2,
          3,
          4,
          5
         ],
         "y": [
          48.34905660377358,
          3.5377358490566038,
          3.30188679245283,
          3.0660377358490565,
          3.30188679245283
         ]
        }
       ],
       "layout": {
        "barmode": "group",
        "font": {
         "size": 12
        },
        "height": 500,
        "paper_bgcolor": "rgba(240, 244, 255, 1)",
        "plot_bgcolor": "rgba(240, 244, 255, 1)",
        "template": {
         "data": {
          "bar": [
           {
            "error_x": {
             "color": "#2a3f5f"
            },
            "error_y": {
             "color": "#2a3f5f"
            },
            "marker": {
             "line": {
              "color": "#E5ECF6",
              "width": 0.5
             },
             "pattern": {
              "fillmode": "overlay",
              "size": 10,
              "solidity": 0.2
             }
            },
            "type": "bar"
           }
          ],
          "barpolar": [
           {
            "marker": {
             "line": {
              "color": "#E5ECF6",
              "width": 0.5
             },
             "pattern": {
              "fillmode": "overlay",
              "size": 10,
              "solidity": 0.2
             }
            },
            "type": "barpolar"
           }
          ],
          "carpet": [
           {
            "aaxis": {
             "endlinecolor": "#2a3f5f",
             "gridcolor": "white",
             "linecolor": "white",
             "minorgridcolor": "white",
             "startlinecolor": "#2a3f5f"
            },
            "baxis": {
             "endlinecolor": "#2a3f5f",
             "gridcolor": "white",
             "linecolor": "white",
             "minorgridcolor": "white",
             "startlinecolor": "#2a3f5f"
            },
            "type": "carpet"
           }
          ],
          "choropleth": [
           {
            "colorbar": {
             "outlinewidth": 0,
             "ticks": ""
            },
            "type": "choropleth"
           }
          ],
          "contour": [
           {
            "colorbar": {
             "outlinewidth": 0,
             "ticks": ""
            },
            "colorscale": [
             [
              0,
              "#0d0887"
             ],
             [
              0.1111111111111111,
              "#46039f"
             ],
             [
              0.2222222222222222,
              "#7201a8"
             ],
             [
              0.3333333333333333,
              "#9c179e"
             ],
             [
              0.4444444444444444,
              "#bd3786"
             ],
             [
              0.5555555555555556,
              "#d8576b"
             ],
             [
              0.6666666666666666,
              "#ed7953"
             ],
             [
              0.7777777777777778,
              "#fb9f3a"
             ],
             [
              0.8888888888888888,
              "#fdca26"
             ],
             [
              1,
              "#f0f921"
             ]
            ],
            "type": "contour"
           }
          ],
          "contourcarpet": [
           {
            "colorbar": {
             "outlinewidth": 0,
             "ticks": ""
            },
            "type": "contourcarpet"
           }
          ],
          "heatmap": [
           {
            "colorbar": {
             "outlinewidth": 0,
             "ticks": ""
            },
            "colorscale": [
             [
              0,
              "#0d0887"
             ],
             [
              0.1111111111111111,
              "#46039f"
             ],
             [
              0.2222222222222222,
              "#7201a8"
             ],
             [
              0.3333333333333333,
              "#9c179e"
             ],
             [
              0.4444444444444444,
              "#bd3786"
             ],
             [
              0.5555555555555556,
              "#d8576b"
             ],
             [
              0.6666666666666666,
              "#ed7953"
             ],
             [
              0.7777777777777778,
              "#fb9f3a"
             ],
             [
              0.8888888888888888,
              "#fdca26"
             ],
             [
              1,
              "#f0f921"
             ]
            ],
            "type": "heatmap"
           }
          ],
          "heatmapgl": [
           {
            "colorbar": {
             "outlinewidth": 0,
             "ticks": ""
            },
            "colorscale": [
             [
              0,
              "#0d0887"
             ],
             [
              0.1111111111111111,
              "#46039f"
             ],
             [
              0.2222222222222222,
              "#7201a8"
             ],
             [
              0.3333333333333333,
              "#9c179e"
             ],
             [
              0.4444444444444444,
              "#bd3786"
             ],
             [
              0.5555555555555556,
              "#d8576b"
             ],
             [
              0.6666666666666666,
              "#ed7953"
             ],
             [
              0.7777777777777778,
              "#fb9f3a"
             ],
             [
              0.8888888888888888,
              "#fdca26"
             ],
             [
              1,
              "#f0f921"
             ]
            ],
            "type": "heatmapgl"
           }
          ],
          "histogram": [
           {
            "marker": {
             "pattern": {
              "fillmode": "overlay",
              "size": 10,
              "solidity": 0.2
             }
            },
            "type": "histogram"
           }
          ],
          "histogram2d": [
           {
            "colorbar": {
             "outlinewidth": 0,
             "ticks": ""
            },
            "colorscale": [
             [
              0,
              "#0d0887"
             ],
             [
              0.1111111111111111,
              "#46039f"
             ],
             [
              0.2222222222222222,
              "#7201a8"
             ],
             [
              0.3333333333333333,
              "#9c179e"
             ],
             [
              0.4444444444444444,
              "#bd3786"
             ],
             [
              0.5555555555555556,
              "#d8576b"
             ],
             [
              0.6666666666666666,
              "#ed7953"
             ],
             [
              0.7777777777777778,
              "#fb9f3a"
             ],
             [
              0.8888888888888888,
              "#fdca26"
             ],
             [
              1,
              "#f0f921"
             ]
            ],
            "type": "histogram2d"
           }
          ],
          "histogram2dcontour": [
           {
            "colorbar": {
             "outlinewidth": 0,
             "ticks": ""
            },
            "colorscale": [
             [
              0,
              "#0d0887"
             ],
             [
              0.1111111111111111,
              "#46039f"
             ],
             [
              0.2222222222222222,
              "#7201a8"
             ],
             [
              0.3333333333333333,
              "#9c179e"
             ],
             [
              0.4444444444444444,
              "#bd3786"
             ],
             [
              0.5555555555555556,
              "#d8576b"
             ],
             [
              0.6666666666666666,
              "#ed7953"
             ],
             [
              0.7777777777777778,
              "#fb9f3a"
             ],
             [
              0.8888888888888888,
              "#fdca26"
             ],
             [
              1,
              "#f0f921"
             ]
            ],
            "type": "histogram2dcontour"
           }
          ],
          "mesh3d": [
           {
            "colorbar": {
             "outlinewidth": 0,
             "ticks": ""
            },
            "type": "mesh3d"
           }
          ],
          "parcoords": [
           {
            "line": {
             "colorbar": {
              "outlinewidth": 0,
              "ticks": ""
             }
            },
            "type": "parcoords"
           }
          ],
          "pie": [
           {
            "automargin": true,
            "type": "pie"
           }
          ],
          "scatter": [
           {
            "fillpattern": {
             "fillmode": "overlay",
             "size": 10,
             "solidity": 0.2
            },
            "type": "scatter"
           }
          ],
          "scatter3d": [
           {
            "line": {
             "colorbar": {
              "outlinewidth": 0,
              "ticks": ""
             }
            },
            "marker": {
             "colorbar": {
              "outlinewidth": 0,
              "ticks": ""
             }
            },
            "type": "scatter3d"
           }
          ],
          "scattercarpet": [
           {
            "marker": {
             "colorbar": {
              "outlinewidth": 0,
              "ticks": ""
             }
            },
            "type": "scattercarpet"
           }
          ],
          "scattergeo": [
           {
            "marker": {
             "colorbar": {
              "outlinewidth": 0,
              "ticks": ""
             }
            },
            "type": "scattergeo"
           }
          ],
          "scattergl": [
           {
            "marker": {
             "colorbar": {
              "outlinewidth": 0,
              "ticks": ""
             }
            },
            "type": "scattergl"
           }
          ],
          "scattermapbox": [
           {
            "marker": {
             "colorbar": {
              "outlinewidth": 0,
              "ticks": ""
             }
            },
            "type": "scattermapbox"
           }
          ],
          "scatterpolar": [
           {
            "marker": {
             "colorbar": {
              "outlinewidth": 0,
              "ticks": ""
             }
            },
            "type": "scatterpolar"
           }
          ],
          "scatterpolargl": [
           {
            "marker": {
             "colorbar": {
              "outlinewidth": 0,
              "ticks": ""
             }
            },
            "type": "scatterpolargl"
           }
          ],
          "scatterternary": [
           {
            "marker": {
             "colorbar": {
              "outlinewidth": 0,
              "ticks": ""
             }
            },
            "type": "scatterternary"
           }
          ],
          "surface": [
           {
            "colorbar": {
             "outlinewidth": 0,
             "ticks": ""
            },
            "colorscale": [
             [
              0,
              "#0d0887"
             ],
             [
              0.1111111111111111,
              "#46039f"
             ],
             [
              0.2222222222222222,
              "#7201a8"
             ],
             [
              0.3333333333333333,
              "#9c179e"
             ],
             [
              0.4444444444444444,
              "#bd3786"
             ],
             [
              0.5555555555555556,
              "#d8576b"
             ],
             [
              0.6666666666666666,
              "#ed7953"
             ],
             [
              0.7777777777777778,
              "#fb9f3a"
             ],
             [
              0.8888888888888888,
              "#fdca26"
             ],
             [
              1,
              "#f0f921"
             ]
            ],
            "type": "surface"
           }
          ],
          "table": [
           {
            "cells": {
             "fill": {
              "color": "#EBF0F8"
             },
             "line": {
              "color": "white"
             }
            },
            "header": {
             "fill": {
              "color": "#C8D4E3"
             },
             "line": {
              "color": "white"
             }
            },
            "type": "table"
           }
          ]
         },
         "layout": {
          "annotationdefaults": {
           "arrowcolor": "#2a3f5f",
           "arrowhead": 0,
           "arrowwidth": 1
          },
          "autotypenumbers": "strict",
          "coloraxis": {
           "colorbar": {
            "outlinewidth": 0,
            "ticks": ""
           }
          },
          "colorscale": {
           "diverging": [
            [
             0,
             "#8e0152"
            ],
            [
             0.1,
             "#c51b7d"
            ],
            [
             0.2,
             "#de77ae"
            ],
            [
             0.3,
             "#f1b6da"
            ],
            [
             0.4,
             "#fde0ef"
            ],
            [
             0.5,
             "#f7f7f7"
            ],
            [
             0.6,
             "#e6f5d0"
            ],
            [
             0.7,
             "#b8e186"
            ],
            [
             0.8,
             "#7fbc41"
            ],
            [
             0.9,
             "#4d9221"
            ],
            [
             1,
             "#276419"
            ]
           ],
           "sequential": [
            [
             0,
             "#0d0887"
            ],
            [
             0.1111111111111111,
             "#46039f"
            ],
            [
             0.2222222222222222,
             "#7201a8"
            ],
            [
             0.3333333333333333,
             "#9c179e"
            ],
            [
             0.4444444444444444,
             "#bd3786"
            ],
            [
             0.5555555555555556,
             "#d8576b"
            ],
            [
             0.6666666666666666,
             "#ed7953"
            ],
            [
             0.7777777777777778,
             "#fb9f3a"
            ],
            [
             0.8888888888888888,
             "#fdca26"
            ],
            [
             1,
             "#f0f921"
            ]
           ],
           "sequentialminus": [
            [
             0,
             "#0d0887"
            ],
            [
             0.1111111111111111,
             "#46039f"
            ],
            [
             0.2222222222222222,
             "#7201a8"
            ],
            [
             0.3333333333333333,
             "#9c179e"
            ],
            [
             0.4444444444444444,
             "#bd3786"
            ],
            [
             0.5555555555555556,
             "#d8576b"
            ],
            [
             0.6666666666666666,
             "#ed7953"
            ],
            [
             0.7777777777777778,
             "#fb9f3a"
            ],
            [
             0.8888888888888888,
             "#fdca26"
            ],
            [
             1,
             "#f0f921"
            ]
           ]
          },
          "colorway": [
           "#636efa",
           "#EF553B",
           "#00cc96",
           "#ab63fa",
           "#FFA15A",
           "#19d3f3",
           "#FF6692",
           "#B6E880",
           "#FF97FF",
           "#FECB52"
          ],
          "font": {
           "color": "#2a3f5f"
          },
          "geo": {
           "bgcolor": "white",
           "lakecolor": "white",
           "landcolor": "#E5ECF6",
           "showlakes": true,
           "showland": true,
           "subunitcolor": "white"
          },
          "hoverlabel": {
           "align": "left"
          },
          "hovermode": "closest",
          "mapbox": {
           "style": "light"
          },
          "paper_bgcolor": "white",
          "plot_bgcolor": "#E5ECF6",
          "polar": {
           "angularaxis": {
            "gridcolor": "white",
            "linecolor": "white",
            "ticks": ""
           },
           "bgcolor": "#E5ECF6",
           "radialaxis": {
            "gridcolor": "white",
            "linecolor": "white",
            "ticks": ""
           }
          },
          "scene": {
           "xaxis": {
            "backgroundcolor": "#E5ECF6",
            "gridcolor": "white",
            "gridwidth": 2,
            "linecolor": "white",
            "showbackground": true,
            "ticks": "",
            "zerolinecolor": "white"
           },
           "yaxis": {
            "backgroundcolor": "#E5ECF6",
            "gridcolor": "white",
            "gridwidth": 2,
            "linecolor": "white",
            "showbackground": true,
            "ticks": "",
            "zerolinecolor": "white"
           },
           "zaxis": {
            "backgroundcolor": "#E5ECF6",
            "gridcolor": "white",
            "gridwidth": 2,
            "linecolor": "white",
            "showbackground": true,
            "ticks": "",
            "zerolinecolor": "white"
           }
          },
          "shapedefaults": {
           "line": {
            "color": "#2a3f5f"
           }
          },
          "ternary": {
           "aaxis": {
            "gridcolor": "white",
            "linecolor": "white",
            "ticks": ""
           },
           "baxis": {
            "gridcolor": "white",
            "linecolor": "white",
            "ticks": ""
           },
           "bgcolor": "#E5ECF6",
           "caxis": {
            "gridcolor": "white",
            "linecolor": "white",
            "ticks": ""
           }
          },
          "title": {
           "x": 0.05
          },
          "xaxis": {
           "automargin": true,
           "gridcolor": "white",
           "linecolor": "white",
           "ticks": "",
           "title": {
            "standoff": 15
           },
           "zerolinecolor": "white",
           "zerolinewidth": 2
          },
          "yaxis": {
           "automargin": true,
           "gridcolor": "white",
           "linecolor": "white",
           "ticks": "",
           "title": {
            "standoff": 15
           },
           "zerolinecolor": "white",
           "zerolinewidth": 2
          }
         }
        },
        "title": {
         "text": "Node Selection Preference by Semantic Proximity"
        },
        "width": 800,
        "xaxis": {
         "dtick": 1,
         "gridcolor": "rgba(224, 232, 240, 1)",
         "showgrid": true,
         "title": {
          "text": "Rank of Neighbors according to Semantic Proximity"
         }
        },
        "yaxis": {
         "gridcolor": "rgba(224, 232, 240, 1)",
         "showgrid": true,
         "title": {
          "text": "Percentage (Relative to All Choices)"
         }
        }
       }
      }
     },
     "metadata": {},
     "output_type": "display_data"
    }
   ],
   "source": [
    "import plotly.graph_objects as go\n",
    "import numpy as np\n",
    "\n",
    "# Define fixed colors with transparency\n",
    "PRIMARY_BLUE = \"rgba(58, 85, 209, 0.7)\"  # AI paths - Light Blue with opacity\n",
    "SOFT_ORANGE = \"rgba(242, 153, 74, 0.7)\"  # Human paths - Soft Orange with opacity\n",
    "LIGHT_GREEN = \"rgba(111, 207, 151, 0.8)\" # Shortest paths - Light Green with slight opacity\n",
    "\n",
    "# Calculate frequencies\n",
    "ai_scores_freq = np.bincount(ai_scores, minlength=6)  # Include all choices up to 5\n",
    "human_scores_freq = np.bincount(human_scores, minlength=6)\n",
    "optimal_scores_freq = np.bincount(optimal_scores, minlength=6)\n",
    "\n",
    "# Convert to percentages relative to all choices\n",
    "ai_percentages = ai_scores_freq[1:6] / np.sum(ai_scores_freq) * 100\n",
    "human_percentages = human_scores_freq[1:6] / np.sum(human_scores_freq) * 100\n",
    "optimal_percentages = optimal_scores_freq[1:6] / np.sum(optimal_scores_freq) * 100\n",
    "\n",
    "# X-axis labels (first 5 ranks)\n",
    "ranks = list(range(1, 6))\n",
    "\n",
    "# Create a bar chart\n",
    "fig = go.Figure()\n",
    "\n",
    "# AI path distribution\n",
    "fig.add_trace(go.Bar(\n",
    "    x=ranks,\n",
    "    y=ai_percentages,\n",
    "    name='AI path',\n",
    "    marker=dict(color=PRIMARY_BLUE),\n",
    "    text=[f\"{val:.2f}%\" for val in ai_percentages],  # Add percentage labels\n",
    "    textposition='outside',\n",
    "    hovertemplate=\"AI: %{y:.2f}%<extra></extra>\"  # Custom hover template\n",
    "))\n",
    "\n",
    "# Human path distribution\n",
    "fig.add_trace(go.Bar(\n",
    "    x=ranks,\n",
    "    y=human_percentages,\n",
    "    name='Human path',\n",
    "    marker=dict(color=SOFT_ORANGE),\n",
    "    text=[f\"{val:.2f}%\" for val in human_percentages],  # Add percentage labels\n",
    "    textposition='outside',\n",
    "    hovertemplate=\"Human: %{y:.2f}%<extra></extra>\"  # Custom hover template\n",
    "))\n",
    "\n",
    "# Shortest path distribution\n",
    "fig.add_trace(go.Bar(\n",
    "    x=ranks,\n",
    "    y=optimal_percentages,\n",
    "    name='Shortest path',\n",
    "    marker=dict(color=LIGHT_GREEN),\n",
    "    text=[f\"{val:.2f}%\" for val in optimal_percentages],  # Add percentage labels\n",
    "    textposition='outside',\n",
    "    hovertemplate=\"Shortest: %{y:.2f}%<extra></extra>\"  # Custom hover template\n",
    "))\n",
    "\n",
    "# Update layout for aesthetics\n",
    "fig.update_layout(\n",
    "    title=\"Node Selection Preference by Semantic Proximity\",\n",
    "    xaxis_title=\"Rank of Neighbors according to Semantic Proximity\",\n",
    "    yaxis_title=\"Percentage (Relative to All Choices)\",\n",
    "    barmode='group',  # Grouped bar chart\n",
    "    plot_bgcolor=\"rgba(240, 244, 255, 1)\",  # Background\n",
    "    paper_bgcolor=\"rgba(240, 244, 255, 1)\",  # Paper background\n",
    "    font=dict(size=12),\n",
    "    width=800,   # Fixed width\n",
    "    height=500   # Fixed height\n",
    ")\n",
    "\n",
    "# Update grid line styles\n",
    "fig.update_xaxes(showgrid=True, gridcolor=\"rgba(224, 232, 240, 1)\", dtick=1)\n",
    "fig.update_yaxes(showgrid=True, gridcolor=\"rgba(224, 232, 240, 1)\")\n",
    "\n",
    "# Show the interactive plot\n",
    "fig.show()\n",
    "# pio.write_html(fig, \"pages/node_selection_preference_by_semantic_proximity.html\", full_html=True)\n",
    "\n"
   ]
  },
  {
   "cell_type": "code",
   "execution_count": 11,
   "metadata": {},
   "outputs": [
    {
     "data": {
      "application/vnd.plotly.v1+json": {
       "config": {
        "plotlyServerURL": "https://plot.ly"
       },
       "data": [
        {
         "line": {
          "color": "rgba(58, 85, 209, 0.7)",
          "width": 3
         },
         "mode": "lines",
         "name": "AI path",
         "type": "scatter",
         "x": [
          0,
          1,
          2,
          3,
          4,
          5,
          6,
          7,
          8,
          9,
          10,
          11,
          12,
          13,
          14,
          15,
          16,
          17,
          18,
          19,
          20,
          21,
          22,
          23,
          24,
          25,
          26,
          27,
          28,
          29,
          30,
          31,
          32,
          33,
          34,
          35,
          36,
          37,
          38,
          39,
          40,
          41,
          42,
          43,
          44,
          45,
          46,
          47,
          48,
          49
         ],
         "y": [
          0,
          0.4137265711135612,
          0.5022050716648291,
          0.5614663726571113,
          0.606670341786108,
          0.63561190738699,
          0.6700661521499449,
          0.7003858875413451,
          0.7251929437706726,
          0.7480705622932745,
          0.7626791620727673,
          0.7822491730981257,
          0.7932745314222712,
          0.8073318632855567,
          0.8202866593164277,
          0.8329658213891952,
          0.8387541345093715,
          0.8453693495038589,
          0.8497794928335171,
          0.8563947078280044,
          0.8654906284454245,
          0.8721058434399118,
          0.8800992282249173,
          0.8878169790518192,
          0.8947078280044102,
          0.899393605292172,
          0.9027012127894156,
          0.9095920617420066,
          0.9170341786108048,
          0.9247519294377067,
          0.9272326350606395,
          0.9299889746416758,
          0.9338478500551268,
          0.9401874310915105,
          0.9429437706725469,
          0.9492833517089305,
          0.9517640573318633,
          0.9520396912899669,
          0.9539691289966924,
          0.9572767364939361,
          0.9597574421168688,
          0.9600330760749725,
          0.9616868798235942,
          0.9633406835722161,
          0.964167585446527,
          0.9658213891951488,
          0.9683020948180816,
          0.9696802646085998,
          0.9707828004410143,
          0.9718853362734289
         ]
        },
        {
         "line": {
          "color": "rgba(242, 153, 74, 0.7)",
          "width": 3
         },
         "mode": "lines",
         "name": "Human path",
         "type": "scatter",
         "x": [
          0,
          1,
          2,
          3,
          4,
          5,
          6,
          7,
          8,
          9,
          10,
          11,
          12,
          13,
          14,
          15,
          16,
          17,
          18,
          19,
          20,
          21,
          22,
          23,
          24,
          25,
          26,
          27,
          28,
          29,
          30,
          31,
          32,
          33,
          34,
          35,
          36,
          37,
          38,
          39,
          40,
          41,
          42,
          43,
          44,
          45,
          46,
          47,
          48,
          49
         ],
         "y": [
          0,
          0.35142963663999544,
          0.4564226103415641,
          0.5236743238980183,
          0.5710516504631621,
          0.6058103186211248,
          0.6296423757492329,
          0.6549083713327024,
          0.6749261521695489,
          0.6967793742292581,
          0.7174567667555708,
          0.7357825002150907,
          0.7521867561444263,
          0.7674725400785798,
          0.7827870027818407,
          0.7927385356620494,
          0.806533023602627,
          0.818377355243913,
          0.8391121053084402,
          0.8471708394275718,
          0.8526484843270526,
          0.8578393415354613,
          0.8652384639651266,
          0.8751899968453354,
          0.8793484183658837,
          0.88611660787519,
          0.8915082164673492,
          0.8967851099830795,
          0.9027502939573834,
          0.9065932490177522,
          0.9099773437724052,
          0.9130746508359862,
          0.9170036422036766,
          0.9202443431127936,
          0.9233129714072672,
          0.9258080243195962,
          0.9289913676904987,
          0.9322894261378302,
          0.9346124064355158,
          0.9371361381169521,
          0.9393157245691015,
          0.9415813473285727,
          0.9433020734750065,
          0.9445926180848317,
          0.9488370759127018,
          0.9509593048266368,
          0.953597751584502,
          0.9554045140382574,
          0.9565803435716539,
          0.9583010697180877
         ]
        },
        {
         "line": {
          "color": "rgba(111, 207, 151, 0.8)",
          "width": 3
         },
         "mode": "lines",
         "name": "Shortest path",
         "type": "scatter",
         "x": [
          0,
          1,
          2,
          3,
          4,
          5,
          6,
          7,
          8,
          9,
          10,
          11,
          12,
          13,
          14,
          15,
          16,
          17,
          18,
          19,
          20,
          21,
          22,
          23,
          24,
          25,
          26,
          27,
          28,
          29,
          30,
          31,
          32,
          33,
          34,
          35,
          36,
          37,
          38,
          39,
          40,
          41,
          42,
          43,
          44,
          45,
          46,
          47,
          48,
          49
         ],
         "y": [
          0,
          0.4834905660377358,
          0.5188679245283019,
          0.5518867924528302,
          0.5825471698113207,
          0.6155660377358491,
          0.6297169811320755,
          0.6438679245283019,
          0.6650943396226415,
          0.6886792452830188,
          0.7099056603773585,
          0.7240566037735849,
          0.7358490566037735,
          0.7405660377358491,
          0.7617924528301887,
          0.7665094339622641,
          0.785377358490566,
          0.7948113207547169,
          0.8042452830188679,
          0.8089622641509434,
          0.8231132075471698,
          0.8231132075471698,
          0.8301886792452831,
          0.8349056603773585,
          0.8443396226415094,
          0.8561320754716981,
          0.8584905660377359,
          0.8632075471698113,
          0.875,
          0.8773584905660378,
          0.8797169811320755,
          0.8867924528301887,
          0.8938679245283019,
          0.8938679245283019,
          0.9009433962264151,
          0.910377358490566,
          0.9127358490566038,
          0.9127358490566038,
          0.9150943396226415,
          0.9198113207547169,
          0.9198113207547169,
          0.9221698113207547,
          0.9268867924528302,
          0.9292452830188679,
          0.9339622641509434,
          0.9363207547169812,
          0.9386792452830188,
          0.9386792452830188,
          0.9386792452830188,
          0.9410377358490566
         ]
        }
       ],
       "layout": {
        "font": {
         "size": 12
        },
        "height": 600,
        "legend": {
         "bgcolor": "#F0F4FF",
         "bordercolor": "#E0E8F0",
         "borderwidth": 1,
         "x": 0.7,
         "y": 0.1
        },
        "paper_bgcolor": "#F0F4FF",
        "plot_bgcolor": "#F0F4FF",
        "template": {
         "data": {
          "bar": [
           {
            "error_x": {
             "color": "#2a3f5f"
            },
            "error_y": {
             "color": "#2a3f5f"
            },
            "marker": {
             "line": {
              "color": "#E5ECF6",
              "width": 0.5
             },
             "pattern": {
              "fillmode": "overlay",
              "size": 10,
              "solidity": 0.2
             }
            },
            "type": "bar"
           }
          ],
          "barpolar": [
           {
            "marker": {
             "line": {
              "color": "#E5ECF6",
              "width": 0.5
             },
             "pattern": {
              "fillmode": "overlay",
              "size": 10,
              "solidity": 0.2
             }
            },
            "type": "barpolar"
           }
          ],
          "carpet": [
           {
            "aaxis": {
             "endlinecolor": "#2a3f5f",
             "gridcolor": "white",
             "linecolor": "white",
             "minorgridcolor": "white",
             "startlinecolor": "#2a3f5f"
            },
            "baxis": {
             "endlinecolor": "#2a3f5f",
             "gridcolor": "white",
             "linecolor": "white",
             "minorgridcolor": "white",
             "startlinecolor": "#2a3f5f"
            },
            "type": "carpet"
           }
          ],
          "choropleth": [
           {
            "colorbar": {
             "outlinewidth": 0,
             "ticks": ""
            },
            "type": "choropleth"
           }
          ],
          "contour": [
           {
            "colorbar": {
             "outlinewidth": 0,
             "ticks": ""
            },
            "colorscale": [
             [
              0,
              "#0d0887"
             ],
             [
              0.1111111111111111,
              "#46039f"
             ],
             [
              0.2222222222222222,
              "#7201a8"
             ],
             [
              0.3333333333333333,
              "#9c179e"
             ],
             [
              0.4444444444444444,
              "#bd3786"
             ],
             [
              0.5555555555555556,
              "#d8576b"
             ],
             [
              0.6666666666666666,
              "#ed7953"
             ],
             [
              0.7777777777777778,
              "#fb9f3a"
             ],
             [
              0.8888888888888888,
              "#fdca26"
             ],
             [
              1,
              "#f0f921"
             ]
            ],
            "type": "contour"
           }
          ],
          "contourcarpet": [
           {
            "colorbar": {
             "outlinewidth": 0,
             "ticks": ""
            },
            "type": "contourcarpet"
           }
          ],
          "heatmap": [
           {
            "colorbar": {
             "outlinewidth": 0,
             "ticks": ""
            },
            "colorscale": [
             [
              0,
              "#0d0887"
             ],
             [
              0.1111111111111111,
              "#46039f"
             ],
             [
              0.2222222222222222,
              "#7201a8"
             ],
             [
              0.3333333333333333,
              "#9c179e"
             ],
             [
              0.4444444444444444,
              "#bd3786"
             ],
             [
              0.5555555555555556,
              "#d8576b"
             ],
             [
              0.6666666666666666,
              "#ed7953"
             ],
             [
              0.7777777777777778,
              "#fb9f3a"
             ],
             [
              0.8888888888888888,
              "#fdca26"
             ],
             [
              1,
              "#f0f921"
             ]
            ],
            "type": "heatmap"
           }
          ],
          "heatmapgl": [
           {
            "colorbar": {
             "outlinewidth": 0,
             "ticks": ""
            },
            "colorscale": [
             [
              0,
              "#0d0887"
             ],
             [
              0.1111111111111111,
              "#46039f"
             ],
             [
              0.2222222222222222,
              "#7201a8"
             ],
             [
              0.3333333333333333,
              "#9c179e"
             ],
             [
              0.4444444444444444,
              "#bd3786"
             ],
             [
              0.5555555555555556,
              "#d8576b"
             ],
             [
              0.6666666666666666,
              "#ed7953"
             ],
             [
              0.7777777777777778,
              "#fb9f3a"
             ],
             [
              0.8888888888888888,
              "#fdca26"
             ],
             [
              1,
              "#f0f921"
             ]
            ],
            "type": "heatmapgl"
           }
          ],
          "histogram": [
           {
            "marker": {
             "pattern": {
              "fillmode": "overlay",
              "size": 10,
              "solidity": 0.2
             }
            },
            "type": "histogram"
           }
          ],
          "histogram2d": [
           {
            "colorbar": {
             "outlinewidth": 0,
             "ticks": ""
            },
            "colorscale": [
             [
              0,
              "#0d0887"
             ],
             [
              0.1111111111111111,
              "#46039f"
             ],
             [
              0.2222222222222222,
              "#7201a8"
             ],
             [
              0.3333333333333333,
              "#9c179e"
             ],
             [
              0.4444444444444444,
              "#bd3786"
             ],
             [
              0.5555555555555556,
              "#d8576b"
             ],
             [
              0.6666666666666666,
              "#ed7953"
             ],
             [
              0.7777777777777778,
              "#fb9f3a"
             ],
             [
              0.8888888888888888,
              "#fdca26"
             ],
             [
              1,
              "#f0f921"
             ]
            ],
            "type": "histogram2d"
           }
          ],
          "histogram2dcontour": [
           {
            "colorbar": {
             "outlinewidth": 0,
             "ticks": ""
            },
            "colorscale": [
             [
              0,
              "#0d0887"
             ],
             [
              0.1111111111111111,
              "#46039f"
             ],
             [
              0.2222222222222222,
              "#7201a8"
             ],
             [
              0.3333333333333333,
              "#9c179e"
             ],
             [
              0.4444444444444444,
              "#bd3786"
             ],
             [
              0.5555555555555556,
              "#d8576b"
             ],
             [
              0.6666666666666666,
              "#ed7953"
             ],
             [
              0.7777777777777778,
              "#fb9f3a"
             ],
             [
              0.8888888888888888,
              "#fdca26"
             ],
             [
              1,
              "#f0f921"
             ]
            ],
            "type": "histogram2dcontour"
           }
          ],
          "mesh3d": [
           {
            "colorbar": {
             "outlinewidth": 0,
             "ticks": ""
            },
            "type": "mesh3d"
           }
          ],
          "parcoords": [
           {
            "line": {
             "colorbar": {
              "outlinewidth": 0,
              "ticks": ""
             }
            },
            "type": "parcoords"
           }
          ],
          "pie": [
           {
            "automargin": true,
            "type": "pie"
           }
          ],
          "scatter": [
           {
            "fillpattern": {
             "fillmode": "overlay",
             "size": 10,
             "solidity": 0.2
            },
            "type": "scatter"
           }
          ],
          "scatter3d": [
           {
            "line": {
             "colorbar": {
              "outlinewidth": 0,
              "ticks": ""
             }
            },
            "marker": {
             "colorbar": {
              "outlinewidth": 0,
              "ticks": ""
             }
            },
            "type": "scatter3d"
           }
          ],
          "scattercarpet": [
           {
            "marker": {
             "colorbar": {
              "outlinewidth": 0,
              "ticks": ""
             }
            },
            "type": "scattercarpet"
           }
          ],
          "scattergeo": [
           {
            "marker": {
             "colorbar": {
              "outlinewidth": 0,
              "ticks": ""
             }
            },
            "type": "scattergeo"
           }
          ],
          "scattergl": [
           {
            "marker": {
             "colorbar": {
              "outlinewidth": 0,
              "ticks": ""
             }
            },
            "type": "scattergl"
           }
          ],
          "scattermapbox": [
           {
            "marker": {
             "colorbar": {
              "outlinewidth": 0,
              "ticks": ""
             }
            },
            "type": "scattermapbox"
           }
          ],
          "scatterpolar": [
           {
            "marker": {
             "colorbar": {
              "outlinewidth": 0,
              "ticks": ""
             }
            },
            "type": "scatterpolar"
           }
          ],
          "scatterpolargl": [
           {
            "marker": {
             "colorbar": {
              "outlinewidth": 0,
              "ticks": ""
             }
            },
            "type": "scatterpolargl"
           }
          ],
          "scatterternary": [
           {
            "marker": {
             "colorbar": {
              "outlinewidth": 0,
              "ticks": ""
             }
            },
            "type": "scatterternary"
           }
          ],
          "surface": [
           {
            "colorbar": {
             "outlinewidth": 0,
             "ticks": ""
            },
            "colorscale": [
             [
              0,
              "#0d0887"
             ],
             [
              0.1111111111111111,
              "#46039f"
             ],
             [
              0.2222222222222222,
              "#7201a8"
             ],
             [
              0.3333333333333333,
              "#9c179e"
             ],
             [
              0.4444444444444444,
              "#bd3786"
             ],
             [
              0.5555555555555556,
              "#d8576b"
             ],
             [
              0.6666666666666666,
              "#ed7953"
             ],
             [
              0.7777777777777778,
              "#fb9f3a"
             ],
             [
              0.8888888888888888,
              "#fdca26"
             ],
             [
              1,
              "#f0f921"
             ]
            ],
            "type": "surface"
           }
          ],
          "table": [
           {
            "cells": {
             "fill": {
              "color": "#EBF0F8"
             },
             "line": {
              "color": "white"
             }
            },
            "header": {
             "fill": {
              "color": "#C8D4E3"
             },
             "line": {
              "color": "white"
             }
            },
            "type": "table"
           }
          ]
         },
         "layout": {
          "annotationdefaults": {
           "arrowcolor": "#2a3f5f",
           "arrowhead": 0,
           "arrowwidth": 1
          },
          "autotypenumbers": "strict",
          "coloraxis": {
           "colorbar": {
            "outlinewidth": 0,
            "ticks": ""
           }
          },
          "colorscale": {
           "diverging": [
            [
             0,
             "#8e0152"
            ],
            [
             0.1,
             "#c51b7d"
            ],
            [
             0.2,
             "#de77ae"
            ],
            [
             0.3,
             "#f1b6da"
            ],
            [
             0.4,
             "#fde0ef"
            ],
            [
             0.5,
             "#f7f7f7"
            ],
            [
             0.6,
             "#e6f5d0"
            ],
            [
             0.7,
             "#b8e186"
            ],
            [
             0.8,
             "#7fbc41"
            ],
            [
             0.9,
             "#4d9221"
            ],
            [
             1,
             "#276419"
            ]
           ],
           "sequential": [
            [
             0,
             "#0d0887"
            ],
            [
             0.1111111111111111,
             "#46039f"
            ],
            [
             0.2222222222222222,
             "#7201a8"
            ],
            [
             0.3333333333333333,
             "#9c179e"
            ],
            [
             0.4444444444444444,
             "#bd3786"
            ],
            [
             0.5555555555555556,
             "#d8576b"
            ],
            [
             0.6666666666666666,
             "#ed7953"
            ],
            [
             0.7777777777777778,
             "#fb9f3a"
            ],
            [
             0.8888888888888888,
             "#fdca26"
            ],
            [
             1,
             "#f0f921"
            ]
           ],
           "sequentialminus": [
            [
             0,
             "#0d0887"
            ],
            [
             0.1111111111111111,
             "#46039f"
            ],
            [
             0.2222222222222222,
             "#7201a8"
            ],
            [
             0.3333333333333333,
             "#9c179e"
            ],
            [
             0.4444444444444444,
             "#bd3786"
            ],
            [
             0.5555555555555556,
             "#d8576b"
            ],
            [
             0.6666666666666666,
             "#ed7953"
            ],
            [
             0.7777777777777778,
             "#fb9f3a"
            ],
            [
             0.8888888888888888,
             "#fdca26"
            ],
            [
             1,
             "#f0f921"
            ]
           ]
          },
          "colorway": [
           "#636efa",
           "#EF553B",
           "#00cc96",
           "#ab63fa",
           "#FFA15A",
           "#19d3f3",
           "#FF6692",
           "#B6E880",
           "#FF97FF",
           "#FECB52"
          ],
          "font": {
           "color": "#2a3f5f"
          },
          "geo": {
           "bgcolor": "white",
           "lakecolor": "white",
           "landcolor": "#E5ECF6",
           "showlakes": true,
           "showland": true,
           "subunitcolor": "white"
          },
          "hoverlabel": {
           "align": "left"
          },
          "hovermode": "closest",
          "mapbox": {
           "style": "light"
          },
          "paper_bgcolor": "white",
          "plot_bgcolor": "#E5ECF6",
          "polar": {
           "angularaxis": {
            "gridcolor": "white",
            "linecolor": "white",
            "ticks": ""
           },
           "bgcolor": "#E5ECF6",
           "radialaxis": {
            "gridcolor": "white",
            "linecolor": "white",
            "ticks": ""
           }
          },
          "scene": {
           "xaxis": {
            "backgroundcolor": "#E5ECF6",
            "gridcolor": "white",
            "gridwidth": 2,
            "linecolor": "white",
            "showbackground": true,
            "ticks": "",
            "zerolinecolor": "white"
           },
           "yaxis": {
            "backgroundcolor": "#E5ECF6",
            "gridcolor": "white",
            "gridwidth": 2,
            "linecolor": "white",
            "showbackground": true,
            "ticks": "",
            "zerolinecolor": "white"
           },
           "zaxis": {
            "backgroundcolor": "#E5ECF6",
            "gridcolor": "white",
            "gridwidth": 2,
            "linecolor": "white",
            "showbackground": true,
            "ticks": "",
            "zerolinecolor": "white"
           }
          },
          "shapedefaults": {
           "line": {
            "color": "#2a3f5f"
           }
          },
          "ternary": {
           "aaxis": {
            "gridcolor": "white",
            "linecolor": "white",
            "ticks": ""
           },
           "baxis": {
            "gridcolor": "white",
            "linecolor": "white",
            "ticks": ""
           },
           "bgcolor": "#E5ECF6",
           "caxis": {
            "gridcolor": "white",
            "linecolor": "white",
            "ticks": ""
           }
          },
          "title": {
           "x": 0.05
          },
          "xaxis": {
           "automargin": true,
           "gridcolor": "white",
           "linecolor": "white",
           "ticks": "",
           "title": {
            "standoff": 15
           },
           "zerolinecolor": "white",
           "zerolinewidth": 2
          },
          "yaxis": {
           "automargin": true,
           "gridcolor": "white",
           "linecolor": "white",
           "ticks": "",
           "title": {
            "standoff": 15
           },
           "zerolinecolor": "white",
           "zerolinewidth": 2
          }
         }
        },
        "title": {
         "text": "Accumulated Distribution of Rank of Neighbors"
        },
        "width": 900,
        "xaxis": {
         "dtick": 5,
         "gridcolor": "#E0E8F0",
         "showgrid": true,
         "title": {
          "text": "Rank of Neighbors"
         }
        },
        "yaxis": {
         "gridcolor": "#E0E8F0",
         "showgrid": true,
         "title": {
          "text": "Accumulated Frequency"
         }
        }
       }
      }
     },
     "metadata": {},
     "output_type": "display_data"
    }
   ],
   "source": [
    "import plotly.graph_objects as go\n",
    "import numpy as np\n",
    "\n",
    "# Define fixed colors with transparency\n",
    "PRIMARY_BLUE = \"rgba(58, 85, 209, 0.7)\"  # AI paths - Light Blue with opacity\n",
    "SOFT_ORANGE = \"rgba(242, 153, 74, 0.7)\"  # Human paths - Soft Orange with opacity\n",
    "LIGHT_GREEN = \"rgba(111, 207, 151, 0.8)\" # Shortest paths - Light Green with slight opacity\n",
    "BACKGROUND = \"#F0F4FF\"                   # Plot background\n",
    "LIGHT_GRAY = \"#E0E8F0\"                   # Grid lines\n",
    "\n",
    "# Sort the scores\n",
    "ai_scores = np.sort(np.array(ai_scores, dtype=int))                 # Convert to integer\n",
    "human_scores = np.sort(np.array(human_scores, dtype=int))           # Convert to integer\n",
    "optimal_scores_sorted = np.sort(np.array(optimal_scores, dtype=int)) # Convert to integer\n",
    "\n",
    "# Calculate the frequency\n",
    "ai_scores_freq = np.bincount(ai_scores)\n",
    "human_scores_freq = np.bincount(human_scores)\n",
    "optimal_scores_freq = np.bincount(optimal_scores_sorted)\n",
    "\n",
    "# Calculate the accumulated frequency\n",
    "ai_scores_accumulated = np.cumsum(ai_scores_freq) / len(ai_scores)\n",
    "human_scores_accumulated = np.cumsum(human_scores_freq) / len(human_scores)\n",
    "optimal_scores_accumulated = np.cumsum(optimal_scores_freq) / len(optimal_scores_sorted)\n",
    "\n",
    "# Plot the accumulated distribution (only first 50 ranks)\n",
    "fig = go.Figure()\n",
    "\n",
    "# AI path\n",
    "fig.add_trace(go.Scatter(\n",
    "    x=list(range(50)),\n",
    "    y=ai_scores_accumulated[:50],\n",
    "    mode='lines',\n",
    "    name='AI path',\n",
    "    line=dict(color=PRIMARY_BLUE, width=3)\n",
    "))\n",
    "\n",
    "# Human path\n",
    "fig.add_trace(go.Scatter(\n",
    "    x=list(range(50)),\n",
    "    y=human_scores_accumulated[:50],\n",
    "    mode='lines',\n",
    "    name='Human path',\n",
    "    line=dict(color=SOFT_ORANGE, width=3)\n",
    "))\n",
    "\n",
    "# Shortest path\n",
    "fig.add_trace(go.Scatter(\n",
    "    x=list(range(50)),\n",
    "    y=optimal_scores_accumulated[:50],\n",
    "    mode='lines',\n",
    "    name='Shortest path',\n",
    "    line=dict(color=LIGHT_GREEN, width=3)\n",
    "))\n",
    "\n",
    "# Update layout for aesthetics\n",
    "fig.update_layout(\n",
    "    title=\"Accumulated Distribution of Rank of Neighbors\",\n",
    "    xaxis_title=\"Rank of Neighbors\",\n",
    "    yaxis_title=\"Accumulated Frequency\",\n",
    "    plot_bgcolor=BACKGROUND,\n",
    "    paper_bgcolor=BACKGROUND,\n",
    "    legend=dict(\n",
    "        x=0.7, y=0.1,\n",
    "        bgcolor=BACKGROUND,\n",
    "        bordercolor=LIGHT_GRAY,\n",
    "        borderwidth=1\n",
    "    ),\n",
    "    font=dict(size=12),\n",
    "    width=900,   # Fixed width\n",
    "    height=600   # Fixed height\n",
    ")\n",
    "\n",
    "# Update grid line styles\n",
    "fig.update_xaxes(showgrid=True, gridcolor=LIGHT_GRAY, dtick=5)\n",
    "fig.update_yaxes(showgrid=True, gridcolor=LIGHT_GRAY)\n",
    "\n",
    "# Show the interactive plot\n",
    "fig.show()\n"
   ]
  },
  {
   "cell_type": "code",
   "execution_count": 12,
   "metadata": {},
   "outputs": [],
   "source": [
    "# Calculate the rank of degrees condition on low similarity with destination\n",
    "ai_degree_scores = {}\n",
    "human_degree_scores = {}\n",
    "optimal_degree_scores = {}\n",
    "\n",
    "for pair in ori_dest:\n",
    "    start_article, target_article = pair\n",
    "    ai_path = AI_paths[pair]\n",
    "    human_path = human_paths[pair]\n",
    "    ai_degree_scores[pair] = [calculate_degree_condition_on_low_similarity_with_dest(path, G, sentence_embeddings, 0.30) for path in ai_path]\n",
    "    human_degree_scores[pair] = [calculate_degree_condition_on_low_similarity_with_dest(path, G, sentence_embeddings, 0.30) for path in human_path]\n",
    "    optimal_degree_scores[pair] = [calculate_degree_condition_on_low_similarity_with_dest(path, G, sentence_embeddings, 0.30) for path in shortest_paths[pair]]\n",
    "\n",
    "ai_scores = [score for pair in ori_dest for score in ai_degree_scores[pair]]\n",
    "human_scores = [score for pair in ori_dest for score in human_degree_scores[pair]]\n",
    "optimal_scores = [score for pair in ori_dest for score in optimal_degree_scores[pair]]\n",
    "ai_scores = np.array([score for sublist in ai_scores for score in sublist])\n",
    "human_scores = np.array([score for sublist in human_scores for score in sublist])\n",
    "optimal_scores = np.array([score for sublist in optimal_scores for score in sublist])\n"
   ]
  },
  {
   "cell_type": "code",
   "execution_count": 14,
   "metadata": {},
   "outputs": [
    {
     "data": {
      "image/png": "[encoded data removed]",
      "text/plain": [
       "<Figure size 640x480 with 1 Axes>"
      ]
     },
     "metadata": {},
     "output_type": "display_data"
    }
   ],
   "source": [
    "\n",
    "# Set the style and color palette\n",
    "sns.set(style=\"whitegrid\")\n",
    "palette = sns.color_palette(\"husl\", 3)\n",
    "\n",
    "plt.hist(ai_scores, bins=range(0, 20, 2), alpha=0.5, label='AI path', color=palette[0], density=True)\n",
    "plt.hist(human_scores, bins=range(0, 20, 2), alpha=0.5, label='Human path', color=palette[1], density=True)\n",
    "plt.hist(optimal_scores, bins=range(0, 20, 2), alpha=0.5, label='Shortest path', color=palette[2], density=True)\n",
    "plt.xlabel(\"Rank of neighbors' degrees condition on low similarity with destination\")\n",
    "plt.ylabel(\"Density\")\n",
    "plt.legend()\n",
    "plt.show()"
   ]
  },
  {
   "cell_type": "code",
   "execution_count": 15,
   "metadata": {},
   "outputs": [
    {
     "name": "stdout",
     "output_type": "stream",
     "text": [
      "[  4   4   4  11  11  11   2   2   2   3   3   3   3  13  13  13  13  13\n",
      "   1   1   1   1  21  21  21   4   4  22   4  31   4  31   4  31   4  31\n",
      "   4  31   5   5   5   5   5   3   3   1   7   6   6   6   6   6  12   3\n",
      "  10   3  10   3  10   3  10   3  10  29  53  36  31  22  20  14  29  68\n",
      "  18  12   4  15  22   9  39  52  14  29  53  14  28  56   5  13  52  14\n",
      "  29  53  14  13  16  52   9  15  67  31  22  27  61   4   9   4  13  31\n",
      "  31   8   3   3  44  80  38  67  66  38  80  38  67  66  57   5   5   5\n",
      "   5   5  50  50  50  50  50 210 148 101 198  39  27   8   9  32   3  25\n",
      "   3  25   7   3   3   3  13  28  13  14  13   1  13  74   1  13  74   6\n",
      "  74   1  13  74   1  13  43  11  11  11  11  11   3  17   3  17  76  52\n",
      "  74  18  18  18  18  18  34  34  34  30  34   5   1   2   3   1  10   3\n",
      "   1   2   3  13   2   5   1   2   4 118 118 118 118 118   2   2   2  10\n",
      "  10   2   5  15  61  14  14  10  10   4   7   6  15  10  10   2   4   4\n",
      "  10  18   3   5   2   5  13  17  18 142 120  77  10  10   2   5  15  14\n",
      "   2   7   4  10  10   2   4   4  10   4  10  15   7  20  20  20  20  24\n",
      "  25  17  15   3  13  42  35   3   1   4  47  18  39  67  34  18  39  67\n",
      "  34   3  19  45  42  35  18  39  67  34  10  10  10  10  10   2   2   2\n",
      "   2  10  10   8  10  10   3   1  10   5   8   5   8   5   8   5   8   5\n",
      "   7  14   1  17  14  14  14   1   1   1   1   9]\n"
     ]
    },
    {
     "data": {
      "image/png": "[encoded data removed]",
      "text/plain": [
       "<Figure size 640x480 with 1 Axes>"
      ]
     },
     "metadata": {},
     "output_type": "display_data"
    }
   ],
   "source": [
    "print(ai_scores)\n",
    "# plot the accumulated distribution of the rank of neighbors for AI paths and human paths simply in a line graph\n",
    "ai_scores = np.sort(ai_scores)\n",
    "human_scores = np.sort(human_scores)\n",
    "optimal_scores_sorted = np.sort(optimal_scores)\n",
    "\n",
    "# calculate the frequency\n",
    "ai_scores_freq = np.bincount(ai_scores)\n",
    "human_scores_freq = np.bincount(human_scores)\n",
    "optimal_scores_freq = np.bincount(optimal_scores_sorted)\n",
    "\n",
    "# calculate the accumulated frequency\n",
    "ai_scores_accumulated = np.cumsum(ai_scores_freq)/len(ai_scores)\n",
    "human_scores_accumulated = np.cumsum(human_scores_freq)/len(human_scores)\n",
    "optimal_scores_accumulated = np.cumsum(optimal_scores_freq)/len(optimal_scores_sorted)\n",
    "\n",
    "# plot the accumulated distribution of the rank of neighbors for AI paths and human paths, only show the first 50 ranks\n",
    "plt.plot(ai_scores_accumulated[:50], label='AI path', color=palette[0])\n",
    "plt.plot(human_scores_accumulated[:50], label='Human path', color=palette[1])\n",
    "plt.plot(optimal_scores_accumulated[:50], label='Shortest path', color=palette[2])\n",
    "plt.xlabel(\"Rank of neighbors' degrees condition on low similarity with destination\")\n",
    "plt.ylabel(\"Accumulated frequency\")\n",
    "plt.legend()\n",
    "plt.show()"
   ]
  },
  {
   "cell_type": "code",
   "execution_count": 16,
   "metadata": {},
   "outputs": [
    {
     "data": {
      "application/vnd.plotly.v1+json": {
       "config": {
        "plotlyServerURL": "https://plot.ly"
       },
       "data": [
        {
         "line": {
          "color": "rgba(58, 85, 209, 0.7)",
          "width": 3
         },
         "mode": "lines",
         "name": "AI path",
         "type": "scatter",
         "x": [
          0,
          1,
          2,
          3,
          4,
          5,
          6,
          7,
          8,
          9,
          10,
          11,
          12,
          13,
          14,
          15,
          16,
          17,
          18,
          19,
          20,
          21,
          22,
          23,
          24,
          25,
          26,
          27,
          28,
          29,
          30,
          31,
          32,
          33,
          34,
          35,
          36,
          37,
          38,
          39,
          40,
          41,
          42,
          43,
          44,
          45,
          46,
          47,
          48,
          49
         ],
         "y": [
          0,
          0.05952380952380952,
          0.11904761904761904,
          0.20238095238095238,
          0.26785714285714285,
          0.3333333333333333,
          0.3541666666666667,
          0.37202380952380953,
          0.39285714285714285,
          0.40773809523809523,
          0.49404761904761907,
          0.5178571428571429,
          0.5238095238095238,
          0.5773809523809523,
          0.6160714285714286,
          0.6369047619047619,
          0.6398809523809523,
          0.6547619047619048,
          0.6875,
          0.6904761904761905,
          0.7053571428571429,
          0.7142857142857143,
          0.7261904761904762,
          0.7261904761904762,
          0.7291666666666666,
          0.7380952380952381,
          0.7380952380952381,
          0.7440476190476191,
          0.75,
          0.7619047619047619,
          0.7648809523809523,
          0.7916666666666666,
          0.7946428571428571,
          0.7946428571428571,
          0.8154761904761905,
          0.8214285714285714,
          0.8244047619047619,
          0.8244047619047619,
          0.8333333333333334,
          0.8482142857142857,
          0.8482142857142857,
          0.8482142857142857,
          0.8541666666666666,
          0.8571428571428571,
          0.8601190476190477,
          0.8630952380952381,
          0.8630952380952381,
          0.8660714285714286,
          0.8660714285714286,
          0.8660714285714286
         ]
        },
        {
         "line": {
          "color": "rgba(242, 153, 74, 0.7)",
          "width": 3
         },
         "mode": "lines",
         "name": "Human path",
         "type": "scatter",
         "x": [
          0,
          1,
          2,
          3,
          4,
          5,
          6,
          7,
          8,
          9,
          10,
          11,
          12,
          13,
          14,
          15,
          16,
          17,
          18,
          19,
          20,
          21,
          22,
          23,
          24,
          25,
          26,
          27,
          28,
          29,
          30,
          31,
          32,
          33,
          34,
          35,
          36,
          37,
          38,
          39,
          40,
          41,
          42,
          43,
          44,
          45,
          46,
          47,
          48,
          49
         ],
         "y": [
          0,
          0.053164556962025315,
          0.10253164556962026,
          0.12974683544303797,
          0.18544303797468353,
          0.30443037974683546,
          0.370253164556962,
          0.3943037974683544,
          0.4379746835443038,
          0.47341772151898737,
          0.4854430379746835,
          0.5322784810126582,
          0.5664556962025317,
          0.5854430379746836,
          0.7025316455696202,
          0.7493670886075949,
          0.7841772151898734,
          0.8449367088607594,
          0.8575949367088608,
          0.8613924050632912,
          0.8670886075949367,
          0.8708860759493671,
          0.8734177215189873,
          0.8816455696202532,
          0.8841772151898735,
          0.8892405063291139,
          0.8936708860759494,
          0.8949367088607595,
          0.8987341772151899,
          0.9037974683544304,
          0.9056962025316456,
          0.9183544303797468,
          0.9208860759493671,
          0.9221518987341772,
          0.930379746835443,
          0.9316455696202531,
          0.9316455696202531,
          0.9335443037974683,
          0.9379746835443038,
          0.9405063291139241,
          0.9417721518987342,
          0.9424050632911393,
          0.9443037974683545,
          0.9455696202531646,
          0.9455696202531646,
          0.9481012658227848,
          0.950632911392405,
          0.950632911392405,
          0.9512658227848101,
          0.9531645569620253
         ]
        },
        {
         "line": {
          "color": "rgba(111, 207, 151, 0.8)",
          "width": 3
         },
         "mode": "lines",
         "name": "Shortest path",
         "type": "scatter",
         "x": [
          0,
          1,
          2,
          3,
          4,
          5,
          6,
          7,
          8,
          9,
          10,
          11,
          12,
          13,
          14,
          15,
          16,
          17,
          18,
          19,
          20,
          21,
          22,
          23,
          24,
          25,
          26,
          27,
          28,
          29,
          30,
          31,
          32,
          33,
          34,
          35,
          36,
          37,
          38,
          39,
          40,
          41,
          42,
          43,
          44,
          45,
          46,
          47,
          48,
          49
         ],
         "y": [
          0,
          0.06666666666666667,
          0.17777777777777778,
          0.2,
          0.2222222222222222,
          0.35555555555555557,
          0.5111111111111111,
          0.5333333333333333,
          0.5555555555555556,
          0.5777777777777777,
          0.6666666666666666,
          0.6888888888888889,
          0.7333333333333333,
          0.7555555555555555,
          0.8222222222222222,
          0.8222222222222222,
          0.8222222222222222,
          0.8222222222222222,
          0.8222222222222222,
          0.8444444444444444,
          0.8444444444444444,
          0.8444444444444444,
          0.8444444444444444,
          0.8666666666666667,
          0.8666666666666667,
          0.8666666666666667,
          0.8666666666666667,
          0.8666666666666667,
          0.8666666666666667,
          0.8666666666666667,
          0.8666666666666667,
          0.8888888888888888,
          0.8888888888888888,
          0.8888888888888888,
          0.8888888888888888,
          0.8888888888888888,
          0.8888888888888888,
          0.9111111111111111,
          0.9111111111111111,
          0.9333333333333333,
          0.9333333333333333,
          0.9333333333333333,
          0.9333333333333333,
          0.9333333333333333,
          0.9333333333333333,
          0.9555555555555556,
          0.9555555555555556,
          0.9555555555555556,
          0.9555555555555556,
          0.9555555555555556
         ]
        }
       ],
       "layout": {
        "font": {
         "size": 12
        },
        "height": 600,
        "paper_bgcolor": "rgba(240, 244, 255, 1)",
        "plot_bgcolor": "rgba(240, 244, 255, 1)",
        "template": {
         "data": {
          "bar": [
           {
            "error_x": {
             "color": "#2a3f5f"
            },
            "error_y": {
             "color": "#2a3f5f"
            },
            "marker": {
             "line": {
              "color": "#E5ECF6",
              "width": 0.5
             },
             "pattern": {
              "fillmode": "overlay",
              "size": 10,
              "solidity": 0.2
             }
            },
            "type": "bar"
           }
          ],
          "barpolar": [
           {
            "marker": {
             "line": {
              "color": "#E5ECF6",
              "width": 0.5
             },
             "pattern": {
              "fillmode": "overlay",
              "size": 10,
              "solidity": 0.2
             }
            },
            "type": "barpolar"
           }
          ],
          "carpet": [
           {
            "aaxis": {
             "endlinecolor": "#2a3f5f",
             "gridcolor": "white",
             "linecolor": "white",
             "minorgridcolor": "white",
             "startlinecolor": "#2a3f5f"
            },
            "baxis": {
             "endlinecolor": "#2a3f5f",
             "gridcolor": "white",
             "linecolor": "white",
             "minorgridcolor": "white",
             "startlinecolor": "#2a3f5f"
            },
            "type": "carpet"
           }
          ],
          "choropleth": [
           {
            "colorbar": {
             "outlinewidth": 0,
             "ticks": ""
            },
            "type": "choropleth"
           }
          ],
          "contour": [
           {
            "colorbar": {
             "outlinewidth": 0,
             "ticks": ""
            },
            "colorscale": [
             [
              0,
              "#0d0887"
             ],
             [
              0.1111111111111111,
              "#46039f"
             ],
             [
              0.2222222222222222,
              "#7201a8"
             ],
             [
              0.3333333333333333,
              "#9c179e"
             ],
             [
              0.4444444444444444,
              "#bd3786"
             ],
             [
              0.5555555555555556,
              "#d8576b"
             ],
             [
              0.6666666666666666,
              "#ed7953"
             ],
             [
              0.7777777777777778,
              "#fb9f3a"
             ],
             [
              0.8888888888888888,
              "#fdca26"
             ],
             [
              1,
              "#f0f921"
             ]
            ],
            "type": "contour"
           }
          ],
          "contourcarpet": [
           {
            "colorbar": {
             "outlinewidth": 0,
             "ticks": ""
            },
            "type": "contourcarpet"
           }
          ],
          "heatmap": [
           {
            "colorbar": {
             "outlinewidth": 0,
             "ticks": ""
            },
            "colorscale": [
             [
              0,
              "#0d0887"
             ],
             [
              0.1111111111111111,
              "#46039f"
             ],
             [
              0.2222222222222222,
              "#7201a8"
             ],
             [
              0.3333333333333333,
              "#9c179e"
             ],
             [
              0.4444444444444444,
              "#bd3786"
             ],
             [
              0.5555555555555556,
              "#d8576b"
             ],
             [
              0.6666666666666666,
              "#ed7953"
             ],
             [
              0.7777777777777778,
              "#fb9f3a"
             ],
             [
              0.8888888888888888,
              "#fdca26"
             ],
             [
              1,
              "#f0f921"
             ]
            ],
            "type": "heatmap"
           }
          ],
          "heatmapgl": [
           {
            "colorbar": {
             "outlinewidth": 0,
             "ticks": ""
            },
            "colorscale": [
             [
              0,
              "#0d0887"
             ],
             [
              0.1111111111111111,
              "#46039f"
             ],
             [
              0.2222222222222222,
              "#7201a8"
             ],
             [
              0.3333333333333333,
              "#9c179e"
             ],
             [
              0.4444444444444444,
              "#bd3786"
             ],
             [
              0.5555555555555556,
              "#d8576b"
             ],
             [
              0.6666666666666666,
              "#ed7953"
             ],
             [
              0.7777777777777778,
              "#fb9f3a"
             ],
             [
              0.8888888888888888,
              "#fdca26"
             ],
             [
              1,
              "#f0f921"
             ]
            ],
            "type": "heatmapgl"
           }
          ],
          "histogram": [
           {
            "marker": {
             "pattern": {
              "fillmode": "overlay",
              "size": 10,
              "solidity": 0.2
             }
            },
            "type": "histogram"
           }
          ],
          "histogram2d": [
           {
            "colorbar": {
             "outlinewidth": 0,
             "ticks": ""
            },
            "colorscale": [
             [
              0,
              "#0d0887"
             ],
             [
              0.1111111111111111,
              "#46039f"
             ],
             [
              0.2222222222222222,
              "#7201a8"
             ],
             [
              0.3333333333333333,
              "#9c179e"
             ],
             [
              0.4444444444444444,
              "#bd3786"
             ],
             [
              0.5555555555555556,
              "#d8576b"
             ],
             [
              0.6666666666666666,
              "#ed7953"
             ],
             [
              0.7777777777777778,
              "#fb9f3a"
             ],
             [
              0.8888888888888888,
              "#fdca26"
             ],
             [
              1,
              "#f0f921"
             ]
            ],
            "type": "histogram2d"
           }
          ],
          "histogram2dcontour": [
           {
            "colorbar": {
             "outlinewidth": 0,
             "ticks": ""
            },
            "colorscale": [
             [
              0,
              "#0d0887"
             ],
             [
              0.1111111111111111,
              "#46039f"
             ],
             [
              0.2222222222222222,
              "#7201a8"
             ],
             [
              0.3333333333333333,
              "#9c179e"
             ],
             [
              0.4444444444444444,
              "#bd3786"
             ],
             [
              0.5555555555555556,
              "#d8576b"
             ],
             [
              0.6666666666666666,
              "#ed7953"
             ],
             [
              0.7777777777777778,
              "#fb9f3a"
             ],
             [
              0.8888888888888888,
              "#fdca26"
             ],
             [
              1,
              "#f0f921"
             ]
            ],
            "type": "histogram2dcontour"
           }
          ],
          "mesh3d": [
           {
            "colorbar": {
             "outlinewidth": 0,
             "ticks": ""
            },
            "type": "mesh3d"
           }
          ],
          "parcoords": [
           {
            "line": {
             "colorbar": {
              "outlinewidth": 0,
              "ticks": ""
             }
            },
            "type": "parcoords"
           }
          ],
          "pie": [
           {
            "automargin": true,
            "type": "pie"
           }
          ],
          "scatter": [
           {
            "fillpattern": {
             "fillmode": "overlay",
             "size": 10,
             "solidity": 0.2
            },
            "type": "scatter"
           }
          ],
          "scatter3d": [
           {
            "line": {
             "colorbar": {
              "outlinewidth": 0,
              "ticks": ""
             }
            },
            "marker": {
             "colorbar": {
              "outlinewidth": 0,
              "ticks": ""
             }
            },
            "type": "scatter3d"
           }
          ],
          "scattercarpet": [
           {
            "marker": {
             "colorbar": {
              "outlinewidth": 0,
              "ticks": ""
             }
            },
            "type": "scattercarpet"
           }
          ],
          "scattergeo": [
           {
            "marker": {
             "colorbar": {
              "outlinewidth": 0,
              "ticks": ""
             }
            },
            "type": "scattergeo"
           }
          ],
          "scattergl": [
           {
            "marker": {
             "colorbar": {
              "outlinewidth": 0,
              "ticks": ""
             }
            },
            "type": "scattergl"
           }
          ],
          "scattermapbox": [
           {
            "marker": {
             "colorbar": {
              "outlinewidth": 0,
              "ticks": ""
             }
            },
            "type": "scattermapbox"
           }
          ],
          "scatterpolar": [
           {
            "marker": {
             "colorbar": {
              "outlinewidth": 0,
              "ticks": ""
             }
            },
            "type": "scatterpolar"
           }
          ],
          "scatterpolargl": [
           {
            "marker": {
             "colorbar": {
              "outlinewidth": 0,
              "ticks": ""
             }
            },
            "type": "scatterpolargl"
           }
          ],
          "scatterternary": [
           {
            "marker": {
             "colorbar": {
              "outlinewidth": 0,
              "ticks": ""
             }
            },
            "type": "scatterternary"
           }
          ],
          "surface": [
           {
            "colorbar": {
             "outlinewidth": 0,
             "ticks": ""
            },
            "colorscale": [
             [
              0,
              "#0d0887"
             ],
             [
              0.1111111111111111,
              "#46039f"
             ],
             [
              0.2222222222222222,
              "#7201a8"
             ],
             [
              0.3333333333333333,
              "#9c179e"
             ],
             [
              0.4444444444444444,
              "#bd3786"
             ],
             [
              0.5555555555555556,
              "#d8576b"
             ],
             [
              0.6666666666666666,
              "#ed7953"
             ],
             [
              0.7777777777777778,
              "#fb9f3a"
             ],
             [
              0.8888888888888888,
              "#fdca26"
             ],
             [
              1,
              "#f0f921"
             ]
            ],
            "type": "surface"
           }
          ],
          "table": [
           {
            "cells": {
             "fill": {
              "color": "#EBF0F8"
             },
             "line": {
              "color": "white"
             }
            },
            "header": {
             "fill": {
              "color": "#C8D4E3"
             },
             "line": {
              "color": "white"
             }
            },
            "type": "table"
           }
          ]
         },
         "layout": {
          "annotationdefaults": {
           "arrowcolor": "#2a3f5f",
           "arrowhead": 0,
           "arrowwidth": 1
          },
          "autotypenumbers": "strict",
          "coloraxis": {
           "colorbar": {
            "outlinewidth": 0,
            "ticks": ""
           }
          },
          "colorscale": {
           "diverging": [
            [
             0,
             "#8e0152"
            ],
            [
             0.1,
             "#c51b7d"
            ],
            [
             0.2,
             "#de77ae"
            ],
            [
             0.3,
             "#f1b6da"
            ],
            [
             0.4,
             "#fde0ef"
            ],
            [
             0.5,
             "#f7f7f7"
            ],
            [
             0.6,
             "#e6f5d0"
            ],
            [
             0.7,
             "#b8e186"
            ],
            [
             0.8,
             "#7fbc41"
            ],
            [
             0.9,
             "#4d9221"
            ],
            [
             1,
             "#276419"
            ]
           ],
           "sequential": [
            [
             0,
             "#0d0887"
            ],
            [
             0.1111111111111111,
             "#46039f"
            ],
            [
             0.2222222222222222,
             "#7201a8"
            ],
            [
             0.3333333333333333,
             "#9c179e"
            ],
            [
             0.4444444444444444,
             "#bd3786"
            ],
            [
             0.5555555555555556,
             "#d8576b"
            ],
            [
             0.6666666666666666,
             "#ed7953"
            ],
            [
             0.7777777777777778,
             "#fb9f3a"
            ],
            [
             0.8888888888888888,
             "#fdca26"
            ],
            [
             1,
             "#f0f921"
            ]
           ],
           "sequentialminus": [
            [
             0,
             "#0d0887"
            ],
            [
             0.1111111111111111,
             "#46039f"
            ],
            [
             0.2222222222222222,
             "#7201a8"
            ],
            [
             0.3333333333333333,
             "#9c179e"
            ],
            [
             0.4444444444444444,
             "#bd3786"
            ],
            [
             0.5555555555555556,
             "#d8576b"
            ],
            [
             0.6666666666666666,
             "#ed7953"
            ],
            [
             0.7777777777777778,
             "#fb9f3a"
            ],
            [
             0.8888888888888888,
             "#fdca26"
            ],
            [
             1,
             "#f0f921"
            ]
           ]
          },
          "colorway": [
           "#636efa",
           "#EF553B",
           "#00cc96",
           "#ab63fa",
           "#FFA15A",
           "#19d3f3",
           "#FF6692",
           "#B6E880",
           "#FF97FF",
           "#FECB52"
          ],
          "font": {
           "color": "#2a3f5f"
          },
          "geo": {
           "bgcolor": "white",
           "lakecolor": "white",
           "landcolor": "#E5ECF6",
           "showlakes": true,
           "showland": true,
           "subunitcolor": "white"
          },
          "hoverlabel": {
           "align": "left"
          },
          "hovermode": "closest",
          "mapbox": {
           "style": "light"
          },
          "paper_bgcolor": "white",
          "plot_bgcolor": "#E5ECF6",
          "polar": {
           "angularaxis": {
            "gridcolor": "white",
            "linecolor": "white",
            "ticks": ""
           },
           "bgcolor": "#E5ECF6",
           "radialaxis": {
            "gridcolor": "white",
            "linecolor": "white",
            "ticks": ""
           }
          },
          "scene": {
           "xaxis": {
            "backgroundcolor": "#E5ECF6",
            "gridcolor": "white",
            "gridwidth": 2,
            "linecolor": "white",
            "showbackground": true,
            "ticks": "",
            "zerolinecolor": "white"
           },
           "yaxis": {
            "backgroundcolor": "#E5ECF6",
            "gridcolor": "white",
            "gridwidth": 2,
            "linecolor": "white",
            "showbackground": true,
            "ticks": "",
            "zerolinecolor": "white"
           },
           "zaxis": {
            "backgroundcolor": "#E5ECF6",
            "gridcolor": "white",
            "gridwidth": 2,
            "linecolor": "white",
            "showbackground": true,
            "ticks": "",
            "zerolinecolor": "white"
           }
          },
          "shapedefaults": {
           "line": {
            "color": "#2a3f5f"
           }
          },
          "ternary": {
           "aaxis": {
            "gridcolor": "white",
            "linecolor": "white",
            "ticks": ""
           },
           "baxis": {
            "gridcolor": "white",
            "linecolor": "white",
            "ticks": ""
           },
           "bgcolor": "#E5ECF6",
           "caxis": {
            "gridcolor": "white",
            "linecolor": "white",
            "ticks": ""
           }
          },
          "title": {
           "x": 0.05
          },
          "xaxis": {
           "automargin": true,
           "gridcolor": "white",
           "linecolor": "white",
           "ticks": "",
           "title": {
            "standoff": 15
           },
           "zerolinecolor": "white",
           "zerolinewidth": 2
          },
          "yaxis": {
           "automargin": true,
           "gridcolor": "white",
           "linecolor": "white",
           "ticks": "",
           "title": {
            "standoff": 15
           },
           "zerolinecolor": "white",
           "zerolinewidth": 2
          }
         }
        },
        "title": {
         "text": "Accumulated Distribution of Rank of Neighbors' Degrees Conditioned on Low Similarity with Destination"
        },
        "width": 900,
        "xaxis": {
         "dtick": 5,
         "gridcolor": "rgba(224, 232, 240, 1)",
         "showgrid": true,
         "title": {
          "text": "Rank of neighbors' degrees conditioned on low similarity with destination"
         }
        },
        "yaxis": {
         "gridcolor": "rgba(224, 232, 240, 1)",
         "showgrid": true,
         "title": {
          "text": "Accumulated frequency"
         }
        }
       }
      }
     },
     "metadata": {},
     "output_type": "display_data"
    }
   ],
   "source": [
    "import plotly.graph_objects as go\n",
    "import numpy as np\n",
    "\n",
    "# Convert scores to integers\n",
    "ai_scores = np.sort(np.array(ai_scores, dtype=int))                 # Convert AI scores to integers\n",
    "human_scores = np.sort(np.array(human_scores, dtype=int))           # Convert Human scores to integers\n",
    "optimal_scores_sorted = np.sort(np.array(optimal_scores, dtype=int))       # Convert Optimal scores to integers\n",
    "\n",
    "# Calculate the frequency\n",
    "ai_scores_freq = np.bincount(ai_scores)\n",
    "human_scores_freq = np.bincount(human_scores)\n",
    "optimal_scores_freq = np.bincount(optimal_scores_sorted)\n",
    "\n",
    "# Calculate the accumulated frequency\n",
    "ai_scores_accumulated = np.cumsum(ai_scores_freq) / len(ai_scores)\n",
    "human_scores_accumulated = np.cumsum(human_scores_freq) / len(human_scores)\n",
    "optimal_scores_accumulated = np.cumsum(optimal_scores_freq) / len(optimal_scores_sorted)\n",
    "\n",
    "# Plot the accumulated distribution (only first 50 ranks)\n",
    "fig = go.Figure()\n",
    "\n",
    "# AI path\n",
    "fig.add_trace(go.Scatter(\n",
    "    x=list(range(50)),\n",
    "    y=ai_scores_accumulated[:50],\n",
    "    mode='lines',\n",
    "    name='AI path',\n",
    "    line=dict(color=\"rgba(58, 85, 209, 0.7)\", width=3)  # PRIMARY_BLUE\n",
    "))\n",
    "\n",
    "# Human path\n",
    "fig.add_trace(go.Scatter(\n",
    "    x=list(range(50)),\n",
    "    y=human_scores_accumulated[:50],\n",
    "    mode='lines',\n",
    "    name='Human path',\n",
    "    line=dict(color=\"rgba(242, 153, 74, 0.7)\", width=3)  # SOFT_ORANGE\n",
    "))\n",
    "\n",
    "# Shortest path\n",
    "fig.add_trace(go.Scatter(\n",
    "    x=list(range(50)),\n",
    "    y=optimal_scores_accumulated[:50],\n",
    "    mode='lines',\n",
    "    name='Shortest path',\n",
    "    line=dict(color=\"rgba(111, 207, 151, 0.8)\", width=3)  # LIGHT_GREEN\n",
    "))\n",
    "\n",
    "# Update layout for aesthetics\n",
    "fig.update_layout(\n",
    "    title=\"Accumulated Distribution of Rank of Neighbors' Degrees Conditioned on Low Similarity with Destination\",\n",
    "    xaxis_title=\"Rank of neighbors' degrees conditioned on low similarity with destination\",\n",
    "    yaxis_title=\"Accumulated frequency\",\n",
    "    plot_bgcolor=\"rgba(240, 244, 255, 1)\",  # Background\n",
    "    paper_bgcolor=\"rgba(240, 244, 255, 1)\",  # Paper background\n",
    "    font=dict(size=12),\n",
    "    width=900,   # Fixed width\n",
    "    height=600   # Fixed height\n",
    ")\n",
    "\n",
    "# Update grid line styles\n",
    "fig.update_xaxes(showgrid=True, gridcolor=\"rgba(224, 232, 240, 1)\", dtick=5)\n",
    "fig.update_yaxes(showgrid=True, gridcolor=\"rgba(224, 232, 240, 1)\")\n",
    "\n",
    "# Show the interactive plot\n",
    "fig.show()\n",
    "# pio.write_html(fig, \"img/accumulated_distribution_of_rank_of_neighbors_conditioned_on_low_similiarity.html\", full_html=True)\n"
   ]
  },
  {
   "cell_type": "code",
   "execution_count": 17,
   "metadata": {},
   "outputs": [
    {
     "data": {
      "image/png": "[encoded data removed]",
      "text/plain": [
       "<Figure size 1000x600 with 1 Axes>"
      ]
     },
     "metadata": {},
     "output_type": "display_data"
    }
   ],
   "source": [
    "# the x-axis is the path length, the y-axis is the pairs\n",
    "\n",
    "ai_path_len = [[len(path) for path in AI_paths[pair]] for pair in ori_dest]\n",
    "improved_ai_paths_len = [[len(path) for path in improved_ai_paths[pair]] for pair in ori_dest]\n",
    "human_path_len = [[len(path) for path in human_paths[pair]] for pair in ori_dest]\n",
    "shortest_path_len = [[len(shortest_paths[pair][0])] for pair in ori_dest]\n",
    "\n",
    "# Path Length distribution Plot\n",
    "human_lengths_flat = [length for path in human_path_len for length in path]\n",
    "ai_lengths_flat = [length for path in ai_path_len for length in path]\n",
    "\n",
    "\n",
    "# Cap the path lengths at 20 and group all lengths >20 into a single bin\n",
    "human_lengths_capped = [length if length <= 20 else 21 for length in human_lengths_flat]\n",
    "ai_lengths_capped = [length if length <= 20 else 21 for length in ai_lengths_flat]\n",
    "\n",
    "# Create the histogram with capped lengths\n",
    "bins = list(range(1, 22)) + [22]  # Adding a bin for >20\n",
    "plt.figure(figsize=(10, 6))\n",
    "plt.hist(human_lengths_capped, bins=bins, alpha=0.5, label=\"Human Paths\", color=\"blue\", density=True)\n",
    "plt.hist(ai_lengths_capped, bins=bins, alpha=0.5, label=\"AI Paths\", color=\"orange\", density=True)\n",
    "plt.xticks(range(1, 22), labels=[str(i) for i in range(1, 21)] + ['>20'])\n",
    "plt.title('Density Histogram of Path Lengths', fontsize=14)\n",
    "plt.xlabel('Path Length', fontsize=12)\n",
    "plt.ylabel('Density', fontsize=12)\n",
    "plt.legend()\n",
    "plt.show()"
   ]
  },
  {
   "cell_type": "code",
   "execution_count": 18,
   "metadata": {},
   "outputs": [
    {
     "data": {
      "text/plain": [
       "(493, 4887, 19)"
      ]
     },
     "execution_count": 18,
     "metadata": {},
     "output_type": "execute_result"
    }
   ],
   "source": [
    "filtering_length = 5\n",
    "first_n = 4\n",
    "\n",
    "# filtered_ai_scores = score_filtering(ai_closeness_scores, ai_path_len, filtering_length, first_n)\n",
    "# filtered_human_scores = score_filtering(human_closeness_scores, human_path_len, filtering_length, first_n)\n",
    "filtered_ai_scores = score_filtering(ai_target_scores, ai_path_len, filtering_length, first_n)\n",
    "filtered_human_scores = score_filtering(human_target_scores, human_path_len, filtering_length, first_n)\n",
    "filtered_shortest_scores = score_filtering(optimal_target_scores, shortest_path_len, filtering_length, first_n)\n",
    "\n",
    "ai_filtered_count = sum(len(list) for list in filtered_ai_scores.values())\n",
    "human_filtered_count = sum(len(list) for list in filtered_human_scores.values())\n",
    "shortest_filtered_count = sum(len(list) for list in filtered_shortest_scores.values())\n",
    "ai_filtered_count, human_filtered_count, shortest_filtered_count"
   ]
  },
  {
   "cell_type": "code",
   "execution_count": 19,
   "metadata": {},
   "outputs": [
    {
     "data": {
      "image/png": "[encoded data removed]",
      "text/plain": [
       "<Figure size 1200x600 with 1 Axes>"
      ]
     },
     "metadata": {},
     "output_type": "display_data"
    }
   ],
   "source": [
    "steps = list(range(1, first_n+1))\n",
    "\n",
    "normalized_ai_scores = [\n",
    "    list(np.mean(score_lists, axis=0)) for key, score_lists in filtered_ai_scores.items()\n",
    "]\n",
    "normalized_human_scores = [\n",
    "    list(np.mean(score_lists, axis=0)) for key, score_lists in filtered_human_scores.items()\n",
    "]\n",
    "normalized_shortest_scores = [\n",
    "    list(np.mean(score_lists, axis=0)) for key, score_lists in filtered_shortest_scores.items()\n",
    "]\n",
    "\n",
    "# Convert filtered scores to NumPy arrays for easier manipulation\n",
    "ai_scores_array = np.array(normalized_ai_scores)\n",
    "human_scores_array = np.array(normalized_human_scores)\n",
    "human_scores_array = human_scores_array[~np.isnan(human_scores_array).any(axis=1)]\n",
    "shortest_scores_array = np.array(normalized_shortest_scores)\n",
    "\n",
    "# Compute average scores for each step\n",
    "ai_step_avg_scores = ai_scores_array.mean(axis=0)\n",
    "human_step_avg_scores = human_scores_array.mean(axis=0)\n",
    "shortest_step_avg_scores = shortest_scores_array.mean(axis=0)\n",
    "\n",
    "# Plot step-wise average scores\n",
    "plt.figure(figsize=(12, 6))\n",
    "plt.plot(steps, ai_step_avg_scores, label='AI Step Average Score', marker='o', color='orange')\n",
    "plt.plot(steps, human_step_avg_scores, label='Human Step Average Score', marker='o', color='blue')\n",
    "plt.plot(steps, shortest_step_avg_scores, label='Shortest Step Average Score', marker='o', color='green')\n",
    "\n",
    "plt.title('Step-Wise Average Target Scores', fontsize=14)\n",
    "plt.xlabel(f'Steps (1 to {first_n})', fontsize=12)\n",
    "plt.ylabel('Average Target Score', fontsize=12)\n",
    "plt.xticks(steps)\n",
    "plt.legend()\n",
    "plt.show()"
   ]
  },
  {
   "cell_type": "code",
   "execution_count": 20,
   "metadata": {},
   "outputs": [],
   "source": [
    "# Path Degree Analysis\n",
    "in_degrees = dict(G.in_degree())  \n",
    "out_degrees = dict(G.out_degree()) \n",
    "total_degrees = {node: in_degrees.get(node, 0) + out_degrees.get(node, 0) for node in set(in_degrees) | set(out_degrees)}\n",
    "\n",
    "AI_path_degrees = compute_path_degrees(AI_paths, out_degrees)\n",
    "human_path_degrees = compute_path_degrees(human_paths, out_degrees)\n",
    "shortest_path_degrees = compute_path_degrees(shortest_paths, out_degrees)\n",
    "\n",
    "degree_filtering_length = 3\n",
    "degree_first_n = 3\n",
    "filtered_ai_degrees = score_filtering(AI_path_degrees, ai_path_len, degree_filtering_length, degree_first_n)\n",
    "filtered_human_degrees = score_filtering(human_path_degrees, human_path_len, degree_filtering_length, degree_first_n)\n",
    "filtered_shortest_degrees = score_filtering(shortest_path_degrees, shortest_path_len, degree_filtering_length, degree_first_n)\n"
   ]
  },
  {
   "cell_type": "code",
   "execution_count": 21,
   "metadata": {},
   "outputs": [
    {
     "data": {
      "image/png": "[encoded data removed]",
      "text/plain": [
       "<Figure size 1200x600 with 1 Axes>"
      ]
     },
     "metadata": {},
     "output_type": "display_data"
    }
   ],
   "source": [
    "steps = list(range(1, degree_first_n+1))\n",
    "\n",
    "# Filter out degrees that do not match the expected length of 9\n",
    "filtered_ai_degrees = [\n",
    "    list(np.mean(score_lists, axis=0)) for key, score_lists in filtered_ai_degrees.items()\n",
    "]\n",
    "filtered_human_degrees = [\n",
    "    list(np.mean(score_lists, axis=0)) for key, score_lists in filtered_human_degrees.items()\n",
    "]\n",
    "filtered_shortest_degrees = [\n",
    "    list(np.mean(score_lists, axis=0)) for key, score_lists in filtered_shortest_degrees.items()\n",
    "]\n",
    "\n",
    "# Convert filtered degrees to NumPy arrays for easier manipulation\n",
    "ai_degrees_array = np.array(filtered_ai_degrees)\n",
    "human_degrees_array = np.array(filtered_human_degrees)\n",
    "human_degrees_array = human_degrees_array[~np.isnan(human_degrees_array).any(axis=1)]\n",
    "shortest_degrees_array = np.array(filtered_shortest_degrees)\n",
    "\n",
    "# Compute average degrees for each step\n",
    "ai_step_avg_degrees = ai_degrees_array.mean(axis=0)\n",
    "human_step_avg_degrees = human_degrees_array.mean(axis=0)\n",
    "shortest_step_avg_degrees = shortest_degrees_array.mean(axis=0)\n",
    "\n",
    "# Plot step-wise average degrees\n",
    "plt.figure(figsize=(12, 6))\n",
    "plt.plot(steps, ai_step_avg_degrees, label='AI Step Degrees', marker='o', color='orange')\n",
    "plt.plot(steps, human_step_avg_degrees, label='Human Step Degrees', marker='o', color='blue')\n",
    "plt.plot(steps, shortest_step_avg_degrees, label='Shortest Step Degrees', marker='o', color='green')\n",
    "\n",
    "plt.title('Step-Wise Average Degrees', fontsize=14)\n",
    "plt.xlabel(f'Steps (1 to {first_n})', fontsize=12)\n",
    "plt.ylabel('Average Degrees', fontsize=12)\n",
    "plt.xticks(steps)\n",
    "plt.legend()\n",
    "plt.show()"
   ]
  },
  {
   "cell_type": "code",
   "execution_count": 22,
   "metadata": {},
   "outputs": [],
   "source": [
    "ai_good_degrees = []\n",
    "ai_bad_degrees = []\n",
    "human_good_degrees = []\n",
    "human_bad_degrees = []\n",
    "optimal_degrees = []\n",
    "\n",
    "ai_good_scores = []\n",
    "ai_bad_scores = []\n",
    "human_good_scores = []\n",
    "human_bad_scores = []\n",
    "optimal_scores = []\n",
    "\n",
    "avg_human_path_len = [np.sum(path_lens)/len(path_lens) for path_lens in human_path_len]\n",
    "avg_ai_path_len = [np.sum(path_lens)/len(path_lens) for path_lens in ai_path_len]\n",
    "\n",
    "for i, pair in zip(range(len(AI_paths)), AI_paths.keys()):\n",
    "    for j in range(len(AI_paths[pair])):\n",
    "        if ai_path_len[i][j] <= avg_ai_path_len[i]:\n",
    "            ai_good_degrees.append(AI_path_degrees[pair][j][1])\n",
    "            ai_good_scores.append(ai_closeness_scores[pair][j][0])\n",
    "        if ai_path_len[i][j] > avg_ai_path_len[i]:\n",
    "            ai_bad_degrees.append(AI_path_degrees[pair][j][1])\n",
    "            ai_bad_scores.append(ai_closeness_scores[pair][j][0])\n",
    "    for k in range(len(human_paths[pair])):\n",
    "        if human_path_len[i][k] <= avg_human_path_len[i]:\n",
    "            human_good_degrees.append(human_path_degrees[pair][k][1])\n",
    "            human_good_scores.append(human_closeness_scores[pair][k][0])\n",
    "        if human_path_len[i][k] > avg_ai_path_len[i]:\n",
    "            human_bad_degrees.append(human_path_degrees[pair][k][1])\n",
    "            human_bad_scores.append(human_closeness_scores[pair][k][0])\n",
    "    optimal_degrees.append(shortest_path_degrees[pair][0][1])\n",
    "    optimal_scores.append(optimal_closeness_scores[pair][0][0])\n",
    "\n",
    "human_bad_scores = list(np.array(human_bad_scores)[~np.isnan(human_bad_scores)])"
   ]
  },
  {
   "cell_type": "code",
   "execution_count": 23,
   "metadata": {},
   "outputs": [
    {
     "data": {
      "application/vnd.plotly.v1+json": {
       "config": {
        "plotlyServerURL": "https://plot.ly"
       },
       "data": [
        {
         "hovertemplate": [
          "%{x}: %{y:.2f}<extra></extra>",
          "%{x}: %{y:.2f}<extra></extra>",
          "%{x}: %{y:.2f}<extra></extra>",
          "%{x}: %{y:.2f}<extra></extra>",
          "%{x}: %{y:.2f}<extra></extra>"
         ],
         "marker": {
          "color": [
           "rgba(58, 85, 209, 0.7)",
           "rgba(58, 85, 209, 0.7)",
           "rgba(242, 153, 74, 0.7)",
           "rgba(242, 153, 74, 0.7)",
           "rgba(111, 207, 151, 0.8)"
          ]
         },
         "type": "bar",
         "x": [
          "Good AI",
          "Bad AI",
          "Good Human",
          "Bad Human",
          "Optimal"
         ],
         "y": [
          68.21739130434783,
          51.40764331210191,
          68.84649236344809,
          64.3791329904482,
          76.21019108280255
         ]
        }
       ],
       "layout": {
        "font": {
         "size": 12
        },
        "height": 500,
        "paper_bgcolor": "rgba(240, 244, 255, 1)",
        "plot_bgcolor": "rgba(240, 244, 255, 1)",
        "template": {
         "data": {
          "bar": [
           {
            "error_x": {
             "color": "#2a3f5f"
            },
            "error_y": {
             "color": "#2a3f5f"
            },
            "marker": {
             "line": {
              "color": "#E5ECF6",
              "width": 0.5
             },
             "pattern": {
              "fillmode": "overlay",
              "size": 10,
              "solidity": 0.2
             }
            },
            "type": "bar"
           }
          ],
          "barpolar": [
           {
            "marker": {
             "line": {
              "color": "#E5ECF6",
              "width": 0.5
             },
             "pattern": {
              "fillmode": "overlay",
              "size": 10,
              "solidity": 0.2
             }
            },
            "type": "barpolar"
           }
          ],
          "carpet": [
           {
            "aaxis": {
             "endlinecolor": "#2a3f5f",
             "gridcolor": "white",
             "linecolor": "white",
             "minorgridcolor": "white",
             "startlinecolor": "#2a3f5f"
            },
            "baxis": {
             "endlinecolor": "#2a3f5f",
             "gridcolor": "white",
             "linecolor": "white",
             "minorgridcolor": "white",
             "startlinecolor": "#2a3f5f"
            },
            "type": "carpet"
           }
          ],
          "choropleth": [
           {
            "colorbar": {
             "outlinewidth": 0,
             "ticks": ""
            },
            "type": "choropleth"
           }
          ],
          "contour": [
           {
            "colorbar": {
             "outlinewidth": 0,
             "ticks": ""
            },
            "colorscale": [
             [
              0,
              "#0d0887"
             ],
             [
              0.1111111111111111,
              "#46039f"
             ],
             [
              0.2222222222222222,
              "#7201a8"
             ],
             [
              0.3333333333333333,
              "#9c179e"
             ],
             [
              0.4444444444444444,
              "#bd3786"
             ],
             [
              0.5555555555555556,
              "#d8576b"
             ],
             [
              0.6666666666666666,
              "#ed7953"
             ],
             [
              0.7777777777777778,
              "#fb9f3a"
             ],
             [
              0.8888888888888888,
              "#fdca26"
             ],
             [
              1,
              "#f0f921"
             ]
            ],
            "type": "contour"
           }
          ],
          "contourcarpet": [
           {
            "colorbar": {
             "outlinewidth": 0,
             "ticks": ""
            },
            "type": "contourcarpet"
           }
          ],
          "heatmap": [
           {
            "colorbar": {
             "outlinewidth": 0,
             "ticks": ""
            },
            "colorscale": [
             [
              0,
              "#0d0887"
             ],
             [
              0.1111111111111111,
              "#46039f"
             ],
             [
              0.2222222222222222,
              "#7201a8"
             ],
             [
              0.3333333333333333,
              "#9c179e"
             ],
             [
              0.4444444444444444,
              "#bd3786"
             ],
             [
              0.5555555555555556,
              "#d8576b"
             ],
             [
              0.6666666666666666,
              "#ed7953"
             ],
             [
              0.7777777777777778,
              "#fb9f3a"
             ],
             [
              0.8888888888888888,
              "#fdca26"
             ],
             [
              1,
              "#f0f921"
             ]
            ],
            "type": "heatmap"
           }
          ],
          "heatmapgl": [
           {
            "colorbar": {
             "outlinewidth": 0,
             "ticks": ""
            },
            "colorscale": [
             [
              0,
              "#0d0887"
             ],
             [
              0.1111111111111111,
              "#46039f"
             ],
             [
              0.2222222222222222,
              "#7201a8"
             ],
             [
              0.3333333333333333,
              "#9c179e"
             ],
             [
              0.4444444444444444,
              "#bd3786"
             ],
             [
              0.5555555555555556,
              "#d8576b"
             ],
             [
              0.6666666666666666,
              "#ed7953"
             ],
             [
              0.7777777777777778,
              "#fb9f3a"
             ],
             [
              0.8888888888888888,
              "#fdca26"
             ],
             [
              1,
              "#f0f921"
             ]
            ],
            "type": "heatmapgl"
           }
          ],
          "histogram": [
           {
            "marker": {
             "pattern": {
              "fillmode": "overlay",
              "size": 10,
              "solidity": 0.2
             }
            },
            "type": "histogram"
           }
          ],
          "histogram2d": [
           {
            "colorbar": {
             "outlinewidth": 0,
             "ticks": ""
            },
            "colorscale": [
             [
              0,
              "#0d0887"
             ],
             [
              0.1111111111111111,
              "#46039f"
             ],
             [
              0.2222222222222222,
              "#7201a8"
             ],
             [
              0.3333333333333333,
              "#9c179e"
             ],
             [
              0.4444444444444444,
              "#bd3786"
             ],
             [
              0.5555555555555556,
              "#d8576b"
             ],
             [
              0.6666666666666666,
              "#ed7953"
             ],
             [
              0.7777777777777778,
              "#fb9f3a"
             ],
             [
              0.8888888888888888,
              "#fdca26"
             ],
             [
              1,
              "#f0f921"
             ]
            ],
            "type": "histogram2d"
           }
          ],
          "histogram2dcontour": [
           {
            "colorbar": {
             "outlinewidth": 0,
             "ticks": ""
            },
            "colorscale": [
             [
              0,
              "#0d0887"
             ],
             [
              0.1111111111111111,
              "#46039f"
             ],
             [
              0.2222222222222222,
              "#7201a8"
             ],
             [
              0.3333333333333333,
              "#9c179e"
             ],
             [
              0.4444444444444444,
              "#bd3786"
             ],
             [
              0.5555555555555556,
              "#d8576b"
             ],
             [
              0.6666666666666666,
              "#ed7953"
             ],
             [
              0.7777777777777778,
              "#fb9f3a"
             ],
             [
              0.8888888888888888,
              "#fdca26"
             ],
             [
              1,
              "#f0f921"
             ]
            ],
            "type": "histogram2dcontour"
           }
          ],
          "mesh3d": [
           {
            "colorbar": {
             "outlinewidth": 0,
             "ticks": ""
            },
            "type": "mesh3d"
           }
          ],
          "parcoords": [
           {
            "line": {
             "colorbar": {
              "outlinewidth": 0,
              "ticks": ""
             }
            },
            "type": "parcoords"
           }
          ],
          "pie": [
           {
            "automargin": true,
            "type": "pie"
           }
          ],
          "scatter": [
           {
            "fillpattern": {
             "fillmode": "overlay",
             "size": 10,
             "solidity": 0.2
            },
            "type": "scatter"
           }
          ],
          "scatter3d": [
           {
            "line": {
             "colorbar": {
              "outlinewidth": 0,
              "ticks": ""
             }
            },
            "marker": {
             "colorbar": {
              "outlinewidth": 0,
              "ticks": ""
             }
            },
            "type": "scatter3d"
           }
          ],
          "scattercarpet": [
           {
            "marker": {
             "colorbar": {
              "outlinewidth": 0,
              "ticks": ""
             }
            },
            "type": "scattercarpet"
           }
          ],
          "scattergeo": [
           {
            "marker": {
             "colorbar": {
              "outlinewidth": 0,
              "ticks": ""
             }
            },
            "type": "scattergeo"
           }
          ],
          "scattergl": [
           {
            "marker": {
             "colorbar": {
              "outlinewidth": 0,
              "ticks": ""
             }
            },
            "type": "scattergl"
           }
          ],
          "scattermapbox": [
           {
            "marker": {
             "colorbar": {
              "outlinewidth": 0,
              "ticks": ""
             }
            },
            "type": "scattermapbox"
           }
          ],
          "scatterpolar": [
           {
            "marker": {
             "colorbar": {
              "outlinewidth": 0,
              "ticks": ""
             }
            },
            "type": "scatterpolar"
           }
          ],
          "scatterpolargl": [
           {
            "marker": {
             "colorbar": {
              "outlinewidth": 0,
              "ticks": ""
             }
            },
            "type": "scatterpolargl"
           }
          ],
          "scatterternary": [
           {
            "marker": {
             "colorbar": {
              "outlinewidth": 0,
              "ticks": ""
             }
            },
            "type": "scatterternary"
           }
          ],
          "surface": [
           {
            "colorbar": {
             "outlinewidth": 0,
             "ticks": ""
            },
            "colorscale": [
             [
              0,
              "#0d0887"
             ],
             [
              0.1111111111111111,
              "#46039f"
             ],
             [
              0.2222222222222222,
              "#7201a8"
             ],
             [
              0.3333333333333333,
              "#9c179e"
             ],
             [
              0.4444444444444444,
              "#bd3786"
             ],
             [
              0.5555555555555556,
              "#d8576b"
             ],
             [
              0.6666666666666666,
              "#ed7953"
             ],
             [
              0.7777777777777778,
              "#fb9f3a"
             ],
             [
              0.8888888888888888,
              "#fdca26"
             ],
             [
              1,
              "#f0f921"
             ]
            ],
            "type": "surface"
           }
          ],
          "table": [
           {
            "cells": {
             "fill": {
              "color": "#EBF0F8"
             },
             "line": {
              "color": "white"
             }
            },
            "header": {
             "fill": {
              "color": "#C8D4E3"
             },
             "line": {
              "color": "white"
             }
            },
            "type": "table"
           }
          ]
         },
         "layout": {
          "annotationdefaults": {
           "arrowcolor": "#2a3f5f",
           "arrowhead": 0,
           "arrowwidth": 1
          },
          "autotypenumbers": "strict",
          "coloraxis": {
           "colorbar": {
            "outlinewidth": 0,
            "ticks": ""
           }
          },
          "colorscale": {
           "diverging": [
            [
             0,
             "#8e0152"
            ],
            [
             0.1,
             "#c51b7d"
            ],
            [
             0.2,
             "#de77ae"
            ],
            [
             0.3,
             "#f1b6da"
            ],
            [
             0.4,
             "#fde0ef"
            ],
            [
             0.5,
             "#f7f7f7"
            ],
            [
             0.6,
             "#e6f5d0"
            ],
            [
             0.7,
             "#b8e186"
            ],
            [
             0.8,
             "#7fbc41"
            ],
            [
             0.9,
             "#4d9221"
            ],
            [
             1,
             "#276419"
            ]
           ],
           "sequential": [
            [
             0,
             "#0d0887"
            ],
            [
             0.1111111111111111,
             "#46039f"
            ],
            [
             0.2222222222222222,
             "#7201a8"
            ],
            [
             0.3333333333333333,
             "#9c179e"
            ],
            [
             0.4444444444444444,
             "#bd3786"
            ],
            [
             0.5555555555555556,
             "#d8576b"
            ],
            [
             0.6666666666666666,
             "#ed7953"
            ],
            [
             0.7777777777777778,
             "#fb9f3a"
            ],
            [
             0.8888888888888888,
             "#fdca26"
            ],
            [
             1,
             "#f0f921"
            ]
           ],
           "sequentialminus": [
            [
             0,
             "#0d0887"
            ],
            [
             0.1111111111111111,
             "#46039f"
            ],
            [
             0.2222222222222222,
             "#7201a8"
            ],
            [
             0.3333333333333333,
             "#9c179e"
            ],
            [
             0.4444444444444444,
             "#bd3786"
            ],
            [
             0.5555555555555556,
             "#d8576b"
            ],
            [
             0.6666666666666666,
             "#ed7953"
            ],
            [
             0.7777777777777778,
             "#fb9f3a"
            ],
            [
             0.8888888888888888,
             "#fdca26"
            ],
            [
             1,
             "#f0f921"
            ]
           ]
          },
          "colorway": [
           "#636efa",
           "#EF553B",
           "#00cc96",
           "#ab63fa",
           "#FFA15A",
           "#19d3f3",
           "#FF6692",
           "#B6E880",
           "#FF97FF",
           "#FECB52"
          ],
          "font": {
           "color": "#2a3f5f"
          },
          "geo": {
           "bgcolor": "white",
           "lakecolor": "white",
           "landcolor": "#E5ECF6",
           "showlakes": true,
           "showland": true,
           "subunitcolor": "white"
          },
          "hoverlabel": {
           "align": "left"
          },
          "hovermode": "closest",
          "mapbox": {
           "style": "light"
          },
          "paper_bgcolor": "white",
          "plot_bgcolor": "#E5ECF6",
          "polar": {
           "angularaxis": {
            "gridcolor": "white",
            "linecolor": "white",
            "ticks": ""
           },
           "bgcolor": "#E5ECF6",
           "radialaxis": {
            "gridcolor": "white",
            "linecolor": "white",
            "ticks": ""
           }
          },
          "scene": {
           "xaxis": {
            "backgroundcolor": "#E5ECF6",
            "gridcolor": "white",
            "gridwidth": 2,
            "linecolor": "white",
            "showbackground": true,
            "ticks": "",
            "zerolinecolor": "white"
           },
           "yaxis": {
            "backgroundcolor": "#E5ECF6",
            "gridcolor": "white",
            "gridwidth": 2,
            "linecolor": "white",
            "showbackground": true,
            "ticks": "",
            "zerolinecolor": "white"
           },
           "zaxis": {
            "backgroundcolor": "#E5ECF6",
            "gridcolor": "white",
            "gridwidth": 2,
            "linecolor": "white",
            "showbackground": true,
            "ticks": "",
            "zerolinecolor": "white"
           }
          },
          "shapedefaults": {
           "line": {
            "color": "#2a3f5f"
           }
          },
          "ternary": {
           "aaxis": {
            "gridcolor": "white",
            "linecolor": "white",
            "ticks": ""
           },
           "baxis": {
            "gridcolor": "white",
            "linecolor": "white",
            "ticks": ""
           },
           "bgcolor": "#E5ECF6",
           "caxis": {
            "gridcolor": "white",
            "linecolor": "white",
            "ticks": ""
           }
          },
          "title": {
           "x": 0.05
          },
          "xaxis": {
           "automargin": true,
           "gridcolor": "white",
           "linecolor": "white",
           "ticks": "",
           "title": {
            "standoff": 15
           },
           "zerolinecolor": "white",
           "zerolinewidth": 2
          },
          "yaxis": {
           "automargin": true,
           "gridcolor": "white",
           "linecolor": "white",
           "ticks": "",
           "title": {
            "standoff": 15
           },
           "zerolinecolor": "white",
           "zerolinewidth": 2
          }
         }
        },
        "title": {
         "text": "Mean Out-Degrees Comparison"
        },
        "width": 700,
        "yaxis": {
         "title": {
          "text": "First Step Out-Degrees"
         }
        }
       }
      }
     },
     "metadata": {},
     "output_type": "display_data"
    },
    {
     "data": {
      "application/vnd.plotly.v1+json": {
       "config": {
        "plotlyServerURL": "https://plot.ly"
       },
       "data": [
        {
         "hovertemplate": [
          "%{x}: %{y:.2f}<extra></extra>",
          "%{x}: %{y:.2f}<extra></extra>",
          "%{x}: %{y:.2f}<extra></extra>",
          "%{x}: %{y:.2f}<extra></extra>",
          "%{x}: %{y:.2f}<extra></extra>"
         ],
         "marker": {
          "color": [
           "rgba(58, 85, 209, 0.7)",
           "rgba(58, 85, 209, 0.7)",
           "rgba(242, 153, 74, 0.7)",
           "rgba(242, 153, 74, 0.7)",
           "rgba(111, 207, 151, 0.8)"
          ]
         },
         "type": "bar",
         "x": [
          "Good AI",
          "Bad AI",
          "Good Human",
          "Bad Human",
          "Optimal"
         ],
         "y": [
          0.07324243920647683,
          0.0038752203950419718,
          0.03393363399844039,
          0.007442469400159514,
          0.04062667123473862
         ]
        }
       ],
       "layout": {
        "font": {
         "size": 12
        },
        "height": 500,
        "paper_bgcolor": "rgba(240, 244, 255, 1)",
        "plot_bgcolor": "rgba(240, 244, 255, 1)",
        "template": {
         "data": {
          "bar": [
           {
            "error_x": {
             "color": "#2a3f5f"
            },
            "error_y": {
             "color": "#2a3f5f"
            },
            "marker": {
             "line": {
              "color": "#E5ECF6",
              "width": 0.5
             },
             "pattern": {
              "fillmode": "overlay",
              "size": 10,
              "solidity": 0.2
             }
            },
            "type": "bar"
           }
          ],
          "barpolar": [
           {
            "marker": {
             "line": {
              "color": "#E5ECF6",
              "width": 0.5
             },
             "pattern": {
              "fillmode": "overlay",
              "size": 10,
              "solidity": 0.2
             }
            },
            "type": "barpolar"
           }
          ],
          "carpet": [
           {
            "aaxis": {
             "endlinecolor": "#2a3f5f",
             "gridcolor": "white",
             "linecolor": "white",
             "minorgridcolor": "white",
             "startlinecolor": "#2a3f5f"
            },
            "baxis": {
             "endlinecolor": "#2a3f5f",
             "gridcolor": "white",
             "linecolor": "white",
             "minorgridcolor": "white",
             "startlinecolor": "#2a3f5f"
            },
            "type": "carpet"
           }
          ],
          "choropleth": [
           {
            "colorbar": {
             "outlinewidth": 0,
             "ticks": ""
            },
            "type": "choropleth"
           }
          ],
          "contour": [
           {
            "colorbar": {
             "outlinewidth": 0,
             "ticks": ""
            },
            "colorscale": [
             [
              0,
              "#0d0887"
             ],
             [
              0.1111111111111111,
              "#46039f"
             ],
             [
              0.2222222222222222,
              "#7201a8"
             ],
             [
              0.3333333333333333,
              "#9c179e"
             ],
             [
              0.4444444444444444,
              "#bd3786"
             ],
             [
              0.5555555555555556,
              "#d8576b"
             ],
             [
              0.6666666666666666,
              "#ed7953"
             ],
             [
              0.7777777777777778,
              "#fb9f3a"
             ],
             [
              0.8888888888888888,
              "#fdca26"
             ],
             [
              1,
              "#f0f921"
             ]
            ],
            "type": "contour"
           }
          ],
          "contourcarpet": [
           {
            "colorbar": {
             "outlinewidth": 0,
             "ticks": ""
            },
            "type": "contourcarpet"
           }
          ],
          "heatmap": [
           {
            "colorbar": {
             "outlinewidth": 0,
             "ticks": ""
            },
            "colorscale": [
             [
              0,
              "#0d0887"
             ],
             [
              0.1111111111111111,
              "#46039f"
             ],
             [
              0.2222222222222222,
              "#7201a8"
             ],
             [
              0.3333333333333333,
              "#9c179e"
             ],
             [
              0.4444444444444444,
              "#bd3786"
             ],
             [
              0.5555555555555556,
              "#d8576b"
             ],
             [
              0.6666666666666666,
              "#ed7953"
             ],
             [
              0.7777777777777778,
              "#fb9f3a"
             ],
             [
              0.8888888888888888,
              "#fdca26"
             ],
             [
              1,
              "#f0f921"
             ]
            ],
            "type": "heatmap"
           }
          ],
          "heatmapgl": [
           {
            "colorbar": {
             "outlinewidth": 0,
             "ticks": ""
            },
            "colorscale": [
             [
              0,
              "#0d0887"
             ],
             [
              0.1111111111111111,
              "#46039f"
             ],
             [
              0.2222222222222222,
              "#7201a8"
             ],
             [
              0.3333333333333333,
              "#9c179e"
             ],
             [
              0.4444444444444444,
              "#bd3786"
             ],
             [
              0.5555555555555556,
              "#d8576b"
             ],
             [
              0.6666666666666666,
              "#ed7953"
             ],
             [
              0.7777777777777778,
              "#fb9f3a"
             ],
             [
              0.8888888888888888,
              "#fdca26"
             ],
             [
              1,
              "#f0f921"
             ]
            ],
            "type": "heatmapgl"
           }
          ],
          "histogram": [
           {
            "marker": {
             "pattern": {
              "fillmode": "overlay",
              "size": 10,
              "solidity": 0.2
             }
            },
            "type": "histogram"
           }
          ],
          "histogram2d": [
           {
            "colorbar": {
             "outlinewidth": 0,
             "ticks": ""
            },
            "colorscale": [
             [
              0,
              "#0d0887"
             ],
             [
              0.1111111111111111,
              "#46039f"
             ],
             [
              0.2222222222222222,
              "#7201a8"
             ],
             [
              0.3333333333333333,
              "#9c179e"
             ],
             [
              0.4444444444444444,
              "#bd3786"
             ],
             [
              0.5555555555555556,
              "#d8576b"
             ],
             [
              0.6666666666666666,
              "#ed7953"
             ],
             [
              0.7777777777777778,
              "#fb9f3a"
             ],
             [
              0.8888888888888888,
              "#fdca26"
             ],
             [
              1,
              "#f0f921"
             ]
            ],
            "type": "histogram2d"
           }
          ],
          "histogram2dcontour": [
           {
            "colorbar": {
             "outlinewidth": 0,
             "ticks": ""
            },
            "colorscale": [
             [
              0,
              "#0d0887"
             ],
             [
              0.1111111111111111,
              "#46039f"
             ],
             [
              0.2222222222222222,
              "#7201a8"
             ],
             [
              0.3333333333333333,
              "#9c179e"
             ],
             [
              0.4444444444444444,
              "#bd3786"
             ],
             [
              0.5555555555555556,
              "#d8576b"
             ],
             [
              0.6666666666666666,
              "#ed7953"
             ],
             [
              0.7777777777777778,
              "#fb9f3a"
             ],
             [
              0.8888888888888888,
              "#fdca26"
             ],
             [
              1,
              "#f0f921"
             ]
            ],
            "type": "histogram2dcontour"
           }
          ],
          "mesh3d": [
           {
            "colorbar": {
             "outlinewidth": 0,
             "ticks": ""
            },
            "type": "mesh3d"
           }
          ],
          "parcoords": [
           {
            "line": {
             "colorbar": {
              "outlinewidth": 0,
              "ticks": ""
             }
            },
            "type": "parcoords"
           }
          ],
          "pie": [
           {
            "automargin": true,
            "type": "pie"
           }
          ],
          "scatter": [
           {
            "fillpattern": {
             "fillmode": "overlay",
             "size": 10,
             "solidity": 0.2
            },
            "type": "scatter"
           }
          ],
          "scatter3d": [
           {
            "line": {
             "colorbar": {
              "outlinewidth": 0,
              "ticks": ""
             }
            },
            "marker": {
             "colorbar": {
              "outlinewidth": 0,
              "ticks": ""
             }
            },
            "type": "scatter3d"
           }
          ],
          "scattercarpet": [
           {
            "marker": {
             "colorbar": {
              "outlinewidth": 0,
              "ticks": ""
             }
            },
            "type": "scattercarpet"
           }
          ],
          "scattergeo": [
           {
            "marker": {
             "colorbar": {
              "outlinewidth": 0,
              "ticks": ""
             }
            },
            "type": "scattergeo"
           }
          ],
          "scattergl": [
           {
            "marker": {
             "colorbar": {
              "outlinewidth": 0,
              "ticks": ""
             }
            },
            "type": "scattergl"
           }
          ],
          "scattermapbox": [
           {
            "marker": {
             "colorbar": {
              "outlinewidth": 0,
              "ticks": ""
             }
            },
            "type": "scattermapbox"
           }
          ],
          "scatterpolar": [
           {
            "marker": {
             "colorbar": {
              "outlinewidth": 0,
              "ticks": ""
             }
            },
            "type": "scatterpolar"
           }
          ],
          "scatterpolargl": [
           {
            "marker": {
             "colorbar": {
              "outlinewidth": 0,
              "ticks": ""
             }
            },
            "type": "scatterpolargl"
           }
          ],
          "scatterternary": [
           {
            "marker": {
             "colorbar": {
              "outlinewidth": 0,
              "ticks": ""
             }
            },
            "type": "scatterternary"
           }
          ],
          "surface": [
           {
            "colorbar": {
             "outlinewidth": 0,
             "ticks": ""
            },
            "colorscale": [
             [
              0,
              "#0d0887"
             ],
             [
              0.1111111111111111,
              "#46039f"
             ],
             [
              0.2222222222222222,
              "#7201a8"
             ],
             [
              0.3333333333333333,
              "#9c179e"
             ],
             [
              0.4444444444444444,
              "#bd3786"
             ],
             [
              0.5555555555555556,
              "#d8576b"
             ],
             [
              0.6666666666666666,
              "#ed7953"
             ],
             [
              0.7777777777777778,
              "#fb9f3a"
             ],
             [
              0.8888888888888888,
              "#fdca26"
             ],
             [
              1,
              "#f0f921"
             ]
            ],
            "type": "surface"
           }
          ],
          "table": [
           {
            "cells": {
             "fill": {
              "color": "#EBF0F8"
             },
             "line": {
              "color": "white"
             }
            },
            "header": {
             "fill": {
              "color": "#C8D4E3"
             },
             "line": {
              "color": "white"
             }
            },
            "type": "table"
           }
          ]
         },
         "layout": {
          "annotationdefaults": {
           "arrowcolor": "#2a3f5f",
           "arrowhead": 0,
           "arrowwidth": 1
          },
          "autotypenumbers": "strict",
          "coloraxis": {
           "colorbar": {
            "outlinewidth": 0,
            "ticks": ""
           }
          },
          "colorscale": {
           "diverging": [
            [
             0,
             "#8e0152"
            ],
            [
             0.1,
             "#c51b7d"
            ],
            [
             0.2,
             "#de77ae"
            ],
            [
             0.3,
             "#f1b6da"
            ],
            [
             0.4,
             "#fde0ef"
            ],
            [
             0.5,
             "#f7f7f7"
            ],
            [
             0.6,
             "#e6f5d0"
            ],
            [
             0.7,
             "#b8e186"
            ],
            [
             0.8,
             "#7fbc41"
            ],
            [
             0.9,
             "#4d9221"
            ],
            [
             1,
             "#276419"
            ]
           ],
           "sequential": [
            [
             0,
             "#0d0887"
            ],
            [
             0.1111111111111111,
             "#46039f"
            ],
            [
             0.2222222222222222,
             "#7201a8"
            ],
            [
             0.3333333333333333,
             "#9c179e"
            ],
            [
             0.4444444444444444,
             "#bd3786"
            ],
            [
             0.5555555555555556,
             "#d8576b"
            ],
            [
             0.6666666666666666,
             "#ed7953"
            ],
            [
             0.7777777777777778,
             "#fb9f3a"
            ],
            [
             0.8888888888888888,
             "#fdca26"
            ],
            [
             1,
             "#f0f921"
            ]
           ],
           "sequentialminus": [
            [
             0,
             "#0d0887"
            ],
            [
             0.1111111111111111,
             "#46039f"
            ],
            [
             0.2222222222222222,
             "#7201a8"
            ],
            [
             0.3333333333333333,
             "#9c179e"
            ],
            [
             0.4444444444444444,
             "#bd3786"
            ],
            [
             0.5555555555555556,
             "#d8576b"
            ],
            [
             0.6666666666666666,
             "#ed7953"
            ],
            [
             0.7777777777777778,
             "#fb9f3a"
            ],
            [
             0.8888888888888888,
             "#fdca26"
            ],
            [
             1,
             "#f0f921"
            ]
           ]
          },
          "colorway": [
           "#636efa",
           "#EF553B",
           "#00cc96",
           "#ab63fa",
           "#FFA15A",
           "#19d3f3",
           "#FF6692",
           "#B6E880",
           "#FF97FF",
           "#FECB52"
          ],
          "font": {
           "color": "#2a3f5f"
          },
          "geo": {
           "bgcolor": "white",
           "lakecolor": "white",
           "landcolor": "#E5ECF6",
           "showlakes": true,
           "showland": true,
           "subunitcolor": "white"
          },
          "hoverlabel": {
           "align": "left"
          },
          "hovermode": "closest",
          "mapbox": {
           "style": "light"
          },
          "paper_bgcolor": "white",
          "plot_bgcolor": "#E5ECF6",
          "polar": {
           "angularaxis": {
            "gridcolor": "white",
            "linecolor": "white",
            "ticks": ""
           },
           "bgcolor": "#E5ECF6",
           "radialaxis": {
            "gridcolor": "white",
            "linecolor": "white",
            "ticks": ""
           }
          },
          "scene": {
           "xaxis": {
            "backgroundcolor": "#E5ECF6",
            "gridcolor": "white",
            "gridwidth": 2,
            "linecolor": "white",
            "showbackground": true,
            "ticks": "",
            "zerolinecolor": "white"
           },
           "yaxis": {
            "backgroundcolor": "#E5ECF6",
            "gridcolor": "white",
            "gridwidth": 2,
            "linecolor": "white",
            "showbackground": true,
            "ticks": "",
            "zerolinecolor": "white"
           },
           "zaxis": {
            "backgroundcolor": "#E5ECF6",
            "gridcolor": "white",
            "gridwidth": 2,
            "linecolor": "white",
            "showbackground": true,
            "ticks": "",
            "zerolinecolor": "white"
           }
          },
          "shapedefaults": {
           "line": {
            "color": "#2a3f5f"
           }
          },
          "ternary": {
           "aaxis": {
            "gridcolor": "white",
            "linecolor": "white",
            "ticks": ""
           },
           "baxis": {
            "gridcolor": "white",
            "linecolor": "white",
            "ticks": ""
           },
           "bgcolor": "#E5ECF6",
           "caxis": {
            "gridcolor": "white",
            "linecolor": "white",
            "ticks": ""
           }
          },
          "title": {
           "x": 0.05
          },
          "xaxis": {
           "automargin": true,
           "gridcolor": "white",
           "linecolor": "white",
           "ticks": "",
           "title": {
            "standoff": 15
           },
           "zerolinecolor": "white",
           "zerolinewidth": 2
          },
          "yaxis": {
           "automargin": true,
           "gridcolor": "white",
           "linecolor": "white",
           "ticks": "",
           "title": {
            "standoff": 15
           },
           "zerolinecolor": "white",
           "zerolinewidth": 2
          }
         }
        },
        "title": {
         "text": "Mean Closeness Scores Comparison"
        },
        "width": 700,
        "yaxis": {
         "title": {
          "text": "First Step Closeness Scores"
         }
        }
       }
      }
     },
     "metadata": {},
     "output_type": "display_data"
    }
   ],
   "source": [
    "import plotly.graph_objects as go\n",
    "import numpy as np\n",
    "\n",
    "# Define fixed colors with transparency\n",
    "PRIMARY_BLUE = \"rgba(58, 85, 209, 0.7)\"  # AI paths - Light Blue with opacity\n",
    "SOFT_ORANGE = \"rgba(242, 153, 74, 0.7)\"  # Human paths - Soft Orange with opacity\n",
    "LIGHT_GREEN = \"rgba(111, 207, 151, 0.8)\" # Shortest paths - Light Green with slight opacity\n",
    "\n",
    "# Data for degrees and scores\n",
    "degree_means = [np.mean(ai_good_degrees), np.mean(ai_bad_degrees), \n",
    "                np.mean(human_good_degrees), np.mean(human_bad_degrees), \n",
    "                np.mean(optimal_degrees)]\n",
    "score_means = [np.mean(ai_good_scores), np.mean(ai_bad_scores), \n",
    "               np.mean(human_good_scores), np.mean(human_bad_scores), \n",
    "               np.mean(optimal_scores)]\n",
    "\n",
    "# Labels for the groups\n",
    "degree_labels = [\"Good AI\", \"Bad AI\", \"Good Human\", \"Bad Human\", \"Optimal\"]\n",
    "score_labels = [\"Good AI\", \"Bad AI\", \"Good Human\", \"Bad Human\", \"Optimal\"]\n",
    "\n",
    "# Define colors\n",
    "bar_colors = [PRIMARY_BLUE, PRIMARY_BLUE, SOFT_ORANGE, SOFT_ORANGE, LIGHT_GREEN]\n",
    "\n",
    "# Plotting Degrees\n",
    "fig_degrees = go.Figure()\n",
    "\n",
    "fig_degrees.add_trace(go.Bar(\n",
    "    x=degree_labels,\n",
    "    y=degree_means,\n",
    "    marker_color=bar_colors,\n",
    "    hovertemplate=[\"%{x}: %{y:.2f}<extra></extra>\" for x, y in zip(degree_labels, degree_means)]  # Hover template\n",
    "))\n",
    "\n",
    "fig_degrees.update_layout(\n",
    "    title=\"Mean Out-Degrees Comparison\",\n",
    "    # xaxis_title=\"Groups\",\n",
    "    yaxis_title=\"First Step Out-Degrees\",\n",
    "    plot_bgcolor=\"rgba(240, 244, 255, 1)\",  # Background\n",
    "    paper_bgcolor=\"rgba(240, 244, 255, 1)\",  # Paper background\n",
    "    font=dict(size=12),\n",
    "    width=700,\n",
    "    height=500\n",
    ")\n",
    "\n",
    "# Plotting Scores\n",
    "fig_scores = go.Figure()\n",
    "\n",
    "fig_scores.add_trace(go.Bar(\n",
    "    x=score_labels,\n",
    "    y=score_means,\n",
    "    marker_color=bar_colors,\n",
    "    hovertemplate=[\"%{x}: %{y:.2f}<extra></extra>\" for x, y in zip(score_labels, score_means)]  # Hover template\n",
    "))\n",
    "\n",
    "fig_scores.update_layout(\n",
    "    title=\"Mean Closeness Scores Comparison\",\n",
    "    # xaxis_title=\"Groups\",\n",
    "    yaxis_title=\"First Step Closeness Scores\",\n",
    "    plot_bgcolor=\"rgba(240, 244, 255, 1)\",  # Background\n",
    "    paper_bgcolor=\"rgba(240, 244, 255, 1)\",  # Paper background\n",
    "    font=dict(size=12),\n",
    "    width=700,\n",
    "    height=500\n",
    ")\n",
    "\n",
    "# Show both figures\n",
    "fig_degrees.show()\n",
    "# pio.write_html(fig_degrees, \"pages/mean_out_degrees_comparison.html\", full_html=True)\n",
    "\n",
    "fig_scores.show()\n",
    "# pio.write_html(fig_scores, \"pages/mean_closeness_scores_comparison.html\", full_html=True)\n"
   ]
  },
  {
   "cell_type": "code",
   "execution_count": 24,
   "metadata": {},
   "outputs": [
    {
     "data": {
      "application/vnd.plotly.v1+json": {
       "config": {
        "plotlyServerURL": "https://plot.ly"
       },
       "data": [
        {
         "hovertemplate": "<b>Shortest Path Length:</b> 2<extra></extra>",
         "marker": {
          "color": "rgba(218, 165, 32, 0.7)",
          "line": {
           "color": "white",
           "width": 1.5
          },
          "size": 10
         },
         "mode": "markers",
         "name": "Shortest",
         "showlegend": true,
         "type": "scatter",
         "x": [
          2
         ],
         "y": [
          0
         ]
        },
        {
         "hovertemplate": "<b>Shortest Path Length:</b> 2<extra></extra>",
         "marker": {
          "color": "rgba(218, 165, 32, 0.7)",
          "line": {
           "color": "white",
           "width": 1.5
          },
          "size": 10
         },
         "mode": "markers",
         "name": "Shortest",
         "showlegend": false,
         "type": "scatter",
         "x": [
          2
         ],
         "y": [
          1
         ]
        },
        {
         "hovertemplate": "<b>Shortest Path Length:</b> 2<extra></extra>",
         "marker": {
          "color": "rgba(218, 165, 32, 0.7)",
          "line": {
           "color": "white",
           "width": 1.5
          },
          "size": 10
         },
         "mode": "markers",
         "name": "Shortest",
         "showlegend": false,
         "type": "scatter",
         "x": [
          2
         ],
         "y": [
          2
         ]
        },
        {
         "hovertemplate": "<b>Shortest Path Length:</b> 2<extra></extra>",
         "marker": {
          "color": "rgba(218, 165, 32, 0.7)",
          "line": {
           "color": "white",
           "width": 1.5
          },
          "size": 10
         },
         "mode": "markers",
         "name": "Shortest",
         "showlegend": false,
         "type": "scatter",
         "x": [
          2
         ],
         "y": [
          3
         ]
        },
        {
         "hovertemplate": "<b>Shortest Path Length:</b> 2<extra></extra>",
         "marker": {
          "color": "rgba(218, 165, 32, 0.7)",
          "line": {
           "color": "white",
           "width": 1.5
          },
          "size": 10
         },
         "mode": "markers",
         "name": "Shortest",
         "showlegend": false,
         "type": "scatter",
         "x": [
          2
         ],
         "y": [
          4
         ]
        },
        {
         "hovertemplate": "<b>Shortest Path Length:</b> 2<extra></extra>",
         "marker": {
          "color": "rgba(218, 165, 32, 0.7)",
          "line": {
           "color": "white",
           "width": 1.5
          },
          "size": 10
         },
         "mode": "markers",
         "name": "Shortest",
         "showlegend": false,
         "type": "scatter",
         "x": [
          2
         ],
         "y": [
          5
         ]
        },
        {
         "hovertemplate": "<b>Shortest Path Length:</b> 2<extra></extra>",
         "marker": {
          "color": "rgba(218, 165, 32, 0.7)",
          "line": {
           "color": "white",
           "width": 1.5
          },
          "size": 10
         },
         "mode": "markers",
         "name": "Shortest",
         "showlegend": false,
         "type": "scatter",
         "x": [
          2
         ],
         "y": [
          6
         ]
        },
        {
         "hovertemplate": "<b>Shortest Path Length:</b> 2<extra></extra>",
         "marker": {
          "color": "rgba(218, 165, 32, 0.7)",
          "line": {
           "color": "white",
           "width": 1.5
          },
          "size": 10
         },
         "mode": "markers",
         "name": "Shortest",
         "showlegend": false,
         "type": "scatter",
         "x": [
          2
         ],
         "y": [
          7
         ]
        },
        {
         "hovertemplate": "<b>Shortest Path Length:</b> 2<extra></extra>",
         "marker": {
          "color": "rgba(218, 165, 32, 0.7)",
          "line": {
           "color": "white",
           "width": 1.5
          },
          "size": 10
         },
         "mode": "markers",
         "name": "Shortest",
         "showlegend": false,
         "type": "scatter",
         "x": [
          2
         ],
         "y": [
          8
         ]
        },
        {
         "hovertemplate": "<b>Shortest Path Length:</b> 3<extra></extra>",
         "marker": {
          "color": "rgba(218, 165, 32, 0.7)",
          "line": {
           "color": "white",
           "width": 1.5
          },
          "size": 10
         },
         "mode": "markers",
         "name": "Shortest",
         "showlegend": false,
         "type": "scatter",
         "x": [
          3
         ],
         "y": [
          9
         ]
        },
        {
         "hovertemplate": "<b>Shortest Path Length:</b> 3<extra></extra>",
         "marker": {
          "color": "rgba(218, 165, 32, 0.7)",
          "line": {
           "color": "white",
           "width": 1.5
          },
          "size": 10
         },
         "mode": "markers",
         "name": "Shortest",
         "showlegend": false,
         "type": "scatter",
         "x": [
          3
         ],
         "y": [
          10
         ]
        },
        {
         "hovertemplate": "<b>Shortest Path Length:</b> 3<extra></extra>",
         "marker": {
          "color": "rgba(218, 165, 32, 0.7)",
          "line": {
           "color": "white",
           "width": 1.5
          },
          "size": 10
         },
         "mode": "markers",
         "name": "Shortest",
         "showlegend": false,
         "type": "scatter",
         "x": [
          3
         ],
         "y": [
          11
         ]
        },
        {
         "hovertemplate": "<b>Shortest Path Length:</b> 3<extra></extra>",
         "marker": {
          "color": "rgba(218, 165, 32, 0.7)",
          "line": {
           "color": "white",
           "width": 1.5
          },
          "size": 10
         },
         "mode": "markers",
         "name": "Shortest",
         "showlegend": false,
         "type": "scatter",
         "x": [
          3
         ],
         "y": [
          12
         ]
        },
        {
         "hovertemplate": "<b>Shortest Path Length:</b> 3<extra></extra>",
         "marker": {
          "color": "rgba(218, 165, 32, 0.7)",
          "line": {
           "color": "white",
           "width": 1.5
          },
          "size": 10
         },
         "mode": "markers",
         "name": "Shortest",
         "showlegend": false,
         "type": "scatter",
         "x": [
          3
         ],
         "y": [
          13
         ]
        },
        {
         "hovertemplate": "<b>Shortest Path Length:</b> 3<extra></extra>",
         "marker": {
          "color": "rgba(218, 165, 32, 0.7)",
          "line": {
           "color": "white",
           "width": 1.5
          },
          "size": 10
         },
         "mode": "markers",
         "name": "Shortest",
         "showlegend": false,
         "type": "scatter",
         "x": [
          3
         ],
         "y": [
          14
         ]
        },
        {
         "hovertemplate": "<b>Shortest Path Length:</b> 3<extra></extra>",
         "marker": {
          "color": "rgba(218, 165, 32, 0.7)",
          "line": {
           "color": "white",
           "width": 1.5
          },
          "size": 10
         },
         "mode": "markers",
         "name": "Shortest",
         "showlegend": false,
         "type": "scatter",
         "x": [
          3
         ],
         "y": [
          15
         ]
        },
        {
         "hovertemplate": "<b>Shortest Path Length:</b> 3<extra></extra>",
         "marker": {
          "color": "rgba(218, 165, 32, 0.7)",
          "line": {
           "color": "white",
           "width": 1.5
          },
          "size": 10
         },
         "mode": "markers",
         "name": "Shortest",
         "showlegend": false,
         "type": "scatter",
         "x": [
          3
         ],
         "y": [
          16
         ]
        },
        {
         "hovertemplate": "<b>Shortest Path Length:</b> 3<extra></extra>",
         "marker": {
          "color": "rgba(218, 165, 32, 0.7)",
          "line": {
           "color": "white",
           "width": 1.5
          },
          "size": 10
         },
         "mode": "markers",
         "name": "Shortest",
         "showlegend": false,
         "type": "scatter",
         "x": [
          3
         ],
         "y": [
          17
         ]
        },
        {
         "hovertemplate": "<b>Shortest Path Length:</b> 3<extra></extra>",
         "marker": {
          "color": "rgba(218, 165, 32, 0.7)",
          "line": {
           "color": "white",
           "width": 1.5
          },
          "size": 10
         },
         "mode": "markers",
         "name": "Shortest",
         "showlegend": false,
         "type": "scatter",
         "x": [
          3
         ],
         "y": [
          18
         ]
        },
        {
         "hovertemplate": "<b>Shortest Path Length:</b> 3<extra></extra>",
         "marker": {
          "color": "rgba(218, 165, 32, 0.7)",
          "line": {
           "color": "white",
           "width": 1.5
          },
          "size": 10
         },
         "mode": "markers",
         "name": "Shortest",
         "showlegend": false,
         "type": "scatter",
         "x": [
          3
         ],
         "y": [
          19
         ]
        },
        {
         "hovertemplate": "<b>Shortest Path Length:</b> 4<extra></extra>",
         "marker": {
          "color": "rgba(218, 165, 32, 0.7)",
          "line": {
           "color": "white",
           "width": 1.5
          },
          "size": 10
         },
         "mode": "markers",
         "name": "Shortest",
         "showlegend": false,
         "type": "scatter",
         "x": [
          4
         ],
         "y": [
          20
         ]
        },
        {
         "hovertemplate": "<b>Shortest Path Length:</b> 3<extra></extra>",
         "marker": {
          "color": "rgba(218, 165, 32, 0.7)",
          "line": {
           "color": "white",
           "width": 1.5
          },
          "size": 10
         },
         "mode": "markers",
         "name": "Shortest",
         "showlegend": false,
         "type": "scatter",
         "x": [
          3
         ],
         "y": [
          21
         ]
        },
        {
         "hovertemplate": "<b>Shortest Path Length:</b> 3<extra></extra>",
         "marker": {
          "color": "rgba(218, 165, 32, 0.7)",
          "line": {
           "color": "white",
           "width": 1.5
          },
          "size": 10
         },
         "mode": "markers",
         "name": "Shortest",
         "showlegend": false,
         "type": "scatter",
         "x": [
          3
         ],
         "y": [
          22
         ]
        },
        {
         "hovertemplate": "<b>Shortest Path Length:</b> 3<extra></extra>",
         "marker": {
          "color": "rgba(218, 165, 32, 0.7)",
          "line": {
           "color": "white",
           "width": 1.5
          },
          "size": 10
         },
         "mode": "markers",
         "name": "Shortest",
         "showlegend": false,
         "type": "scatter",
         "x": [
          3
         ],
         "y": [
          23
         ]
        },
        {
         "hovertemplate": "<b>Shortest Path Length:</b> 4<extra></extra>",
         "marker": {
          "color": "rgba(218, 165, 32, 0.7)",
          "line": {
           "color": "white",
           "width": 1.5
          },
          "size": 10
         },
         "mode": "markers",
         "name": "Shortest",
         "showlegend": false,
         "type": "scatter",
         "x": [
          4
         ],
         "y": [
          24
         ]
        },
        {
         "hovertemplate": "<b>Shortest Path Length:</b> 4<extra></extra>",
         "marker": {
          "color": "rgba(218, 165, 32, 0.7)",
          "line": {
           "color": "white",
           "width": 1.5
          },
          "size": 10
         },
         "mode": "markers",
         "name": "Shortest",
         "showlegend": false,
         "type": "scatter",
         "x": [
          4
         ],
         "y": [
          25
         ]
        },
        {
         "hovertemplate": "<b>Shortest Path Length:</b> 4<extra></extra>",
         "marker": {
          "color": "rgba(218, 165, 32, 0.7)",
          "line": {
           "color": "white",
           "width": 1.5
          },
          "size": 10
         },
         "mode": "markers",
         "name": "Shortest",
         "showlegend": false,
         "type": "scatter",
         "x": [
          4
         ],
         "y": [
          26
         ]
        },
        {
         "hovertemplate": "<b>Shortest Path Length:</b> 3<extra></extra>",
         "marker": {
          "color": "rgba(218, 165, 32, 0.7)",
          "line": {
           "color": "white",
           "width": 1.5
          },
          "size": 10
         },
         "mode": "markers",
         "name": "Shortest",
         "showlegend": false,
         "type": "scatter",
         "x": [
          3
         ],
         "y": [
          27
         ]
        },
        {
         "hovertemplate": "<b>Shortest Path Length:</b> 3<extra></extra>",
         "marker": {
          "color": "rgba(218, 165, 32, 0.7)",
          "line": {
           "color": "white",
           "width": 1.5
          },
          "size": 10
         },
         "mode": "markers",
         "name": "Shortest",
         "showlegend": false,
         "type": "scatter",
         "x": [
          3
         ],
         "y": [
          28
         ]
        },
        {
         "hovertemplate": "<b>Shortest Path Length:</b> 3<extra></extra>",
         "marker": {
          "color": "rgba(218, 165, 32, 0.7)",
          "line": {
           "color": "white",
           "width": 1.5
          },
          "size": 10
         },
         "mode": "markers",
         "name": "Shortest",
         "showlegend": false,
         "type": "scatter",
         "x": [
          3
         ],
         "y": [
          29
         ]
        },
        {
         "hovertemplate": "<b>Shortest Path Length:</b> 3<extra></extra>",
         "marker": {
          "color": "rgba(218, 165, 32, 0.7)",
          "line": {
           "color": "white",
           "width": 1.5
          },
          "size": 10
         },
         "mode": "markers",
         "name": "Shortest",
         "showlegend": false,
         "type": "scatter",
         "x": [
          3
         ],
         "y": [
          30
         ]
        },
        {
         "hovertemplate": "<b>Shortest Path Length:</b> 3<extra></extra>",
         "marker": {
          "color": "rgba(218, 165, 32, 0.7)",
          "line": {
           "color": "white",
           "width": 1.5
          },
          "size": 10
         },
         "mode": "markers",
         "name": "Shortest",
         "showlegend": false,
         "type": "scatter",
         "x": [
          3
         ],
         "y": [
          31
         ]
        },
        {
         "hovertemplate": "<b>Shortest Path Length:</b> 4<extra></extra>",
         "marker": {
          "color": "rgba(218, 165, 32, 0.7)",
          "line": {
           "color": "white",
           "width": 1.5
          },
          "size": 10
         },
         "mode": "markers",
         "name": "Shortest",
         "showlegend": false,
         "type": "scatter",
         "x": [
          4
         ],
         "y": [
          32
         ]
        },
        {
         "hovertemplate": "<b>Shortest Path Length:</b> 3<extra></extra>",
         "marker": {
          "color": "rgba(218, 165, 32, 0.7)",
          "line": {
           "color": "white",
           "width": 1.5
          },
          "size": 10
         },
         "mode": "markers",
         "name": "Shortest",
         "showlegend": false,
         "type": "scatter",
         "x": [
          3
         ],
         "y": [
          33
         ]
        },
        {
         "hovertemplate": "<b>Shortest Path Length:</b> 4<extra></extra>",
         "marker": {
          "color": "rgba(218, 165, 32, 0.7)",
          "line": {
           "color": "white",
           "width": 1.5
          },
          "size": 10
         },
         "mode": "markers",
         "name": "Shortest",
         "showlegend": false,
         "type": "scatter",
         "x": [
          4
         ],
         "y": [
          34
         ]
        },
        {
         "hovertemplate": "<b>Shortest Path Length:</b> 3<extra></extra>",
         "marker": {
          "color": "rgba(218, 165, 32, 0.7)",
          "line": {
           "color": "white",
           "width": 1.5
          },
          "size": 10
         },
         "mode": "markers",
         "name": "Shortest",
         "showlegend": false,
         "type": "scatter",
         "x": [
          3
         ],
         "y": [
          35
         ]
        },
        {
         "hovertemplate": "<b>Shortest Path Length:</b> 3<extra></extra>",
         "marker": {
          "color": "rgba(218, 165, 32, 0.7)",
          "line": {
           "color": "white",
           "width": 1.5
          },
          "size": 10
         },
         "mode": "markers",
         "name": "Shortest",
         "showlegend": false,
         "type": "scatter",
         "x": [
          3
         ],
         "y": [
          36
         ]
        },
        {
         "hovertemplate": "<b>Shortest Path Length:</b> 4<extra></extra>",
         "marker": {
          "color": "rgba(218, 165, 32, 0.7)",
          "line": {
           "color": "white",
           "width": 1.5
          },
          "size": 10
         },
         "mode": "markers",
         "name": "Shortest",
         "showlegend": false,
         "type": "scatter",
         "x": [
          4
         ],
         "y": [
          37
         ]
        },
        {
         "hovertemplate": "<b>Shortest Path Length:</b> 3<extra></extra>",
         "marker": {
          "color": "rgba(218, 165, 32, 0.7)",
          "line": {
           "color": "white",
           "width": 1.5
          },
          "size": 10
         },
         "mode": "markers",
         "name": "Shortest",
         "showlegend": false,
         "type": "scatter",
         "x": [
          3
         ],
         "y": [
          38
         ]
        },
        {
         "hovertemplate": "<b>Shortest Path Length:</b> 4<extra></extra>",
         "marker": {
          "color": "rgba(218, 165, 32, 0.7)",
          "line": {
           "color": "white",
           "width": 1.5
          },
          "size": 10
         },
         "mode": "markers",
         "name": "Shortest",
         "showlegend": false,
         "type": "scatter",
         "x": [
          4
         ],
         "y": [
          39
         ]
        },
        {
         "hovertemplate": "<b>Shortest Path Length:</b> 3<extra></extra>",
         "marker": {
          "color": "rgba(218, 165, 32, 0.7)",
          "line": {
           "color": "white",
           "width": 1.5
          },
          "size": 10
         },
         "mode": "markers",
         "name": "Shortest",
         "showlegend": false,
         "type": "scatter",
         "x": [
          3
         ],
         "y": [
          40
         ]
        },
        {
         "hovertemplate": "<b>Mean Path Length:</b> 2.0<extra></extra>",
         "marker": {
          "color": "rgba(0, 191, 255, 0.7)",
          "line": {
           "color": "white",
           "width": 1.5
          },
          "size": 10
         },
         "mode": "markers",
         "name": "Before Tuning",
         "showlegend": true,
         "type": "scatter",
         "x": [
          2
         ],
         "y": [
          0.15
         ]
        },
        {
         "hovertemplate": "<b>Mean Path Length:</b> 2.0<extra></extra>",
         "marker": {
          "color": "rgba(0, 191, 255, 0.7)",
          "line": {
           "color": "white",
           "width": 1.5
          },
          "size": 10
         },
         "mode": "markers",
         "name": "Before Tuning",
         "showlegend": false,
         "type": "scatter",
         "x": [
          2
         ],
         "y": [
          1.15
         ]
        },
        {
         "hovertemplate": "<b>Mean Path Length:</b> 2.0<extra></extra>",
         "marker": {
          "color": "rgba(0, 191, 255, 0.7)",
          "line": {
           "color": "white",
           "width": 1.5
          },
          "size": 10
         },
         "mode": "markers",
         "name": "Before Tuning",
         "showlegend": false,
         "type": "scatter",
         "x": [
          2
         ],
         "y": [
          2.15
         ]
        },
        {
         "hovertemplate": "<b>Mean Path Length:</b> 2.0<extra></extra>",
         "marker": {
          "color": "rgba(0, 191, 255, 0.7)",
          "line": {
           "color": "white",
           "width": 1.5
          },
          "size": 10
         },
         "mode": "markers",
         "name": "Before Tuning",
         "showlegend": false,
         "type": "scatter",
         "x": [
          2
         ],
         "y": [
          3.15
         ]
        },
        {
         "hovertemplate": "<b>Mean Path Length:</b> 2.0<extra></extra>",
         "marker": {
          "color": "rgba(0, 191, 255, 0.7)",
          "line": {
           "color": "white",
           "width": 1.5
          },
          "size": 10
         },
         "mode": "markers",
         "name": "Before Tuning",
         "showlegend": false,
         "type": "scatter",
         "x": [
          2
         ],
         "y": [
          4.15
         ]
        },
        {
         "hovertemplate": "<b>Mean Path Length:</b> 2.0<extra></extra>",
         "marker": {
          "color": "rgba(0, 191, 255, 0.7)",
          "line": {
           "color": "white",
           "width": 1.5
          },
          "size": 10
         },
         "mode": "markers",
         "name": "Before Tuning",
         "showlegend": false,
         "type": "scatter",
         "x": [
          2
         ],
         "y": [
          5.15
         ]
        },
        {
         "hovertemplate": "<b>Mean Path Length:</b> 2.0<extra></extra>",
         "marker": {
          "color": "rgba(0, 191, 255, 0.7)",
          "line": {
           "color": "white",
           "width": 1.5
          },
          "size": 10
         },
         "mode": "markers",
         "name": "Before Tuning",
         "showlegend": false,
         "type": "scatter",
         "x": [
          2
         ],
         "y": [
          6.15
         ]
        },
        {
         "hovertemplate": "<b>Mean Path Length:</b> 2.0<extra></extra>",
         "marker": {
          "color": "rgba(0, 191, 255, 0.7)",
          "line": {
           "color": "white",
           "width": 1.5
          },
          "size": 10
         },
         "mode": "markers",
         "name": "Before Tuning",
         "showlegend": false,
         "type": "scatter",
         "x": [
          2
         ],
         "y": [
          7.15
         ]
        },
        {
         "hovertemplate": "<b>Mean Path Length:</b> 2.0<extra></extra>",
         "marker": {
          "color": "rgba(0, 191, 255, 0.7)",
          "line": {
           "color": "white",
           "width": 1.5
          },
          "size": 10
         },
         "mode": "markers",
         "name": "Before Tuning",
         "showlegend": false,
         "type": "scatter",
         "x": [
          2
         ],
         "y": [
          8.15
         ]
        },
        {
         "hovertemplate": "<b>Mean Path Length:</b> 3.0<extra></extra>",
         "marker": {
          "color": "rgba(0, 191, 255, 0.7)",
          "line": {
           "color": "white",
           "width": 1.5
          },
          "size": 10
         },
         "mode": "markers",
         "name": "Before Tuning",
         "showlegend": false,
         "type": "scatter",
         "x": [
          3
         ],
         "y": [
          9.15
         ]
        },
        {
         "hovertemplate": "<b>Mean Path Length:</b> 3.0<extra></extra>",
         "marker": {
          "color": "rgba(0, 191, 255, 0.7)",
          "line": {
           "color": "white",
           "width": 1.5
          },
          "size": 10
         },
         "mode": "markers",
         "name": "Before Tuning",
         "showlegend": false,
         "type": "scatter",
         "x": [
          3
         ],
         "y": [
          10.15
         ]
        },
        {
         "hovertemplate": "<b>Mean Path Length:</b> 3.0<extra></extra>",
         "marker": {
          "color": "rgba(0, 191, 255, 0.7)",
          "line": {
           "color": "white",
           "width": 1.5
          },
          "size": 10
         },
         "mode": "markers",
         "name": "Before Tuning",
         "showlegend": false,
         "type": "scatter",
         "x": [
          3
         ],
         "y": [
          11.15
         ]
        },
        {
         "hovertemplate": "<b>Mean Path Length:</b> 3.0<extra></extra>",
         "marker": {
          "color": "rgba(0, 191, 255, 0.7)",
          "line": {
           "color": "white",
           "width": 1.5
          },
          "size": 10
         },
         "mode": "markers",
         "name": "Before Tuning",
         "showlegend": false,
         "type": "scatter",
         "x": [
          3
         ],
         "y": [
          12.15
         ]
        },
        {
         "hovertemplate": "<b>Mean Path Length:</b> 3.0<extra></extra>",
         "marker": {
          "color": "rgba(0, 191, 255, 0.7)",
          "line": {
           "color": "white",
           "width": 1.5
          },
          "size": 10
         },
         "mode": "markers",
         "name": "Before Tuning",
         "showlegend": false,
         "type": "scatter",
         "x": [
          3
         ],
         "y": [
          13.15
         ]
        },
        {
         "hovertemplate": "<b>Mean Path Length:</b> 3.0<extra></extra>",
         "marker": {
          "color": "rgba(0, 191, 255, 0.7)",
          "line": {
           "color": "white",
           "width": 1.5
          },
          "size": 10
         },
         "mode": "markers",
         "name": "Before Tuning",
         "showlegend": false,
         "type": "scatter",
         "x": [
          3
         ],
         "y": [
          14.15
         ]
        },
        {
         "hovertemplate": "<b>Mean Path Length:</b> 3.0<extra></extra>",
         "marker": {
          "color": "rgba(0, 191, 255, 0.7)",
          "line": {
           "color": "white",
           "width": 1.5
          },
          "size": 10
         },
         "mode": "markers",
         "name": "Before Tuning",
         "showlegend": false,
         "type": "scatter",
         "x": [
          3
         ],
         "y": [
          15.15
         ]
        },
        {
         "hovertemplate": "<b>Mean Path Length:</b> 3.0<extra></extra>",
         "marker": {
          "color": "rgba(0, 191, 255, 0.7)",
          "line": {
           "color": "white",
           "width": 1.5
          },
          "size": 10
         },
         "mode": "markers",
         "name": "Before Tuning",
         "showlegend": false,
         "type": "scatter",
         "x": [
          3
         ],
         "y": [
          16.15
         ]
        },
        {
         "hovertemplate": "<b>Mean Path Length:</b> 3.0<extra></extra>",
         "marker": {
          "color": "rgba(0, 191, 255, 0.7)",
          "line": {
           "color": "white",
           "width": 1.5
          },
          "size": 10
         },
         "mode": "markers",
         "name": "Before Tuning",
         "showlegend": false,
         "type": "scatter",
         "x": [
          3
         ],
         "y": [
          17.15
         ]
        },
        {
         "hovertemplate": "<b>Mean Path Length:</b> 4.0<extra></extra>",
         "marker": {
          "color": "rgba(0, 191, 255, 0.7)",
          "line": {
           "color": "white",
           "width": 1.5
          },
          "size": 10
         },
         "mode": "markers",
         "name": "Before Tuning",
         "showlegend": false,
         "type": "scatter",
         "x": [
          4
         ],
         "y": [
          18.15
         ]
        },
        {
         "hovertemplate": "<b>Mean Path Length:</b> 4.0<extra></extra>",
         "marker": {
          "color": "rgba(0, 191, 255, 0.7)",
          "line": {
           "color": "white",
           "width": 1.5
          },
          "size": 10
         },
         "mode": "markers",
         "name": "Before Tuning",
         "showlegend": false,
         "type": "scatter",
         "x": [
          4
         ],
         "y": [
          19.15
         ]
        },
        {
         "hovertemplate": "<b>Mean Path Length:</b> 4.0<extra></extra>",
         "marker": {
          "color": "rgba(0, 191, 255, 0.7)",
          "line": {
           "color": "white",
           "width": 1.5
          },
          "size": 10
         },
         "mode": "markers",
         "name": "Before Tuning",
         "showlegend": false,
         "type": "scatter",
         "x": [
          4
         ],
         "y": [
          20.15
         ]
        },
        {
         "hovertemplate": "<b>Mean Path Length:</b> 4.0<extra></extra>",
         "marker": {
          "color": "rgba(0, 191, 255, 0.7)",
          "line": {
           "color": "white",
           "width": 1.5
          },
          "size": 10
         },
         "mode": "markers",
         "name": "Before Tuning",
         "showlegend": false,
         "type": "scatter",
         "x": [
          4
         ],
         "y": [
          21.15
         ]
        },
        {
         "hovertemplate": "<b>Mean Path Length:</b> 4.0<extra></extra>",
         "marker": {
          "color": "rgba(0, 191, 255, 0.7)",
          "line": {
           "color": "white",
           "width": 1.5
          },
          "size": 10
         },
         "mode": "markers",
         "name": "Before Tuning",
         "showlegend": false,
         "type": "scatter",
         "x": [
          4
         ],
         "y": [
          22.15
         ]
        },
        {
         "hovertemplate": "<b>Mean Path Length:</b> 4.0<extra></extra>",
         "marker": {
          "color": "rgba(0, 191, 255, 0.7)",
          "line": {
           "color": "white",
           "width": 1.5
          },
          "size": 10
         },
         "mode": "markers",
         "name": "Before Tuning",
         "showlegend": false,
         "type": "scatter",
         "x": [
          4
         ],
         "y": [
          23.15
         ]
        },
        {
         "hovertemplate": "<b>Mean Path Length:</b> 4.0<extra></extra>",
         "marker": {
          "color": "rgba(0, 191, 255, 0.7)",
          "line": {
           "color": "white",
           "width": 1.5
          },
          "size": 10
         },
         "mode": "markers",
         "name": "Before Tuning",
         "showlegend": false,
         "type": "scatter",
         "x": [
          4
         ],
         "y": [
          24.15
         ]
        },
        {
         "hovertemplate": "<b>Mean Path Length:</b> 4.0<extra></extra>",
         "marker": {
          "color": "rgba(0, 191, 255, 0.7)",
          "line": {
           "color": "white",
           "width": 1.5
          },
          "size": 10
         },
         "mode": "markers",
         "name": "Before Tuning",
         "showlegend": false,
         "type": "scatter",
         "x": [
          4
         ],
         "y": [
          25.15
         ]
        },
        {
         "hovertemplate": "<b>Mean Path Length:</b> 4.0<extra></extra>",
         "marker": {
          "color": "rgba(0, 191, 255, 0.7)",
          "line": {
           "color": "white",
           "width": 1.5
          },
          "size": 10
         },
         "mode": "markers",
         "name": "Before Tuning",
         "showlegend": false,
         "type": "scatter",
         "x": [
          4
         ],
         "y": [
          26.15
         ]
        },
        {
         "hovertemplate": "<b>Mean Path Length:</b> 4.0<extra></extra>",
         "marker": {
          "color": "rgba(0, 191, 255, 0.7)",
          "line": {
           "color": "white",
           "width": 1.5
          },
          "size": 10
         },
         "mode": "markers",
         "name": "Before Tuning",
         "showlegend": false,
         "type": "scatter",
         "x": [
          4
         ],
         "y": [
          27.15
         ]
        },
        {
         "hovertemplate": "<b>Mean Path Length:</b> 4.0<extra></extra>",
         "marker": {
          "color": "rgba(0, 191, 255, 0.7)",
          "line": {
           "color": "white",
           "width": 1.5
          },
          "size": 10
         },
         "mode": "markers",
         "name": "Before Tuning",
         "showlegend": false,
         "type": "scatter",
         "x": [
          4
         ],
         "y": [
          28.15
         ]
        },
        {
         "hovertemplate": "<b>Mean Path Length:</b> 4.0<extra></extra>",
         "marker": {
          "color": "rgba(0, 191, 255, 0.7)",
          "line": {
           "color": "white",
           "width": 1.5
          },
          "size": 10
         },
         "mode": "markers",
         "name": "Before Tuning",
         "showlegend": false,
         "type": "scatter",
         "x": [
          4
         ],
         "y": [
          29.15
         ]
        },
        {
         "hovertemplate": "<b>Mean Path Length:</b> 4.0<extra></extra>",
         "marker": {
          "color": "rgba(0, 191, 255, 0.7)",
          "line": {
           "color": "white",
           "width": 1.5
          },
          "size": 10
         },
         "mode": "markers",
         "name": "Before Tuning",
         "showlegend": false,
         "type": "scatter",
         "x": [
          4
         ],
         "y": [
          30.15
         ]
        },
        {
         "hovertemplate": "<b>Mean Path Length:</b> 4.0<extra></extra>",
         "marker": {
          "color": "rgba(0, 191, 255, 0.7)",
          "line": {
           "color": "white",
           "width": 1.5
          },
          "size": 10
         },
         "mode": "markers",
         "name": "Before Tuning",
         "showlegend": false,
         "type": "scatter",
         "x": [
          4
         ],
         "y": [
          31.15
         ]
        },
        {
         "hovertemplate": "<b>Mean Path Length:</b> 4.0<extra></extra>",
         "marker": {
          "color": "rgba(0, 191, 255, 0.7)",
          "line": {
           "color": "white",
           "width": 1.5
          },
          "size": 10
         },
         "mode": "markers",
         "name": "Before Tuning",
         "showlegend": false,
         "type": "scatter",
         "x": [
          4
         ],
         "y": [
          32.15
         ]
        },
        {
         "hovertemplate": "<b>Mean Path Length:</b> 4.0<extra></extra>",
         "marker": {
          "color": "rgba(0, 191, 255, 0.7)",
          "line": {
           "color": "white",
           "width": 1.5
          },
          "size": 10
         },
         "mode": "markers",
         "name": "Before Tuning",
         "showlegend": false,
         "type": "scatter",
         "x": [
          4
         ],
         "y": [
          33.15
         ]
        },
        {
         "hovertemplate": "<b>Mean Path Length:</b> 4.0<extra></extra>",
         "marker": {
          "color": "rgba(0, 191, 255, 0.7)",
          "line": {
           "color": "white",
           "width": 1.5
          },
          "size": 10
         },
         "mode": "markers",
         "name": "Before Tuning",
         "showlegend": false,
         "type": "scatter",
         "x": [
          4
         ],
         "y": [
          34.15
         ]
        },
        {
         "hovertemplate": "<b>Mean Path Length:</b> 4.0<extra></extra>",
         "marker": {
          "color": "rgba(0, 191, 255, 0.7)",
          "line": {
           "color": "white",
           "width": 1.5
          },
          "size": 10
         },
         "mode": "markers",
         "name": "Before Tuning",
         "showlegend": false,
         "type": "scatter",
         "x": [
          4
         ],
         "y": [
          35.15
         ]
        },
        {
         "hovertemplate": "<b>Mean Path Length:</b> 4.0<extra></extra>",
         "marker": {
          "color": "rgba(0, 191, 255, 0.7)",
          "line": {
           "color": "white",
           "width": 1.5
          },
          "size": 10
         },
         "mode": "markers",
         "name": "Before Tuning",
         "showlegend": false,
         "type": "scatter",
         "x": [
          4
         ],
         "y": [
          36.15
         ]
        },
        {
         "hovertemplate": "<b>Mean Path Length:</b> 4.0<extra></extra>",
         "marker": {
          "color": "rgba(0, 191, 255, 0.7)",
          "line": {
           "color": "white",
           "width": 1.5
          },
          "size": 10
         },
         "mode": "markers",
         "name": "Before Tuning",
         "showlegend": false,
         "type": "scatter",
         "x": [
          4
         ],
         "y": [
          37.15
         ]
        },
        {
         "hovertemplate": "<b>Mean Path Length:</b> 4.0<extra></extra>",
         "marker": {
          "color": "rgba(0, 191, 255, 0.7)",
          "line": {
           "color": "white",
           "width": 1.5
          },
          "size": 10
         },
         "mode": "markers",
         "name": "Before Tuning",
         "showlegend": false,
         "type": "scatter",
         "x": [
          4
         ],
         "y": [
          38.15
         ]
        },
        {
         "hovertemplate": "<b>Mean Path Length:</b> 4.0<extra></extra>",
         "marker": {
          "color": "rgba(0, 191, 255, 0.7)",
          "line": {
           "color": "white",
           "width": 1.5
          },
          "size": 10
         },
         "mode": "markers",
         "name": "Before Tuning",
         "showlegend": false,
         "type": "scatter",
         "x": [
          4
         ],
         "y": [
          39.15
         ]
        },
        {
         "hovertemplate": "<b>Mean Path Length:</b> 4.0<extra></extra>",
         "marker": {
          "color": "rgba(0, 191, 255, 0.7)",
          "line": {
           "color": "white",
           "width": 1.5
          },
          "size": 10
         },
         "mode": "markers",
         "name": "Before Tuning",
         "showlegend": false,
         "type": "scatter",
         "x": [
          4
         ],
         "y": [
          40.15
         ]
        },
        {
         "hovertemplate": "<b>Mean Path Length:</b> 2.0<extra></extra>",
         "marker": {
          "color": "rgba(255, 127, 80, 0.7)",
          "line": {
           "color": "white",
           "width": 1.5
          },
          "size": 10
         },
         "mode": "markers",
         "name": "After 4o Tuning",
         "showlegend": true,
         "type": "scatter",
         "x": [
          2
         ],
         "y": [
          0
         ]
        },
        {
         "hovertemplate": "<b>Mean Path Length:</b> 2.0<extra></extra>",
         "marker": {
          "color": "rgba(255, 127, 80, 0.7)",
          "line": {
           "color": "white",
           "width": 1.5
          },
          "size": 10
         },
         "mode": "markers",
         "name": "After 4o Tuning",
         "showlegend": false,
         "type": "scatter",
         "x": [
          2
         ],
         "y": [
          1
         ]
        },
        {
         "hovertemplate": "<b>Mean Path Length:</b> 2.0<extra></extra>",
         "marker": {
          "color": "rgba(255, 127, 80, 0.7)",
          "line": {
           "color": "white",
           "width": 1.5
          },
          "size": 10
         },
         "mode": "markers",
         "name": "After 4o Tuning",
         "showlegend": false,
         "type": "scatter",
         "x": [
          2
         ],
         "y": [
          2
         ]
        },
        {
         "hovertemplate": "<b>Mean Path Length:</b> 2.0<extra></extra>",
         "marker": {
          "color": "rgba(255, 127, 80, 0.7)",
          "line": {
           "color": "white",
           "width": 1.5
          },
          "size": 10
         },
         "mode": "markers",
         "name": "After 4o Tuning",
         "showlegend": false,
         "type": "scatter",
         "x": [
          2
         ],
         "y": [
          3
         ]
        },
        {
         "hovertemplate": "<b>Mean Path Length:</b> 2.0<extra></extra>",
         "marker": {
          "color": "rgba(255, 127, 80, 0.7)",
          "line": {
           "color": "white",
           "width": 1.5
          },
          "size": 10
         },
         "mode": "markers",
         "name": "After 4o Tuning",
         "showlegend": false,
         "type": "scatter",
         "x": [
          2
         ],
         "y": [
          4
         ]
        },
        {
         "hovertemplate": "<b>Mean Path Length:</b> 2.0<extra></extra>",
         "marker": {
          "color": "rgba(255, 127, 80, 0.7)",
          "line": {
           "color": "white",
           "width": 1.5
          },
          "size": 10
         },
         "mode": "markers",
         "name": "After 4o Tuning",
         "showlegend": false,
         "type": "scatter",
         "x": [
          2
         ],
         "y": [
          5
         ]
        },
        {
         "hovertemplate": "<b>Mean Path Length:</b> 2.0<extra></extra>",
         "marker": {
          "color": "rgba(255, 127, 80, 0.7)",
          "line": {
           "color": "white",
           "width": 1.5
          },
          "size": 10
         },
         "mode": "markers",
         "name": "After 4o Tuning",
         "showlegend": false,
         "type": "scatter",
         "x": [
          2
         ],
         "y": [
          6
         ]
        },
        {
         "hovertemplate": "<b>Mean Path Length:</b> 2.0<extra></extra>",
         "marker": {
          "color": "rgba(255, 127, 80, 0.7)",
          "line": {
           "color": "white",
           "width": 1.5
          },
          "size": 10
         },
         "mode": "markers",
         "name": "After 4o Tuning",
         "showlegend": false,
         "type": "scatter",
         "x": [
          2
         ],
         "y": [
          7
         ]
        },
        {
         "hovertemplate": "<b>Mean Path Length:</b> 2.0<extra></extra>",
         "marker": {
          "color": "rgba(255, 127, 80, 0.7)",
          "line": {
           "color": "white",
           "width": 1.5
          },
          "size": 10
         },
         "mode": "markers",
         "name": "After 4o Tuning",
         "showlegend": false,
         "type": "scatter",
         "x": [
          2
         ],
         "y": [
          8
         ]
        },
        {
         "hovertemplate": "<b>Mean Path Length:</b> 3.0<extra></extra>",
         "marker": {
          "color": "rgba(255, 127, 80, 0.7)",
          "line": {
           "color": "white",
           "width": 1.5
          },
          "size": 10
         },
         "mode": "markers",
         "name": "After 4o Tuning",
         "showlegend": false,
         "type": "scatter",
         "x": [
          3
         ],
         "y": [
          9
         ]
        },
        {
         "hovertemplate": "<b>Mean Path Length:</b> 3.0<extra></extra>",
         "marker": {
          "color": "rgba(255, 127, 80, 0.7)",
          "line": {
           "color": "white",
           "width": 1.5
          },
          "size": 10
         },
         "mode": "markers",
         "name": "After 4o Tuning",
         "showlegend": false,
         "type": "scatter",
         "x": [
          3
         ],
         "y": [
          10
         ]
        },
        {
         "hovertemplate": "<b>Mean Path Length:</b> 5.0<extra></extra>",
         "marker": {
          "color": "rgba(255, 127, 80, 0.7)",
          "line": {
           "color": "white",
           "width": 1.5
          },
          "size": 10
         },
         "mode": "markers",
         "name": "After 4o Tuning",
         "showlegend": false,
         "type": "scatter",
         "x": [
          5
         ],
         "y": [
          11
         ]
        },
        {
         "hovertemplate": "<b>Mean Path Length:</b> 4.0<extra></extra>",
         "marker": {
          "color": "rgba(255, 127, 80, 0.7)",
          "line": {
           "color": "white",
           "width": 1.5
          },
          "size": 10
         },
         "mode": "markers",
         "name": "After 4o Tuning",
         "showlegend": false,
         "type": "scatter",
         "x": [
          4
         ],
         "y": [
          12
         ]
        },
        {
         "hovertemplate": "<b>Mean Path Length:</b> 3.0<extra></extra>",
         "marker": {
          "color": "rgba(255, 127, 80, 0.7)",
          "line": {
           "color": "white",
           "width": 1.5
          },
          "size": 10
         },
         "mode": "markers",
         "name": "After 4o Tuning",
         "showlegend": false,
         "type": "scatter",
         "x": [
          3
         ],
         "y": [
          13
         ]
        },
        {
         "hovertemplate": "<b>Mean Path Length:</b> 3.0<extra></extra>",
         "marker": {
          "color": "rgba(255, 127, 80, 0.7)",
          "line": {
           "color": "white",
           "width": 1.5
          },
          "size": 10
         },
         "mode": "markers",
         "name": "After 4o Tuning",
         "showlegend": false,
         "type": "scatter",
         "x": [
          3
         ],
         "y": [
          14
         ]
        },
        {
         "hovertemplate": "<b>Mean Path Length:</b> 3.0<extra></extra>",
         "marker": {
          "color": "rgba(255, 127, 80, 0.7)",
          "line": {
           "color": "white",
           "width": 1.5
          },
          "size": 10
         },
         "mode": "markers",
         "name": "After 4o Tuning",
         "showlegend": false,
         "type": "scatter",
         "x": [
          3
         ],
         "y": [
          15
         ]
        },
        {
         "hovertemplate": "<b>Mean Path Length:</b> 3.0<extra></extra>",
         "marker": {
          "color": "rgba(255, 127, 80, 0.7)",
          "line": {
           "color": "white",
           "width": 1.5
          },
          "size": 10
         },
         "mode": "markers",
         "name": "After 4o Tuning",
         "showlegend": false,
         "type": "scatter",
         "x": [
          3
         ],
         "y": [
          16
         ]
        },
        {
         "hovertemplate": "<b>Mean Path Length:</b> 3.0<extra></extra>",
         "marker": {
          "color": "rgba(255, 127, 80, 0.7)",
          "line": {
           "color": "white",
           "width": 1.5
          },
          "size": 10
         },
         "mode": "markers",
         "name": "After 4o Tuning",
         "showlegend": false,
         "type": "scatter",
         "x": [
          3
         ],
         "y": [
          17
         ]
        },
        {
         "hovertemplate": "<b>Mean Path Length:</b> 15.0<extra></extra>",
         "marker": {
          "color": "rgba(255, 127, 80, 0.7)",
          "line": {
           "color": "white",
           "width": 1.5
          },
          "size": 10
         },
         "mode": "markers",
         "name": "After 4o Tuning",
         "showlegend": false,
         "type": "scatter",
         "x": [
          15
         ],
         "y": [
          18
         ]
        },
        {
         "hovertemplate": "<b>Mean Path Length:</b> 4.0<extra></extra>",
         "marker": {
          "color": "rgba(255, 127, 80, 0.7)",
          "line": {
           "color": "white",
           "width": 1.5
          },
          "size": 10
         },
         "mode": "markers",
         "name": "After 4o Tuning",
         "showlegend": false,
         "type": "scatter",
         "x": [
          4
         ],
         "y": [
          19
         ]
        },
        {
         "hovertemplate": "<b>Mean Path Length:</b> 6.0<extra></extra>",
         "marker": {
          "color": "rgba(255, 127, 80, 0.7)",
          "line": {
           "color": "white",
           "width": 1.5
          },
          "size": 10
         },
         "mode": "markers",
         "name": "After 4o Tuning",
         "showlegend": false,
         "type": "scatter",
         "x": [
          6
         ],
         "y": [
          20
         ]
        },
        {
         "hovertemplate": "<b>Mean Path Length:</b> 6.0<extra></extra>",
         "marker": {
          "color": "rgba(255, 127, 80, 0.7)",
          "line": {
           "color": "white",
           "width": 1.5
          },
          "size": 10
         },
         "mode": "markers",
         "name": "After 4o Tuning",
         "showlegend": false,
         "type": "scatter",
         "x": [
          6
         ],
         "y": [
          21
         ]
        },
        {
         "hovertemplate": "<b>Mean Path Length:</b> 5.0<extra></extra>",
         "marker": {
          "color": "rgba(255, 127, 80, 0.7)",
          "line": {
           "color": "white",
           "width": 1.5
          },
          "size": 10
         },
         "mode": "markers",
         "name": "After 4o Tuning",
         "showlegend": false,
         "type": "scatter",
         "x": [
          5
         ],
         "y": [
          22
         ]
        },
        {
         "hovertemplate": "<b>Mean Path Length:</b> 4.0<extra></extra>",
         "marker": {
          "color": "rgba(255, 127, 80, 0.7)",
          "line": {
           "color": "white",
           "width": 1.5
          },
          "size": 10
         },
         "mode": "markers",
         "name": "After 4o Tuning",
         "showlegend": false,
         "type": "scatter",
         "x": [
          4
         ],
         "y": [
          23
         ]
        },
        {
         "hovertemplate": "<b>Mean Path Length:</b> 4.0<extra></extra>",
         "marker": {
          "color": "rgba(255, 127, 80, 0.7)",
          "line": {
           "color": "white",
           "width": 1.5
          },
          "size": 10
         },
         "mode": "markers",
         "name": "After 4o Tuning",
         "showlegend": false,
         "type": "scatter",
         "x": [
          4
         ],
         "y": [
          24
         ]
        },
        {
         "hovertemplate": "<b>Mean Path Length:</b> 4.0<extra></extra>",
         "marker": {
          "color": "rgba(255, 127, 80, 0.7)",
          "line": {
           "color": "white",
           "width": 1.5
          },
          "size": 10
         },
         "mode": "markers",
         "name": "After 4o Tuning",
         "showlegend": false,
         "type": "scatter",
         "x": [
          4
         ],
         "y": [
          25
         ]
        },
        {
         "hovertemplate": "<b>Mean Path Length:</b> 4.0<extra></extra>",
         "marker": {
          "color": "rgba(255, 127, 80, 0.7)",
          "line": {
           "color": "white",
           "width": 1.5
          },
          "size": 10
         },
         "mode": "markers",
         "name": "After 4o Tuning",
         "showlegend": false,
         "type": "scatter",
         "x": [
          4
         ],
         "y": [
          26
         ]
        },
        {
         "hovertemplate": "<b>Mean Path Length:</b> 7.0<extra></extra>",
         "marker": {
          "color": "rgba(255, 127, 80, 0.7)",
          "line": {
           "color": "white",
           "width": 1.5
          },
          "size": 10
         },
         "mode": "markers",
         "name": "After 4o Tuning",
         "showlegend": false,
         "type": "scatter",
         "x": [
          7
         ],
         "y": [
          27
         ]
        },
        {
         "hovertemplate": "<b>Mean Path Length:</b> 4.0<extra></extra>",
         "marker": {
          "color": "rgba(255, 127, 80, 0.7)",
          "line": {
           "color": "white",
           "width": 1.5
          },
          "size": 10
         },
         "mode": "markers",
         "name": "After 4o Tuning",
         "showlegend": false,
         "type": "scatter",
         "x": [
          4
         ],
         "y": [
          28
         ]
        },
        {
         "hovertemplate": "<b>Mean Path Length:</b> 4.0<extra></extra>",
         "marker": {
          "color": "rgba(255, 127, 80, 0.7)",
          "line": {
           "color": "white",
           "width": 1.5
          },
          "size": 10
         },
         "mode": "markers",
         "name": "After 4o Tuning",
         "showlegend": false,
         "type": "scatter",
         "x": [
          4
         ],
         "y": [
          29
         ]
        },
        {
         "hovertemplate": "<b>Mean Path Length:</b> 5.0<extra></extra>",
         "marker": {
          "color": "rgba(255, 127, 80, 0.7)",
          "line": {
           "color": "white",
           "width": 1.5
          },
          "size": 10
         },
         "mode": "markers",
         "name": "After 4o Tuning",
         "showlegend": false,
         "type": "scatter",
         "x": [
          5
         ],
         "y": [
          30
         ]
        },
        {
         "hovertemplate": "<b>Mean Path Length:</b> 4.0<extra></extra>",
         "marker": {
          "color": "rgba(255, 127, 80, 0.7)",
          "line": {
           "color": "white",
           "width": 1.5
          },
          "size": 10
         },
         "mode": "markers",
         "name": "After 4o Tuning",
         "showlegend": false,
         "type": "scatter",
         "x": [
          4
         ],
         "y": [
          31
         ]
        },
        {
         "hovertemplate": "<b>Mean Path Length:</b> 5.0<extra></extra>",
         "marker": {
          "color": "rgba(255, 127, 80, 0.7)",
          "line": {
           "color": "white",
           "width": 1.5
          },
          "size": 10
         },
         "mode": "markers",
         "name": "After 4o Tuning",
         "showlegend": false,
         "type": "scatter",
         "x": [
          5
         ],
         "y": [
          32
         ]
        },
        {
         "hovertemplate": "<b>Mean Path Length:</b> 3.0<extra></extra>",
         "marker": {
          "color": "rgba(255, 127, 80, 0.7)",
          "line": {
           "color": "white",
           "width": 1.5
          },
          "size": 10
         },
         "mode": "markers",
         "name": "After 4o Tuning",
         "showlegend": false,
         "type": "scatter",
         "x": [
          3
         ],
         "y": [
          33
         ]
        },
        {
         "hovertemplate": "<b>Mean Path Length:</b> 4.0<extra></extra>",
         "marker": {
          "color": "rgba(255, 127, 80, 0.7)",
          "line": {
           "color": "white",
           "width": 1.5
          },
          "size": 10
         },
         "mode": "markers",
         "name": "After 4o Tuning",
         "showlegend": false,
         "type": "scatter",
         "x": [
          4
         ],
         "y": [
          34
         ]
        },
        {
         "hovertemplate": "<b>Mean Path Length:</b> 5.0<extra></extra>",
         "marker": {
          "color": "rgba(255, 127, 80, 0.7)",
          "line": {
           "color": "white",
           "width": 1.5
          },
          "size": 10
         },
         "mode": "markers",
         "name": "After 4o Tuning",
         "showlegend": false,
         "type": "scatter",
         "x": [
          5
         ],
         "y": [
          35
         ]
        },
        {
         "hovertemplate": "<b>Mean Path Length:</b> 4.0<extra></extra>",
         "marker": {
          "color": "rgba(255, 127, 80, 0.7)",
          "line": {
           "color": "white",
           "width": 1.5
          },
          "size": 10
         },
         "mode": "markers",
         "name": "After 4o Tuning",
         "showlegend": false,
         "type": "scatter",
         "x": [
          4
         ],
         "y": [
          36
         ]
        },
        {
         "hovertemplate": "<b>Mean Path Length:</b> 5.0<extra></extra>",
         "marker": {
          "color": "rgba(255, 127, 80, 0.7)",
          "line": {
           "color": "white",
           "width": 1.5
          },
          "size": 10
         },
         "mode": "markers",
         "name": "After 4o Tuning",
         "showlegend": false,
         "type": "scatter",
         "x": [
          5
         ],
         "y": [
          37
         ]
        },
        {
         "hovertemplate": "<b>Mean Path Length:</b> 4.0<extra></extra>",
         "marker": {
          "color": "rgba(255, 127, 80, 0.7)",
          "line": {
           "color": "white",
           "width": 1.5
          },
          "size": 10
         },
         "mode": "markers",
         "name": "After 4o Tuning",
         "showlegend": false,
         "type": "scatter",
         "x": [
          4
         ],
         "y": [
          38
         ]
        },
        {
         "hovertemplate": "<b>Mean Path Length:</b> 4.0<extra></extra>",
         "marker": {
          "color": "rgba(255, 127, 80, 0.7)",
          "line": {
           "color": "white",
           "width": 1.5
          },
          "size": 10
         },
         "mode": "markers",
         "name": "After 4o Tuning",
         "showlegend": false,
         "type": "scatter",
         "x": [
          4
         ],
         "y": [
          39
         ]
        },
        {
         "hovertemplate": "<b>Mean Path Length:</b> 5.0<extra></extra>",
         "marker": {
          "color": "rgba(255, 127, 80, 0.7)",
          "line": {
           "color": "white",
           "width": 1.5
          },
          "size": 10
         },
         "mode": "markers",
         "name": "After 4o Tuning",
         "showlegend": false,
         "type": "scatter",
         "x": [
          5
         ],
         "y": [
          40
         ]
        },
        {
         "hovertemplate": "<b>Mean Path Length:</b> 2.0<extra></extra>",
         "marker": {
          "color": "rgba(60, 179, 113, 0.7)",
          "line": {
           "color": "white",
           "width": 1.5
          },
          "size": 10
         },
         "mode": "markers",
         "name": "After 4o Mini Tuning",
         "showlegend": true,
         "type": "scatter",
         "x": [
          2
         ],
         "y": [
          -0.15
         ]
        },
        {
         "hovertemplate": "<b>Mean Path Length:</b> 2.0<extra></extra>",
         "marker": {
          "color": "rgba(60, 179, 113, 0.7)",
          "line": {
           "color": "white",
           "width": 1.5
          },
          "size": 10
         },
         "mode": "markers",
         "name": "After 4o Mini Tuning",
         "showlegend": false,
         "type": "scatter",
         "x": [
          2
         ],
         "y": [
          0.85
         ]
        },
        {
         "hovertemplate": "<b>Mean Path Length:</b> 3.0<extra></extra>",
         "marker": {
          "color": "rgba(60, 179, 113, 0.7)",
          "line": {
           "color": "white",
           "width": 1.5
          },
          "size": 10
         },
         "mode": "markers",
         "name": "After 4o Mini Tuning",
         "showlegend": false,
         "type": "scatter",
         "x": [
          3
         ],
         "y": [
          1.85
         ]
        },
        {
         "hovertemplate": "<b>Mean Path Length:</b> 2.0<extra></extra>",
         "marker": {
          "color": "rgba(60, 179, 113, 0.7)",
          "line": {
           "color": "white",
           "width": 1.5
          },
          "size": 10
         },
         "mode": "markers",
         "name": "After 4o Mini Tuning",
         "showlegend": false,
         "type": "scatter",
         "x": [
          2
         ],
         "y": [
          2.85
         ]
        },
        {
         "hovertemplate": "<b>Mean Path Length:</b> 2.0<extra></extra>",
         "marker": {
          "color": "rgba(60, 179, 113, 0.7)",
          "line": {
           "color": "white",
           "width": 1.5
          },
          "size": 10
         },
         "mode": "markers",
         "name": "After 4o Mini Tuning",
         "showlegend": false,
         "type": "scatter",
         "x": [
          2
         ],
         "y": [
          3.85
         ]
        },
        {
         "hovertemplate": "<b>Mean Path Length:</b> 2.0<extra></extra>",
         "marker": {
          "color": "rgba(60, 179, 113, 0.7)",
          "line": {
           "color": "white",
           "width": 1.5
          },
          "size": 10
         },
         "mode": "markers",
         "name": "After 4o Mini Tuning",
         "showlegend": false,
         "type": "scatter",
         "x": [
          2
         ],
         "y": [
          4.85
         ]
        },
        {
         "hovertemplate": "<b>Mean Path Length:</b> 2.0<extra></extra>",
         "marker": {
          "color": "rgba(60, 179, 113, 0.7)",
          "line": {
           "color": "white",
           "width": 1.5
          },
          "size": 10
         },
         "mode": "markers",
         "name": "After 4o Mini Tuning",
         "showlegend": false,
         "type": "scatter",
         "x": [
          2
         ],
         "y": [
          5.85
         ]
        },
        {
         "hovertemplate": "<b>Mean Path Length:</b> 2.0<extra></extra>",
         "marker": {
          "color": "rgba(60, 179, 113, 0.7)",
          "line": {
           "color": "white",
           "width": 1.5
          },
          "size": 10
         },
         "mode": "markers",
         "name": "After 4o Mini Tuning",
         "showlegend": false,
         "type": "scatter",
         "x": [
          2
         ],
         "y": [
          6.85
         ]
        },
        {
         "hovertemplate": "<b>Mean Path Length:</b> 2.0<extra></extra>",
         "marker": {
          "color": "rgba(60, 179, 113, 0.7)",
          "line": {
           "color": "white",
           "width": 1.5
          },
          "size": 10
         },
         "mode": "markers",
         "name": "After 4o Mini Tuning",
         "showlegend": false,
         "type": "scatter",
         "x": [
          2
         ],
         "y": [
          7.85
         ]
        },
        {
         "hovertemplate": "<b>Mean Path Length:</b> 3.0<extra></extra>",
         "marker": {
          "color": "rgba(60, 179, 113, 0.7)",
          "line": {
           "color": "white",
           "width": 1.5
          },
          "size": 10
         },
         "mode": "markers",
         "name": "After 4o Mini Tuning",
         "showlegend": false,
         "type": "scatter",
         "x": [
          3
         ],
         "y": [
          8.85
         ]
        },
        {
         "hovertemplate": "<b>Mean Path Length:</b> 3.0<extra></extra>",
         "marker": {
          "color": "rgba(60, 179, 113, 0.7)",
          "line": {
           "color": "white",
           "width": 1.5
          },
          "size": 10
         },
         "mode": "markers",
         "name": "After 4o Mini Tuning",
         "showlegend": false,
         "type": "scatter",
         "x": [
          3
         ],
         "y": [
          9.85
         ]
        },
        {
         "hovertemplate": "<b>Mean Path Length:</b> 5.0<extra></extra>",
         "marker": {
          "color": "rgba(60, 179, 113, 0.7)",
          "line": {
           "color": "white",
           "width": 1.5
          },
          "size": 10
         },
         "mode": "markers",
         "name": "After 4o Mini Tuning",
         "showlegend": false,
         "type": "scatter",
         "x": [
          5
         ],
         "y": [
          10.85
         ]
        },
        {
         "hovertemplate": "<b>Mean Path Length:</b> 4.0<extra></extra>",
         "marker": {
          "color": "rgba(60, 179, 113, 0.7)",
          "line": {
           "color": "white",
           "width": 1.5
          },
          "size": 10
         },
         "mode": "markers",
         "name": "After 4o Mini Tuning",
         "showlegend": false,
         "type": "scatter",
         "x": [
          4
         ],
         "y": [
          11.85
         ]
        },
        {
         "hovertemplate": "<b>Mean Path Length:</b> 3.0<extra></extra>",
         "marker": {
          "color": "rgba(60, 179, 113, 0.7)",
          "line": {
           "color": "white",
           "width": 1.5
          },
          "size": 10
         },
         "mode": "markers",
         "name": "After 4o Mini Tuning",
         "showlegend": false,
         "type": "scatter",
         "x": [
          3
         ],
         "y": [
          12.85
         ]
        },
        {
         "hovertemplate": "<b>Mean Path Length:</b> 3.0<extra></extra>",
         "marker": {
          "color": "rgba(60, 179, 113, 0.7)",
          "line": {
           "color": "white",
           "width": 1.5
          },
          "size": 10
         },
         "mode": "markers",
         "name": "After 4o Mini Tuning",
         "showlegend": false,
         "type": "scatter",
         "x": [
          3
         ],
         "y": [
          13.85
         ]
        },
        {
         "hovertemplate": "<b>Mean Path Length:</b> 4.0<extra></extra>",
         "marker": {
          "color": "rgba(60, 179, 113, 0.7)",
          "line": {
           "color": "white",
           "width": 1.5
          },
          "size": 10
         },
         "mode": "markers",
         "name": "After 4o Mini Tuning",
         "showlegend": false,
         "type": "scatter",
         "x": [
          4
         ],
         "y": [
          14.85
         ]
        },
        {
         "hovertemplate": "<b>Mean Path Length:</b> 5.0<extra></extra>",
         "marker": {
          "color": "rgba(60, 179, 113, 0.7)",
          "line": {
           "color": "white",
           "width": 1.5
          },
          "size": 10
         },
         "mode": "markers",
         "name": "After 4o Mini Tuning",
         "showlegend": false,
         "type": "scatter",
         "x": [
          5
         ],
         "y": [
          15.85
         ]
        },
        {
         "hovertemplate": "<b>Mean Path Length:</b> 7.0<extra></extra>",
         "marker": {
          "color": "rgba(60, 179, 113, 0.7)",
          "line": {
           "color": "white",
           "width": 1.5
          },
          "size": 10
         },
         "mode": "markers",
         "name": "After 4o Mini Tuning",
         "showlegend": false,
         "type": "scatter",
         "x": [
          7
         ],
         "y": [
          16.85
         ]
        },
        {
         "hovertemplate": "<b>Mean Path Length:</b> 4.0<extra></extra>",
         "marker": {
          "color": "rgba(60, 179, 113, 0.7)",
          "line": {
           "color": "white",
           "width": 1.5
          },
          "size": 10
         },
         "mode": "markers",
         "name": "After 4o Mini Tuning",
         "showlegend": false,
         "type": "scatter",
         "x": [
          4
         ],
         "y": [
          17.85
         ]
        },
        {
         "hovertemplate": "<b>Mean Path Length:</b> 4.0<extra></extra>",
         "marker": {
          "color": "rgba(60, 179, 113, 0.7)",
          "line": {
           "color": "white",
           "width": 1.5
          },
          "size": 10
         },
         "mode": "markers",
         "name": "After 4o Mini Tuning",
         "showlegend": false,
         "type": "scatter",
         "x": [
          4
         ],
         "y": [
          18.85
         ]
        },
        {
         "hovertemplate": "<b>Mean Path Length:</b> 4.0<extra></extra>",
         "marker": {
          "color": "rgba(60, 179, 113, 0.7)",
          "line": {
           "color": "white",
           "width": 1.5
          },
          "size": 10
         },
         "mode": "markers",
         "name": "After 4o Mini Tuning",
         "showlegend": false,
         "type": "scatter",
         "x": [
          4
         ],
         "y": [
          19.85
         ]
        },
        {
         "hovertemplate": "<b>Mean Path Length:</b> 4.0<extra></extra>",
         "marker": {
          "color": "rgba(60, 179, 113, 0.7)",
          "line": {
           "color": "white",
           "width": 1.5
          },
          "size": 10
         },
         "mode": "markers",
         "name": "After 4o Mini Tuning",
         "showlegend": false,
         "type": "scatter",
         "x": [
          4
         ],
         "y": [
          20.85
         ]
        },
        {
         "hovertemplate": "<b>Mean Path Length:</b> 5.0<extra></extra>",
         "marker": {
          "color": "rgba(60, 179, 113, 0.7)",
          "line": {
           "color": "white",
           "width": 1.5
          },
          "size": 10
         },
         "mode": "markers",
         "name": "After 4o Mini Tuning",
         "showlegend": false,
         "type": "scatter",
         "x": [
          5
         ],
         "y": [
          21.85
         ]
        },
        {
         "hovertemplate": "<b>Mean Path Length:</b> 4.0<extra></extra>",
         "marker": {
          "color": "rgba(60, 179, 113, 0.7)",
          "line": {
           "color": "white",
           "width": 1.5
          },
          "size": 10
         },
         "mode": "markers",
         "name": "After 4o Mini Tuning",
         "showlegend": false,
         "type": "scatter",
         "x": [
          4
         ],
         "y": [
          22.85
         ]
        },
        {
         "hovertemplate": "<b>Mean Path Length:</b> 4.0<extra></extra>",
         "marker": {
          "color": "rgba(60, 179, 113, 0.7)",
          "line": {
           "color": "white",
           "width": 1.5
          },
          "size": 10
         },
         "mode": "markers",
         "name": "After 4o Mini Tuning",
         "showlegend": false,
         "type": "scatter",
         "x": [
          4
         ],
         "y": [
          23.85
         ]
        },
        {
         "hovertemplate": "<b>Mean Path Length:</b> 4.0<extra></extra>",
         "marker": {
          "color": "rgba(60, 179, 113, 0.7)",
          "line": {
           "color": "white",
           "width": 1.5
          },
          "size": 10
         },
         "mode": "markers",
         "name": "After 4o Mini Tuning",
         "showlegend": false,
         "type": "scatter",
         "x": [
          4
         ],
         "y": [
          24.85
         ]
        },
        {
         "hovertemplate": "<b>Mean Path Length:</b> 6.0<extra></extra>",
         "marker": {
          "color": "rgba(60, 179, 113, 0.7)",
          "line": {
           "color": "white",
           "width": 1.5
          },
          "size": 10
         },
         "mode": "markers",
         "name": "After 4o Mini Tuning",
         "showlegend": false,
         "type": "scatter",
         "x": [
          6
         ],
         "y": [
          25.85
         ]
        },
        {
         "hovertemplate": "<b>Mean Path Length:</b> 4.0<extra></extra>",
         "marker": {
          "color": "rgba(60, 179, 113, 0.7)",
          "line": {
           "color": "white",
           "width": 1.5
          },
          "size": 10
         },
         "mode": "markers",
         "name": "After 4o Mini Tuning",
         "showlegend": false,
         "type": "scatter",
         "x": [
          4
         ],
         "y": [
          26.85
         ]
        },
        {
         "hovertemplate": "<b>Mean Path Length:</b> 4.0<extra></extra>",
         "marker": {
          "color": "rgba(60, 179, 113, 0.7)",
          "line": {
           "color": "white",
           "width": 1.5
          },
          "size": 10
         },
         "mode": "markers",
         "name": "After 4o Mini Tuning",
         "showlegend": false,
         "type": "scatter",
         "x": [
          4
         ],
         "y": [
          27.85
         ]
        },
        {
         "hovertemplate": "<b>Mean Path Length:</b> 6.0<extra></extra>",
         "marker": {
          "color": "rgba(60, 179, 113, 0.7)",
          "line": {
           "color": "white",
           "width": 1.5
          },
          "size": 10
         },
         "mode": "markers",
         "name": "After 4o Mini Tuning",
         "showlegend": false,
         "type": "scatter",
         "x": [
          6
         ],
         "y": [
          28.85
         ]
        },
        {
         "hovertemplate": "<b>Mean Path Length:</b> 4.0<extra></extra>",
         "marker": {
          "color": "rgba(60, 179, 113, 0.7)",
          "line": {
           "color": "white",
           "width": 1.5
          },
          "size": 10
         },
         "mode": "markers",
         "name": "After 4o Mini Tuning",
         "showlegend": false,
         "type": "scatter",
         "x": [
          4
         ],
         "y": [
          29.85
         ]
        },
        {
         "hovertemplate": "<b>Mean Path Length:</b> 6.0<extra></extra>",
         "marker": {
          "color": "rgba(60, 179, 113, 0.7)",
          "line": {
           "color": "white",
           "width": 1.5
          },
          "size": 10
         },
         "mode": "markers",
         "name": "After 4o Mini Tuning",
         "showlegend": false,
         "type": "scatter",
         "x": [
          6
         ],
         "y": [
          30.85
         ]
        },
        {
         "hovertemplate": "<b>Mean Path Length:</b> 5.0<extra></extra>",
         "marker": {
          "color": "rgba(60, 179, 113, 0.7)",
          "line": {
           "color": "white",
           "width": 1.5
          },
          "size": 10
         },
         "mode": "markers",
         "name": "After 4o Mini Tuning",
         "showlegend": false,
         "type": "scatter",
         "x": [
          5
         ],
         "y": [
          31.85
         ]
        },
        {
         "hovertemplate": "<b>Mean Path Length:</b> 3.0<extra></extra>",
         "marker": {
          "color": "rgba(60, 179, 113, 0.7)",
          "line": {
           "color": "white",
           "width": 1.5
          },
          "size": 10
         },
         "mode": "markers",
         "name": "After 4o Mini Tuning",
         "showlegend": false,
         "type": "scatter",
         "x": [
          3
         ],
         "y": [
          32.85
         ]
        },
        {
         "hovertemplate": "<b>Mean Path Length:</b> 4.0<extra></extra>",
         "marker": {
          "color": "rgba(60, 179, 113, 0.7)",
          "line": {
           "color": "white",
           "width": 1.5
          },
          "size": 10
         },
         "mode": "markers",
         "name": "After 4o Mini Tuning",
         "showlegend": false,
         "type": "scatter",
         "x": [
          4
         ],
         "y": [
          33.85
         ]
        },
        {
         "hovertemplate": "<b>Mean Path Length:</b> 9.0<extra></extra>",
         "marker": {
          "color": "rgba(60, 179, 113, 0.7)",
          "line": {
           "color": "white",
           "width": 1.5
          },
          "size": 10
         },
         "mode": "markers",
         "name": "After 4o Mini Tuning",
         "showlegend": false,
         "type": "scatter",
         "x": [
          9
         ],
         "y": [
          34.85
         ]
        },
        {
         "hovertemplate": "<b>Mean Path Length:</b> 4.0<extra></extra>",
         "marker": {
          "color": "rgba(60, 179, 113, 0.7)",
          "line": {
           "color": "white",
           "width": 1.5
          },
          "size": 10
         },
         "mode": "markers",
         "name": "After 4o Mini Tuning",
         "showlegend": false,
         "type": "scatter",
         "x": [
          4
         ],
         "y": [
          35.85
         ]
        },
        {
         "hovertemplate": "<b>Mean Path Length:</b> 5.0<extra></extra>",
         "marker": {
          "color": "rgba(60, 179, 113, 0.7)",
          "line": {
           "color": "white",
           "width": 1.5
          },
          "size": 10
         },
         "mode": "markers",
         "name": "After 4o Mini Tuning",
         "showlegend": false,
         "type": "scatter",
         "x": [
          5
         ],
         "y": [
          36.85
         ]
        },
        {
         "hovertemplate": "<b>Mean Path Length:</b> 4.0<extra></extra>",
         "marker": {
          "color": "rgba(60, 179, 113, 0.7)",
          "line": {
           "color": "white",
           "width": 1.5
          },
          "size": 10
         },
         "mode": "markers",
         "name": "After 4o Mini Tuning",
         "showlegend": false,
         "type": "scatter",
         "x": [
          4
         ],
         "y": [
          37.85
         ]
        },
        {
         "hovertemplate": "<b>Mean Path Length:</b> 4.0<extra></extra>",
         "marker": {
          "color": "rgba(60, 179, 113, 0.7)",
          "line": {
           "color": "white",
           "width": 1.5
          },
          "size": 10
         },
         "mode": "markers",
         "name": "After 4o Mini Tuning",
         "showlegend": false,
         "type": "scatter",
         "x": [
          4
         ],
         "y": [
          38.85
         ]
        },
        {
         "hovertemplate": "<b>Mean Path Length:</b> 5.0<extra></extra>",
         "marker": {
          "color": "rgba(60, 179, 113, 0.7)",
          "line": {
           "color": "white",
           "width": 1.5
          },
          "size": 10
         },
         "mode": "markers",
         "name": "After 4o Mini Tuning",
         "showlegend": false,
         "type": "scatter",
         "x": [
          5
         ],
         "y": [
          39.85
         ]
        }
       ],
       "layout": {
        "height": 2050,
        "legend": {
         "bgcolor": "white",
         "bordercolor": "#E0E8F0",
         "borderwidth": 1,
         "font": {
          "color": "rgba(0, 0, 0, 0.7)"
         }
        },
        "paper_bgcolor": "white",
        "plot_bgcolor": "#F0F4FF",
        "shapes": [
         {
          "line": {
           "color": "#E0E8F0",
           "dash": "dot",
           "width": 1
          },
          "type": "line",
          "x0": 0,
          "x1": 1,
          "xref": "paper",
          "y0": 0,
          "y1": 0,
          "yref": "y"
         },
         {
          "line": {
           "color": "#E0E8F0",
           "dash": "dot",
           "width": 1
          },
          "type": "line",
          "x0": 0,
          "x1": 1,
          "xref": "paper",
          "y0": 1,
          "y1": 1,
          "yref": "y"
         },
         {
          "line": {
           "color": "#E0E8F0",
           "dash": "dot",
           "width": 1
          },
          "type": "line",
          "x0": 0,
          "x1": 1,
          "xref": "paper",
          "y0": 2,
          "y1": 2,
          "yref": "y"
         },
         {
          "line": {
           "color": "#E0E8F0",
           "dash": "dot",
           "width": 1
          },
          "type": "line",
          "x0": 0,
          "x1": 1,
          "xref": "paper",
          "y0": 3,
          "y1": 3,
          "yref": "y"
         },
         {
          "line": {
           "color": "#E0E8F0",
           "dash": "dot",
           "width": 1
          },
          "type": "line",
          "x0": 0,
          "x1": 1,
          "xref": "paper",
          "y0": 4,
          "y1": 4,
          "yref": "y"
         },
         {
          "line": {
           "color": "#E0E8F0",
           "dash": "dot",
           "width": 1
          },
          "type": "line",
          "x0": 0,
          "x1": 1,
          "xref": "paper",
          "y0": 5,
          "y1": 5,
          "yref": "y"
         },
         {
          "line": {
           "color": "#E0E8F0",
           "dash": "dot",
           "width": 1
          },
          "type": "line",
          "x0": 0,
          "x1": 1,
          "xref": "paper",
          "y0": 6,
          "y1": 6,
          "yref": "y"
         },
         {
          "line": {
           "color": "#E0E8F0",
           "dash": "dot",
           "width": 1
          },
          "type": "line",
          "x0": 0,
          "x1": 1,
          "xref": "paper",
          "y0": 7,
          "y1": 7,
          "yref": "y"
         },
         {
          "line": {
           "color": "#E0E8F0",
           "dash": "dot",
           "width": 1
          },
          "type": "line",
          "x0": 0,
          "x1": 1,
          "xref": "paper",
          "y0": 8,
          "y1": 8,
          "yref": "y"
         },
         {
          "line": {
           "color": "#E0E8F0",
           "dash": "dot",
           "width": 1
          },
          "type": "line",
          "x0": 0,
          "x1": 1,
          "xref": "paper",
          "y0": 9,
          "y1": 9,
          "yref": "y"
         },
         {
          "line": {
           "color": "#E0E8F0",
           "dash": "dot",
           "width": 1
          },
          "type": "line",
          "x0": 0,
          "x1": 1,
          "xref": "paper",
          "y0": 10,
          "y1": 10,
          "yref": "y"
         },
         {
          "line": {
           "color": "#E0E8F0",
           "dash": "dot",
           "width": 1
          },
          "type": "line",
          "x0": 0,
          "x1": 1,
          "xref": "paper",
          "y0": 11,
          "y1": 11,
          "yref": "y"
         },
         {
          "line": {
           "color": "#E0E8F0",
           "dash": "dot",
           "width": 1
          },
          "type": "line",
          "x0": 0,
          "x1": 1,
          "xref": "paper",
          "y0": 12,
          "y1": 12,
          "yref": "y"
         },
         {
          "line": {
           "color": "#E0E8F0",
           "dash": "dot",
           "width": 1
          },
          "type": "line",
          "x0": 0,
          "x1": 1,
          "xref": "paper",
          "y0": 13,
          "y1": 13,
          "yref": "y"
         },
         {
          "line": {
           "color": "#E0E8F0",
           "dash": "dot",
           "width": 1
          },
          "type": "line",
          "x0": 0,
          "x1": 1,
          "xref": "paper",
          "y0": 14,
          "y1": 14,
          "yref": "y"
         },
         {
          "line": {
           "color": "#E0E8F0",
           "dash": "dot",
           "width": 1
          },
          "type": "line",
          "x0": 0,
          "x1": 1,
          "xref": "paper",
          "y0": 15,
          "y1": 15,
          "yref": "y"
         },
         {
          "line": {
           "color": "#E0E8F0",
           "dash": "dot",
           "width": 1
          },
          "type": "line",
          "x0": 0,
          "x1": 1,
          "xref": "paper",
          "y0": 16,
          "y1": 16,
          "yref": "y"
         },
         {
          "line": {
           "color": "#E0E8F0",
           "dash": "dot",
           "width": 1
          },
          "type": "line",
          "x0": 0,
          "x1": 1,
          "xref": "paper",
          "y0": 17,
          "y1": 17,
          "yref": "y"
         },
         {
          "line": {
           "color": "#E0E8F0",
           "dash": "dot",
           "width": 1
          },
          "type": "line",
          "x0": 0,
          "x1": 1,
          "xref": "paper",
          "y0": 18,
          "y1": 18,
          "yref": "y"
         },
         {
          "line": {
           "color": "#E0E8F0",
           "dash": "dot",
           "width": 1
          },
          "type": "line",
          "x0": 0,
          "x1": 1,
          "xref": "paper",
          "y0": 19,
          "y1": 19,
          "yref": "y"
         },
         {
          "line": {
           "color": "#E0E8F0",
           "dash": "dot",
           "width": 1
          },
          "type": "line",
          "x0": 0,
          "x1": 1,
          "xref": "paper",
          "y0": 20,
          "y1": 20,
          "yref": "y"
         },
         {
          "line": {
           "color": "#E0E8F0",
           "dash": "dot",
           "width": 1
          },
          "type": "line",
          "x0": 0,
          "x1": 1,
          "xref": "paper",
          "y0": 21,
          "y1": 21,
          "yref": "y"
         },
         {
          "line": {
           "color": "#E0E8F0",
           "dash": "dot",
           "width": 1
          },
          "type": "line",
          "x0": 0,
          "x1": 1,
          "xref": "paper",
          "y0": 22,
          "y1": 22,
          "yref": "y"
         },
         {
          "line": {
           "color": "#E0E8F0",
           "dash": "dot",
           "width": 1
          },
          "type": "line",
          "x0": 0,
          "x1": 1,
          "xref": "paper",
          "y0": 23,
          "y1": 23,
          "yref": "y"
         },
         {
          "line": {
           "color": "#E0E8F0",
           "dash": "dot",
           "width": 1
          },
          "type": "line",
          "x0": 0,
          "x1": 1,
          "xref": "paper",
          "y0": 24,
          "y1": 24,
          "yref": "y"
         },
         {
          "line": {
           "color": "#E0E8F0",
           "dash": "dot",
           "width": 1
          },
          "type": "line",
          "x0": 0,
          "x1": 1,
          "xref": "paper",
          "y0": 25,
          "y1": 25,
          "yref": "y"
         },
         {
          "line": {
           "color": "#E0E8F0",
           "dash": "dot",
           "width": 1
          },
          "type": "line",
          "x0": 0,
          "x1": 1,
          "xref": "paper",
          "y0": 26,
          "y1": 26,
          "yref": "y"
         },
         {
          "line": {
           "color": "#E0E8F0",
           "dash": "dot",
           "width": 1
          },
          "type": "line",
          "x0": 0,
          "x1": 1,
          "xref": "paper",
          "y0": 27,
          "y1": 27,
          "yref": "y"
         },
         {
          "line": {
           "color": "#E0E8F0",
           "dash": "dot",
           "width": 1
          },
          "type": "line",
          "x0": 0,
          "x1": 1,
          "xref": "paper",
          "y0": 28,
          "y1": 28,
          "yref": "y"
         },
         {
          "line": {
           "color": "#E0E8F0",
           "dash": "dot",
           "width": 1
          },
          "type": "line",
          "x0": 0,
          "x1": 1,
          "xref": "paper",
          "y0": 29,
          "y1": 29,
          "yref": "y"
         },
         {
          "line": {
           "color": "#E0E8F0",
           "dash": "dot",
           "width": 1
          },
          "type": "line",
          "x0": 0,
          "x1": 1,
          "xref": "paper",
          "y0": 30,
          "y1": 30,
          "yref": "y"
         },
         {
          "line": {
           "color": "#E0E8F0",
           "dash": "dot",
           "width": 1
          },
          "type": "line",
          "x0": 0,
          "x1": 1,
          "xref": "paper",
          "y0": 31,
          "y1": 31,
          "yref": "y"
         },
         {
          "line": {
           "color": "#E0E8F0",
           "dash": "dot",
           "width": 1
          },
          "type": "line",
          "x0": 0,
          "x1": 1,
          "xref": "paper",
          "y0": 32,
          "y1": 32,
          "yref": "y"
         },
         {
          "line": {
           "color": "#E0E8F0",
           "dash": "dot",
           "width": 1
          },
          "type": "line",
          "x0": 0,
          "x1": 1,
          "xref": "paper",
          "y0": 33,
          "y1": 33,
          "yref": "y"
         },
         {
          "line": {
           "color": "#E0E8F0",
           "dash": "dot",
           "width": 1
          },
          "type": "line",
          "x0": 0,
          "x1": 1,
          "xref": "paper",
          "y0": 34,
          "y1": 34,
          "yref": "y"
         },
         {
          "line": {
           "color": "#E0E8F0",
           "dash": "dot",
           "width": 1
          },
          "type": "line",
          "x0": 0,
          "x1": 1,
          "xref": "paper",
          "y0": 35,
          "y1": 35,
          "yref": "y"
         },
         {
          "line": {
           "color": "#E0E8F0",
           "dash": "dot",
           "width": 1
          },
          "type": "line",
          "x0": 0,
          "x1": 1,
          "xref": "paper",
          "y0": 36,
          "y1": 36,
          "yref": "y"
         },
         {
          "line": {
           "color": "#E0E8F0",
           "dash": "dot",
           "width": 1
          },
          "type": "line",
          "x0": 0,
          "x1": 1,
          "xref": "paper",
          "y0": 37,
          "y1": 37,
          "yref": "y"
         },
         {
          "line": {
           "color": "#E0E8F0",
           "dash": "dot",
           "width": 1
          },
          "type": "line",
          "x0": 0,
          "x1": 1,
          "xref": "paper",
          "y0": 38,
          "y1": 38,
          "yref": "y"
         },
         {
          "line": {
           "color": "#E0E8F0",
           "dash": "dot",
           "width": 1
          },
          "type": "line",
          "x0": 0,
          "x1": 1,
          "xref": "paper",
          "y0": 39,
          "y1": 39,
          "yref": "y"
         },
         {
          "line": {
           "color": "#E0E8F0",
           "dash": "dot",
           "width": 1
          },
          "type": "line",
          "x0": 0,
          "x1": 1,
          "xref": "paper",
          "y0": 40,
          "y1": 40,
          "yref": "y"
         }
        ],
        "showlegend": true,
        "template": {
         "data": {
          "bar": [
           {
            "error_x": {
             "color": "#2a3f5f"
            },
            "error_y": {
             "color": "#2a3f5f"
            },
            "marker": {
             "line": {
              "color": "#E5ECF6",
              "width": 0.5
             },
             "pattern": {
              "fillmode": "overlay",
              "size": 10,
              "solidity": 0.2
             }
            },
            "type": "bar"
           }
          ],
          "barpolar": [
           {
            "marker": {
             "line": {
              "color": "#E5ECF6",
              "width": 0.5
             },
             "pattern": {
              "fillmode": "overlay",
              "size": 10,
              "solidity": 0.2
             }
            },
            "type": "barpolar"
           }
          ],
          "carpet": [
           {
            "aaxis": {
             "endlinecolor": "#2a3f5f",
             "gridcolor": "white",
             "linecolor": "white",
             "minorgridcolor": "white",
             "startlinecolor": "#2a3f5f"
            },
            "baxis": {
             "endlinecolor": "#2a3f5f",
             "gridcolor": "white",
             "linecolor": "white",
             "minorgridcolor": "white",
             "startlinecolor": "#2a3f5f"
            },
            "type": "carpet"
           }
          ],
          "choropleth": [
           {
            "colorbar": {
             "outlinewidth": 0,
             "ticks": ""
            },
            "type": "choropleth"
           }
          ],
          "contour": [
           {
            "colorbar": {
             "outlinewidth": 0,
             "ticks": ""
            },
            "colorscale": [
             [
              0,
              "#0d0887"
             ],
             [
              0.1111111111111111,
              "#46039f"
             ],
             [
              0.2222222222222222,
              "#7201a8"
             ],
             [
              0.3333333333333333,
              "#9c179e"
             ],
             [
              0.4444444444444444,
              "#bd3786"
             ],
             [
              0.5555555555555556,
              "#d8576b"
             ],
             [
              0.6666666666666666,
              "#ed7953"
             ],
             [
              0.7777777777777778,
              "#fb9f3a"
             ],
             [
              0.8888888888888888,
              "#fdca26"
             ],
             [
              1,
              "#f0f921"
             ]
            ],
            "type": "contour"
           }
          ],
          "contourcarpet": [
           {
            "colorbar": {
             "outlinewidth": 0,
             "ticks": ""
            },
            "type": "contourcarpet"
           }
          ],
          "heatmap": [
           {
            "colorbar": {
             "outlinewidth": 0,
             "ticks": ""
            },
            "colorscale": [
             [
              0,
              "#0d0887"
             ],
             [
              0.1111111111111111,
              "#46039f"
             ],
             [
              0.2222222222222222,
              "#7201a8"
             ],
             [
              0.3333333333333333,
              "#9c179e"
             ],
             [
              0.4444444444444444,
              "#bd3786"
             ],
             [
              0.5555555555555556,
              "#d8576b"
             ],
             [
              0.6666666666666666,
              "#ed7953"
             ],
             [
              0.7777777777777778,
              "#fb9f3a"
             ],
             [
              0.8888888888888888,
              "#fdca26"
             ],
             [
              1,
              "#f0f921"
             ]
            ],
            "type": "heatmap"
           }
          ],
          "heatmapgl": [
           {
            "colorbar": {
             "outlinewidth": 0,
             "ticks": ""
            },
            "colorscale": [
             [
              0,
              "#0d0887"
             ],
             [
              0.1111111111111111,
              "#46039f"
             ],
             [
              0.2222222222222222,
              "#7201a8"
             ],
             [
              0.3333333333333333,
              "#9c179e"
             ],
             [
              0.4444444444444444,
              "#bd3786"
             ],
             [
              0.5555555555555556,
              "#d8576b"
             ],
             [
              0.6666666666666666,
              "#ed7953"
             ],
             [
              0.7777777777777778,
              "#fb9f3a"
             ],
             [
              0.8888888888888888,
              "#fdca26"
             ],
             [
              1,
              "#f0f921"
             ]
            ],
            "type": "heatmapgl"
           }
          ],
          "histogram": [
           {
            "marker": {
             "pattern": {
              "fillmode": "overlay",
              "size": 10,
              "solidity": 0.2
             }
            },
            "type": "histogram"
           }
          ],
          "histogram2d": [
           {
            "colorbar": {
             "outlinewidth": 0,
             "ticks": ""
            },
            "colorscale": [
             [
              0,
              "#0d0887"
             ],
             [
              0.1111111111111111,
              "#46039f"
             ],
             [
              0.2222222222222222,
              "#7201a8"
             ],
             [
              0.3333333333333333,
              "#9c179e"
             ],
             [
              0.4444444444444444,
              "#bd3786"
             ],
             [
              0.5555555555555556,
              "#d8576b"
             ],
             [
              0.6666666666666666,
              "#ed7953"
             ],
             [
              0.7777777777777778,
              "#fb9f3a"
             ],
             [
              0.8888888888888888,
              "#fdca26"
             ],
             [
              1,
              "#f0f921"
             ]
            ],
            "type": "histogram2d"
           }
          ],
          "histogram2dcontour": [
           {
            "colorbar": {
             "outlinewidth": 0,
             "ticks": ""
            },
            "colorscale": [
             [
              0,
              "#0d0887"
             ],
             [
              0.1111111111111111,
              "#46039f"
             ],
             [
              0.2222222222222222,
              "#7201a8"
             ],
             [
              0.3333333333333333,
              "#9c179e"
             ],
             [
              0.4444444444444444,
              "#bd3786"
             ],
             [
              0.5555555555555556,
              "#d8576b"
             ],
             [
              0.6666666666666666,
              "#ed7953"
             ],
             [
              0.7777777777777778,
              "#fb9f3a"
             ],
             [
              0.8888888888888888,
              "#fdca26"
             ],
             [
              1,
              "#f0f921"
             ]
            ],
            "type": "histogram2dcontour"
           }
          ],
          "mesh3d": [
           {
            "colorbar": {
             "outlinewidth": 0,
             "ticks": ""
            },
            "type": "mesh3d"
           }
          ],
          "parcoords": [
           {
            "line": {
             "colorbar": {
              "outlinewidth": 0,
              "ticks": ""
             }
            },
            "type": "parcoords"
           }
          ],
          "pie": [
           {
            "automargin": true,
            "type": "pie"
           }
          ],
          "scatter": [
           {
            "fillpattern": {
             "fillmode": "overlay",
             "size": 10,
             "solidity": 0.2
            },
            "type": "scatter"
           }
          ],
          "scatter3d": [
           {
            "line": {
             "colorbar": {
              "outlinewidth": 0,
              "ticks": ""
             }
            },
            "marker": {
             "colorbar": {
              "outlinewidth": 0,
              "ticks": ""
             }
            },
            "type": "scatter3d"
           }
          ],
          "scattercarpet": [
           {
            "marker": {
             "colorbar": {
              "outlinewidth": 0,
              "ticks": ""
             }
            },
            "type": "scattercarpet"
           }
          ],
          "scattergeo": [
           {
            "marker": {
             "colorbar": {
              "outlinewidth": 0,
              "ticks": ""
             }
            },
            "type": "scattergeo"
           }
          ],
          "scattergl": [
           {
            "marker": {
             "colorbar": {
              "outlinewidth": 0,
              "ticks": ""
             }
            },
            "type": "scattergl"
           }
          ],
          "scattermapbox": [
           {
            "marker": {
             "colorbar": {
              "outlinewidth": 0,
              "ticks": ""
             }
            },
            "type": "scattermapbox"
           }
          ],
          "scatterpolar": [
           {
            "marker": {
             "colorbar": {
              "outlinewidth": 0,
              "ticks": ""
             }
            },
            "type": "scatterpolar"
           }
          ],
          "scatterpolargl": [
           {
            "marker": {
             "colorbar": {
              "outlinewidth": 0,
              "ticks": ""
             }
            },
            "type": "scatterpolargl"
           }
          ],
          "scatterternary": [
           {
            "marker": {
             "colorbar": {
              "outlinewidth": 0,
              "ticks": ""
             }
            },
            "type": "scatterternary"
           }
          ],
          "surface": [
           {
            "colorbar": {
             "outlinewidth": 0,
             "ticks": ""
            },
            "colorscale": [
             [
              0,
              "#0d0887"
             ],
             [
              0.1111111111111111,
              "#46039f"
             ],
             [
              0.2222222222222222,
              "#7201a8"
             ],
             [
              0.3333333333333333,
              "#9c179e"
             ],
             [
              0.4444444444444444,
              "#bd3786"
             ],
             [
              0.5555555555555556,
              "#d8576b"
             ],
             [
              0.6666666666666666,
              "#ed7953"
             ],
             [
              0.7777777777777778,
              "#fb9f3a"
             ],
             [
              0.8888888888888888,
              "#fdca26"
             ],
             [
              1,
              "#f0f921"
             ]
            ],
            "type": "surface"
           }
          ],
          "table": [
           {
            "cells": {
             "fill": {
              "color": "#EBF0F8"
             },
             "line": {
              "color": "white"
             }
            },
            "header": {
             "fill": {
              "color": "#C8D4E3"
             },
             "line": {
              "color": "white"
             }
            },
            "type": "table"
           }
          ]
         },
         "layout": {
          "annotationdefaults": {
           "arrowcolor": "#2a3f5f",
           "arrowhead": 0,
           "arrowwidth": 1
          },
          "autotypenumbers": "strict",
          "coloraxis": {
           "colorbar": {
            "outlinewidth": 0,
            "ticks": ""
           }
          },
          "colorscale": {
           "diverging": [
            [
             0,
             "#8e0152"
            ],
            [
             0.1,
             "#c51b7d"
            ],
            [
             0.2,
             "#de77ae"
            ],
            [
             0.3,
             "#f1b6da"
            ],
            [
             0.4,
             "#fde0ef"
            ],
            [
             0.5,
             "#f7f7f7"
            ],
            [
             0.6,
             "#e6f5d0"
            ],
            [
             0.7,
             "#b8e186"
            ],
            [
             0.8,
             "#7fbc41"
            ],
            [
             0.9,
             "#4d9221"
            ],
            [
             1,
             "#276419"
            ]
           ],
           "sequential": [
            [
             0,
             "#0d0887"
            ],
            [
             0.1111111111111111,
             "#46039f"
            ],
            [
             0.2222222222222222,
             "#7201a8"
            ],
            [
             0.3333333333333333,
             "#9c179e"
            ],
            [
             0.4444444444444444,
             "#bd3786"
            ],
            [
             0.5555555555555556,
             "#d8576b"
            ],
            [
             0.6666666666666666,
             "#ed7953"
            ],
            [
             0.7777777777777778,
             "#fb9f3a"
            ],
            [
             0.8888888888888888,
             "#fdca26"
            ],
            [
             1,
             "#f0f921"
            ]
           ],
           "sequentialminus": [
            [
             0,
             "#0d0887"
            ],
            [
             0.1111111111111111,
             "#46039f"
            ],
            [
             0.2222222222222222,
             "#7201a8"
            ],
            [
             0.3333333333333333,
             "#9c179e"
            ],
            [
             0.4444444444444444,
             "#bd3786"
            ],
            [
             0.5555555555555556,
             "#d8576b"
            ],
            [
             0.6666666666666666,
             "#ed7953"
            ],
            [
             0.7777777777777778,
             "#fb9f3a"
            ],
            [
             0.8888888888888888,
             "#fdca26"
            ],
            [
             1,
             "#f0f921"
            ]
           ]
          },
          "colorway": [
           "#636efa",
           "#EF553B",
           "#00cc96",
           "#ab63fa",
           "#FFA15A",
           "#19d3f3",
           "#FF6692",
           "#B6E880",
           "#FF97FF",
           "#FECB52"
          ],
          "font": {
           "color": "#2a3f5f"
          },
          "geo": {
           "bgcolor": "white",
           "lakecolor": "white",
           "landcolor": "#E5ECF6",
           "showlakes": true,
           "showland": true,
           "subunitcolor": "white"
          },
          "hoverlabel": {
           "align": "left"
          },
          "hovermode": "closest",
          "mapbox": {
           "style": "light"
          },
          "paper_bgcolor": "white",
          "plot_bgcolor": "#E5ECF6",
          "polar": {
           "angularaxis": {
            "gridcolor": "white",
            "linecolor": "white",
            "ticks": ""
           },
           "bgcolor": "#E5ECF6",
           "radialaxis": {
            "gridcolor": "white",
            "linecolor": "white",
            "ticks": ""
           }
          },
          "scene": {
           "xaxis": {
            "backgroundcolor": "#E5ECF6",
            "gridcolor": "white",
            "gridwidth": 2,
            "linecolor": "white",
            "showbackground": true,
            "ticks": "",
            "zerolinecolor": "white"
           },
           "yaxis": {
            "backgroundcolor": "#E5ECF6",
            "gridcolor": "white",
            "gridwidth": 2,
            "linecolor": "white",
            "showbackground": true,
            "ticks": "",
            "zerolinecolor": "white"
           },
           "zaxis": {
            "backgroundcolor": "#E5ECF6",
            "gridcolor": "white",
            "gridwidth": 2,
            "linecolor": "white",
            "showbackground": true,
            "ticks": "",
            "zerolinecolor": "white"
           }
          },
          "shapedefaults": {
           "line": {
            "color": "#2a3f5f"
           }
          },
          "ternary": {
           "aaxis": {
            "gridcolor": "white",
            "linecolor": "white",
            "ticks": ""
           },
           "baxis": {
            "gridcolor": "white",
            "linecolor": "white",
            "ticks": ""
           },
           "bgcolor": "#E5ECF6",
           "caxis": {
            "gridcolor": "white",
            "linecolor": "white",
            "ticks": ""
           }
          },
          "title": {
           "x": 0.05
          },
          "xaxis": {
           "automargin": true,
           "gridcolor": "white",
           "linecolor": "white",
           "ticks": "",
           "title": {
            "standoff": 15
           },
           "zerolinecolor": "white",
           "zerolinewidth": 2
          },
          "yaxis": {
           "automargin": true,
           "gridcolor": "white",
           "linecolor": "white",
           "ticks": "",
           "title": {
            "standoff": 15
           },
           "zerolinecolor": "white",
           "zerolinewidth": 2
          }
         }
        },
        "title": {
         "font": {
          "color": "rgba(0, 0, 0, 0.7)",
          "family": "Arial, sans-serif",
          "size": 24
         },
         "text": "Path Length Comparison For Before and After Improvement Paths"
        },
        "width": 1400,
        "xaxis": {
         "gridcolor": "#E0E8F0",
         "side": "top",
         "title": {
          "standoff": 10,
          "text": "Path Length"
         },
         "zerolinecolor": "#E0E8F0"
        },
        "yaxis": {
         "gridcolor": "#E0E8F0",
         "tickangle": 0,
         "tickfont": {
          "color": "rgba(0, 0, 0, 0.8)",
          "family": "Arial, sans-serif",
          "size": 15
         },
         "ticktext": [
          "Cat → Dog",
          "North_America → Canada",
          "Moon → Mars",
          "Apple → Fruit",
          "Jesus → God",
          "Mario → Nintendo",
          "Batman → Superman",
          "Germany → Adolf_Hitler",
          "Dinosaur → China",
          "Apple → Banana",
          "Batman → Japan",
          "Manchester → Water",
          "England → Japan",
          "Africa → England",
          "Necktie → Lion",
          "California → Middle_East",
          "James_Bond → Human_rights",
          "Cat → Computer",
          "Volcano → Alphabet",
          "China → Afghanistan",
          "Linguistics → Rome",
          "England → Train",
          "Jew → Telephone",
          "Dinosaur → George_W._Bush",
          "Video → China",
          "Citrus → Physics",
          "Chemistry → Fidel_Castro",
          "Dog → Sea",
          "Colombia → Meat",
          "Human → Pluto",
          "Achilles → Winston_Churchill",
          "Beer → Warsaw",
          "Earth → Odysseus",
          "Adolf_Hitler → Jesus",
          "AT%26T → Vegetable",
          "Bird → Thomas_Jefferson",
          "United_States → English_language",
          "Computer → Baseball",
          "California → Adolf_Hitler",
          "Australian_Open → George_W._Bush",
          "Tennis → Nuclear_weapon",
          "Batman → The_Holocaust",
          "Hydrogen → Gold",
          "Flower → Adolf_Hitler",
          "Dog → Beer",
          "Computer → Russia",
          "England → God",
          "Bangladesh → Harry_S._Truman",
          "Brazil → Vitamin",
          "Alpaca → Nuclear_fission",
          "Google → God",
          "Pyramid → Adolf_Hitler",
          "Planet → Nuclear_power",
          "Brain → DVD",
          "Pluto → Wall_Street",
          "Citrus → Desert",
          "Flower → George_H._W._Bush",
          "Weed → Jesus",
          "Meteorological_history_of_Hurricane_Katrina → Iraq_War",
          "Dodo → Film",
          "Colombia → 6th_century",
          "Batman → Bill_Clinton",
          "Chemistry → George_H._W._Bush",
          "Batman → Jesus",
          "Anaconda → Agnosticism",
          "American_Civil_War → Kuwait_City",
          "Seed → New_York_City",
          "Mario → God",
          "Aircraft → Yugoslavia",
          "Solar_System → Babe_Ruth",
          "Brain → Telephone",
          "14th_century → Rainbow",
          "Batman → Wood",
          "Dog → Telephone",
          "Automobile → Windows_XP",
          "Antlion → Hip_hop_music",
          "Cat → Adolf_Hitler",
          "God → Adolf_Hitler",
          "Cat → University",
          "Batman → Bible",
          "Pyramid → Bean",
          "Cat → Microsoft",
          "Automobile → Pluto",
          "Electricity → God",
          "Achilles_tendon → Ocean",
          "Reptile → Jesus",
          "Pikachu → Jesus",
          "Brazil → Hydrogen",
          "Art → Mango",
          "God → Aztec",
          "Canada → Pony",
          "Aluminium_chloride → Parrot",
          "Batman → Penguin",
          "Mormon → Ice",
          "Computer → Fruit",
          "Batman → Banana",
          "15th_century → Windows_Vista",
          "Calculus → Lemon",
          "Earless_seal → Citrus",
          "Aircraft → Solar_eclipse",
          "AIDS → Jesus",
          "Arnold_Schwarzenegger → Vegetable",
          "Famine → Arctic",
          "Jesus → Google",
          "Wasp → United_Arab_Emirates",
          "Age_of_Enlightenment → Kazakhstan",
          "Dog → Venus",
          "Fourteenth_Amendment_to_the_United_States_Constitution → Reptile",
          "Acceleration → Mozilla_Firefox",
          "Computer_programming → Fresh_water",
          "Beer → Sun",
          "Khudai_Khidmatgar → Whale",
          "Judaism → Flute",
          "Theatre → Zebra",
          "Jesus → Microsoft",
          "Booby → Ununhexium",
          "Nintendo → Snow",
          "Brothers_Grimm → Windows_Vista",
          "Ocean → Love",
          "Dog → Elementary_algebra",
          "Archbishop_of_Canterbury → Neil_Armstrong",
          "Batman → Peanut",
          "Weasel → Barium",
          "Batman → Coconut_crab",
          "Bird → Great_white_shark",
          "Electricity → Anne_Frank",
          "Continent → Gorilla",
          "Smog → Toy_Story",
          "Gregorian_chant → Inductance",
          "George_W._Bush → Monkey",
          "Linux → Adolf_Hitler",
          "Forth → Anne_Frank",
          "David_Beckham → Great_white_shark",
          "Metal → Prague",
          "Achilles_tendon → Ivory",
          "Mathematics → Juice",
          "Chocolate → Velociraptor"
         ],
         "tickvals": [
          0,
          1,
          2,
          3,
          4,
          5,
          6,
          7,
          8,
          9,
          10,
          11,
          12,
          13,
          14,
          15,
          16,
          17,
          18,
          19,
          20,
          21,
          22,
          23,
          24,
          25,
          26,
          27,
          28,
          29,
          30,
          31,
          32,
          33,
          34,
          35,
          36,
          37,
          38,
          39,
          40
         ]
        }
       }
      }
     },
     "metadata": {},
     "output_type": "display_data"
    }
   ],
   "source": [
    "before_tuning_paths = load_ai_paths('data/paths_before_tuning', ori_dest)\n",
    "after_4o_tuning_paths = load_ai_paths('data/paths_after_tuning', ori_dest)\n",
    "after_4o_mini_tuning_paths = load_ai_paths('data/paths_after_tuning_4o_mini', ori_dest)\n",
    "\n",
    "plot_updated_task_path_length_comparison(before_tuning_paths, after_4o_tuning_paths, after_4o_mini_tuning_paths, ori_dest, shortest_paths, sample_fraction=0.3, fixed_height_per_pair=50, fixed_width=1400, x_jitter_offset=0.025, seed=58, y_offset=0.15)"
   ]
  },
  {
   "cell_type": "code",
   "execution_count": 25,
   "metadata": {},
   "outputs": [
    {
     "data": {
      "image/png": "[encoded data removed]",
      "text/plain": [
       "<Figure size 600x600 with 3 Axes>"
      ]
     },
     "metadata": {},
     "output_type": "display_data"
    }
   ],
   "source": [
    "correlation_between_embedding_and_distance(G, sentence_embeddings, 5000)"
   ]
  },
  {
   "cell_type": "code",
   "execution_count": 46,
   "metadata": {},
   "outputs": [
    {
     "name": "stdout",
     "output_type": "stream",
     "text": [
      "---------------Path 1: baseline, Path 2: manually improved prompt-------------\n",
      "Failure rate for Paths 1: 0.0, Path 2: 0.0\n",
      "Number of paths that are shorter for Paths 1: 33, Path 2: 69\n",
      "Average for Path 1: 6.215074309978768, Path 2: 5.8055201698513805\n",
      "Median path length for Path 1: 5.2, Path 2: 5.2\n",
      "T test result: t_stat=2.9152835586817876, p_value=0.004077256994251107\n",
      "Average difference with the shortest path for Path 1: 2.5144373673036093, Path 2: 2.104883227176221\n",
      "T test result: t_stat=2.9152835586817876, p_value=0.004077256994251107\n",
      "-------------Path 1: baseline, Path 2: task modification-------------\n",
      "Failure rate for Paths 1: 0.0, Path 2: 0.07006369426751592\n",
      "Number of paths that are shorter for Paths 1: 40, Path 2: 66\n",
      "Average for Path 1: 6.113812785388128, Path 2: 5.698630136986301\n",
      "Median path length for Path 1: 5.2, Path 2: 5.0\n",
      "T test result: t_stat=1.9184075019203766, p_value=0.0570246309949651\n",
      "Average difference with the shortest path for Path 1: 2.408333333333333, Path 2: 1.9931506849315068\n",
      "T test result: t_stat=1.9184075019203766, p_value=0.0570246309949651\n",
      "-------------Path 1: Before tuning, Path 2: GPT-4o tuning-------------\n",
      "Failure rate for Paths 1: 0.07006369426751592, Path 2: 0.08280254777070063\n",
      "Number of paths that are shorter for Paths 1: 31, Path 2: 31\n",
      "Average for Path 1: 5.64748201438849, Path 2: 5.661870503597123\n",
      "Median path length for Path 1: 5.0, Path 2: 5.0\n",
      "T test result: t_stat=-0.08705794688592748, p_value=0.9307516473797014\n",
      "Average difference with the shortest path for Path 1: 1.935251798561151, Path 2: 1.9496402877697843\n",
      "T test result: t_stat=-0.08705794688592748, p_value=0.9307516473797014\n",
      "-------------Path 1: Before tuning, Path 2: GPT-4o mini tuning-------------\n",
      "Failure rate for Paths 1: 0.07006369426751592, Path 2: 0.050955414012738856\n",
      "Number of paths that are shorter for Paths 1: 47, Path 2: 22\n",
      "Average for Path 1: 5.602836879432624, Path 2: 5.929078014184397\n",
      "Median path length for Path 1: 5.0, Path 2: 5.0\n",
      "T test result: t_stat=-1.7668799780658386, p_value=0.07942740469419846\n",
      "Average difference with the shortest path for Path 1: 1.8936170212765957, Path 2: 2.219858156028369\n",
      "T test result: t_stat=-1.7668799780658386, p_value=0.07942740469419846\n"
     ]
    }
   ],
   "source": [
    "baseline = load_ai_paths('data/paths', ori_dest)\n",
    "manually_improved_prompt = load_ai_paths('data/paths_improved_prompt', ori_dest)\n",
    "print(\"---------------Path 1: baseline, Path 2: manually improved prompt-------------\")\n",
    "paths_comparation(baseline, manually_improved_prompt, shortest_paths, ori_dest)\n",
    "\n",
    "task_modification = load_ai_paths('data/paths_before_tuning', ori_dest)\n",
    "print(\"-------------Path 1: baseline, Path 2: task modification-------------\")\n",
    "paths_comparation(baseline, task_modification, shortest_paths, ori_dest)\n",
    "\n",
    "gpt_4o_tuning = load_ai_paths('data/paths_after_tuning', ori_dest)\n",
    "print(\"-------------Path 1: Before tuning, Path 2: GPT-4o tuning-------------\")\n",
    "paths_comparation(task_modification, gpt_4o_tuning, shortest_paths, ori_dest)\n",
    "\n",
    "gpt_4o_mini_tuning = load_ai_paths('data/paths_after_tuning_4o_mini', ori_dest)\n",
    "print(\"-------------Path 1: Before tuning, Path 2: GPT-4o mini tuning-------------\")\n",
    "paths_comparation(task_modification, gpt_4o_mini_tuning, shortest_paths, ori_dest)\n"
   ]
  }
 ],
 "metadata": {
  "kernelspec": {
   "display_name": "ada2",
   "language": "python",
   "name": "python3"
  },
  "language_info": {
   "codemirror_mode": {
    "name": "ipython",
    "version": 3
   },
   "file_extension": ".py",
   "mimetype": "text/x-python",
   "name": "python",
   "nbconvert_exporter": "python",
   "pygments_lexer": "ipython3",
   "version": "3.9.20"
  }
 },
 "nbformat": 4,
 "nbformat_minor": 2
}
