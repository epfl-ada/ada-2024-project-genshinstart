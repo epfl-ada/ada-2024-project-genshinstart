{
 "cells": [
  {
   "cell_type": "code",
   "execution_count": 1,
   "metadata": {},
   "outputs": [],
   "source": [
    "import pandas as pd\n",
    "\n",
    "# Load links from the file\n",
    "links_df = pd.read_csv('data\\wikispeedia_paths-and-graph\\links.tsv', sep='\\t', names=[\"current_article\", \"linked_article\"], comment='#')\n",
    "\n",
    "# Create a dictionary for faster lookup of links\n",
    "link_map = {}\n",
    "for idx, row in links_df.iterrows():\n",
    "    link_map.setdefault(row['current_article'], []).append(row['linked_article'])\n"
   ]
  },
  {
   "cell_type": "code",
   "execution_count": null,
   "metadata": {},
   "outputs": [],
   "source": [
    "\n",
    "from openai import OpenAI\n",
    "api_key = \"you_openai_api_key\"\n",
    "\n",
    "client = OpenAI(api_key = api_key)\n",
    "\n",
    "def choose_next_article(current_article, possible_links, target_article, visited_articles, model):\n",
    "    \n",
    "    # Define the prompt\n",
    "    prompt = f\"\"\"\n",
    "    You are playing a game where you need to navigate from one Wikipedia article to the target article in the fewest steps possible.\n",
    "\n",
    "    Current article: {current_article}\n",
    "    Target article: {target_article}\n",
    "\n",
    "    Articles you have previously visited: {', '.join(visited_articles) if visited_articles else \"No article has been visited\"}\n",
    "    \n",
    "    You can move to one of the following articles:\n",
    "    {', '.join(possible_links)}\n",
    "\n",
    "    Or if you think returning to the previous article is beneficial, you may do so. \n",
    "    \n",
    "    Reply only with the name of the article you want to move to, with no explanation or marks.\n",
    "    \"\"\"\n",
    "\n",
    "    # Make the updated API call\n",
    "    response = client.chat.completions.create(\n",
    "        model=model,\n",
    "        messages=[\n",
    "            {\"role\": \"system\", \"content\": \"You are an expert in navigating Wikipedia topics.\"},\n",
    "            {\"role\": \"user\", \"content\": prompt}\n",
    "        ]\n",
    "    )\n",
    "\n",
    "    # Return the chosen article and token usage\n",
    "    return response.choices[0].message.content, response.usage.total_tokens\n"
   ]
  },
  {
   "cell_type": "code",
   "execution_count": 136,
   "metadata": {},
   "outputs": [],
   "source": [
    "def play_wikispeedia_game(start_article, target_article, model=\"gpt-4\"):\n",
    "    current_article = start_article\n",
    "    visited_articles = set()  # Track visited articles\n",
    "    steps = 0\n",
    "    total_tokens = 0\n",
    "\n",
    "    while current_article != target_article:\n",
    "        # Check if the article has outgoing links\n",
    "        if current_article not in link_map:\n",
    "            print(f\"No outgoing links from {current_article}. Game over!\")\n",
    "            print(f\"Total token usage: {total_tokens}\")\n",
    "            return\n",
    "\n",
    "        # Get possible next articles\n",
    "        possible_links = link_map[current_article]\n",
    "        visited_articles_list = list(visited_articles)\n",
    "\n",
    "        # Call GPT to get the next article\n",
    "        next_article, token_usage = choose_next_article(current_article, possible_links, target_article, visited_articles_list, model=model)\n",
    "        total_tokens += token_usage\n",
    "        print(f\"Step {steps}: Moved from '{current_article}' to '{next_article}'\")\n",
    "\n",
    "        # If next_article is the target, the game ends\n",
    "        if next_article == target_article:\n",
    "            print(f\"Reached the target article '{target_article}' in {steps + 1} steps!\")\n",
    "            print(f\"Total token usage: {total_tokens}\")\n",
    "            return\n",
    "\n",
    "        # Add the current article to visited\n",
    "        visited_articles.add(current_article)\n",
    "\n",
    "        # Move to the next article\n",
    "        current_article = next_article\n",
    "        steps += 1\n",
    "\n",
    "        # Limit steps to prevent infinite loops or excessive token usage\n",
    "        if steps > 15:\n",
    "            print(\"Step limit reached. Game terminated.\")\n",
    "            print(f\"Total token usage: {total_tokens}\")\n",
    "            return\n",
    "\n",
    "    # print(f\"Reached the target article '{target_article}' in {steps} steps!\")\n"
   ]
  },
  {
   "cell_type": "code",
   "execution_count": 137,
   "metadata": {},
   "outputs": [],
   "source": [
    "start_article = \"Aircraft\"\n",
    "target_article = \"Google\""
   ]
  },
  {
   "cell_type": "code",
   "execution_count": 138,
   "metadata": {},
   "outputs": [
    {
     "name": "stdout",
     "output_type": "stream",
     "text": [
      "Step 0: Moved from 'Aircraft' to 'United_Kingdom'\n",
      "Step 1: Moved from 'United_Kingdom' to 'William_Shakespeare'\n",
      "Step 2: Moved from 'William_Shakespeare' to 'Ben_Jonson'\n",
      "Step 3: Moved from 'Ben_Jonson' to 'William_Shakespeare'\n",
      "Step 4: Moved from 'William_Shakespeare' to 'Actor'\n",
      "Step 5: Moved from 'Actor' to 'William_Shakespeare'\n",
      "Step 6: Moved from 'William_Shakespeare' to 'British_Empire'\n",
      "Step 7: Moved from 'British_Empire' to 'Anglo-Saxons'\n",
      "No outgoing links from Anglo-Saxons. Game over!\n",
      "Total token usage: 2700\n"
     ]
    }
   ],
   "source": [
    "play_wikispeedia_game(start_article, target_article, model=\"gpt-3.5-turbo\")\n"
   ]
  },
  {
   "cell_type": "code",
   "execution_count": 142,
   "metadata": {},
   "outputs": [
    {
     "name": "stdout",
     "output_type": "stream",
     "text": [
      "Step 0: Moved from 'Aircraft' to 'Boeing_747'\n",
      "Step 1: Moved from 'Boeing_747' to 'Seattle%2C_Washington'\n",
      "Step 2: Moved from 'Seattle%2C_Washington' to 'Microsoft'\n",
      "Step 3: Moved from 'Microsoft' to 'Bill_Gates'\n",
      "Step 4: Moved from 'Bill_Gates' to 'Microsoft'\n",
      "Step 5: Moved from 'Microsoft' to 'Computer'\n",
      "Step 6: Moved from 'Computer' to 'Internet'\n",
      "Step 7: Moved from 'Internet' to 'Cloud'\n",
      "Step 8: Moved from 'Cloud' to 'Internet'\n",
      "Step 9: Moved from 'Internet' to 'World_Wide_Web'\n",
      "Step 10: Moved from 'World_Wide_Web' to 'Google'\n",
      "Reached the target article 'Google' in 11 steps!\n",
      "Total token usage: 2613\n"
     ]
    }
   ],
   "source": [
    "play_wikispeedia_game(start_article, target_article, model=\"gpt-4o\")\n"
   ]
  },
  {
   "cell_type": "code",
   "execution_count": 143,
   "metadata": {},
   "outputs": [
    {
     "name": "stdout",
     "output_type": "stream",
     "text": [
      "Step 0: Moved from 'Aircraft' to 'Boeing_747'\n",
      "Step 1: Moved from 'Boeing_747' to 'United_States'\n",
      "Step 2: Moved from 'United_States' to 'Computer'\n",
      "Step 3: Moved from 'Computer' to 'Internet'\n",
      "Step 4: Moved from 'Internet' to 'World_Wide_Web'\n",
      "Step 5: Moved from 'World_Wide_Web' to 'History_of_the_Internet'\n",
      "Step 6: Moved from 'History_of_the_Internet' to 'World_Wide_Web'\n",
      "Step 7: Moved from 'World_Wide_Web' to 'Google'\n",
      "Reached the target article 'Google' in 8 steps!\n",
      "Total token usage: 3040\n"
     ]
    }
   ],
   "source": [
    "play_wikispeedia_game(start_article, target_article, model=\"gpt-4o-mini\")\n"
   ]
  }
 ],
 "metadata": {
  "kernelspec": {
   "display_name": "ada2",
   "language": "python",
   "name": "python3"
  },
  "language_info": {
   "codemirror_mode": {
    "name": "ipython",
    "version": 3
   },
   "file_extension": ".py",
   "mimetype": "text/x-python",
   "name": "python",
   "nbconvert_exporter": "python",
   "pygments_lexer": "ipython3",
   "version": "3.9.20"
  }
 },
 "nbformat": 4,
 "nbformat_minor": 2
}
