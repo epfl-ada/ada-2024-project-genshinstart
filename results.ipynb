{
 "cells": [
  {
   "cell_type": "code",
   "execution_count": 1,
   "metadata": {},
   "outputs": [],
   "source": [
    "# This code is for comparing the difference between AI generated paths, human navigated paths, and the actual shortest path\n",
    "\n",
    "import pandas as pd\n",
    "import networkx as nx\n",
    "import os\n",
    "import csv\n",
    "import matplotlib.pyplot as plt\n",
    "import numpy as np\n",
    "import seaborn as sns\n",
    "from scipy.spatial.distance import cosine\n",
    "from sentence_transformers import SentenceTransformer\n",
    "from src.data.paths_loader import *\n",
    "from src.utils.evaluation_utils import *\n",
    "from src.utils.plot_utils import *\n",
    "import plotly.io as pio\n",
    "import plotly.graph_objects as go\n",
    "import numpy as np\n",
    "from scipy.stats import gaussian_kde\n"
   ]
  },
  {
   "cell_type": "code",
   "execution_count": 2,
   "metadata": {},
   "outputs": [],
   "source": [
    "# load the links file\n",
    "df = pd.read_csv('data/wikispeedia_paths-and-graph/links.tsv', sep='\\t', comment='#', header=None, names=['origin', 'destination'])\n",
    "\n",
    "# Create a directed graph\n",
    "G = nx.from_pandas_edgelist(df, source='origin', target='destination', create_using=nx.DiGraph())\n",
    "\n",
    "# load the origin and destination pairs, in the first column\n",
    "ori_dest = pd.read_csv('data/ori_dest.csv').iloc[:, 0].tolist()\n",
    "ori_dest = [eval(pair) for pair in ori_dest]\n",
    "\n",
    "# for each pair, load the AI generated path and the human navigated path\n",
    "AI_paths = load_ai_paths('data/paths', ori_dest)\n",
    "improved_ai_paths = load_ai_paths('data/paths_improved_prompt', ori_dest)\n",
    "human_paths = load_human_paths(ori_dest)\n",
    "shortest_paths = get_shortest_path(G, ori_dest)"
   ]
  },
  {
   "cell_type": "code",
   "execution_count": 3,
   "metadata": {},
   "outputs": [],
   "source": [
    "ai_path_len = [[len(path) for path in AI_paths[pair]] for pair in ori_dest]\n",
    "improved_ai_paths_len = [[len(path) for path in improved_ai_paths[pair]] for pair in ori_dest]\n",
    "human_path_len = [[len(path) for path in human_paths[pair]] for pair in ori_dest]\n",
    "shortest_path_len = [[len(shortest_paths[pair][0])] for pair in ori_dest]\n",
    "\n",
    "# Calculate mean values of AI path lengths and sort pairs based on these means\n",
    "mean_ai_path_len = [np.mean(lengths) for lengths in ai_path_len]\n",
    "sorted_indices = np.argsort(mean_ai_path_len)\n",
    "sorted_ori_dest = [ori_dest[i] for i in sorted_indices]\n",
    "sorted_ai_path_len = [ai_path_len[i] for i in sorted_indices]\n",
    "sorted_improved_ai_path_len = [improved_ai_paths_len[i] for i in sorted_indices]\n",
    "sorted_human_path_len = [human_path_len[i] for i in sorted_indices]\n",
    "sorted_shortest_path_len = [shortest_path_len[i] for i in sorted_indices]"
   ]
  },
  {
   "cell_type": "markdown",
   "metadata": {},
   "source": [
    "## Humans vs GPT vs Shortest Comparisons\n",
    "\n",
    "### Comparing Path lengths\n",
    "Here, we conduct an initial comparison of the lengths for humans, GPT, and optimal paths. The figure below shows the mimimal, median, and maximum path lengths for each pair of articles. This is a random sample from our 159 pairs, and we ordered them in descending order of the AI path length."
   ]
  },
  {
   "cell_type": "code",
   "execution_count": 4,
   "metadata": {},
   "outputs": [
    {
     "data": {
      "application/vnd.plotly.v1+json": {
       "config": {
        "plotlyServerURL": "https://plot.ly"
       },
       "data": [
        {
         "base": 2,
         "hovertemplate": "<b>Min:</b> 2<br><b>Median:</b> 2.0<br><b>Max:</b> 2<extra></extra>",
         "marker": {
          "color": "rgba(58, 85, 209, 0.7)"
         },
         "name": "AI",
         "orientation": "h",
         "showlegend": true,
         "type": "bar",
         "width": 0.35,
         "x": [
          0.10000000000000009
         ],
         "y": [
          0.15
         ]
        },
        {
         "base": 3,
         "hovertemplate": "<b>Min:</b> 3<br><b>Median:</b> 3.0<br><b>Max:</b> 3<extra></extra>",
         "marker": {
          "color": "rgba(58, 85, 209, 0.7)"
         },
         "name": "AI",
         "orientation": "h",
         "showlegend": false,
         "type": "bar",
         "width": 0.35,
         "x": [
          0.10000000000000009
         ],
         "y": [
          1.15
         ]
        },
        {
         "base": 3,
         "hovertemplate": "<b>Min:</b> 3<br><b>Median:</b> 3.0<br><b>Max:</b> 3<extra></extra>",
         "marker": {
          "color": "rgba(58, 85, 209, 0.7)"
         },
         "name": "AI",
         "orientation": "h",
         "showlegend": false,
         "type": "bar",
         "width": 0.35,
         "x": [
          0.10000000000000009
         ],
         "y": [
          2.15
         ]
        },
        {
         "base": 4,
         "hovertemplate": "<b>Min:</b> 4<br><b>Median:</b> 4.0<br><b>Max:</b> 4<extra></extra>",
         "marker": {
          "color": "rgba(58, 85, 209, 0.7)"
         },
         "name": "AI",
         "orientation": "h",
         "showlegend": false,
         "type": "bar",
         "width": 0.35,
         "x": [
          0.09999999999999964
         ],
         "y": [
          3.15
         ]
        },
        {
         "base": 4,
         "hovertemplate": "<b>Min:</b> 4<br><b>Median:</b> 4.0<br><b>Max:</b> 4<extra></extra>",
         "marker": {
          "color": "rgba(58, 85, 209, 0.7)"
         },
         "name": "AI",
         "orientation": "h",
         "showlegend": false,
         "type": "bar",
         "width": 0.35,
         "x": [
          0.09999999999999964
         ],
         "y": [
          4.15
         ]
        },
        {
         "base": 4,
         "hovertemplate": "<b>Min:</b> 4<br><b>Median:</b> 4.0<br><b>Max:</b> 4<extra></extra>",
         "marker": {
          "color": "rgba(58, 85, 209, 0.7)"
         },
         "name": "AI",
         "orientation": "h",
         "showlegend": false,
         "type": "bar",
         "width": 0.35,
         "x": [
          0.09999999999999964
         ],
         "y": [
          5.15
         ]
        },
        {
         "base": 4,
         "hovertemplate": "<b>Min:</b> 4<br><b>Median:</b> 4.0<br><b>Max:</b> 6<extra></extra>",
         "marker": {
          "color": "rgba(58, 85, 209, 0.7)"
         },
         "name": "AI",
         "orientation": "h",
         "showlegend": false,
         "type": "bar",
         "width": 0.35,
         "x": [
          2
         ],
         "y": [
          6.15
         ]
        },
        {
         "base": 5,
         "hovertemplate": "<b>Min:</b> 5<br><b>Median:</b> 5.0<br><b>Max:</b> 5<extra></extra>",
         "marker": {
          "color": "rgba(58, 85, 209, 0.7)"
         },
         "name": "AI",
         "orientation": "h",
         "showlegend": false,
         "type": "bar",
         "width": 0.35,
         "x": [
          0.09999999999999964
         ],
         "y": [
          7.15
         ]
        },
        {
         "base": 5,
         "hovertemplate": "<b>Min:</b> 5<br><b>Median:</b> 5.0<br><b>Max:</b> 5<extra></extra>",
         "marker": {
          "color": "rgba(58, 85, 209, 0.7)"
         },
         "name": "AI",
         "orientation": "h",
         "showlegend": false,
         "type": "bar",
         "width": 0.35,
         "x": [
          0.09999999999999964
         ],
         "y": [
          8.15
         ]
        },
        {
         "base": 4,
         "hovertemplate": "<b>Min:</b> 4<br><b>Median:</b> 4.0<br><b>Max:</b> 7<extra></extra>",
         "marker": {
          "color": "rgba(58, 85, 209, 0.7)"
         },
         "name": "AI",
         "orientation": "h",
         "showlegend": false,
         "type": "bar",
         "width": 0.35,
         "x": [
          3
         ],
         "y": [
          9.15
         ]
        },
        {
         "base": 5,
         "hovertemplate": "<b>Min:</b> 5<br><b>Median:</b> 5.0<br><b>Max:</b> 5<extra></extra>",
         "marker": {
          "color": "rgba(58, 85, 209, 0.7)"
         },
         "name": "AI",
         "orientation": "h",
         "showlegend": false,
         "type": "bar",
         "width": 0.35,
         "x": [
          0.09999999999999964
         ],
         "y": [
          10.15
         ]
        },
        {
         "base": 5,
         "hovertemplate": "<b>Min:</b> 5<br><b>Median:</b> 5.0<br><b>Max:</b> 8<extra></extra>",
         "marker": {
          "color": "rgba(58, 85, 209, 0.7)"
         },
         "name": "AI",
         "orientation": "h",
         "showlegend": false,
         "type": "bar",
         "width": 0.35,
         "x": [
          3
         ],
         "y": [
          11.15
         ]
        },
        {
         "base": 5,
         "hovertemplate": "<b>Min:</b> 5<br><b>Median:</b> 5.0<br><b>Max:</b> 7<extra></extra>",
         "marker": {
          "color": "rgba(58, 85, 209, 0.7)"
         },
         "name": "AI",
         "orientation": "h",
         "showlegend": false,
         "type": "bar",
         "width": 0.35,
         "x": [
          2
         ],
         "y": [
          12.15
         ]
        },
        {
         "base": 5,
         "hovertemplate": "<b>Min:</b> 5<br><b>Median:</b> 6.0<br><b>Max:</b> 6<extra></extra>",
         "marker": {
          "color": "rgba(58, 85, 209, 0.7)"
         },
         "name": "AI",
         "orientation": "h",
         "showlegend": false,
         "type": "bar",
         "width": 0.35,
         "x": [
          1
         ],
         "y": [
          13.15
         ]
        },
        {
         "base": 6,
         "hovertemplate": "<b>Min:</b> 6<br><b>Median:</b> 6.0<br><b>Max:</b> 6<extra></extra>",
         "marker": {
          "color": "rgba(58, 85, 209, 0.7)"
         },
         "name": "AI",
         "orientation": "h",
         "showlegend": false,
         "type": "bar",
         "width": 0.35,
         "x": [
          0.09999999999999964
         ],
         "y": [
          14.15
         ]
        },
        {
         "base": 6,
         "hovertemplate": "<b>Min:</b> 6<br><b>Median:</b> 6.0<br><b>Max:</b> 6<extra></extra>",
         "marker": {
          "color": "rgba(58, 85, 209, 0.7)"
         },
         "name": "AI",
         "orientation": "h",
         "showlegend": false,
         "type": "bar",
         "width": 0.35,
         "x": [
          0.09999999999999964
         ],
         "y": [
          15.15
         ]
        },
        {
         "base": 6,
         "hovertemplate": "<b>Min:</b> 6<br><b>Median:</b> 6.5<br><b>Max:</b> 11<extra></extra>",
         "marker": {
          "color": "rgba(58, 85, 209, 0.7)"
         },
         "name": "AI",
         "orientation": "h",
         "showlegend": false,
         "type": "bar",
         "width": 0.35,
         "x": [
          5
         ],
         "y": [
          16.15
         ]
        },
        {
         "base": 7,
         "hovertemplate": "<b>Min:</b> 7<br><b>Median:</b> 9.0<br><b>Max:</b> 10<extra></extra>",
         "marker": {
          "color": "rgba(58, 85, 209, 0.7)"
         },
         "name": "AI",
         "orientation": "h",
         "showlegend": false,
         "type": "bar",
         "width": 0.35,
         "x": [
          3
         ],
         "y": [
          17.15
         ]
        },
        {
         "base": 6,
         "hovertemplate": "<b>Min:</b> 6<br><b>Median:</b> 6.0<br><b>Max:</b> 15<extra></extra>",
         "marker": {
          "color": "rgba(58, 85, 209, 0.7)"
         },
         "name": "AI",
         "orientation": "h",
         "showlegend": false,
         "type": "bar",
         "width": 0.35,
         "x": [
          9
         ],
         "y": [
          18.15
         ]
        },
        {
         "base": 6,
         "hovertemplate": "<b>Min:</b> 6<br><b>Median:</b> 6.5<br><b>Max:</b> 7<extra></extra>",
         "marker": {
          "color": "rgba(58, 85, 209, 0.7)"
         },
         "name": "AI",
         "orientation": "h",
         "showlegend": false,
         "type": "bar",
         "width": 0.35,
         "x": [
          1
         ],
         "y": [
          19.15
         ]
        },
        {
         "base": 10,
         "hovertemplate": "<b>Min:</b> 10<br><b>Median:</b> 10.0<br><b>Max:</b> 12<extra></extra>",
         "marker": {
          "color": "rgba(58, 85, 209, 0.7)"
         },
         "name": "AI",
         "orientation": "h",
         "showlegend": false,
         "type": "bar",
         "width": 0.35,
         "x": [
          2
         ],
         "y": [
          20.15
         ]
        },
        {
         "base": 9,
         "hovertemplate": "<b>Min:</b> 9<br><b>Median:</b> 11.0<br><b>Max:</b> 15<extra></extra>",
         "marker": {
          "color": "rgba(58, 85, 209, 0.7)"
         },
         "name": "AI",
         "orientation": "h",
         "showlegend": false,
         "type": "bar",
         "width": 0.35,
         "x": [
          6
         ],
         "y": [
          21.15
         ]
        },
        {
         "base": 9,
         "hovertemplate": "<b>Min:</b> 9<br><b>Median:</b> 13.0<br><b>Max:</b> 15<extra></extra>",
         "marker": {
          "color": "rgba(58, 85, 209, 0.7)"
         },
         "name": "AI",
         "orientation": "h",
         "showlegend": false,
         "type": "bar",
         "width": 0.35,
         "x": [
          6
         ],
         "y": [
          22.15
         ]
        },
        {
         "base": 2,
         "hovertemplate": "<b>Min:</b> 2<br><b>Median:</b> 2.0<br><b>Max:</b> 2<extra></extra>",
         "marker": {
          "color": "rgba(242, 153, 74, 0.7)"
         },
         "name": "Human",
         "orientation": "h",
         "showlegend": true,
         "type": "bar",
         "width": 0.35,
         "x": [
          0.10000000000000009
         ],
         "y": [
          -0.15
         ]
        },
        {
         "base": 3,
         "hovertemplate": "<b>Min:</b> 3<br><b>Median:</b> 3.0<br><b>Max:</b> 3<extra></extra>",
         "marker": {
          "color": "rgba(242, 153, 74, 0.7)"
         },
         "name": "Human",
         "orientation": "h",
         "showlegend": false,
         "type": "bar",
         "width": 0.35,
         "x": [
          0.10000000000000009
         ],
         "y": [
          0.85
         ]
        },
        {
         "base": 4,
         "hovertemplate": "<b>Min:</b> 4<br><b>Median:</b> 5.0<br><b>Max:</b> 6<extra></extra>",
         "marker": {
          "color": "rgba(242, 153, 74, 0.7)"
         },
         "name": "Human",
         "orientation": "h",
         "showlegend": false,
         "type": "bar",
         "width": 0.35,
         "x": [
          2
         ],
         "y": [
          1.85
         ]
        },
        {
         "base": 4,
         "hovertemplate": "<b>Min:</b> 4<br><b>Median:</b> 4.0<br><b>Max:</b> 10<extra></extra>",
         "marker": {
          "color": "rgba(242, 153, 74, 0.7)"
         },
         "name": "Human",
         "orientation": "h",
         "showlegend": false,
         "type": "bar",
         "width": 0.35,
         "x": [
          6
         ],
         "y": [
          2.85
         ]
        },
        {
         "base": 5,
         "hovertemplate": "<b>Min:</b> 5<br><b>Median:</b> 7.0<br><b>Max:</b> 8<extra></extra>",
         "marker": {
          "color": "rgba(242, 153, 74, 0.7)"
         },
         "name": "Human",
         "orientation": "h",
         "showlegend": false,
         "type": "bar",
         "width": 0.35,
         "x": [
          3
         ],
         "y": [
          3.85
         ]
        },
        {
         "base": 4,
         "hovertemplate": "<b>Min:</b> 4<br><b>Median:</b> 8.0<br><b>Max:</b> 15<extra></extra>",
         "marker": {
          "color": "rgba(242, 153, 74, 0.7)"
         },
         "name": "Human",
         "orientation": "h",
         "showlegend": false,
         "type": "bar",
         "width": 0.35,
         "x": [
          11
         ],
         "y": [
          4.85
         ]
        },
        {
         "base": 3,
         "hovertemplate": "<b>Min:</b> 3<br><b>Median:</b> 5.0<br><b>Max:</b> 11<extra></extra>",
         "marker": {
          "color": "rgba(242, 153, 74, 0.7)"
         },
         "name": "Human",
         "orientation": "h",
         "showlegend": false,
         "type": "bar",
         "width": 0.35,
         "x": [
          8
         ],
         "y": [
          5.85
         ]
        },
        {
         "base": 4,
         "hovertemplate": "<b>Min:</b> 4<br><b>Median:</b> 5.0<br><b>Max:</b> 10<extra></extra>",
         "marker": {
          "color": "rgba(242, 153, 74, 0.7)"
         },
         "name": "Human",
         "orientation": "h",
         "showlegend": false,
         "type": "bar",
         "width": 0.35,
         "x": [
          6
         ],
         "y": [
          6.85
         ]
        },
        {
         "base": 4,
         "hovertemplate": "<b>Min:</b> 4<br><b>Median:</b> 6.0<br><b>Max:</b> 15<extra></extra>",
         "marker": {
          "color": "rgba(242, 153, 74, 0.7)"
         },
         "name": "Human",
         "orientation": "h",
         "showlegend": false,
         "type": "bar",
         "width": 0.35,
         "x": [
          11
         ],
         "y": [
          7.85
         ]
        },
        {
         "base": 4,
         "hovertemplate": "<b>Min:</b> 4<br><b>Median:</b> 6.0<br><b>Max:</b> 11<extra></extra>",
         "marker": {
          "color": "rgba(242, 153, 74, 0.7)"
         },
         "name": "Human",
         "orientation": "h",
         "showlegend": false,
         "type": "bar",
         "width": 0.35,
         "x": [
          7
         ],
         "y": [
          8.85
         ]
        },
        {
         "base": 5,
         "hovertemplate": "<b>Min:</b> 5<br><b>Median:</b> 6.0<br><b>Max:</b> 11<extra></extra>",
         "marker": {
          "color": "rgba(242, 153, 74, 0.7)"
         },
         "name": "Human",
         "orientation": "h",
         "showlegend": false,
         "type": "bar",
         "width": 0.35,
         "x": [
          6
         ],
         "y": [
          9.85
         ]
        },
        {
         "base": 4,
         "hovertemplate": "<b>Min:</b> 4<br><b>Median:</b> 6.0<br><b>Max:</b> 14<extra></extra>",
         "marker": {
          "color": "rgba(242, 153, 74, 0.7)"
         },
         "name": "Human",
         "orientation": "h",
         "showlegend": false,
         "type": "bar",
         "width": 0.35,
         "x": [
          10
         ],
         "y": [
          10.85
         ]
        },
        {
         "base": 4,
         "hovertemplate": "<b>Min:</b> 4<br><b>Median:</b> 7.0<br><b>Max:</b> 16<extra></extra>",
         "marker": {
          "color": "rgba(242, 153, 74, 0.7)"
         },
         "name": "Human",
         "orientation": "h",
         "showlegend": false,
         "type": "bar",
         "width": 0.35,
         "x": [
          12
         ],
         "y": [
          11.85
         ]
        },
        {
         "base": 4,
         "hovertemplate": "<b>Min:</b> 4<br><b>Median:</b> 4.0<br><b>Max:</b> 9<extra></extra>",
         "marker": {
          "color": "rgba(242, 153, 74, 0.7)"
         },
         "name": "Human",
         "orientation": "h",
         "showlegend": false,
         "type": "bar",
         "width": 0.35,
         "x": [
          5
         ],
         "y": [
          12.85
         ]
        },
        {
         "base": 5,
         "hovertemplate": "<b>Min:</b> 5<br><b>Median:</b> 7.0<br><b>Max:</b> 14<extra></extra>",
         "marker": {
          "color": "rgba(242, 153, 74, 0.7)"
         },
         "name": "Human",
         "orientation": "h",
         "showlegend": false,
         "type": "bar",
         "width": 0.35,
         "x": [
          9
         ],
         "y": [
          13.85
         ]
        },
        {
         "base": 5,
         "hovertemplate": "<b>Min:</b> 5<br><b>Median:</b> 6.0<br><b>Max:</b> 14<extra></extra>",
         "marker": {
          "color": "rgba(242, 153, 74, 0.7)"
         },
         "name": "Human",
         "orientation": "h",
         "showlegend": false,
         "type": "bar",
         "width": 0.35,
         "x": [
          9
         ],
         "y": [
          14.85
         ]
        },
        {
         "base": 4,
         "hovertemplate": "<b>Min:</b> 4<br><b>Median:</b> 6.0<br><b>Max:</b> 14<extra></extra>",
         "marker": {
          "color": "rgba(242, 153, 74, 0.7)"
         },
         "name": "Human",
         "orientation": "h",
         "showlegend": false,
         "type": "bar",
         "width": 0.35,
         "x": [
          10
         ],
         "y": [
          15.85
         ]
        },
        {
         "base": 4,
         "hovertemplate": "<b>Min:</b> 4<br><b>Median:</b> 7.0<br><b>Max:</b> 15<extra></extra>",
         "marker": {
          "color": "rgba(242, 153, 74, 0.7)"
         },
         "name": "Human",
         "orientation": "h",
         "showlegend": false,
         "type": "bar",
         "width": 0.35,
         "x": [
          11
         ],
         "y": [
          16.85
         ]
        },
        {
         "base": 5,
         "hovertemplate": "<b>Min:</b> 5<br><b>Median:</b> 9.0<br><b>Max:</b> 15<extra></extra>",
         "marker": {
          "color": "rgba(242, 153, 74, 0.7)"
         },
         "name": "Human",
         "orientation": "h",
         "showlegend": false,
         "type": "bar",
         "width": 0.35,
         "x": [
          10
         ],
         "y": [
          17.85
         ]
        },
        {
         "base": 4,
         "hovertemplate": "<b>Min:</b> 4<br><b>Median:</b> 6.0<br><b>Max:</b> 14<extra></extra>",
         "marker": {
          "color": "rgba(242, 153, 74, 0.7)"
         },
         "name": "Human",
         "orientation": "h",
         "showlegend": false,
         "type": "bar",
         "width": 0.35,
         "x": [
          10
         ],
         "y": [
          18.85
         ]
        },
        {
         "base": 6,
         "hovertemplate": "<b>Min:</b> 6<br><b>Median:</b> 6.0<br><b>Max:</b> 7<extra></extra>",
         "marker": {
          "color": "rgba(242, 153, 74, 0.7)"
         },
         "name": "Human",
         "orientation": "h",
         "showlegend": false,
         "type": "bar",
         "width": 0.35,
         "x": [
          1
         ],
         "y": [
          19.85
         ]
        },
        {
         "base": 4,
         "hovertemplate": "<b>Min:</b> 4<br><b>Median:</b> 4.0<br><b>Max:</b> 4<extra></extra>",
         "marker": {
          "color": "rgba(242, 153, 74, 0.7)"
         },
         "name": "Human",
         "orientation": "h",
         "showlegend": false,
         "type": "bar",
         "width": 0.35,
         "x": [
          0.09999999999999964
         ],
         "y": [
          20.85
         ]
        },
        {
         "base": 5,
         "hovertemplate": "<b>Min:</b> 5<br><b>Median:</b> 6.0<br><b>Max:</b> 11<extra></extra>",
         "marker": {
          "color": "rgba(242, 153, 74, 0.7)"
         },
         "name": "Human",
         "orientation": "h",
         "showlegend": false,
         "type": "bar",
         "width": 0.35,
         "x": [
          6
         ],
         "y": [
          21.85
         ]
        },
        {
         "hovertemplate": "<b>Shortest Path Length:</b> 2<extra></extra>",
         "marker": {
          "color": "rgba(111, 207, 151, 0.8)",
          "line": {
           "color": "white",
           "width": 1.5
          },
          "size": 10
         },
         "mode": "markers",
         "name": "Shortest",
         "showlegend": true,
         "type": "scatter",
         "x": [
          2
         ],
         "y": [
          0
         ]
        },
        {
         "hovertemplate": "<b>Shortest Path Length:</b> 2<extra></extra>",
         "marker": {
          "color": "rgba(111, 207, 151, 0.8)",
          "line": {
           "color": "white",
           "width": 1.5
          },
          "size": 10
         },
         "mode": "markers",
         "name": "Shortest",
         "showlegend": false,
         "type": "scatter",
         "x": [
          2
         ],
         "y": [
          1
         ]
        },
        {
         "hovertemplate": "<b>Shortest Path Length:</b> 3<extra></extra>",
         "marker": {
          "color": "rgba(111, 207, 151, 0.8)",
          "line": {
           "color": "white",
           "width": 1.5
          },
          "size": 10
         },
         "mode": "markers",
         "name": "Shortest",
         "showlegend": false,
         "type": "scatter",
         "x": [
          3
         ],
         "y": [
          2
         ]
        },
        {
         "hovertemplate": "<b>Shortest Path Length:</b> 3<extra></extra>",
         "marker": {
          "color": "rgba(111, 207, 151, 0.8)",
          "line": {
           "color": "white",
           "width": 1.5
          },
          "size": 10
         },
         "mode": "markers",
         "name": "Shortest",
         "showlegend": false,
         "type": "scatter",
         "x": [
          3
         ],
         "y": [
          3
         ]
        },
        {
         "hovertemplate": "<b>Shortest Path Length:</b> 4<extra></extra>",
         "marker": {
          "color": "rgba(111, 207, 151, 0.8)",
          "line": {
           "color": "white",
           "width": 1.5
          },
          "size": 10
         },
         "mode": "markers",
         "name": "Shortest",
         "showlegend": false,
         "type": "scatter",
         "x": [
          4
         ],
         "y": [
          4
         ]
        },
        {
         "hovertemplate": "<b>Shortest Path Length:</b> 4<extra></extra>",
         "marker": {
          "color": "rgba(111, 207, 151, 0.8)",
          "line": {
           "color": "white",
           "width": 1.5
          },
          "size": 10
         },
         "mode": "markers",
         "name": "Shortest",
         "showlegend": false,
         "type": "scatter",
         "x": [
          4
         ],
         "y": [
          5
         ]
        },
        {
         "hovertemplate": "<b>Shortest Path Length:</b> 3<extra></extra>",
         "marker": {
          "color": "rgba(111, 207, 151, 0.8)",
          "line": {
           "color": "white",
           "width": 1.5
          },
          "size": 10
         },
         "mode": "markers",
         "name": "Shortest",
         "showlegend": false,
         "type": "scatter",
         "x": [
          3
         ],
         "y": [
          6
         ]
        },
        {
         "hovertemplate": "<b>Shortest Path Length:</b> 4<extra></extra>",
         "marker": {
          "color": "rgba(111, 207, 151, 0.8)",
          "line": {
           "color": "white",
           "width": 1.5
          },
          "size": 10
         },
         "mode": "markers",
         "name": "Shortest",
         "showlegend": false,
         "type": "scatter",
         "x": [
          4
         ],
         "y": [
          7
         ]
        },
        {
         "hovertemplate": "<b>Shortest Path Length:</b> 4<extra></extra>",
         "marker": {
          "color": "rgba(111, 207, 151, 0.8)",
          "line": {
           "color": "white",
           "width": 1.5
          },
          "size": 10
         },
         "mode": "markers",
         "name": "Shortest",
         "showlegend": false,
         "type": "scatter",
         "x": [
          4
         ],
         "y": [
          8
         ]
        },
        {
         "hovertemplate": "<b>Shortest Path Length:</b> 4<extra></extra>",
         "marker": {
          "color": "rgba(111, 207, 151, 0.8)",
          "line": {
           "color": "white",
           "width": 1.5
          },
          "size": 10
         },
         "mode": "markers",
         "name": "Shortest",
         "showlegend": false,
         "type": "scatter",
         "x": [
          4
         ],
         "y": [
          9
         ]
        },
        {
         "hovertemplate": "<b>Shortest Path Length:</b> 5<extra></extra>",
         "marker": {
          "color": "rgba(111, 207, 151, 0.8)",
          "line": {
           "color": "white",
           "width": 1.5
          },
          "size": 10
         },
         "mode": "markers",
         "name": "Shortest",
         "showlegend": false,
         "type": "scatter",
         "x": [
          5
         ],
         "y": [
          10
         ]
        },
        {
         "hovertemplate": "<b>Shortest Path Length:</b> 4<extra></extra>",
         "marker": {
          "color": "rgba(111, 207, 151, 0.8)",
          "line": {
           "color": "white",
           "width": 1.5
          },
          "size": 10
         },
         "mode": "markers",
         "name": "Shortest",
         "showlegend": false,
         "type": "scatter",
         "x": [
          4
         ],
         "y": [
          11
         ]
        },
        {
         "hovertemplate": "<b>Shortest Path Length:</b> 4<extra></extra>",
         "marker": {
          "color": "rgba(111, 207, 151, 0.8)",
          "line": {
           "color": "white",
           "width": 1.5
          },
          "size": 10
         },
         "mode": "markers",
         "name": "Shortest",
         "showlegend": false,
         "type": "scatter",
         "x": [
          4
         ],
         "y": [
          12
         ]
        },
        {
         "hovertemplate": "<b>Shortest Path Length:</b> 4<extra></extra>",
         "marker": {
          "color": "rgba(111, 207, 151, 0.8)",
          "line": {
           "color": "white",
           "width": 1.5
          },
          "size": 10
         },
         "mode": "markers",
         "name": "Shortest",
         "showlegend": false,
         "type": "scatter",
         "x": [
          4
         ],
         "y": [
          13
         ]
        },
        {
         "hovertemplate": "<b>Shortest Path Length:</b> 5<extra></extra>",
         "marker": {
          "color": "rgba(111, 207, 151, 0.8)",
          "line": {
           "color": "white",
           "width": 1.5
          },
          "size": 10
         },
         "mode": "markers",
         "name": "Shortest",
         "showlegend": false,
         "type": "scatter",
         "x": [
          5
         ],
         "y": [
          14
         ]
        },
        {
         "hovertemplate": "<b>Shortest Path Length:</b> 5<extra></extra>",
         "marker": {
          "color": "rgba(111, 207, 151, 0.8)",
          "line": {
           "color": "white",
           "width": 1.5
          },
          "size": 10
         },
         "mode": "markers",
         "name": "Shortest",
         "showlegend": false,
         "type": "scatter",
         "x": [
          5
         ],
         "y": [
          15
         ]
        },
        {
         "hovertemplate": "<b>Shortest Path Length:</b> 4<extra></extra>",
         "marker": {
          "color": "rgba(111, 207, 151, 0.8)",
          "line": {
           "color": "white",
           "width": 1.5
          },
          "size": 10
         },
         "mode": "markers",
         "name": "Shortest",
         "showlegend": false,
         "type": "scatter",
         "x": [
          4
         ],
         "y": [
          16
         ]
        },
        {
         "hovertemplate": "<b>Shortest Path Length:</b> 4<extra></extra>",
         "marker": {
          "color": "rgba(111, 207, 151, 0.8)",
          "line": {
           "color": "white",
           "width": 1.5
          },
          "size": 10
         },
         "mode": "markers",
         "name": "Shortest",
         "showlegend": false,
         "type": "scatter",
         "x": [
          4
         ],
         "y": [
          17
         ]
        },
        {
         "hovertemplate": "<b>Shortest Path Length:</b> 5<extra></extra>",
         "marker": {
          "color": "rgba(111, 207, 151, 0.8)",
          "line": {
           "color": "white",
           "width": 1.5
          },
          "size": 10
         },
         "mode": "markers",
         "name": "Shortest",
         "showlegend": false,
         "type": "scatter",
         "x": [
          5
         ],
         "y": [
          18
         ]
        },
        {
         "hovertemplate": "<b>Shortest Path Length:</b> 4<extra></extra>",
         "marker": {
          "color": "rgba(111, 207, 151, 0.8)",
          "line": {
           "color": "white",
           "width": 1.5
          },
          "size": 10
         },
         "mode": "markers",
         "name": "Shortest",
         "showlegend": false,
         "type": "scatter",
         "x": [
          4
         ],
         "y": [
          19
         ]
        },
        {
         "hovertemplate": "<b>Shortest Path Length:</b> 4<extra></extra>",
         "marker": {
          "color": "rgba(111, 207, 151, 0.8)",
          "line": {
           "color": "white",
           "width": 1.5
          },
          "size": 10
         },
         "mode": "markers",
         "name": "Shortest",
         "showlegend": false,
         "type": "scatter",
         "x": [
          4
         ],
         "y": [
          20
         ]
        },
        {
         "hovertemplate": "<b>Shortest Path Length:</b> 4<extra></extra>",
         "marker": {
          "color": "rgba(111, 207, 151, 0.8)",
          "line": {
           "color": "white",
           "width": 1.5
          },
          "size": 10
         },
         "mode": "markers",
         "name": "Shortest",
         "showlegend": false,
         "type": "scatter",
         "x": [
          4
         ],
         "y": [
          21
         ]
        },
        {
         "hovertemplate": "<b>Shortest Path Length:</b> 4<extra></extra>",
         "marker": {
          "color": "rgba(111, 207, 151, 0.8)",
          "line": {
           "color": "white",
           "width": 1.5
          },
          "size": 10
         },
         "mode": "markers",
         "name": "Shortest",
         "showlegend": false,
         "type": "scatter",
         "x": [
          4
         ],
         "y": [
          22
         ]
        }
       ],
       "layout": {
        "height": 1150,
        "legend": {
         "bgcolor": "white",
         "bordercolor": "#E0E8F0",
         "borderwidth": 1,
         "font": {
          "color": "rgba(0, 0, 0, 0.7)"
         }
        },
        "paper_bgcolor": "white",
        "plot_bgcolor": "#F0F4FF",
        "shapes": [
         {
          "line": {
           "color": "#E0E8F0",
           "dash": "dot",
           "width": 1
          },
          "type": "line",
          "x0": 0,
          "x1": 1,
          "xref": "paper",
          "y0": 0,
          "y1": 0,
          "yref": "y"
         },
         {
          "line": {
           "color": "#E0E8F0",
           "dash": "dot",
           "width": 1
          },
          "type": "line",
          "x0": 0,
          "x1": 1,
          "xref": "paper",
          "y0": 1,
          "y1": 1,
          "yref": "y"
         },
         {
          "line": {
           "color": "#E0E8F0",
           "dash": "dot",
           "width": 1
          },
          "type": "line",
          "x0": 0,
          "x1": 1,
          "xref": "paper",
          "y0": 2,
          "y1": 2,
          "yref": "y"
         },
         {
          "line": {
           "color": "#E0E8F0",
           "dash": "dot",
           "width": 1
          },
          "type": "line",
          "x0": 0,
          "x1": 1,
          "xref": "paper",
          "y0": 3,
          "y1": 3,
          "yref": "y"
         },
         {
          "line": {
           "color": "#E0E8F0",
           "dash": "dot",
           "width": 1
          },
          "type": "line",
          "x0": 0,
          "x1": 1,
          "xref": "paper",
          "y0": 4,
          "y1": 4,
          "yref": "y"
         },
         {
          "line": {
           "color": "#E0E8F0",
           "dash": "dot",
           "width": 1
          },
          "type": "line",
          "x0": 0,
          "x1": 1,
          "xref": "paper",
          "y0": 5,
          "y1": 5,
          "yref": "y"
         },
         {
          "line": {
           "color": "#E0E8F0",
           "dash": "dot",
           "width": 1
          },
          "type": "line",
          "x0": 0,
          "x1": 1,
          "xref": "paper",
          "y0": 6,
          "y1": 6,
          "yref": "y"
         },
         {
          "line": {
           "color": "#E0E8F0",
           "dash": "dot",
           "width": 1
          },
          "type": "line",
          "x0": 0,
          "x1": 1,
          "xref": "paper",
          "y0": 7,
          "y1": 7,
          "yref": "y"
         },
         {
          "line": {
           "color": "#E0E8F0",
           "dash": "dot",
           "width": 1
          },
          "type": "line",
          "x0": 0,
          "x1": 1,
          "xref": "paper",
          "y0": 8,
          "y1": 8,
          "yref": "y"
         },
         {
          "line": {
           "color": "#E0E8F0",
           "dash": "dot",
           "width": 1
          },
          "type": "line",
          "x0": 0,
          "x1": 1,
          "xref": "paper",
          "y0": 9,
          "y1": 9,
          "yref": "y"
         },
         {
          "line": {
           "color": "#E0E8F0",
           "dash": "dot",
           "width": 1
          },
          "type": "line",
          "x0": 0,
          "x1": 1,
          "xref": "paper",
          "y0": 10,
          "y1": 10,
          "yref": "y"
         },
         {
          "line": {
           "color": "#E0E8F0",
           "dash": "dot",
           "width": 1
          },
          "type": "line",
          "x0": 0,
          "x1": 1,
          "xref": "paper",
          "y0": 11,
          "y1": 11,
          "yref": "y"
         },
         {
          "line": {
           "color": "#E0E8F0",
           "dash": "dot",
           "width": 1
          },
          "type": "line",
          "x0": 0,
          "x1": 1,
          "xref": "paper",
          "y0": 12,
          "y1": 12,
          "yref": "y"
         },
         {
          "line": {
           "color": "#E0E8F0",
           "dash": "dot",
           "width": 1
          },
          "type": "line",
          "x0": 0,
          "x1": 1,
          "xref": "paper",
          "y0": 13,
          "y1": 13,
          "yref": "y"
         },
         {
          "line": {
           "color": "#E0E8F0",
           "dash": "dot",
           "width": 1
          },
          "type": "line",
          "x0": 0,
          "x1": 1,
          "xref": "paper",
          "y0": 14,
          "y1": 14,
          "yref": "y"
         },
         {
          "line": {
           "color": "#E0E8F0",
           "dash": "dot",
           "width": 1
          },
          "type": "line",
          "x0": 0,
          "x1": 1,
          "xref": "paper",
          "y0": 15,
          "y1": 15,
          "yref": "y"
         },
         {
          "line": {
           "color": "#E0E8F0",
           "dash": "dot",
           "width": 1
          },
          "type": "line",
          "x0": 0,
          "x1": 1,
          "xref": "paper",
          "y0": 16,
          "y1": 16,
          "yref": "y"
         },
         {
          "line": {
           "color": "#E0E8F0",
           "dash": "dot",
           "width": 1
          },
          "type": "line",
          "x0": 0,
          "x1": 1,
          "xref": "paper",
          "y0": 17,
          "y1": 17,
          "yref": "y"
         },
         {
          "line": {
           "color": "#E0E8F0",
           "dash": "dot",
           "width": 1
          },
          "type": "line",
          "x0": 0,
          "x1": 1,
          "xref": "paper",
          "y0": 18,
          "y1": 18,
          "yref": "y"
         },
         {
          "line": {
           "color": "#E0E8F0",
           "dash": "dot",
           "width": 1
          },
          "type": "line",
          "x0": 0,
          "x1": 1,
          "xref": "paper",
          "y0": 19,
          "y1": 19,
          "yref": "y"
         },
         {
          "line": {
           "color": "#E0E8F0",
           "dash": "dot",
           "width": 1
          },
          "type": "line",
          "x0": 0,
          "x1": 1,
          "xref": "paper",
          "y0": 20,
          "y1": 20,
          "yref": "y"
         },
         {
          "line": {
           "color": "#E0E8F0",
           "dash": "dot",
           "width": 1
          },
          "type": "line",
          "x0": 0,
          "x1": 1,
          "xref": "paper",
          "y0": 21,
          "y1": 21,
          "yref": "y"
         },
         {
          "line": {
           "color": "#E0E8F0",
           "dash": "dot",
           "width": 1
          },
          "type": "line",
          "x0": 0,
          "x1": 1,
          "xref": "paper",
          "y0": 22,
          "y1": 22,
          "yref": "y"
         }
        ],
        "showlegend": true,
        "template": {
         "data": {
          "bar": [
           {
            "error_x": {
             "color": "#2a3f5f"
            },
            "error_y": {
             "color": "#2a3f5f"
            },
            "marker": {
             "line": {
              "color": "#E5ECF6",
              "width": 0.5
             },
             "pattern": {
              "fillmode": "overlay",
              "size": 10,
              "solidity": 0.2
             }
            },
            "type": "bar"
           }
          ],
          "barpolar": [
           {
            "marker": {
             "line": {
              "color": "#E5ECF6",
              "width": 0.5
             },
             "pattern": {
              "fillmode": "overlay",
              "size": 10,
              "solidity": 0.2
             }
            },
            "type": "barpolar"
           }
          ],
          "carpet": [
           {
            "aaxis": {
             "endlinecolor": "#2a3f5f",
             "gridcolor": "white",
             "linecolor": "white",
             "minorgridcolor": "white",
             "startlinecolor": "#2a3f5f"
            },
            "baxis": {
             "endlinecolor": "#2a3f5f",
             "gridcolor": "white",
             "linecolor": "white",
             "minorgridcolor": "white",
             "startlinecolor": "#2a3f5f"
            },
            "type": "carpet"
           }
          ],
          "choropleth": [
           {
            "colorbar": {
             "outlinewidth": 0,
             "ticks": ""
            },
            "type": "choropleth"
           }
          ],
          "contour": [
           {
            "colorbar": {
             "outlinewidth": 0,
             "ticks": ""
            },
            "colorscale": [
             [
              0,
              "#0d0887"
             ],
             [
              0.1111111111111111,
              "#46039f"
             ],
             [
              0.2222222222222222,
              "#7201a8"
             ],
             [
              0.3333333333333333,
              "#9c179e"
             ],
             [
              0.4444444444444444,
              "#bd3786"
             ],
             [
              0.5555555555555556,
              "#d8576b"
             ],
             [
              0.6666666666666666,
              "#ed7953"
             ],
             [
              0.7777777777777778,
              "#fb9f3a"
             ],
             [
              0.8888888888888888,
              "#fdca26"
             ],
             [
              1,
              "#f0f921"
             ]
            ],
            "type": "contour"
           }
          ],
          "contourcarpet": [
           {
            "colorbar": {
             "outlinewidth": 0,
             "ticks": ""
            },
            "type": "contourcarpet"
           }
          ],
          "heatmap": [
           {
            "colorbar": {
             "outlinewidth": 0,
             "ticks": ""
            },
            "colorscale": [
             [
              0,
              "#0d0887"
             ],
             [
              0.1111111111111111,
              "#46039f"
             ],
             [
              0.2222222222222222,
              "#7201a8"
             ],
             [
              0.3333333333333333,
              "#9c179e"
             ],
             [
              0.4444444444444444,
              "#bd3786"
             ],
             [
              0.5555555555555556,
              "#d8576b"
             ],
             [
              0.6666666666666666,
              "#ed7953"
             ],
             [
              0.7777777777777778,
              "#fb9f3a"
             ],
             [
              0.8888888888888888,
              "#fdca26"
             ],
             [
              1,
              "#f0f921"
             ]
            ],
            "type": "heatmap"
           }
          ],
          "heatmapgl": [
           {
            "colorbar": {
             "outlinewidth": 0,
             "ticks": ""
            },
            "colorscale": [
             [
              0,
              "#0d0887"
             ],
             [
              0.1111111111111111,
              "#46039f"
             ],
             [
              0.2222222222222222,
              "#7201a8"
             ],
             [
              0.3333333333333333,
              "#9c179e"
             ],
             [
              0.4444444444444444,
              "#bd3786"
             ],
             [
              0.5555555555555556,
              "#d8576b"
             ],
             [
              0.6666666666666666,
              "#ed7953"
             ],
             [
              0.7777777777777778,
              "#fb9f3a"
             ],
             [
              0.8888888888888888,
              "#fdca26"
             ],
             [
              1,
              "#f0f921"
             ]
            ],
            "type": "heatmapgl"
           }
          ],
          "histogram": [
           {
            "marker": {
             "pattern": {
              "fillmode": "overlay",
              "size": 10,
              "solidity": 0.2
             }
            },
            "type": "histogram"
           }
          ],
          "histogram2d": [
           {
            "colorbar": {
             "outlinewidth": 0,
             "ticks": ""
            },
            "colorscale": [
             [
              0,
              "#0d0887"
             ],
             [
              0.1111111111111111,
              "#46039f"
             ],
             [
              0.2222222222222222,
              "#7201a8"
             ],
             [
              0.3333333333333333,
              "#9c179e"
             ],
             [
              0.4444444444444444,
              "#bd3786"
             ],
             [
              0.5555555555555556,
              "#d8576b"
             ],
             [
              0.6666666666666666,
              "#ed7953"
             ],
             [
              0.7777777777777778,
              "#fb9f3a"
             ],
             [
              0.8888888888888888,
              "#fdca26"
             ],
             [
              1,
              "#f0f921"
             ]
            ],
            "type": "histogram2d"
           }
          ],
          "histogram2dcontour": [
           {
            "colorbar": {
             "outlinewidth": 0,
             "ticks": ""
            },
            "colorscale": [
             [
              0,
              "#0d0887"
             ],
             [
              0.1111111111111111,
              "#46039f"
             ],
             [
              0.2222222222222222,
              "#7201a8"
             ],
             [
              0.3333333333333333,
              "#9c179e"
             ],
             [
              0.4444444444444444,
              "#bd3786"
             ],
             [
              0.5555555555555556,
              "#d8576b"
             ],
             [
              0.6666666666666666,
              "#ed7953"
             ],
             [
              0.7777777777777778,
              "#fb9f3a"
             ],
             [
              0.8888888888888888,
              "#fdca26"
             ],
             [
              1,
              "#f0f921"
             ]
            ],
            "type": "histogram2dcontour"
           }
          ],
          "mesh3d": [
           {
            "colorbar": {
             "outlinewidth": 0,
             "ticks": ""
            },
            "type": "mesh3d"
           }
          ],
          "parcoords": [
           {
            "line": {
             "colorbar": {
              "outlinewidth": 0,
              "ticks": ""
             }
            },
            "type": "parcoords"
           }
          ],
          "pie": [
           {
            "automargin": true,
            "type": "pie"
           }
          ],
          "scatter": [
           {
            "fillpattern": {
             "fillmode": "overlay",
             "size": 10,
             "solidity": 0.2
            },
            "type": "scatter"
           }
          ],
          "scatter3d": [
           {
            "line": {
             "colorbar": {
              "outlinewidth": 0,
              "ticks": ""
             }
            },
            "marker": {
             "colorbar": {
              "outlinewidth": 0,
              "ticks": ""
             }
            },
            "type": "scatter3d"
           }
          ],
          "scattercarpet": [
           {
            "marker": {
             "colorbar": {
              "outlinewidth": 0,
              "ticks": ""
             }
            },
            "type": "scattercarpet"
           }
          ],
          "scattergeo": [
           {
            "marker": {
             "colorbar": {
              "outlinewidth": 0,
              "ticks": ""
             }
            },
            "type": "scattergeo"
           }
          ],
          "scattergl": [
           {
            "marker": {
             "colorbar": {
              "outlinewidth": 0,
              "ticks": ""
             }
            },
            "type": "scattergl"
           }
          ],
          "scattermapbox": [
           {
            "marker": {
             "colorbar": {
              "outlinewidth": 0,
              "ticks": ""
             }
            },
            "type": "scattermapbox"
           }
          ],
          "scatterpolar": [
           {
            "marker": {
             "colorbar": {
              "outlinewidth": 0,
              "ticks": ""
             }
            },
            "type": "scatterpolar"
           }
          ],
          "scatterpolargl": [
           {
            "marker": {
             "colorbar": {
              "outlinewidth": 0,
              "ticks": ""
             }
            },
            "type": "scatterpolargl"
           }
          ],
          "scatterternary": [
           {
            "marker": {
             "colorbar": {
              "outlinewidth": 0,
              "ticks": ""
             }
            },
            "type": "scatterternary"
           }
          ],
          "surface": [
           {
            "colorbar": {
             "outlinewidth": 0,
             "ticks": ""
            },
            "colorscale": [
             [
              0,
              "#0d0887"
             ],
             [
              0.1111111111111111,
              "#46039f"
             ],
             [
              0.2222222222222222,
              "#7201a8"
             ],
             [
              0.3333333333333333,
              "#9c179e"
             ],
             [
              0.4444444444444444,
              "#bd3786"
             ],
             [
              0.5555555555555556,
              "#d8576b"
             ],
             [
              0.6666666666666666,
              "#ed7953"
             ],
             [
              0.7777777777777778,
              "#fb9f3a"
             ],
             [
              0.8888888888888888,
              "#fdca26"
             ],
             [
              1,
              "#f0f921"
             ]
            ],
            "type": "surface"
           }
          ],
          "table": [
           {
            "cells": {
             "fill": {
              "color": "#EBF0F8"
             },
             "line": {
              "color": "white"
             }
            },
            "header": {
             "fill": {
              "color": "#C8D4E3"
             },
             "line": {
              "color": "white"
             }
            },
            "type": "table"
           }
          ]
         },
         "layout": {
          "annotationdefaults": {
           "arrowcolor": "#2a3f5f",
           "arrowhead": 0,
           "arrowwidth": 1
          },
          "autotypenumbers": "strict",
          "coloraxis": {
           "colorbar": {
            "outlinewidth": 0,
            "ticks": ""
           }
          },
          "colorscale": {
           "diverging": [
            [
             0,
             "#8e0152"
            ],
            [
             0.1,
             "#c51b7d"
            ],
            [
             0.2,
             "#de77ae"
            ],
            [
             0.3,
             "#f1b6da"
            ],
            [
             0.4,
             "#fde0ef"
            ],
            [
             0.5,
             "#f7f7f7"
            ],
            [
             0.6,
             "#e6f5d0"
            ],
            [
             0.7,
             "#b8e186"
            ],
            [
             0.8,
             "#7fbc41"
            ],
            [
             0.9,
             "#4d9221"
            ],
            [
             1,
             "#276419"
            ]
           ],
           "sequential": [
            [
             0,
             "#0d0887"
            ],
            [
             0.1111111111111111,
             "#46039f"
            ],
            [
             0.2222222222222222,
             "#7201a8"
            ],
            [
             0.3333333333333333,
             "#9c179e"
            ],
            [
             0.4444444444444444,
             "#bd3786"
            ],
            [
             0.5555555555555556,
             "#d8576b"
            ],
            [
             0.6666666666666666,
             "#ed7953"
            ],
            [
             0.7777777777777778,
             "#fb9f3a"
            ],
            [
             0.8888888888888888,
             "#fdca26"
            ],
            [
             1,
             "#f0f921"
            ]
           ],
           "sequentialminus": [
            [
             0,
             "#0d0887"
            ],
            [
             0.1111111111111111,
             "#46039f"
            ],
            [
             0.2222222222222222,
             "#7201a8"
            ],
            [
             0.3333333333333333,
             "#9c179e"
            ],
            [
             0.4444444444444444,
             "#bd3786"
            ],
            [
             0.5555555555555556,
             "#d8576b"
            ],
            [
             0.6666666666666666,
             "#ed7953"
            ],
            [
             0.7777777777777778,
             "#fb9f3a"
            ],
            [
             0.8888888888888888,
             "#fdca26"
            ],
            [
             1,
             "#f0f921"
            ]
           ]
          },
          "colorway": [
           "#636efa",
           "#EF553B",
           "#00cc96",
           "#ab63fa",
           "#FFA15A",
           "#19d3f3",
           "#FF6692",
           "#B6E880",
           "#FF97FF",
           "#FECB52"
          ],
          "font": {
           "color": "#2a3f5f"
          },
          "geo": {
           "bgcolor": "white",
           "lakecolor": "white",
           "landcolor": "#E5ECF6",
           "showlakes": true,
           "showland": true,
           "subunitcolor": "white"
          },
          "hoverlabel": {
           "align": "left"
          },
          "hovermode": "closest",
          "mapbox": {
           "style": "light"
          },
          "paper_bgcolor": "white",
          "plot_bgcolor": "#E5ECF6",
          "polar": {
           "angularaxis": {
            "gridcolor": "white",
            "linecolor": "white",
            "ticks": ""
           },
           "bgcolor": "#E5ECF6",
           "radialaxis": {
            "gridcolor": "white",
            "linecolor": "white",
            "ticks": ""
           }
          },
          "scene": {
           "xaxis": {
            "backgroundcolor": "#E5ECF6",
            "gridcolor": "white",
            "gridwidth": 2,
            "linecolor": "white",
            "showbackground": true,
            "ticks": "",
            "zerolinecolor": "white"
           },
           "yaxis": {
            "backgroundcolor": "#E5ECF6",
            "gridcolor": "white",
            "gridwidth": 2,
            "linecolor": "white",
            "showbackground": true,
            "ticks": "",
            "zerolinecolor": "white"
           },
           "zaxis": {
            "backgroundcolor": "#E5ECF6",
            "gridcolor": "white",
            "gridwidth": 2,
            "linecolor": "white",
            "showbackground": true,
            "ticks": "",
            "zerolinecolor": "white"
           }
          },
          "shapedefaults": {
           "line": {
            "color": "#2a3f5f"
           }
          },
          "ternary": {
           "aaxis": {
            "gridcolor": "white",
            "linecolor": "white",
            "ticks": ""
           },
           "baxis": {
            "gridcolor": "white",
            "linecolor": "white",
            "ticks": ""
           },
           "bgcolor": "#E5ECF6",
           "caxis": {
            "gridcolor": "white",
            "linecolor": "white",
            "ticks": ""
           }
          },
          "title": {
           "x": 0.05
          },
          "xaxis": {
           "automargin": true,
           "gridcolor": "white",
           "linecolor": "white",
           "ticks": "",
           "title": {
            "standoff": 15
           },
           "zerolinecolor": "white",
           "zerolinewidth": 2
          },
          "yaxis": {
           "automargin": true,
           "gridcolor": "white",
           "linecolor": "white",
           "ticks": "",
           "title": {
            "standoff": 15
           },
           "zerolinecolor": "white",
           "zerolinewidth": 2
          }
         }
        },
        "title": {
         "font": {
          "color": "rgba(0, 0, 0, 0.7)",
          "family": "Arial, sans-serif",
          "size": 24
         },
         "text": "Path Length Comparison"
        },
        "width": 1400,
        "xaxis": {
         "gridcolor": "#E0E8F0",
         "side": "top",
         "title": {
          "standoff": 10,
          "text": "Path Length"
         },
         "zerolinecolor": "#E0E8F0"
        },
        "yaxis": {
         "gridcolor": "#E0E8F0",
         "tickangle": 0,
         "tickfont": {
          "color": "rgba(0, 0, 0, 0.8)",
          "family": "Arial, sans-serif",
          "size": 15
         },
         "ticktext": [
          "Mario → Nintendo",
          "Moon → Mars",
          "Adolf_Hitler → Jesus",
          "England → Train",
          "American_Civil_War → Kuwait_City",
          "Ocean → Love",
          "Tennis → Nuclear_weapon",
          "Antlion → Hip_hop_music",
          "Dog → Telephone",
          "Archbishop_of_Canterbury → Vietnam",
          "Solar_System → Babe_Ruth",
          "Brain → Telephone",
          "Computer → Fruit",
          "Seed → New_York_City",
          "Achilles_tendon → Ivory",
          "Batman → Banana",
          "Batman → Wood",
          "Theatre → Zebra",
          "Gregorian_chant → Inductance",
          "14th_century → Rainbow",
          "Electricity → Anne_Frank",
          "Shark → FIFA",
          "Scent_of_a_Woman → Firearm"
         ],
         "tickvals": [
          0,
          1,
          2,
          3,
          4,
          5,
          6,
          7,
          8,
          9,
          10,
          11,
          12,
          13,
          14,
          15,
          16,
          17,
          18,
          19,
          20,
          21,
          22
         ]
        }
       }
      }
     },
     "metadata": {},
     "output_type": "display_data"
    }
   ],
   "source": [
    "# Parameters\n",
    "sample_fraction = 0.15  # Fraction of sublists to select\n",
    "outlier_threshold = 2  # Factor of the mean to use as the outlier threshold\n",
    "\n",
    "# Sample the indices\n",
    "sampled_indices = sample_indices(sorted_ai_path_len, sample_fraction)\n",
    "\n",
    "# Filter all paths using the same sampled indices\n",
    "aligned_ai_path_len = [filter_outliers(sorted_ai_path_len[i], outlier_threshold) for i in sampled_indices]\n",
    "aligned_human_path_len = [filter_outliers(sorted_human_path_len[i], outlier_threshold) for i in sampled_indices]\n",
    "aligned_shortest_path_len = [sorted_shortest_path_len[i] for i in sampled_indices]\n",
    "selected_ori_dest = [sorted_ori_dest[i] for i in sampled_indices]\n",
    "\n",
    "plot_path_len_comparison(sampled_indices, aligned_ai_path_len, aligned_human_path_len, aligned_shortest_path_len, selected_ori_dest)\n"
   ]
  },
  {
   "cell_type": "code",
   "execution_count": 5,
   "metadata": {},
   "outputs": [],
   "source": [
    "# Get Sentence embedding\n",
    "model = SentenceTransformer('all-MiniLM-L6-v2')\n",
    "sentence_embeddings = {node: model.encode(node.replace('_', ' ')) for node in G.nodes}"
   ]
  },
  {
   "cell_type": "code",
   "execution_count": 6,
   "metadata": {},
   "outputs": [],
   "source": [
    "# Calculate closeness scores for AI paths and human paths\n",
    "ai_closeness_scores = {}\n",
    "human_closeness_scores = {}\n",
    "optimal_closeness_scores = {}\n",
    "ai_target_scores = {}\n",
    "human_target_scores = {}\n",
    "optimal_target_scores = {}\n",
    "\n",
    "for pair in ori_dest:\n",
    "    start_article, target_article = pair\n",
    "    ai_path = AI_paths[pair]\n",
    "    human_path = human_paths[pair]\n",
    "    ai_closeness_scores[pair] = [calculate_closeness_scores(path, sentence_embeddings) for path in ai_path]\n",
    "    human_closeness_scores[pair] = [calculate_closeness_scores(path, sentence_embeddings) for path in human_path]\n",
    "    optimal_closeness_scores[pair] = [calculate_closeness_scores(path, sentence_embeddings) for path in shortest_paths[pair]]\n",
    "    ai_target_scores[pair] = [calculate_target_scores(path, sentence_embeddings) for path in ai_path]\n",
    "    human_target_scores[pair] = [calculate_target_scores(path, sentence_embeddings) for path in human_path]\n",
    "    optimal_target_scores[pair] = [calculate_target_scores(path, sentence_embeddings) for path in shortest_paths[pair]]\n",
    "\n",
    "\n",
    "ai_scores = [score for pair in ori_dest for score in ai_closeness_scores[pair]]\n",
    "human_scores = [score for pair in ori_dest for score in human_closeness_scores[pair]]\n",
    "optimal_scores = [score for pair in ori_dest for score in optimal_closeness_scores[pair]]\n",
    "ai_scores = [score for sublist in ai_scores for score in sublist]\n",
    "human_scores = [score for sublist in human_scores for score in sublist]\n",
    "optimal_scores = [score for sublist in optimal_scores for score in sublist]\n",
    "\n",
    "# Clean data and calculate KDE\n",
    "ai_x, ai_y = calculate_kde(ai_scores)\n",
    "human_x, human_y = calculate_kde(human_scores)\n",
    "optimal_x, optimal_y = calculate_kde(optimal_scores)\n"
   ]
  },
  {
   "cell_type": "code",
   "execution_count": 7,
   "metadata": {},
   "outputs": [
    {
     "data": {
      "application/vnd.plotly.v1+json": {
       "config": {
        "plotlyServerURL": "https://plot.ly"
       },
       "data": [
        {
         "hovertemplate": "AI path: %{y:.3f}<extra></extra>",
         "line": {
          "color": "rgba(58, 85, 209, 0.7)",
          "width": 3
         },
         "mode": "lines",
         "name": "AI path",
         "type": "scatter",
         "x": [
          -0.5594454054711513,
          -0.5447582307271973,
          -0.5300710559832432,
          -0.5153838812392892,
          -0.5006967064953352,
          -0.4860095317513811,
          -0.4713223570074271,
          -0.4566351822634731,
          -0.441948007519519,
          -0.42726083277556504,
          -0.41257365803161095,
          -0.39788648328765697,
          -0.38319930854370293,
          -0.3685121337997489,
          -0.35382495905579486,
          -0.33913778431184083,
          -0.3244506095678868,
          -0.30976343482393276,
          -0.2950762600799787,
          -0.2803890853360247,
          -0.26570191059207066,
          -0.2510147358481166,
          -0.2363275611041626,
          -0.22164038636020855,
          -0.20695321161625457,
          -0.19226603687230054,
          -0.1775788621283465,
          -0.16289168738439247,
          -0.14820451264043843,
          -0.1335173378964844,
          -0.11883016315253037,
          -0.10414298840857633,
          -0.0894558136646223,
          -0.07476863892066826,
          -0.06008146417671423,
          -0.04539428943276025,
          -0.03070711468880616,
          -0.01601993994485218,
          -0.0013327652008980895,
          0.01335440954305589,
          0.02804158428700998,
          0.04272875903096396,
          0.05741593377491805,
          0.07210310851887203,
          0.08679028326282612,
          0.1014774580067801,
          0.11616463275073419,
          0.13085180749468817,
          0.14553898223864215,
          0.16022615698259624,
          0.17491333172655021,
          0.1896005064705043,
          0.20428768121445828,
          0.21897485595841237,
          0.23366203070236635,
          0.24834920544632044,
          0.2630363801902744,
          0.2777235549342285,
          0.2924107296781825,
          0.3070979044221366,
          0.32178507916609056,
          0.33647225391004465,
          0.35115942865399863,
          0.3658466033979527,
          0.3805337781419067,
          0.3952209528858607,
          0.40990812762981477,
          0.42459530237376875,
          0.43928247711772284,
          0.4539696518616769,
          0.4686568266056308,
          0.4833440013495849,
          0.498031176093539,
          0.5127183508374931,
          0.5274055255814469,
          0.542092700325401,
          0.5567798750693551,
          0.5714670498133092,
          0.5861542245572631,
          0.6008413993012172,
          0.6155285740451713,
          0.6302157487891251,
          0.6449029235330792,
          0.6595900982770333,
          0.6742772730209874,
          0.6889644477649413,
          0.7036516225088953,
          0.7183387972528494,
          0.7330259719968035,
          0.7477131467407574,
          0.7624003214847115,
          0.7770874962286656,
          0.7917746709726197,
          0.8064618457165735,
          0.8211490204605276,
          0.8358361952044817,
          0.8505233699484356,
          0.8652105446923897,
          0.8798977194363438,
          0.8945848941802979
         ],
         "y": [
          0.002557993539582125,
          0.0024170617466008366,
          0.0020433556869004343,
          0.0015729396634225302,
          0.0011762740178781325,
          0.0010186523869519068,
          0.001245553685117134,
          0.001976995220365839,
          0.0032812827992875983,
          0.005123158116173092,
          0.007326792597280428,
          0.009616627705233055,
          0.011765680690958662,
          0.01380768134819297,
          0.016215926603784174,
          0.01996109762082694,
          0.026409727588168817,
          0.03706181887450399,
          0.05315289197314513,
          0.07522675301261433,
          0.10292870000702666,
          0.1353287508080735,
          0.17186366863460384,
          0.21350087815936575,
          0.26333567714051426,
          0.3259935630319952,
          0.4060054413007011,
          0.5062200578618541,
          0.6274836386954342,
          0.7698572075586705,
          0.9341481594950674,
          1.121821813789932,
          1.3323780197658603,
          1.5595316993392774,
          1.7891932904393508,
          2.00163510017224,
          2.1774816822208347,
          2.304340146285815,
          2.380273646487818,
          2.4123855587979297,
          2.411819915901711,
          2.388269626844816,
          2.3467334274461416,
          2.287525265665403,
          2.2087218140493983,
          2.1092263249412877,
          1.990731714375596,
          1.8579014588896239,
          1.7173730774967924,
          1.576768022924094,
          1.4442789476388636,
          1.328237368793609,
          1.235666406421184,
          1.169800826013418,
          1.1279603227283064,
          1.1014366117449443,
          1.0778277393354974,
          1.0447504243757149,
          0.9934022437403487,
          0.9209797236906031,
          0.8314862951718464,
          0.7345728169039429,
          0.64237739540227,
          0.5653674926434344,
          0.5092020351551143,
          0.47430360604313826,
          0.45797717696476314,
          0.4570714598204313,
          0.46909039266275065,
          0.4913356187589069,
          0.5194032555987739,
          0.5466762468166757,
          0.565445951552019,
          0.5691016161545589,
          0.5542772001528338,
          0.5219963106268078,
          0.4773845209278924,
          0.4280976470871878,
          0.3820231428283801,
          0.3449949858967242,
          0.31927602961308965,
          0.3033712862019216,
          0.29323052714273756,
          0.28421359351971864,
          0.2728044590871242,
          0.25733969834051956,
          0.2377495136048079,
          0.21487080332891895,
          0.18989432401106382,
          0.16413050947891225,
          0.13895421063956137,
          0.11573390954989561,
          0.09566925054451987,
          0.07957335324811095,
          0.06767339885136038,
          0.059498656803096135,
          0.0539234116341757,
          0.04942306393932654,
          0.0445329440602541,
          0.03836018892522427
         ]
        },
        {
         "hovertemplate": "Human path: %{y:.3f}<extra></extra>",
         "line": {
          "color": "rgba(242, 153, 74, 0.7)",
          "width": 3
         },
         "mode": "lines",
         "name": "Human path",
         "type": "scatter",
         "x": [
          -0.6598001136377447,
          -0.6436103813641294,
          -0.627420649090514,
          -0.6112309168168986,
          -0.5950411845432833,
          -0.5788514522696679,
          -0.5626617199960525,
          -0.5464719877224371,
          -0.5302822554488218,
          -0.5140925231752065,
          -0.49790279090159106,
          -0.4817130586279757,
          -0.46552332635436033,
          -0.44933359408074497,
          -0.4331438618071296,
          -0.41695412953351424,
          -0.4007643972598989,
          -0.3845746649862835,
          -0.36838493271266814,
          -0.3521952004390528,
          -0.3360054681654374,
          -0.31981573589182205,
          -0.3036260036182067,
          -0.2874362713445913,
          -0.27124653907097596,
          -0.2550568067973606,
          -0.23886707452374523,
          -0.22267734225012986,
          -0.2064876099765145,
          -0.19029787770289913,
          -0.17410814542928377,
          -0.15791841315566835,
          -0.14172868088205304,
          -0.12553894860843773,
          -0.10934921633482231,
          -0.09315948406120689,
          -0.07696975178759158,
          -0.06078001951397627,
          -0.04459028724036085,
          -0.028400554966745428,
          -0.012210822693130119,
          0.00397890958048519,
          0.02016864185410061,
          0.03635837412771603,
          0.05254810640133134,
          0.06873783867494665,
          0.08492757094856207,
          0.10111730322217749,
          0.1173070354957928,
          0.1334967677694081,
          0.14968650004302353,
          0.16587623231663895,
          0.18206596459025426,
          0.19825569686386957,
          0.214445429137485,
          0.2306351614111004,
          0.24682489368471572,
          0.263014625958331,
          0.27920435823194645,
          0.29539409050556187,
          0.3115838227791772,
          0.3277735550527925,
          0.343963287326408,
          0.3601530196000233,
          0.37634275187363864,
          0.39253248414725395,
          0.40872221642086926,
          0.4249119486944848,
          0.4411016809681001,
          0.4572914132417154,
          0.47348114551533094,
          0.48967087778894625,
          0.5058606100625616,
          0.5220503423361769,
          0.5382400746097922,
          0.5544298068834077,
          0.570619539157023,
          0.5868092714306383,
          0.6029990037042539,
          0.6191887359778692,
          0.6353784682514845,
          0.6515682005250998,
          0.6677579327987151,
          0.6839476650723306,
          0.7001373973459459,
          0.7163271296195612,
          0.7325168618931768,
          0.7487065941667921,
          0.7648963264404074,
          0.7810860587140227,
          0.797275790987638,
          0.8134655232612535,
          0.8296552555348689,
          0.8458449878084842,
          0.8620347200820997,
          0.878224452355715,
          0.8944141846293303,
          0.9106039169029456,
          0.9267936491765609,
          0.9429833814501762
         ],
         "y": [
          0.0004808841461274976,
          0.000546525200850447,
          0.0006844400186345981,
          0.0009456007309065699,
          0.0011719766841570424,
          0.0012141985883091504,
          0.0011986808296696322,
          0.001411941725136461,
          0.0019423811622835871,
          0.0026285244611286658,
          0.003395216521764457,
          0.004319940850381802,
          0.005376390073866615,
          0.006572673521021239,
          0.008186240619051387,
          0.010477408551357434,
          0.013609674654765204,
          0.01813202937635268,
          0.02508057594422436,
          0.0357379749929373,
          0.051850791225376315,
          0.07493414976381221,
          0.10394186104877143,
          0.13534080234753468,
          0.1658048875041495,
          0.19329871647815614,
          0.22104472624721314,
          0.2636051801117256,
          0.34125509946463656,
          0.4618831884818778,
          0.6045726776157572,
          0.7295142726737843,
          0.8249055258945085,
          0.936164675671274,
          1.1249830346534488,
          1.402828013773873,
          1.7148913227785847,
          1.985004669854272,
          2.1663532651282678,
          2.253004128007694,
          2.2705565878215275,
          2.2678247303975767,
          2.2907536396557084,
          2.3450743333483453,
          2.3991494643463316,
          2.4261165223913386,
          2.41873863228056,
          2.3725090713072587,
          2.282240311374733,
          2.1382044131196007,
          1.9249312492187178,
          1.6552571976076806,
          1.388135632498581,
          1.1869282394457394,
          1.0721903152079728,
          1.01516032361543,
          0.9626103650324658,
          0.8774744030351659,
          0.7663907020270038,
          0.6620059329205282,
          0.5836110968250512,
          0.5222374293596147,
          0.45909315043573434,
          0.3935928119376534,
          0.34349195868407134,
          0.31540981101401405,
          0.2975197289335176,
          0.28836300552613536,
          0.3115682940011446,
          0.39587343960021243,
          0.5413903236798653,
          0.6927039060915993,
          0.7659084872771772,
          0.7355174929331075,
          0.6566973210822323,
          0.5848050898608328,
          0.5324006616545028,
          0.4871136042196488,
          0.4218450696121668,
          0.32450964039495744,
          0.2252055026938944,
          0.16047876880156933,
          0.13268972028182202,
          0.1222590941418124,
          0.11501728549903434,
          0.10854663618844963,
          0.10346336668600772,
          0.09653239829273515,
          0.08568289433592163,
          0.0749785277758384,
          0.06693296002022364,
          0.057300394861184295,
          0.043151447145292954,
          0.028743880180781136,
          0.019672122191553235,
          0.016012529812251444,
          0.01366807598556846,
          0.010090356816598773,
          0.006152019131131775,
          0.003307873957593146
         ]
        },
        {
         "hovertemplate": "Shortest path: %{y:.3f}<extra></extra>",
         "line": {
          "color": "rgba(111, 207, 151, 0.8)",
          "width": 3
         },
         "mode": "lines",
         "name": "Shortest path",
         "type": "scatter",
         "x": [
          -0.3651073745246165,
          -0.35174816911458134,
          -0.3383889637045462,
          -0.32502975829451103,
          -0.31167055288447587,
          -0.2983113474744407,
          -0.28495214206440556,
          -0.27159293665437045,
          -0.25823373124433524,
          -0.2448745258343001,
          -0.23151532042426495,
          -0.2181561150142298,
          -0.20479690960419467,
          -0.1914377041941595,
          -0.17807849878412435,
          -0.1647192933740892,
          -0.15136008796405404,
          -0.13800088255401888,
          -0.12464167714398372,
          -0.11128247173394856,
          -0.0979232663239134,
          -0.08456406091387825,
          -0.07120485550384309,
          -0.05784565009380793,
          -0.04448644468377283,
          -0.031127239273737672,
          -0.017768033863702515,
          -0.004408828453667357,
          0.0089503769563678,
          0.022309582366402958,
          0.035668787776438116,
          0.04902799318647327,
          0.06238719859650843,
          0.07574640400654359,
          0.08910560941657875,
          0.1024648148266139,
          0.11582402023664906,
          0.12918322564668422,
          0.14254243105671938,
          0.15590163646675448,
          0.1692608418767897,
          0.1826200472868248,
          0.19597925269686,
          0.2093384581068951,
          0.22269766351693032,
          0.23605686892696542,
          0.24941607433700064,
          0.26277527974703574,
          0.27613448515707084,
          0.28949369056710605,
          0.30285289597714116,
          0.31621210138717637,
          0.32957130679721147,
          0.3429305122072467,
          0.3562897176172818,
          0.369648923027317,
          0.3830081284373521,
          0.3963673338473873,
          0.4097265392574224,
          0.42308574466745763,
          0.43644495007749273,
          0.44980415548752795,
          0.46316336089756305,
          0.47652256630759826,
          0.48988177171763336,
          0.5032409771276685,
          0.5166001825377037,
          0.5299593879477388,
          0.543318593357774,
          0.5566777987678091,
          0.5700370041778443,
          0.5833962095878794,
          0.5967554149979146,
          0.6101146204079497,
          0.6234738258179849,
          0.6368330312280202,
          0.6501922366380553,
          0.6635514420480904,
          0.6769106474581255,
          0.6902698528681608,
          0.7036290582781959,
          0.716988263688231,
          0.7303474690982661,
          0.7437066745083012,
          0.7570658799183365,
          0.7704250853283716,
          0.7837842907384067,
          0.7971434961484418,
          0.8105027015584771,
          0.8238619069685122,
          0.8372211123785473,
          0.8505803177885825,
          0.8639395231986178,
          0.8772987286086529,
          0.890657934018688,
          0.9040171394287231,
          0.9173763448387582,
          0.9307355502487935,
          0.9440947556588286,
          0.9574539610688637
         ],
         "y": [
          0.07057975457937053,
          0.0853636040819737,
          0.10270443103006398,
          0.12294290096986776,
          0.14644788888898014,
          0.17361356970138164,
          0.2048529456057451,
          0.24058649978848723,
          0.2812248093598138,
          0.3271443655403773,
          0.37865654945179567,
          0.4359706590013774,
          0.49915298135639596,
          0.5680850110509529,
          0.642424847596837,
          0.7215763843306858,
          0.8046709642664984,
          0.8905656295843627,
          0.9778609138016763,
          1.064939401848678,
          1.1500241903187622,
          1.2312541705128357,
          1.3067710237881347,
          1.3748112519172584,
          1.4337957041719827,
          1.4824090559391254,
          1.5196625703412652,
          1.5449351366973554,
          1.557989815050942,
          1.5589656289791678,
          1.5483468073277857,
          1.5269137625219995,
          1.4956815557172816,
          1.4558322849684338,
          1.4086477088380744,
          1.3554475688651975,
          1.2975376807330767,
          1.236170167244963,
          1.1725164660456526,
          1.107652197910778,
          1.0425518072768403,
          0.9780901885208325,
          0.9150483101341274,
          0.8541200916342051,
          0.7959183676554858,
          0.7409785532525103,
          0.6897594624921403,
          0.6426415039046245,
          0.5999230873057088,
          0.5618164706568662,
          0.5284444342496362,
          0.49983910581710606,
          0.47594401096156624,
          0.4566200396340098,
          0.44165555833925835,
          0.4307804155705179,
          0.42368313551760867,
          0.42003021461357537,
          0.419486158916946,
          0.4217327483947557,
          0.42648599622686517,
          0.43350938575583053,
          0.44262220333933366,
          0.45370212271223975,
          0.46668161012810916,
          0.4815381803628696,
          0.49827901075181463,
          0.51692088279228,
          0.5374668383427094,
          0.5598812813140501,
          0.5840654988825191,
          0.6098356937978142,
          0.6369055900176078,
          0.6648754822986724,
          0.6932292405118186,
          0.7213402587194212,
          0.7484866819997962,
          0.7738754945154436,
          0.7966742730633278,
          0.8160486784280729,
          0.8312031555765907,
          0.8414219210868201,
          0.8461071919833718,
          0.8448117840757997,
          0.8372636715375117,
          0.823380804271297,
          0.8032753421614951,
          0.7772473794621322,
          0.7457690864216381,
          0.70946088970227,
          0.6690617781542434,
          0.6253960254751784,
          0.5793385775871884,
          0.5317811075801034,
          0.4836003655227907,
          0.4356300221121287,
          0.38863679285414565,
          0.3433012810948003,
          0.3002037148541596,
          0.25981456975175565
         ]
        }
       ],
       "layout": {
        "font": {
         "size": 12
        },
        "height": 600,
        "legend": {
         "bgcolor": "#F0F4FF",
         "bordercolor": "#E0E8F0",
         "borderwidth": 1,
         "x": 0.7,
         "y": 0.95
        },
        "paper_bgcolor": "#F0F4FF",
        "plot_bgcolor": "#F0F4FF",
        "template": {
         "data": {
          "bar": [
           {
            "error_x": {
             "color": "#2a3f5f"
            },
            "error_y": {
             "color": "#2a3f5f"
            },
            "marker": {
             "line": {
              "color": "#E5ECF6",
              "width": 0.5
             },
             "pattern": {
              "fillmode": "overlay",
              "size": 10,
              "solidity": 0.2
             }
            },
            "type": "bar"
           }
          ],
          "barpolar": [
           {
            "marker": {
             "line": {
              "color": "#E5ECF6",
              "width": 0.5
             },
             "pattern": {
              "fillmode": "overlay",
              "size": 10,
              "solidity": 0.2
             }
            },
            "type": "barpolar"
           }
          ],
          "carpet": [
           {
            "aaxis": {
             "endlinecolor": "#2a3f5f",
             "gridcolor": "white",
             "linecolor": "white",
             "minorgridcolor": "white",
             "startlinecolor": "#2a3f5f"
            },
            "baxis": {
             "endlinecolor": "#2a3f5f",
             "gridcolor": "white",
             "linecolor": "white",
             "minorgridcolor": "white",
             "startlinecolor": "#2a3f5f"
            },
            "type": "carpet"
           }
          ],
          "choropleth": [
           {
            "colorbar": {
             "outlinewidth": 0,
             "ticks": ""
            },
            "type": "choropleth"
           }
          ],
          "contour": [
           {
            "colorbar": {
             "outlinewidth": 0,
             "ticks": ""
            },
            "colorscale": [
             [
              0,
              "#0d0887"
             ],
             [
              0.1111111111111111,
              "#46039f"
             ],
             [
              0.2222222222222222,
              "#7201a8"
             ],
             [
              0.3333333333333333,
              "#9c179e"
             ],
             [
              0.4444444444444444,
              "#bd3786"
             ],
             [
              0.5555555555555556,
              "#d8576b"
             ],
             [
              0.6666666666666666,
              "#ed7953"
             ],
             [
              0.7777777777777778,
              "#fb9f3a"
             ],
             [
              0.8888888888888888,
              "#fdca26"
             ],
             [
              1,
              "#f0f921"
             ]
            ],
            "type": "contour"
           }
          ],
          "contourcarpet": [
           {
            "colorbar": {
             "outlinewidth": 0,
             "ticks": ""
            },
            "type": "contourcarpet"
           }
          ],
          "heatmap": [
           {
            "colorbar": {
             "outlinewidth": 0,
             "ticks": ""
            },
            "colorscale": [
             [
              0,
              "#0d0887"
             ],
             [
              0.1111111111111111,
              "#46039f"
             ],
             [
              0.2222222222222222,
              "#7201a8"
             ],
             [
              0.3333333333333333,
              "#9c179e"
             ],
             [
              0.4444444444444444,
              "#bd3786"
             ],
             [
              0.5555555555555556,
              "#d8576b"
             ],
             [
              0.6666666666666666,
              "#ed7953"
             ],
             [
              0.7777777777777778,
              "#fb9f3a"
             ],
             [
              0.8888888888888888,
              "#fdca26"
             ],
             [
              1,
              "#f0f921"
             ]
            ],
            "type": "heatmap"
           }
          ],
          "heatmapgl": [
           {
            "colorbar": {
             "outlinewidth": 0,
             "ticks": ""
            },
            "colorscale": [
             [
              0,
              "#0d0887"
             ],
             [
              0.1111111111111111,
              "#46039f"
             ],
             [
              0.2222222222222222,
              "#7201a8"
             ],
             [
              0.3333333333333333,
              "#9c179e"
             ],
             [
              0.4444444444444444,
              "#bd3786"
             ],
             [
              0.5555555555555556,
              "#d8576b"
             ],
             [
              0.6666666666666666,
              "#ed7953"
             ],
             [
              0.7777777777777778,
              "#fb9f3a"
             ],
             [
              0.8888888888888888,
              "#fdca26"
             ],
             [
              1,
              "#f0f921"
             ]
            ],
            "type": "heatmapgl"
           }
          ],
          "histogram": [
           {
            "marker": {
             "pattern": {
              "fillmode": "overlay",
              "size": 10,
              "solidity": 0.2
             }
            },
            "type": "histogram"
           }
          ],
          "histogram2d": [
           {
            "colorbar": {
             "outlinewidth": 0,
             "ticks": ""
            },
            "colorscale": [
             [
              0,
              "#0d0887"
             ],
             [
              0.1111111111111111,
              "#46039f"
             ],
             [
              0.2222222222222222,
              "#7201a8"
             ],
             [
              0.3333333333333333,
              "#9c179e"
             ],
             [
              0.4444444444444444,
              "#bd3786"
             ],
             [
              0.5555555555555556,
              "#d8576b"
             ],
             [
              0.6666666666666666,
              "#ed7953"
             ],
             [
              0.7777777777777778,
              "#fb9f3a"
             ],
             [
              0.8888888888888888,
              "#fdca26"
             ],
             [
              1,
              "#f0f921"
             ]
            ],
            "type": "histogram2d"
           }
          ],
          "histogram2dcontour": [
           {
            "colorbar": {
             "outlinewidth": 0,
             "ticks": ""
            },
            "colorscale": [
             [
              0,
              "#0d0887"
             ],
             [
              0.1111111111111111,
              "#46039f"
             ],
             [
              0.2222222222222222,
              "#7201a8"
             ],
             [
              0.3333333333333333,
              "#9c179e"
             ],
             [
              0.4444444444444444,
              "#bd3786"
             ],
             [
              0.5555555555555556,
              "#d8576b"
             ],
             [
              0.6666666666666666,
              "#ed7953"
             ],
             [
              0.7777777777777778,
              "#fb9f3a"
             ],
             [
              0.8888888888888888,
              "#fdca26"
             ],
             [
              1,
              "#f0f921"
             ]
            ],
            "type": "histogram2dcontour"
           }
          ],
          "mesh3d": [
           {
            "colorbar": {
             "outlinewidth": 0,
             "ticks": ""
            },
            "type": "mesh3d"
           }
          ],
          "parcoords": [
           {
            "line": {
             "colorbar": {
              "outlinewidth": 0,
              "ticks": ""
             }
            },
            "type": "parcoords"
           }
          ],
          "pie": [
           {
            "automargin": true,
            "type": "pie"
           }
          ],
          "scatter": [
           {
            "fillpattern": {
             "fillmode": "overlay",
             "size": 10,
             "solidity": 0.2
            },
            "type": "scatter"
           }
          ],
          "scatter3d": [
           {
            "line": {
             "colorbar": {
              "outlinewidth": 0,
              "ticks": ""
             }
            },
            "marker": {
             "colorbar": {
              "outlinewidth": 0,
              "ticks": ""
             }
            },
            "type": "scatter3d"
           }
          ],
          "scattercarpet": [
           {
            "marker": {
             "colorbar": {
              "outlinewidth": 0,
              "ticks": ""
             }
            },
            "type": "scattercarpet"
           }
          ],
          "scattergeo": [
           {
            "marker": {
             "colorbar": {
              "outlinewidth": 0,
              "ticks": ""
             }
            },
            "type": "scattergeo"
           }
          ],
          "scattergl": [
           {
            "marker": {
             "colorbar": {
              "outlinewidth": 0,
              "ticks": ""
             }
            },
            "type": "scattergl"
           }
          ],
          "scattermapbox": [
           {
            "marker": {
             "colorbar": {
              "outlinewidth": 0,
              "ticks": ""
             }
            },
            "type": "scattermapbox"
           }
          ],
          "scatterpolar": [
           {
            "marker": {
             "colorbar": {
              "outlinewidth": 0,
              "ticks": ""
             }
            },
            "type": "scatterpolar"
           }
          ],
          "scatterpolargl": [
           {
            "marker": {
             "colorbar": {
              "outlinewidth": 0,
              "ticks": ""
             }
            },
            "type": "scatterpolargl"
           }
          ],
          "scatterternary": [
           {
            "marker": {
             "colorbar": {
              "outlinewidth": 0,
              "ticks": ""
             }
            },
            "type": "scatterternary"
           }
          ],
          "surface": [
           {
            "colorbar": {
             "outlinewidth": 0,
             "ticks": ""
            },
            "colorscale": [
             [
              0,
              "#0d0887"
             ],
             [
              0.1111111111111111,
              "#46039f"
             ],
             [
              0.2222222222222222,
              "#7201a8"
             ],
             [
              0.3333333333333333,
              "#9c179e"
             ],
             [
              0.4444444444444444,
              "#bd3786"
             ],
             [
              0.5555555555555556,
              "#d8576b"
             ],
             [
              0.6666666666666666,
              "#ed7953"
             ],
             [
              0.7777777777777778,
              "#fb9f3a"
             ],
             [
              0.8888888888888888,
              "#fdca26"
             ],
             [
              1,
              "#f0f921"
             ]
            ],
            "type": "surface"
           }
          ],
          "table": [
           {
            "cells": {
             "fill": {
              "color": "#EBF0F8"
             },
             "line": {
              "color": "white"
             }
            },
            "header": {
             "fill": {
              "color": "#C8D4E3"
             },
             "line": {
              "color": "white"
             }
            },
            "type": "table"
           }
          ]
         },
         "layout": {
          "annotationdefaults": {
           "arrowcolor": "#2a3f5f",
           "arrowhead": 0,
           "arrowwidth": 1
          },
          "autotypenumbers": "strict",
          "coloraxis": {
           "colorbar": {
            "outlinewidth": 0,
            "ticks": ""
           }
          },
          "colorscale": {
           "diverging": [
            [
             0,
             "#8e0152"
            ],
            [
             0.1,
             "#c51b7d"
            ],
            [
             0.2,
             "#de77ae"
            ],
            [
             0.3,
             "#f1b6da"
            ],
            [
             0.4,
             "#fde0ef"
            ],
            [
             0.5,
             "#f7f7f7"
            ],
            [
             0.6,
             "#e6f5d0"
            ],
            [
             0.7,
             "#b8e186"
            ],
            [
             0.8,
             "#7fbc41"
            ],
            [
             0.9,
             "#4d9221"
            ],
            [
             1,
             "#276419"
            ]
           ],
           "sequential": [
            [
             0,
             "#0d0887"
            ],
            [
             0.1111111111111111,
             "#46039f"
            ],
            [
             0.2222222222222222,
             "#7201a8"
            ],
            [
             0.3333333333333333,
             "#9c179e"
            ],
            [
             0.4444444444444444,
             "#bd3786"
            ],
            [
             0.5555555555555556,
             "#d8576b"
            ],
            [
             0.6666666666666666,
             "#ed7953"
            ],
            [
             0.7777777777777778,
             "#fb9f3a"
            ],
            [
             0.8888888888888888,
             "#fdca26"
            ],
            [
             1,
             "#f0f921"
            ]
           ],
           "sequentialminus": [
            [
             0,
             "#0d0887"
            ],
            [
             0.1111111111111111,
             "#46039f"
            ],
            [
             0.2222222222222222,
             "#7201a8"
            ],
            [
             0.3333333333333333,
             "#9c179e"
            ],
            [
             0.4444444444444444,
             "#bd3786"
            ],
            [
             0.5555555555555556,
             "#d8576b"
            ],
            [
             0.6666666666666666,
             "#ed7953"
            ],
            [
             0.7777777777777778,
             "#fb9f3a"
            ],
            [
             0.8888888888888888,
             "#fdca26"
            ],
            [
             1,
             "#f0f921"
            ]
           ]
          },
          "colorway": [
           "#636efa",
           "#EF553B",
           "#00cc96",
           "#ab63fa",
           "#FFA15A",
           "#19d3f3",
           "#FF6692",
           "#B6E880",
           "#FF97FF",
           "#FECB52"
          ],
          "font": {
           "color": "#2a3f5f"
          },
          "geo": {
           "bgcolor": "white",
           "lakecolor": "white",
           "landcolor": "#E5ECF6",
           "showlakes": true,
           "showland": true,
           "subunitcolor": "white"
          },
          "hoverlabel": {
           "align": "left"
          },
          "hovermode": "closest",
          "mapbox": {
           "style": "light"
          },
          "paper_bgcolor": "white",
          "plot_bgcolor": "#E5ECF6",
          "polar": {
           "angularaxis": {
            "gridcolor": "white",
            "linecolor": "white",
            "ticks": ""
           },
           "bgcolor": "#E5ECF6",
           "radialaxis": {
            "gridcolor": "white",
            "linecolor": "white",
            "ticks": ""
           }
          },
          "scene": {
           "xaxis": {
            "backgroundcolor": "#E5ECF6",
            "gridcolor": "white",
            "gridwidth": 2,
            "linecolor": "white",
            "showbackground": true,
            "ticks": "",
            "zerolinecolor": "white"
           },
           "yaxis": {
            "backgroundcolor": "#E5ECF6",
            "gridcolor": "white",
            "gridwidth": 2,
            "linecolor": "white",
            "showbackground": true,
            "ticks": "",
            "zerolinecolor": "white"
           },
           "zaxis": {
            "backgroundcolor": "#E5ECF6",
            "gridcolor": "white",
            "gridwidth": 2,
            "linecolor": "white",
            "showbackground": true,
            "ticks": "",
            "zerolinecolor": "white"
           }
          },
          "shapedefaults": {
           "line": {
            "color": "#2a3f5f"
           }
          },
          "ternary": {
           "aaxis": {
            "gridcolor": "white",
            "linecolor": "white",
            "ticks": ""
           },
           "baxis": {
            "gridcolor": "white",
            "linecolor": "white",
            "ticks": ""
           },
           "bgcolor": "#E5ECF6",
           "caxis": {
            "gridcolor": "white",
            "linecolor": "white",
            "ticks": ""
           }
          },
          "title": {
           "x": 0.05
          },
          "xaxis": {
           "automargin": true,
           "gridcolor": "white",
           "linecolor": "white",
           "ticks": "",
           "title": {
            "standoff": 15
           },
           "zerolinecolor": "white",
           "zerolinewidth": 2
          },
          "yaxis": {
           "automargin": true,
           "gridcolor": "white",
           "linecolor": "white",
           "ticks": "",
           "title": {
            "standoff": 15
           },
           "zerolinecolor": "white",
           "zerolinewidth": 2
          }
         }
        },
        "title": {
         "text": "Closeness Scores Distribution"
        },
        "width": 900,
        "xaxis": {
         "title": {
          "text": "Closeness Score"
         }
        },
        "yaxis": {
         "gridcolor": "#E0E8F0",
         "showgrid": true,
         "title": {
          "text": "Density"
         }
        }
       }
      }
     },
     "metadata": {},
     "output_type": "display_data"
    }
   ],
   "source": [
    "# Plot closeness scores distribution\n",
    "plot_closeness_scores_distribution(ai_x, ai_y, human_x, human_y, optimal_x, optimal_y)\n"
   ]
  },
  {
   "cell_type": "code",
   "execution_count": 8,
   "metadata": {},
   "outputs": [
    {
     "name": "stdout",
     "output_type": "stream",
     "text": [
      "Node Wikipedia_Text_of_the_GNU_Free_Documentation_License is not in the neighbors of Programming_language\n",
      "Node Wikipedia_Text_of_the_GNU_Free_Documentation_License is not in the graph\n",
      "Node Wikipedia_Text_of_the_GNU_Free_Documentation_License is not in the neighbors of Bird\n",
      "Node Wikipedia_Text_of_the_GNU_Free_Documentation_License is not in the graph\n",
      "Node Wikipedia_Text_of_the_GNU_Free_Documentation_License is not in the neighbors of Cat\n",
      "Node Wikipedia_Text_of_the_GNU_Free_Documentation_License is not in the graph\n",
      "Node %C3%85land is not in the neighbors of Finland\n",
      "Node Functional_programming is not in the neighbors of Functional_programming\n",
      "Node Unix is not in the neighbors of Programming_language\n",
      "Node GNU is not in the neighbors of Linux\n",
      "Node Internet is not in the neighbors of Linux\n",
      "Node Season is not in the neighbors of Internet\n",
      "Node Bioinformatics is not in the neighbors of Programming_language\n",
      "Node Fourteenth_Amendment_to_the_United_States_Constitution is not in the neighbors of Crime\n",
      "Node Crime is not in the neighbors of Scent_of_a_Woman\n"
     ]
    }
   ],
   "source": [
    "# Calculate rank of neighbors for AI paths and human paths\n",
    "ai_rank_scores = {}\n",
    "human_rank_scores = {}\n",
    "optimal_rank_scores = {}\n",
    "for pair in ori_dest:\n",
    "    start_article, target_article = pair\n",
    "    ai_path = AI_paths[pair]\n",
    "    human_path = human_paths[pair]\n",
    "    ai_rank_scores[pair] = [calculate_rank_of_neighbors(path, G, sentence_embeddings) for path in ai_path]\n",
    "    human_rank_scores[pair] = [calculate_rank_of_neighbors(path, G, sentence_embeddings) for path in human_path]\n",
    "    optimal_rank_scores[pair] = [calculate_rank_of_neighbors(path, G, sentence_embeddings) for path in shortest_paths[pair]]\n",
    "\n",
    "# Plot to show the difference in rank of neighbors distribution between AI paths and human paths\n",
    "ai_scores = [score for pair in ori_dest for score in ai_rank_scores[pair]]\n",
    "human_scores = [score for pair in ori_dest for score in human_rank_scores[pair]]\n",
    "optimal_scores = [score for pair in ori_dest for score in optimal_rank_scores[pair]]\n",
    "ai_scores = np.array([score for sublist in ai_scores for score in sublist])\n",
    "human_scores = np.array([score for sublist in human_scores for score in sublist])\n",
    "optimal_scores = np.array([score for sublist in optimal_scores for score in sublist])\n",
    "\n",
    "# some are not in links like Wikipedia_Text_of_the_GNU_Free_Documentation_License"
   ]
  },
  {
   "cell_type": "code",
   "execution_count": 9,
   "metadata": {},
   "outputs": [
    {
     "data": {
      "application/vnd.plotly.v1+json": {
       "config": {
        "plotlyServerURL": "https://plot.ly"
       },
       "data": [
        {
         "hovertemplate": "AI: %{y:.2f}%<extra></extra>",
         "marker": {
          "color": "rgba(58, 85, 209, 0.7)"
         },
         "name": "AI path",
         "text": [
          "41.37%",
          "8.85%",
          "5.93%",
          "4.52%",
          "2.89%"
         ],
         "textposition": "outside",
         "type": "bar",
         "x": [
          1,
          2,
          3,
          4,
          5
         ],
         "y": [
          41.37265711135612,
          8.847850055126791,
          5.926130099228225,
          4.5203969128996695,
          2.8941565600882027
         ]
        },
        {
         "hovertemplate": "Human: %{y:.2f}%<extra></extra>",
         "marker": {
          "color": "rgba(242, 153, 74, 0.7)"
         },
         "name": "Human path",
         "text": [
          "35.14%",
          "10.50%",
          "6.73%",
          "4.74%",
          "3.48%"
         ],
         "textposition": "outside",
         "type": "bar",
         "x": [
          1,
          2,
          3,
          4,
          5
         ],
         "y": [
          35.142963663999545,
          10.499297370156873,
          6.725171355645415,
          4.737732656514383,
          3.4758668157962664
         ]
        },
        {
         "hovertemplate": "Shortest: %{y:.2f}%<extra></extra>",
         "marker": {
          "color": "rgba(111, 207, 151, 0.8)"
         },
         "name": "Shortest path",
         "text": [
          "48.35%",
          "3.54%",
          "3.30%",
          "3.07%",
          "3.30%"
         ],
         "textposition": "outside",
         "type": "bar",
         "x": [
          1,
          2,
          3,
          4,
          5
         ],
         "y": [
          48.34905660377358,
          3.5377358490566038,
          3.30188679245283,
          3.0660377358490565,
          3.30188679245283
         ]
        }
       ],
       "layout": {
        "barmode": "group",
        "font": {
         "size": 12
        },
        "height": 500,
        "paper_bgcolor": "rgba(240, 244, 255, 1)",
        "plot_bgcolor": "rgba(240, 244, 255, 1)",
        "template": {
         "data": {
          "bar": [
           {
            "error_x": {
             "color": "#2a3f5f"
            },
            "error_y": {
             "color": "#2a3f5f"
            },
            "marker": {
             "line": {
              "color": "#E5ECF6",
              "width": 0.5
             },
             "pattern": {
              "fillmode": "overlay",
              "size": 10,
              "solidity": 0.2
             }
            },
            "type": "bar"
           }
          ],
          "barpolar": [
           {
            "marker": {
             "line": {
              "color": "#E5ECF6",
              "width": 0.5
             },
             "pattern": {
              "fillmode": "overlay",
              "size": 10,
              "solidity": 0.2
             }
            },
            "type": "barpolar"
           }
          ],
          "carpet": [
           {
            "aaxis": {
             "endlinecolor": "#2a3f5f",
             "gridcolor": "white",
             "linecolor": "white",
             "minorgridcolor": "white",
             "startlinecolor": "#2a3f5f"
            },
            "baxis": {
             "endlinecolor": "#2a3f5f",
             "gridcolor": "white",
             "linecolor": "white",
             "minorgridcolor": "white",
             "startlinecolor": "#2a3f5f"
            },
            "type": "carpet"
           }
          ],
          "choropleth": [
           {
            "colorbar": {
             "outlinewidth": 0,
             "ticks": ""
            },
            "type": "choropleth"
           }
          ],
          "contour": [
           {
            "colorbar": {
             "outlinewidth": 0,
             "ticks": ""
            },
            "colorscale": [
             [
              0,
              "#0d0887"
             ],
             [
              0.1111111111111111,
              "#46039f"
             ],
             [
              0.2222222222222222,
              "#7201a8"
             ],
             [
              0.3333333333333333,
              "#9c179e"
             ],
             [
              0.4444444444444444,
              "#bd3786"
             ],
             [
              0.5555555555555556,
              "#d8576b"
             ],
             [
              0.6666666666666666,
              "#ed7953"
             ],
             [
              0.7777777777777778,
              "#fb9f3a"
             ],
             [
              0.8888888888888888,
              "#fdca26"
             ],
             [
              1,
              "#f0f921"
             ]
            ],
            "type": "contour"
           }
          ],
          "contourcarpet": [
           {
            "colorbar": {
             "outlinewidth": 0,
             "ticks": ""
            },
            "type": "contourcarpet"
           }
          ],
          "heatmap": [
           {
            "colorbar": {
             "outlinewidth": 0,
             "ticks": ""
            },
            "colorscale": [
             [
              0,
              "#0d0887"
             ],
             [
              0.1111111111111111,
              "#46039f"
             ],
             [
              0.2222222222222222,
              "#7201a8"
             ],
             [
              0.3333333333333333,
              "#9c179e"
             ],
             [
              0.4444444444444444,
              "#bd3786"
             ],
             [
              0.5555555555555556,
              "#d8576b"
             ],
             [
              0.6666666666666666,
              "#ed7953"
             ],
             [
              0.7777777777777778,
              "#fb9f3a"
             ],
             [
              0.8888888888888888,
              "#fdca26"
             ],
             [
              1,
              "#f0f921"
             ]
            ],
            "type": "heatmap"
           }
          ],
          "heatmapgl": [
           {
            "colorbar": {
             "outlinewidth": 0,
             "ticks": ""
            },
            "colorscale": [
             [
              0,
              "#0d0887"
             ],
             [
              0.1111111111111111,
              "#46039f"
             ],
             [
              0.2222222222222222,
              "#7201a8"
             ],
             [
              0.3333333333333333,
              "#9c179e"
             ],
             [
              0.4444444444444444,
              "#bd3786"
             ],
             [
              0.5555555555555556,
              "#d8576b"
             ],
             [
              0.6666666666666666,
              "#ed7953"
             ],
             [
              0.7777777777777778,
              "#fb9f3a"
             ],
             [
              0.8888888888888888,
              "#fdca26"
             ],
             [
              1,
              "#f0f921"
             ]
            ],
            "type": "heatmapgl"
           }
          ],
          "histogram": [
           {
            "marker": {
             "pattern": {
              "fillmode": "overlay",
              "size": 10,
              "solidity": 0.2
             }
            },
            "type": "histogram"
           }
          ],
          "histogram2d": [
           {
            "colorbar": {
             "outlinewidth": 0,
             "ticks": ""
            },
            "colorscale": [
             [
              0,
              "#0d0887"
             ],
             [
              0.1111111111111111,
              "#46039f"
             ],
             [
              0.2222222222222222,
              "#7201a8"
             ],
             [
              0.3333333333333333,
              "#9c179e"
             ],
             [
              0.4444444444444444,
              "#bd3786"
             ],
             [
              0.5555555555555556,
              "#d8576b"
             ],
             [
              0.6666666666666666,
              "#ed7953"
             ],
             [
              0.7777777777777778,
              "#fb9f3a"
             ],
             [
              0.8888888888888888,
              "#fdca26"
             ],
             [
              1,
              "#f0f921"
             ]
            ],
            "type": "histogram2d"
           }
          ],
          "histogram2dcontour": [
           {
            "colorbar": {
             "outlinewidth": 0,
             "ticks": ""
            },
            "colorscale": [
             [
              0,
              "#0d0887"
             ],
             [
              0.1111111111111111,
              "#46039f"
             ],
             [
              0.2222222222222222,
              "#7201a8"
             ],
             [
              0.3333333333333333,
              "#9c179e"
             ],
             [
              0.4444444444444444,
              "#bd3786"
             ],
             [
              0.5555555555555556,
              "#d8576b"
             ],
             [
              0.6666666666666666,
              "#ed7953"
             ],
             [
              0.7777777777777778,
              "#fb9f3a"
             ],
             [
              0.8888888888888888,
              "#fdca26"
             ],
             [
              1,
              "#f0f921"
             ]
            ],
            "type": "histogram2dcontour"
           }
          ],
          "mesh3d": [
           {
            "colorbar": {
             "outlinewidth": 0,
             "ticks": ""
            },
            "type": "mesh3d"
           }
          ],
          "parcoords": [
           {
            "line": {
             "colorbar": {
              "outlinewidth": 0,
              "ticks": ""
             }
            },
            "type": "parcoords"
           }
          ],
          "pie": [
           {
            "automargin": true,
            "type": "pie"
           }
          ],
          "scatter": [
           {
            "fillpattern": {
             "fillmode": "overlay",
             "size": 10,
             "solidity": 0.2
            },
            "type": "scatter"
           }
          ],
          "scatter3d": [
           {
            "line": {
             "colorbar": {
              "outlinewidth": 0,
              "ticks": ""
             }
            },
            "marker": {
             "colorbar": {
              "outlinewidth": 0,
              "ticks": ""
             }
            },
            "type": "scatter3d"
           }
          ],
          "scattercarpet": [
           {
            "marker": {
             "colorbar": {
              "outlinewidth": 0,
              "ticks": ""
             }
            },
            "type": "scattercarpet"
           }
          ],
          "scattergeo": [
           {
            "marker": {
             "colorbar": {
              "outlinewidth": 0,
              "ticks": ""
             }
            },
            "type": "scattergeo"
           }
          ],
          "scattergl": [
           {
            "marker": {
             "colorbar": {
              "outlinewidth": 0,
              "ticks": ""
             }
            },
            "type": "scattergl"
           }
          ],
          "scattermapbox": [
           {
            "marker": {
             "colorbar": {
              "outlinewidth": 0,
              "ticks": ""
             }
            },
            "type": "scattermapbox"
           }
          ],
          "scatterpolar": [
           {
            "marker": {
             "colorbar": {
              "outlinewidth": 0,
              "ticks": ""
             }
            },
            "type": "scatterpolar"
           }
          ],
          "scatterpolargl": [
           {
            "marker": {
             "colorbar": {
              "outlinewidth": 0,
              "ticks": ""
             }
            },
            "type": "scatterpolargl"
           }
          ],
          "scatterternary": [
           {
            "marker": {
             "colorbar": {
              "outlinewidth": 0,
              "ticks": ""
             }
            },
            "type": "scatterternary"
           }
          ],
          "surface": [
           {
            "colorbar": {
             "outlinewidth": 0,
             "ticks": ""
            },
            "colorscale": [
             [
              0,
              "#0d0887"
             ],
             [
              0.1111111111111111,
              "#46039f"
             ],
             [
              0.2222222222222222,
              "#7201a8"
             ],
             [
              0.3333333333333333,
              "#9c179e"
             ],
             [
              0.4444444444444444,
              "#bd3786"
             ],
             [
              0.5555555555555556,
              "#d8576b"
             ],
             [
              0.6666666666666666,
              "#ed7953"
             ],
             [
              0.7777777777777778,
              "#fb9f3a"
             ],
             [
              0.8888888888888888,
              "#fdca26"
             ],
             [
              1,
              "#f0f921"
             ]
            ],
            "type": "surface"
           }
          ],
          "table": [
           {
            "cells": {
             "fill": {
              "color": "#EBF0F8"
             },
             "line": {
              "color": "white"
             }
            },
            "header": {
             "fill": {
              "color": "#C8D4E3"
             },
             "line": {
              "color": "white"
             }
            },
            "type": "table"
           }
          ]
         },
         "layout": {
          "annotationdefaults": {
           "arrowcolor": "#2a3f5f",
           "arrowhead": 0,
           "arrowwidth": 1
          },
          "autotypenumbers": "strict",
          "coloraxis": {
           "colorbar": {
            "outlinewidth": 0,
            "ticks": ""
           }
          },
          "colorscale": {
           "diverging": [
            [
             0,
             "#8e0152"
            ],
            [
             0.1,
             "#c51b7d"
            ],
            [
             0.2,
             "#de77ae"
            ],
            [
             0.3,
             "#f1b6da"
            ],
            [
             0.4,
             "#fde0ef"
            ],
            [
             0.5,
             "#f7f7f7"
            ],
            [
             0.6,
             "#e6f5d0"
            ],
            [
             0.7,
             "#b8e186"
            ],
            [
             0.8,
             "#7fbc41"
            ],
            [
             0.9,
             "#4d9221"
            ],
            [
             1,
             "#276419"
            ]
           ],
           "sequential": [
            [
             0,
             "#0d0887"
            ],
            [
             0.1111111111111111,
             "#46039f"
            ],
            [
             0.2222222222222222,
             "#7201a8"
            ],
            [
             0.3333333333333333,
             "#9c179e"
            ],
            [
             0.4444444444444444,
             "#bd3786"
            ],
            [
             0.5555555555555556,
             "#d8576b"
            ],
            [
             0.6666666666666666,
             "#ed7953"
            ],
            [
             0.7777777777777778,
             "#fb9f3a"
            ],
            [
             0.8888888888888888,
             "#fdca26"
            ],
            [
             1,
             "#f0f921"
            ]
           ],
           "sequentialminus": [
            [
             0,
             "#0d0887"
            ],
            [
             0.1111111111111111,
             "#46039f"
            ],
            [
             0.2222222222222222,
             "#7201a8"
            ],
            [
             0.3333333333333333,
             "#9c179e"
            ],
            [
             0.4444444444444444,
             "#bd3786"
            ],
            [
             0.5555555555555556,
             "#d8576b"
            ],
            [
             0.6666666666666666,
             "#ed7953"
            ],
            [
             0.7777777777777778,
             "#fb9f3a"
            ],
            [
             0.8888888888888888,
             "#fdca26"
            ],
            [
             1,
             "#f0f921"
            ]
           ]
          },
          "colorway": [
           "#636efa",
           "#EF553B",
           "#00cc96",
           "#ab63fa",
           "#FFA15A",
           "#19d3f3",
           "#FF6692",
           "#B6E880",
           "#FF97FF",
           "#FECB52"
          ],
          "font": {
           "color": "#2a3f5f"
          },
          "geo": {
           "bgcolor": "white",
           "lakecolor": "white",
           "landcolor": "#E5ECF6",
           "showlakes": true,
           "showland": true,
           "subunitcolor": "white"
          },
          "hoverlabel": {
           "align": "left"
          },
          "hovermode": "closest",
          "mapbox": {
           "style": "light"
          },
          "paper_bgcolor": "white",
          "plot_bgcolor": "#E5ECF6",
          "polar": {
           "angularaxis": {
            "gridcolor": "white",
            "linecolor": "white",
            "ticks": ""
           },
           "bgcolor": "#E5ECF6",
           "radialaxis": {
            "gridcolor": "white",
            "linecolor": "white",
            "ticks": ""
           }
          },
          "scene": {
           "xaxis": {
            "backgroundcolor": "#E5ECF6",
            "gridcolor": "white",
            "gridwidth": 2,
            "linecolor": "white",
            "showbackground": true,
            "ticks": "",
            "zerolinecolor": "white"
           },
           "yaxis": {
            "backgroundcolor": "#E5ECF6",
            "gridcolor": "white",
            "gridwidth": 2,
            "linecolor": "white",
            "showbackground": true,
            "ticks": "",
            "zerolinecolor": "white"
           },
           "zaxis": {
            "backgroundcolor": "#E5ECF6",
            "gridcolor": "white",
            "gridwidth": 2,
            "linecolor": "white",
            "showbackground": true,
            "ticks": "",
            "zerolinecolor": "white"
           }
          },
          "shapedefaults": {
           "line": {
            "color": "#2a3f5f"
           }
          },
          "ternary": {
           "aaxis": {
            "gridcolor": "white",
            "linecolor": "white",
            "ticks": ""
           },
           "baxis": {
            "gridcolor": "white",
            "linecolor": "white",
            "ticks": ""
           },
           "bgcolor": "#E5ECF6",
           "caxis": {
            "gridcolor": "white",
            "linecolor": "white",
            "ticks": ""
           }
          },
          "title": {
           "x": 0.05
          },
          "xaxis": {
           "automargin": true,
           "gridcolor": "white",
           "linecolor": "white",
           "ticks": "",
           "title": {
            "standoff": 15
           },
           "zerolinecolor": "white",
           "zerolinewidth": 2
          },
          "yaxis": {
           "automargin": true,
           "gridcolor": "white",
           "linecolor": "white",
           "ticks": "",
           "title": {
            "standoff": 15
           },
           "zerolinecolor": "white",
           "zerolinewidth": 2
          }
         }
        },
        "title": {
         "text": "Node Selection Preference by Semantic Proximity"
        },
        "width": 800,
        "xaxis": {
         "dtick": 1,
         "gridcolor": "rgba(224, 232, 240, 1)",
         "showgrid": true,
         "title": {
          "text": "Rank of Neighbors according to Semantic Proximity"
         }
        },
        "yaxis": {
         "gridcolor": "rgba(224, 232, 240, 1)",
         "showgrid": true,
         "title": {
          "text": "Percentage (Relative to All Choices)"
         }
        }
       }
      }
     },
     "metadata": {},
     "output_type": "display_data"
    }
   ],
   "source": [
    "\n",
    "\n",
    "\n",
    "# Calculate frequencies\n",
    "ai_scores_freq = np.bincount(ai_scores, minlength=6)  # Include all choices up to 5\n",
    "human_scores_freq = np.bincount(human_scores, minlength=6)\n",
    "optimal_scores_freq = np.bincount(optimal_scores, minlength=6)\n",
    "\n",
    "# Convert to percentages relative to all choices\n",
    "ai_percentages = ai_scores_freq[1:6] / np.sum(ai_scores_freq) * 100\n",
    "human_percentages = human_scores_freq[1:6] / np.sum(human_scores_freq) * 100\n",
    "optimal_percentages = optimal_scores_freq[1:6] / np.sum(optimal_scores_freq) * 100\n",
    "\n",
    "# Plot Node Selection Preference by Semantic Proximity\n",
    "plot_node_selection_preference(ai_percentages, human_percentages, optimal_percentages)\n",
    "\n"
   ]
  },
  {
   "cell_type": "code",
   "execution_count": 10,
   "metadata": {},
   "outputs": [],
   "source": [
    "# Calculate the rank of degrees condition on low similarity with destination\n",
    "ai_degree_scores = {}\n",
    "human_degree_scores = {}\n",
    "optimal_degree_scores = {}\n",
    "\n",
    "for pair in ori_dest:\n",
    "    start_article, target_article = pair\n",
    "    ai_path = AI_paths[pair]\n",
    "    human_path = human_paths[pair]\n",
    "    ai_degree_scores[pair] = [calculate_degree_condition_on_low_similarity_with_dest(path, G, sentence_embeddings, 0.30) for path in ai_path]\n",
    "    human_degree_scores[pair] = [calculate_degree_condition_on_low_similarity_with_dest(path, G, sentence_embeddings, 0.30) for path in human_path]\n",
    "    optimal_degree_scores[pair] = [calculate_degree_condition_on_low_similarity_with_dest(path, G, sentence_embeddings, 0.30) for path in shortest_paths[pair]]\n",
    "\n",
    "ai_scores = [score for pair in ori_dest for score in ai_degree_scores[pair]]\n",
    "human_scores = [score for pair in ori_dest for score in human_degree_scores[pair]]\n",
    "optimal_scores = [score for pair in ori_dest for score in optimal_degree_scores[pair]]\n",
    "ai_scores = np.array([score for sublist in ai_scores for score in sublist])\n",
    "human_scores = np.array([score for sublist in human_scores for score in sublist])\n",
    "optimal_scores = np.array([score for sublist in optimal_scores for score in sublist])\n"
   ]
  },
  {
   "cell_type": "code",
   "execution_count": 11,
   "metadata": {},
   "outputs": [
    {
     "data": {
      "application/vnd.plotly.v1+json": {
       "config": {
        "plotlyServerURL": "https://plot.ly"
       },
       "data": [
        {
         "line": {
          "color": "rgba(58, 85, 209, 0.7)",
          "width": 3
         },
         "mode": "lines",
         "name": "AI path",
         "type": "scatter",
         "x": [
          0,
          1,
          2,
          3,
          4,
          5,
          6,
          7,
          8,
          9,
          10,
          11,
          12,
          13,
          14,
          15,
          16,
          17,
          18,
          19,
          20,
          21,
          22,
          23,
          24,
          25,
          26,
          27,
          28,
          29,
          30,
          31,
          32,
          33,
          34,
          35,
          36,
          37,
          38,
          39,
          40,
          41,
          42,
          43,
          44,
          45,
          46,
          47,
          48,
          49
         ],
         "y": [
          0,
          0.05952380952380952,
          0.11904761904761904,
          0.20238095238095238,
          0.26785714285714285,
          0.3333333333333333,
          0.3541666666666667,
          0.37202380952380953,
          0.39285714285714285,
          0.40773809523809523,
          0.49404761904761907,
          0.5178571428571429,
          0.5238095238095238,
          0.5773809523809523,
          0.6160714285714286,
          0.6369047619047619,
          0.6398809523809523,
          0.6547619047619048,
          0.6875,
          0.6904761904761905,
          0.7053571428571429,
          0.7142857142857143,
          0.7261904761904762,
          0.7261904761904762,
          0.7291666666666666,
          0.7380952380952381,
          0.7380952380952381,
          0.7440476190476191,
          0.75,
          0.7619047619047619,
          0.7648809523809523,
          0.7916666666666666,
          0.7946428571428571,
          0.7946428571428571,
          0.8154761904761905,
          0.8214285714285714,
          0.8244047619047619,
          0.8244047619047619,
          0.8333333333333334,
          0.8482142857142857,
          0.8482142857142857,
          0.8482142857142857,
          0.8541666666666666,
          0.8571428571428571,
          0.8601190476190477,
          0.8630952380952381,
          0.8630952380952381,
          0.8660714285714286,
          0.8660714285714286,
          0.8660714285714286
         ]
        },
        {
         "line": {
          "color": "rgba(242, 153, 74, 0.7)",
          "width": 3
         },
         "mode": "lines",
         "name": "Human path",
         "type": "scatter",
         "x": [
          0,
          1,
          2,
          3,
          4,
          5,
          6,
          7,
          8,
          9,
          10,
          11,
          12,
          13,
          14,
          15,
          16,
          17,
          18,
          19,
          20,
          21,
          22,
          23,
          24,
          25,
          26,
          27,
          28,
          29,
          30,
          31,
          32,
          33,
          34,
          35,
          36,
          37,
          38,
          39,
          40,
          41,
          42,
          43,
          44,
          45,
          46,
          47,
          48,
          49
         ],
         "y": [
          0,
          0.053164556962025315,
          0.10253164556962026,
          0.12974683544303797,
          0.18544303797468353,
          0.30443037974683546,
          0.370253164556962,
          0.3943037974683544,
          0.4379746835443038,
          0.47341772151898737,
          0.4854430379746835,
          0.5322784810126582,
          0.5664556962025317,
          0.5854430379746836,
          0.7025316455696202,
          0.7493670886075949,
          0.7841772151898734,
          0.8449367088607594,
          0.8575949367088608,
          0.8613924050632912,
          0.8670886075949367,
          0.8708860759493671,
          0.8734177215189873,
          0.8816455696202532,
          0.8841772151898735,
          0.8892405063291139,
          0.8936708860759494,
          0.8949367088607595,
          0.8987341772151899,
          0.9037974683544304,
          0.9056962025316456,
          0.9183544303797468,
          0.9208860759493671,
          0.9221518987341772,
          0.930379746835443,
          0.9316455696202531,
          0.9316455696202531,
          0.9335443037974683,
          0.9379746835443038,
          0.9405063291139241,
          0.9417721518987342,
          0.9424050632911393,
          0.9443037974683545,
          0.9455696202531646,
          0.9455696202531646,
          0.9481012658227848,
          0.950632911392405,
          0.950632911392405,
          0.9512658227848101,
          0.9531645569620253
         ]
        },
        {
         "line": {
          "color": "rgba(111, 207, 151, 0.8)",
          "width": 3
         },
         "mode": "lines",
         "name": "Shortest path",
         "type": "scatter",
         "x": [
          0,
          1,
          2,
          3,
          4,
          5,
          6,
          7,
          8,
          9,
          10,
          11,
          12,
          13,
          14,
          15,
          16,
          17,
          18,
          19,
          20,
          21,
          22,
          23,
          24,
          25,
          26,
          27,
          28,
          29,
          30,
          31,
          32,
          33,
          34,
          35,
          36,
          37,
          38,
          39,
          40,
          41,
          42,
          43,
          44,
          45,
          46,
          47,
          48,
          49
         ],
         "y": [
          0,
          0.06666666666666667,
          0.17777777777777778,
          0.2,
          0.2222222222222222,
          0.35555555555555557,
          0.5111111111111111,
          0.5333333333333333,
          0.5555555555555556,
          0.5777777777777777,
          0.6666666666666666,
          0.6888888888888889,
          0.7333333333333333,
          0.7555555555555555,
          0.8222222222222222,
          0.8222222222222222,
          0.8222222222222222,
          0.8222222222222222,
          0.8222222222222222,
          0.8444444444444444,
          0.8444444444444444,
          0.8444444444444444,
          0.8444444444444444,
          0.8666666666666667,
          0.8666666666666667,
          0.8666666666666667,
          0.8666666666666667,
          0.8666666666666667,
          0.8666666666666667,
          0.8666666666666667,
          0.8666666666666667,
          0.8888888888888888,
          0.8888888888888888,
          0.8888888888888888,
          0.8888888888888888,
          0.8888888888888888,
          0.8888888888888888,
          0.9111111111111111,
          0.9111111111111111,
          0.9333333333333333,
          0.9333333333333333,
          0.9333333333333333,
          0.9333333333333333,
          0.9333333333333333,
          0.9333333333333333,
          0.9555555555555556,
          0.9555555555555556,
          0.9555555555555556,
          0.9555555555555556,
          0.9555555555555556
         ]
        }
       ],
       "layout": {
        "font": {
         "size": 12
        },
        "height": 800,
        "paper_bgcolor": "rgba(240, 244, 255, 1)",
        "plot_bgcolor": "rgba(240, 244, 255, 1)",
        "template": {
         "data": {
          "bar": [
           {
            "error_x": {
             "color": "#2a3f5f"
            },
            "error_y": {
             "color": "#2a3f5f"
            },
            "marker": {
             "line": {
              "color": "#E5ECF6",
              "width": 0.5
             },
             "pattern": {
              "fillmode": "overlay",
              "size": 10,
              "solidity": 0.2
             }
            },
            "type": "bar"
           }
          ],
          "barpolar": [
           {
            "marker": {
             "line": {
              "color": "#E5ECF6",
              "width": 0.5
             },
             "pattern": {
              "fillmode": "overlay",
              "size": 10,
              "solidity": 0.2
             }
            },
            "type": "barpolar"
           }
          ],
          "carpet": [
           {
            "aaxis": {
             "endlinecolor": "#2a3f5f",
             "gridcolor": "white",
             "linecolor": "white",
             "minorgridcolor": "white",
             "startlinecolor": "#2a3f5f"
            },
            "baxis": {
             "endlinecolor": "#2a3f5f",
             "gridcolor": "white",
             "linecolor": "white",
             "minorgridcolor": "white",
             "startlinecolor": "#2a3f5f"
            },
            "type": "carpet"
           }
          ],
          "choropleth": [
           {
            "colorbar": {
             "outlinewidth": 0,
             "ticks": ""
            },
            "type": "choropleth"
           }
          ],
          "contour": [
           {
            "colorbar": {
             "outlinewidth": 0,
             "ticks": ""
            },
            "colorscale": [
             [
              0,
              "#0d0887"
             ],
             [
              0.1111111111111111,
              "#46039f"
             ],
             [
              0.2222222222222222,
              "#7201a8"
             ],
             [
              0.3333333333333333,
              "#9c179e"
             ],
             [
              0.4444444444444444,
              "#bd3786"
             ],
             [
              0.5555555555555556,
              "#d8576b"
             ],
             [
              0.6666666666666666,
              "#ed7953"
             ],
             [
              0.7777777777777778,
              "#fb9f3a"
             ],
             [
              0.8888888888888888,
              "#fdca26"
             ],
             [
              1,
              "#f0f921"
             ]
            ],
            "type": "contour"
           }
          ],
          "contourcarpet": [
           {
            "colorbar": {
             "outlinewidth": 0,
             "ticks": ""
            },
            "type": "contourcarpet"
           }
          ],
          "heatmap": [
           {
            "colorbar": {
             "outlinewidth": 0,
             "ticks": ""
            },
            "colorscale": [
             [
              0,
              "#0d0887"
             ],
             [
              0.1111111111111111,
              "#46039f"
             ],
             [
              0.2222222222222222,
              "#7201a8"
             ],
             [
              0.3333333333333333,
              "#9c179e"
             ],
             [
              0.4444444444444444,
              "#bd3786"
             ],
             [
              0.5555555555555556,
              "#d8576b"
             ],
             [
              0.6666666666666666,
              "#ed7953"
             ],
             [
              0.7777777777777778,
              "#fb9f3a"
             ],
             [
              0.8888888888888888,
              "#fdca26"
             ],
             [
              1,
              "#f0f921"
             ]
            ],
            "type": "heatmap"
           }
          ],
          "heatmapgl": [
           {
            "colorbar": {
             "outlinewidth": 0,
             "ticks": ""
            },
            "colorscale": [
             [
              0,
              "#0d0887"
             ],
             [
              0.1111111111111111,
              "#46039f"
             ],
             [
              0.2222222222222222,
              "#7201a8"
             ],
             [
              0.3333333333333333,
              "#9c179e"
             ],
             [
              0.4444444444444444,
              "#bd3786"
             ],
             [
              0.5555555555555556,
              "#d8576b"
             ],
             [
              0.6666666666666666,
              "#ed7953"
             ],
             [
              0.7777777777777778,
              "#fb9f3a"
             ],
             [
              0.8888888888888888,
              "#fdca26"
             ],
             [
              1,
              "#f0f921"
             ]
            ],
            "type": "heatmapgl"
           }
          ],
          "histogram": [
           {
            "marker": {
             "pattern": {
              "fillmode": "overlay",
              "size": 10,
              "solidity": 0.2
             }
            },
            "type": "histogram"
           }
          ],
          "histogram2d": [
           {
            "colorbar": {
             "outlinewidth": 0,
             "ticks": ""
            },
            "colorscale": [
             [
              0,
              "#0d0887"
             ],
             [
              0.1111111111111111,
              "#46039f"
             ],
             [
              0.2222222222222222,
              "#7201a8"
             ],
             [
              0.3333333333333333,
              "#9c179e"
             ],
             [
              0.4444444444444444,
              "#bd3786"
             ],
             [
              0.5555555555555556,
              "#d8576b"
             ],
             [
              0.6666666666666666,
              "#ed7953"
             ],
             [
              0.7777777777777778,
              "#fb9f3a"
             ],
             [
              0.8888888888888888,
              "#fdca26"
             ],
             [
              1,
              "#f0f921"
             ]
            ],
            "type": "histogram2d"
           }
          ],
          "histogram2dcontour": [
           {
            "colorbar": {
             "outlinewidth": 0,
             "ticks": ""
            },
            "colorscale": [
             [
              0,
              "#0d0887"
             ],
             [
              0.1111111111111111,
              "#46039f"
             ],
             [
              0.2222222222222222,
              "#7201a8"
             ],
             [
              0.3333333333333333,
              "#9c179e"
             ],
             [
              0.4444444444444444,
              "#bd3786"
             ],
             [
              0.5555555555555556,
              "#d8576b"
             ],
             [
              0.6666666666666666,
              "#ed7953"
             ],
             [
              0.7777777777777778,
              "#fb9f3a"
             ],
             [
              0.8888888888888888,
              "#fdca26"
             ],
             [
              1,
              "#f0f921"
             ]
            ],
            "type": "histogram2dcontour"
           }
          ],
          "mesh3d": [
           {
            "colorbar": {
             "outlinewidth": 0,
             "ticks": ""
            },
            "type": "mesh3d"
           }
          ],
          "parcoords": [
           {
            "line": {
             "colorbar": {
              "outlinewidth": 0,
              "ticks": ""
             }
            },
            "type": "parcoords"
           }
          ],
          "pie": [
           {
            "automargin": true,
            "type": "pie"
           }
          ],
          "scatter": [
           {
            "fillpattern": {
             "fillmode": "overlay",
             "size": 10,
             "solidity": 0.2
            },
            "type": "scatter"
           }
          ],
          "scatter3d": [
           {
            "line": {
             "colorbar": {
              "outlinewidth": 0,
              "ticks": ""
             }
            },
            "marker": {
             "colorbar": {
              "outlinewidth": 0,
              "ticks": ""
             }
            },
            "type": "scatter3d"
           }
          ],
          "scattercarpet": [
           {
            "marker": {
             "colorbar": {
              "outlinewidth": 0,
              "ticks": ""
             }
            },
            "type": "scattercarpet"
           }
          ],
          "scattergeo": [
           {
            "marker": {
             "colorbar": {
              "outlinewidth": 0,
              "ticks": ""
             }
            },
            "type": "scattergeo"
           }
          ],
          "scattergl": [
           {
            "marker": {
             "colorbar": {
              "outlinewidth": 0,
              "ticks": ""
             }
            },
            "type": "scattergl"
           }
          ],
          "scattermapbox": [
           {
            "marker": {
             "colorbar": {
              "outlinewidth": 0,
              "ticks": ""
             }
            },
            "type": "scattermapbox"
           }
          ],
          "scatterpolar": [
           {
            "marker": {
             "colorbar": {
              "outlinewidth": 0,
              "ticks": ""
             }
            },
            "type": "scatterpolar"
           }
          ],
          "scatterpolargl": [
           {
            "marker": {
             "colorbar": {
              "outlinewidth": 0,
              "ticks": ""
             }
            },
            "type": "scatterpolargl"
           }
          ],
          "scatterternary": [
           {
            "marker": {
             "colorbar": {
              "outlinewidth": 0,
              "ticks": ""
             }
            },
            "type": "scatterternary"
           }
          ],
          "surface": [
           {
            "colorbar": {
             "outlinewidth": 0,
             "ticks": ""
            },
            "colorscale": [
             [
              0,
              "#0d0887"
             ],
             [
              0.1111111111111111,
              "#46039f"
             ],
             [
              0.2222222222222222,
              "#7201a8"
             ],
             [
              0.3333333333333333,
              "#9c179e"
             ],
             [
              0.4444444444444444,
              "#bd3786"
             ],
             [
              0.5555555555555556,
              "#d8576b"
             ],
             [
              0.6666666666666666,
              "#ed7953"
             ],
             [
              0.7777777777777778,
              "#fb9f3a"
             ],
             [
              0.8888888888888888,
              "#fdca26"
             ],
             [
              1,
              "#f0f921"
             ]
            ],
            "type": "surface"
           }
          ],
          "table": [
           {
            "cells": {
             "fill": {
              "color": "#EBF0F8"
             },
             "line": {
              "color": "white"
             }
            },
            "header": {
             "fill": {
              "color": "#C8D4E3"
             },
             "line": {
              "color": "white"
             }
            },
            "type": "table"
           }
          ]
         },
         "layout": {
          "annotationdefaults": {
           "arrowcolor": "#2a3f5f",
           "arrowhead": 0,
           "arrowwidth": 1
          },
          "autotypenumbers": "strict",
          "coloraxis": {
           "colorbar": {
            "outlinewidth": 0,
            "ticks": ""
           }
          },
          "colorscale": {
           "diverging": [
            [
             0,
             "#8e0152"
            ],
            [
             0.1,
             "#c51b7d"
            ],
            [
             0.2,
             "#de77ae"
            ],
            [
             0.3,
             "#f1b6da"
            ],
            [
             0.4,
             "#fde0ef"
            ],
            [
             0.5,
             "#f7f7f7"
            ],
            [
             0.6,
             "#e6f5d0"
            ],
            [
             0.7,
             "#b8e186"
            ],
            [
             0.8,
             "#7fbc41"
            ],
            [
             0.9,
             "#4d9221"
            ],
            [
             1,
             "#276419"
            ]
           ],
           "sequential": [
            [
             0,
             "#0d0887"
            ],
            [
             0.1111111111111111,
             "#46039f"
            ],
            [
             0.2222222222222222,
             "#7201a8"
            ],
            [
             0.3333333333333333,
             "#9c179e"
            ],
            [
             0.4444444444444444,
             "#bd3786"
            ],
            [
             0.5555555555555556,
             "#d8576b"
            ],
            [
             0.6666666666666666,
             "#ed7953"
            ],
            [
             0.7777777777777778,
             "#fb9f3a"
            ],
            [
             0.8888888888888888,
             "#fdca26"
            ],
            [
             1,
             "#f0f921"
            ]
           ],
           "sequentialminus": [
            [
             0,
             "#0d0887"
            ],
            [
             0.1111111111111111,
             "#46039f"
            ],
            [
             0.2222222222222222,
             "#7201a8"
            ],
            [
             0.3333333333333333,
             "#9c179e"
            ],
            [
             0.4444444444444444,
             "#bd3786"
            ],
            [
             0.5555555555555556,
             "#d8576b"
            ],
            [
             0.6666666666666666,
             "#ed7953"
            ],
            [
             0.7777777777777778,
             "#fb9f3a"
            ],
            [
             0.8888888888888888,
             "#fdca26"
            ],
            [
             1,
             "#f0f921"
            ]
           ]
          },
          "colorway": [
           "#636efa",
           "#EF553B",
           "#00cc96",
           "#ab63fa",
           "#FFA15A",
           "#19d3f3",
           "#FF6692",
           "#B6E880",
           "#FF97FF",
           "#FECB52"
          ],
          "font": {
           "color": "#2a3f5f"
          },
          "geo": {
           "bgcolor": "white",
           "lakecolor": "white",
           "landcolor": "#E5ECF6",
           "showlakes": true,
           "showland": true,
           "subunitcolor": "white"
          },
          "hoverlabel": {
           "align": "left"
          },
          "hovermode": "closest",
          "mapbox": {
           "style": "light"
          },
          "paper_bgcolor": "white",
          "plot_bgcolor": "#E5ECF6",
          "polar": {
           "angularaxis": {
            "gridcolor": "white",
            "linecolor": "white",
            "ticks": ""
           },
           "bgcolor": "#E5ECF6",
           "radialaxis": {
            "gridcolor": "white",
            "linecolor": "white",
            "ticks": ""
           }
          },
          "scene": {
           "xaxis": {
            "backgroundcolor": "#E5ECF6",
            "gridcolor": "white",
            "gridwidth": 2,
            "linecolor": "white",
            "showbackground": true,
            "ticks": "",
            "zerolinecolor": "white"
           },
           "yaxis": {
            "backgroundcolor": "#E5ECF6",
            "gridcolor": "white",
            "gridwidth": 2,
            "linecolor": "white",
            "showbackground": true,
            "ticks": "",
            "zerolinecolor": "white"
           },
           "zaxis": {
            "backgroundcolor": "#E5ECF6",
            "gridcolor": "white",
            "gridwidth": 2,
            "linecolor": "white",
            "showbackground": true,
            "ticks": "",
            "zerolinecolor": "white"
           }
          },
          "shapedefaults": {
           "line": {
            "color": "#2a3f5f"
           }
          },
          "ternary": {
           "aaxis": {
            "gridcolor": "white",
            "linecolor": "white",
            "ticks": ""
           },
           "baxis": {
            "gridcolor": "white",
            "linecolor": "white",
            "ticks": ""
           },
           "bgcolor": "#E5ECF6",
           "caxis": {
            "gridcolor": "white",
            "linecolor": "white",
            "ticks": ""
           }
          },
          "title": {
           "x": 0.05
          },
          "xaxis": {
           "automargin": true,
           "gridcolor": "white",
           "linecolor": "white",
           "ticks": "",
           "title": {
            "standoff": 15
           },
           "zerolinecolor": "white",
           "zerolinewidth": 2
          },
          "yaxis": {
           "automargin": true,
           "gridcolor": "white",
           "linecolor": "white",
           "ticks": "",
           "title": {
            "standoff": 15
           },
           "zerolinecolor": "white",
           "zerolinewidth": 2
          }
         }
        },
        "title": {
         "text": "Accumulated Distribution of Rank of Neighbors' Degrees Conditioned on Low Similarity with Destination"
        },
        "width": 1000,
        "xaxis": {
         "dtick": 5,
         "gridcolor": "rgba(224, 232, 240, 1)",
         "showgrid": true,
         "title": {
          "text": "Rank of neighbors' degrees conditioned on low similarity with destination"
         }
        },
        "yaxis": {
         "gridcolor": "rgba(224, 232, 240, 1)",
         "showgrid": true,
         "title": {
          "text": "Accumulated frequency"
         }
        }
       }
      }
     },
     "metadata": {},
     "output_type": "display_data"
    }
   ],
   "source": [
    "# Convert scores to integers\n",
    "ai_scores = np.sort(np.array(ai_scores, dtype=int))                 # Convert AI scores to integers\n",
    "human_scores = np.sort(np.array(human_scores, dtype=int))           # Convert Human scores to integers\n",
    "optimal_scores_sorted = np.sort(np.array(optimal_scores, dtype=int))       # Convert Optimal scores to integers\n",
    "\n",
    "# Calculate the frequency\n",
    "ai_scores_freq = np.bincount(ai_scores)\n",
    "human_scores_freq = np.bincount(human_scores)\n",
    "optimal_scores_freq = np.bincount(optimal_scores_sorted)\n",
    "\n",
    "# Calculate the accumulated frequency\n",
    "ai_scores_accumulated = np.cumsum(ai_scores_freq) / len(ai_scores)\n",
    "human_scores_accumulated = np.cumsum(human_scores_freq) / len(human_scores)\n",
    "optimal_scores_accumulated = np.cumsum(optimal_scores_freq) / len(optimal_scores_sorted)\n",
    "\n",
    "plot_accumulated_distribution_of_ranks_conditioned_on_low_similarity(ai_scores_accumulated, human_scores_accumulated, optimal_scores_accumulated)\n",
    "\n"
   ]
  },
  {
   "cell_type": "code",
   "execution_count": 12,
   "metadata": {},
   "outputs": [
    {
     "data": {
      "image/png": "[encoded data removed]",
      "text/plain": [
       "<Figure size 1000x600 with 1 Axes>"
      ]
     },
     "metadata": {},
     "output_type": "display_data"
    }
   ],
   "source": [
    "# the x-axis is the path length, the y-axis is the pairs\n",
    "\n",
    "ai_path_len = [[len(path) for path in AI_paths[pair]] for pair in ori_dest]\n",
    "improved_ai_paths_len = [[len(path) for path in improved_ai_paths[pair]] for pair in ori_dest]\n",
    "human_path_len = [[len(path) for path in human_paths[pair]] for pair in ori_dest]\n",
    "shortest_path_len = [[len(shortest_paths[pair][0])] for pair in ori_dest]\n",
    "\n",
    "# Path Length distribution Plot\n",
    "human_lengths_flat = [length for path in human_path_len for length in path]\n",
    "ai_lengths_flat = [length for path in ai_path_len for length in path]\n",
    "\n",
    "# Cap the path lengths at 20 and group all lengths >20 into a single bin\n",
    "human_lengths_capped = [length if length <= 20 else 21 for length in human_lengths_flat]\n",
    "ai_lengths_capped = [length if length <= 20 else 21 for length in ai_lengths_flat]\n",
    "\n",
    "plot_histogram_of_path_lengths(human_lengths_capped, ai_lengths_capped)"
   ]
  },
  {
   "cell_type": "code",
   "execution_count": 13,
   "metadata": {},
   "outputs": [
    {
     "data": {
      "application/vnd.plotly.v1+json": {
       "config": {
        "plotlyServerURL": "https://plot.ly"
       },
       "data": [
        {
         "hovertemplate": [
          "%{x}: %{y:.2f}<extra></extra>",
          "%{x}: %{y:.2f}<extra></extra>",
          "%{x}: %{y:.2f}<extra></extra>",
          "%{x}: %{y:.2f}<extra></extra>",
          "%{x}: %{y:.2f}<extra></extra>"
         ],
         "marker": {
          "color": [
           "rgba(58, 85, 209, 0.7)",
           "rgba(58, 85, 209, 0.7)",
           "rgba(242, 153, 74, 0.7)",
           "rgba(242, 153, 74, 0.7)",
           "rgba(111, 207, 151, 0.8)"
          ]
         },
         "type": "bar",
         "x": [
          "Good AI",
          "Bad AI",
          "Good Human",
          "Bad Human",
          "Optimal"
         ],
         "y": [
          68.21739130434783,
          51.40764331210191,
          68.84649236344809,
          64.3791329904482,
          76.21019108280255
         ]
        }
       ],
       "layout": {
        "font": {
         "size": 12
        },
        "height": 500,
        "paper_bgcolor": "rgba(240, 244, 255, 1)",
        "plot_bgcolor": "rgba(240, 244, 255, 1)",
        "template": {
         "data": {
          "bar": [
           {
            "error_x": {
             "color": "#2a3f5f"
            },
            "error_y": {
             "color": "#2a3f5f"
            },
            "marker": {
             "line": {
              "color": "#E5ECF6",
              "width": 0.5
             },
             "pattern": {
              "fillmode": "overlay",
              "size": 10,
              "solidity": 0.2
             }
            },
            "type": "bar"
           }
          ],
          "barpolar": [
           {
            "marker": {
             "line": {
              "color": "#E5ECF6",
              "width": 0.5
             },
             "pattern": {
              "fillmode": "overlay",
              "size": 10,
              "solidity": 0.2
             }
            },
            "type": "barpolar"
           }
          ],
          "carpet": [
           {
            "aaxis": {
             "endlinecolor": "#2a3f5f",
             "gridcolor": "white",
             "linecolor": "white",
             "minorgridcolor": "white",
             "startlinecolor": "#2a3f5f"
            },
            "baxis": {
             "endlinecolor": "#2a3f5f",
             "gridcolor": "white",
             "linecolor": "white",
             "minorgridcolor": "white",
             "startlinecolor": "#2a3f5f"
            },
            "type": "carpet"
           }
          ],
          "choropleth": [
           {
            "colorbar": {
             "outlinewidth": 0,
             "ticks": ""
            },
            "type": "choropleth"
           }
          ],
          "contour": [
           {
            "colorbar": {
             "outlinewidth": 0,
             "ticks": ""
            },
            "colorscale": [
             [
              0,
              "#0d0887"
             ],
             [
              0.1111111111111111,
              "#46039f"
             ],
             [
              0.2222222222222222,
              "#7201a8"
             ],
             [
              0.3333333333333333,
              "#9c179e"
             ],
             [
              0.4444444444444444,
              "#bd3786"
             ],
             [
              0.5555555555555556,
              "#d8576b"
             ],
             [
              0.6666666666666666,
              "#ed7953"
             ],
             [
              0.7777777777777778,
              "#fb9f3a"
             ],
             [
              0.8888888888888888,
              "#fdca26"
             ],
             [
              1,
              "#f0f921"
             ]
            ],
            "type": "contour"
           }
          ],
          "contourcarpet": [
           {
            "colorbar": {
             "outlinewidth": 0,
             "ticks": ""
            },
            "type": "contourcarpet"
           }
          ],
          "heatmap": [
           {
            "colorbar": {
             "outlinewidth": 0,
             "ticks": ""
            },
            "colorscale": [
             [
              0,
              "#0d0887"
             ],
             [
              0.1111111111111111,
              "#46039f"
             ],
             [
              0.2222222222222222,
              "#7201a8"
             ],
             [
              0.3333333333333333,
              "#9c179e"
             ],
             [
              0.4444444444444444,
              "#bd3786"
             ],
             [
              0.5555555555555556,
              "#d8576b"
             ],
             [
              0.6666666666666666,
              "#ed7953"
             ],
             [
              0.7777777777777778,
              "#fb9f3a"
             ],
             [
              0.8888888888888888,
              "#fdca26"
             ],
             [
              1,
              "#f0f921"
             ]
            ],
            "type": "heatmap"
           }
          ],
          "heatmapgl": [
           {
            "colorbar": {
             "outlinewidth": 0,
             "ticks": ""
            },
            "colorscale": [
             [
              0,
              "#0d0887"
             ],
             [
              0.1111111111111111,
              "#46039f"
             ],
             [
              0.2222222222222222,
              "#7201a8"
             ],
             [
              0.3333333333333333,
              "#9c179e"
             ],
             [
              0.4444444444444444,
              "#bd3786"
             ],
             [
              0.5555555555555556,
              "#d8576b"
             ],
             [
              0.6666666666666666,
              "#ed7953"
             ],
             [
              0.7777777777777778,
              "#fb9f3a"
             ],
             [
              0.8888888888888888,
              "#fdca26"
             ],
             [
              1,
              "#f0f921"
             ]
            ],
            "type": "heatmapgl"
           }
          ],
          "histogram": [
           {
            "marker": {
             "pattern": {
              "fillmode": "overlay",
              "size": 10,
              "solidity": 0.2
             }
            },
            "type": "histogram"
           }
          ],
          "histogram2d": [
           {
            "colorbar": {
             "outlinewidth": 0,
             "ticks": ""
            },
            "colorscale": [
             [
              0,
              "#0d0887"
             ],
             [
              0.1111111111111111,
              "#46039f"
             ],
             [
              0.2222222222222222,
              "#7201a8"
             ],
             [
              0.3333333333333333,
              "#9c179e"
             ],
             [
              0.4444444444444444,
              "#bd3786"
             ],
             [
              0.5555555555555556,
              "#d8576b"
             ],
             [
              0.6666666666666666,
              "#ed7953"
             ],
             [
              0.7777777777777778,
              "#fb9f3a"
             ],
             [
              0.8888888888888888,
              "#fdca26"
             ],
             [
              1,
              "#f0f921"
             ]
            ],
            "type": "histogram2d"
           }
          ],
          "histogram2dcontour": [
           {
            "colorbar": {
             "outlinewidth": 0,
             "ticks": ""
            },
            "colorscale": [
             [
              0,
              "#0d0887"
             ],
             [
              0.1111111111111111,
              "#46039f"
             ],
             [
              0.2222222222222222,
              "#7201a8"
             ],
             [
              0.3333333333333333,
              "#9c179e"
             ],
             [
              0.4444444444444444,
              "#bd3786"
             ],
             [
              0.5555555555555556,
              "#d8576b"
             ],
             [
              0.6666666666666666,
              "#ed7953"
             ],
             [
              0.7777777777777778,
              "#fb9f3a"
             ],
             [
              0.8888888888888888,
              "#fdca26"
             ],
             [
              1,
              "#f0f921"
             ]
            ],
            "type": "histogram2dcontour"
           }
          ],
          "mesh3d": [
           {
            "colorbar": {
             "outlinewidth": 0,
             "ticks": ""
            },
            "type": "mesh3d"
           }
          ],
          "parcoords": [
           {
            "line": {
             "colorbar": {
              "outlinewidth": 0,
              "ticks": ""
             }
            },
            "type": "parcoords"
           }
          ],
          "pie": [
           {
            "automargin": true,
            "type": "pie"
           }
          ],
          "scatter": [
           {
            "fillpattern": {
             "fillmode": "overlay",
             "size": 10,
             "solidity": 0.2
            },
            "type": "scatter"
           }
          ],
          "scatter3d": [
           {
            "line": {
             "colorbar": {
              "outlinewidth": 0,
              "ticks": ""
             }
            },
            "marker": {
             "colorbar": {
              "outlinewidth": 0,
              "ticks": ""
             }
            },
            "type": "scatter3d"
           }
          ],
          "scattercarpet": [
           {
            "marker": {
             "colorbar": {
              "outlinewidth": 0,
              "ticks": ""
             }
            },
            "type": "scattercarpet"
           }
          ],
          "scattergeo": [
           {
            "marker": {
             "colorbar": {
              "outlinewidth": 0,
              "ticks": ""
             }
            },
            "type": "scattergeo"
           }
          ],
          "scattergl": [
           {
            "marker": {
             "colorbar": {
              "outlinewidth": 0,
              "ticks": ""
             }
            },
            "type": "scattergl"
           }
          ],
          "scattermapbox": [
           {
            "marker": {
             "colorbar": {
              "outlinewidth": 0,
              "ticks": ""
             }
            },
            "type": "scattermapbox"
           }
          ],
          "scatterpolar": [
           {
            "marker": {
             "colorbar": {
              "outlinewidth": 0,
              "ticks": ""
             }
            },
            "type": "scatterpolar"
           }
          ],
          "scatterpolargl": [
           {
            "marker": {
             "colorbar": {
              "outlinewidth": 0,
              "ticks": ""
             }
            },
            "type": "scatterpolargl"
           }
          ],
          "scatterternary": [
           {
            "marker": {
             "colorbar": {
              "outlinewidth": 0,
              "ticks": ""
             }
            },
            "type": "scatterternary"
           }
          ],
          "surface": [
           {
            "colorbar": {
             "outlinewidth": 0,
             "ticks": ""
            },
            "colorscale": [
             [
              0,
              "#0d0887"
             ],
             [
              0.1111111111111111,
              "#46039f"
             ],
             [
              0.2222222222222222,
              "#7201a8"
             ],
             [
              0.3333333333333333,
              "#9c179e"
             ],
             [
              0.4444444444444444,
              "#bd3786"
             ],
             [
              0.5555555555555556,
              "#d8576b"
             ],
             [
              0.6666666666666666,
              "#ed7953"
             ],
             [
              0.7777777777777778,
              "#fb9f3a"
             ],
             [
              0.8888888888888888,
              "#fdca26"
             ],
             [
              1,
              "#f0f921"
             ]
            ],
            "type": "surface"
           }
          ],
          "table": [
           {
            "cells": {
             "fill": {
              "color": "#EBF0F8"
             },
             "line": {
              "color": "white"
             }
            },
            "header": {
             "fill": {
              "color": "#C8D4E3"
             },
             "line": {
              "color": "white"
             }
            },
            "type": "table"
           }
          ]
         },
         "layout": {
          "annotationdefaults": {
           "arrowcolor": "#2a3f5f",
           "arrowhead": 0,
           "arrowwidth": 1
          },
          "autotypenumbers": "strict",
          "coloraxis": {
           "colorbar": {
            "outlinewidth": 0,
            "ticks": ""
           }
          },
          "colorscale": {
           "diverging": [
            [
             0,
             "#8e0152"
            ],
            [
             0.1,
             "#c51b7d"
            ],
            [
             0.2,
             "#de77ae"
            ],
            [
             0.3,
             "#f1b6da"
            ],
            [
             0.4,
             "#fde0ef"
            ],
            [
             0.5,
             "#f7f7f7"
            ],
            [
             0.6,
             "#e6f5d0"
            ],
            [
             0.7,
             "#b8e186"
            ],
            [
             0.8,
             "#7fbc41"
            ],
            [
             0.9,
             "#4d9221"
            ],
            [
             1,
             "#276419"
            ]
           ],
           "sequential": [
            [
             0,
             "#0d0887"
            ],
            [
             0.1111111111111111,
             "#46039f"
            ],
            [
             0.2222222222222222,
             "#7201a8"
            ],
            [
             0.3333333333333333,
             "#9c179e"
            ],
            [
             0.4444444444444444,
             "#bd3786"
            ],
            [
             0.5555555555555556,
             "#d8576b"
            ],
            [
             0.6666666666666666,
             "#ed7953"
            ],
            [
             0.7777777777777778,
             "#fb9f3a"
            ],
            [
             0.8888888888888888,
             "#fdca26"
            ],
            [
             1,
             "#f0f921"
            ]
           ],
           "sequentialminus": [
            [
             0,
             "#0d0887"
            ],
            [
             0.1111111111111111,
             "#46039f"
            ],
            [
             0.2222222222222222,
             "#7201a8"
            ],
            [
             0.3333333333333333,
             "#9c179e"
            ],
            [
             0.4444444444444444,
             "#bd3786"
            ],
            [
             0.5555555555555556,
             "#d8576b"
            ],
            [
             0.6666666666666666,
             "#ed7953"
            ],
            [
             0.7777777777777778,
             "#fb9f3a"
            ],
            [
             0.8888888888888888,
             "#fdca26"
            ],
            [
             1,
             "#f0f921"
            ]
           ]
          },
          "colorway": [
           "#636efa",
           "#EF553B",
           "#00cc96",
           "#ab63fa",
           "#FFA15A",
           "#19d3f3",
           "#FF6692",
           "#B6E880",
           "#FF97FF",
           "#FECB52"
          ],
          "font": {
           "color": "#2a3f5f"
          },
          "geo": {
           "bgcolor": "white",
           "lakecolor": "white",
           "landcolor": "#E5ECF6",
           "showlakes": true,
           "showland": true,
           "subunitcolor": "white"
          },
          "hoverlabel": {
           "align": "left"
          },
          "hovermode": "closest",
          "mapbox": {
           "style": "light"
          },
          "paper_bgcolor": "white",
          "plot_bgcolor": "#E5ECF6",
          "polar": {
           "angularaxis": {
            "gridcolor": "white",
            "linecolor": "white",
            "ticks": ""
           },
           "bgcolor": "#E5ECF6",
           "radialaxis": {
            "gridcolor": "white",
            "linecolor": "white",
            "ticks": ""
           }
          },
          "scene": {
           "xaxis": {
            "backgroundcolor": "#E5ECF6",
            "gridcolor": "white",
            "gridwidth": 2,
            "linecolor": "white",
            "showbackground": true,
            "ticks": "",
            "zerolinecolor": "white"
           },
           "yaxis": {
            "backgroundcolor": "#E5ECF6",
            "gridcolor": "white",
            "gridwidth": 2,
            "linecolor": "white",
            "showbackground": true,
            "ticks": "",
            "zerolinecolor": "white"
           },
           "zaxis": {
            "backgroundcolor": "#E5ECF6",
            "gridcolor": "white",
            "gridwidth": 2,
            "linecolor": "white",
            "showbackground": true,
            "ticks": "",
            "zerolinecolor": "white"
           }
          },
          "shapedefaults": {
           "line": {
            "color": "#2a3f5f"
           }
          },
          "ternary": {
           "aaxis": {
            "gridcolor": "white",
            "linecolor": "white",
            "ticks": ""
           },
           "baxis": {
            "gridcolor": "white",
            "linecolor": "white",
            "ticks": ""
           },
           "bgcolor": "#E5ECF6",
           "caxis": {
            "gridcolor": "white",
            "linecolor": "white",
            "ticks": ""
           }
          },
          "title": {
           "x": 0.05
          },
          "xaxis": {
           "automargin": true,
           "gridcolor": "white",
           "linecolor": "white",
           "ticks": "",
           "title": {
            "standoff": 15
           },
           "zerolinecolor": "white",
           "zerolinewidth": 2
          },
          "yaxis": {
           "automargin": true,
           "gridcolor": "white",
           "linecolor": "white",
           "ticks": "",
           "title": {
            "standoff": 15
           },
           "zerolinecolor": "white",
           "zerolinewidth": 2
          }
         }
        },
        "title": {
         "text": "Mean Out-Degrees Comparison"
        },
        "width": 700,
        "yaxis": {
         "title": {
          "text": "First Step Out-Degrees"
         }
        }
       }
      }
     },
     "metadata": {},
     "output_type": "display_data"
    },
    {
     "data": {
      "application/vnd.plotly.v1+json": {
       "config": {
        "plotlyServerURL": "https://plot.ly"
       },
       "data": [
        {
         "hovertemplate": [
          "%{x}: %{y:.2f}<extra></extra>",
          "%{x}: %{y:.2f}<extra></extra>",
          "%{x}: %{y:.2f}<extra></extra>",
          "%{x}: %{y:.2f}<extra></extra>",
          "%{x}: %{y:.2f}<extra></extra>"
         ],
         "marker": {
          "color": [
           "rgba(58, 85, 209, 0.7)",
           "rgba(58, 85, 209, 0.7)",
           "rgba(242, 153, 74, 0.7)",
           "rgba(242, 153, 74, 0.7)",
           "rgba(111, 207, 151, 0.8)"
          ]
         },
         "type": "bar",
         "x": [
          "Good AI",
          "Bad AI",
          "Good Human",
          "Bad Human",
          "Optimal"
         ],
         "y": [
          0.07324243920647683,
          0.0038752203950419718,
          0.03393363399844039,
          0.007442469400159514,
          0.04062667123473862
         ]
        }
       ],
       "layout": {
        "font": {
         "size": 12
        },
        "height": 500,
        "paper_bgcolor": "rgba(240, 244, 255, 1)",
        "plot_bgcolor": "rgba(240, 244, 255, 1)",
        "template": {
         "data": {
          "bar": [
           {
            "error_x": {
             "color": "#2a3f5f"
            },
            "error_y": {
             "color": "#2a3f5f"
            },
            "marker": {
             "line": {
              "color": "#E5ECF6",
              "width": 0.5
             },
             "pattern": {
              "fillmode": "overlay",
              "size": 10,
              "solidity": 0.2
             }
            },
            "type": "bar"
           }
          ],
          "barpolar": [
           {
            "marker": {
             "line": {
              "color": "#E5ECF6",
              "width": 0.5
             },
             "pattern": {
              "fillmode": "overlay",
              "size": 10,
              "solidity": 0.2
             }
            },
            "type": "barpolar"
           }
          ],
          "carpet": [
           {
            "aaxis": {
             "endlinecolor": "#2a3f5f",
             "gridcolor": "white",
             "linecolor": "white",
             "minorgridcolor": "white",
             "startlinecolor": "#2a3f5f"
            },
            "baxis": {
             "endlinecolor": "#2a3f5f",
             "gridcolor": "white",
             "linecolor": "white",
             "minorgridcolor": "white",
             "startlinecolor": "#2a3f5f"
            },
            "type": "carpet"
           }
          ],
          "choropleth": [
           {
            "colorbar": {
             "outlinewidth": 0,
             "ticks": ""
            },
            "type": "choropleth"
           }
          ],
          "contour": [
           {
            "colorbar": {
             "outlinewidth": 0,
             "ticks": ""
            },
            "colorscale": [
             [
              0,
              "#0d0887"
             ],
             [
              0.1111111111111111,
              "#46039f"
             ],
             [
              0.2222222222222222,
              "#7201a8"
             ],
             [
              0.3333333333333333,
              "#9c179e"
             ],
             [
              0.4444444444444444,
              "#bd3786"
             ],
             [
              0.5555555555555556,
              "#d8576b"
             ],
             [
              0.6666666666666666,
              "#ed7953"
             ],
             [
              0.7777777777777778,
              "#fb9f3a"
             ],
             [
              0.8888888888888888,
              "#fdca26"
             ],
             [
              1,
              "#f0f921"
             ]
            ],
            "type": "contour"
           }
          ],
          "contourcarpet": [
           {
            "colorbar": {
             "outlinewidth": 0,
             "ticks": ""
            },
            "type": "contourcarpet"
           }
          ],
          "heatmap": [
           {
            "colorbar": {
             "outlinewidth": 0,
             "ticks": ""
            },
            "colorscale": [
             [
              0,
              "#0d0887"
             ],
             [
              0.1111111111111111,
              "#46039f"
             ],
             [
              0.2222222222222222,
              "#7201a8"
             ],
             [
              0.3333333333333333,
              "#9c179e"
             ],
             [
              0.4444444444444444,
              "#bd3786"
             ],
             [
              0.5555555555555556,
              "#d8576b"
             ],
             [
              0.6666666666666666,
              "#ed7953"
             ],
             [
              0.7777777777777778,
              "#fb9f3a"
             ],
             [
              0.8888888888888888,
              "#fdca26"
             ],
             [
              1,
              "#f0f921"
             ]
            ],
            "type": "heatmap"
           }
          ],
          "heatmapgl": [
           {
            "colorbar": {
             "outlinewidth": 0,
             "ticks": ""
            },
            "colorscale": [
             [
              0,
              "#0d0887"
             ],
             [
              0.1111111111111111,
              "#46039f"
             ],
             [
              0.2222222222222222,
              "#7201a8"
             ],
             [
              0.3333333333333333,
              "#9c179e"
             ],
             [
              0.4444444444444444,
              "#bd3786"
             ],
             [
              0.5555555555555556,
              "#d8576b"
             ],
             [
              0.6666666666666666,
              "#ed7953"
             ],
             [
              0.7777777777777778,
              "#fb9f3a"
             ],
             [
              0.8888888888888888,
              "#fdca26"
             ],
             [
              1,
              "#f0f921"
             ]
            ],
            "type": "heatmapgl"
           }
          ],
          "histogram": [
           {
            "marker": {
             "pattern": {
              "fillmode": "overlay",
              "size": 10,
              "solidity": 0.2
             }
            },
            "type": "histogram"
           }
          ],
          "histogram2d": [
           {
            "colorbar": {
             "outlinewidth": 0,
             "ticks": ""
            },
            "colorscale": [
             [
              0,
              "#0d0887"
             ],
             [
              0.1111111111111111,
              "#46039f"
             ],
             [
              0.2222222222222222,
              "#7201a8"
             ],
             [
              0.3333333333333333,
              "#9c179e"
             ],
             [
              0.4444444444444444,
              "#bd3786"
             ],
             [
              0.5555555555555556,
              "#d8576b"
             ],
             [
              0.6666666666666666,
              "#ed7953"
             ],
             [
              0.7777777777777778,
              "#fb9f3a"
             ],
             [
              0.8888888888888888,
              "#fdca26"
             ],
             [
              1,
              "#f0f921"
             ]
            ],
            "type": "histogram2d"
           }
          ],
          "histogram2dcontour": [
           {
            "colorbar": {
             "outlinewidth": 0,
             "ticks": ""
            },
            "colorscale": [
             [
              0,
              "#0d0887"
             ],
             [
              0.1111111111111111,
              "#46039f"
             ],
             [
              0.2222222222222222,
              "#7201a8"
             ],
             [
              0.3333333333333333,
              "#9c179e"
             ],
             [
              0.4444444444444444,
              "#bd3786"
             ],
             [
              0.5555555555555556,
              "#d8576b"
             ],
             [
              0.6666666666666666,
              "#ed7953"
             ],
             [
              0.7777777777777778,
              "#fb9f3a"
             ],
             [
              0.8888888888888888,
              "#fdca26"
             ],
             [
              1,
              "#f0f921"
             ]
            ],
            "type": "histogram2dcontour"
           }
          ],
          "mesh3d": [
           {
            "colorbar": {
             "outlinewidth": 0,
             "ticks": ""
            },
            "type": "mesh3d"
           }
          ],
          "parcoords": [
           {
            "line": {
             "colorbar": {
              "outlinewidth": 0,
              "ticks": ""
             }
            },
            "type": "parcoords"
           }
          ],
          "pie": [
           {
            "automargin": true,
            "type": "pie"
           }
          ],
          "scatter": [
           {
            "fillpattern": {
             "fillmode": "overlay",
             "size": 10,
             "solidity": 0.2
            },
            "type": "scatter"
           }
          ],
          "scatter3d": [
           {
            "line": {
             "colorbar": {
              "outlinewidth": 0,
              "ticks": ""
             }
            },
            "marker": {
             "colorbar": {
              "outlinewidth": 0,
              "ticks": ""
             }
            },
            "type": "scatter3d"
           }
          ],
          "scattercarpet": [
           {
            "marker": {
             "colorbar": {
              "outlinewidth": 0,
              "ticks": ""
             }
            },
            "type": "scattercarpet"
           }
          ],
          "scattergeo": [
           {
            "marker": {
             "colorbar": {
              "outlinewidth": 0,
              "ticks": ""
             }
            },
            "type": "scattergeo"
           }
          ],
          "scattergl": [
           {
            "marker": {
             "colorbar": {
              "outlinewidth": 0,
              "ticks": ""
             }
            },
            "type": "scattergl"
           }
          ],
          "scattermapbox": [
           {
            "marker": {
             "colorbar": {
              "outlinewidth": 0,
              "ticks": ""
             }
            },
            "type": "scattermapbox"
           }
          ],
          "scatterpolar": [
           {
            "marker": {
             "colorbar": {
              "outlinewidth": 0,
              "ticks": ""
             }
            },
            "type": "scatterpolar"
           }
          ],
          "scatterpolargl": [
           {
            "marker": {
             "colorbar": {
              "outlinewidth": 0,
              "ticks": ""
             }
            },
            "type": "scatterpolargl"
           }
          ],
          "scatterternary": [
           {
            "marker": {
             "colorbar": {
              "outlinewidth": 0,
              "ticks": ""
             }
            },
            "type": "scatterternary"
           }
          ],
          "surface": [
           {
            "colorbar": {
             "outlinewidth": 0,
             "ticks": ""
            },
            "colorscale": [
             [
              0,
              "#0d0887"
             ],
             [
              0.1111111111111111,
              "#46039f"
             ],
             [
              0.2222222222222222,
              "#7201a8"
             ],
             [
              0.3333333333333333,
              "#9c179e"
             ],
             [
              0.4444444444444444,
              "#bd3786"
             ],
             [
              0.5555555555555556,
              "#d8576b"
             ],
             [
              0.6666666666666666,
              "#ed7953"
             ],
             [
              0.7777777777777778,
              "#fb9f3a"
             ],
             [
              0.8888888888888888,
              "#fdca26"
             ],
             [
              1,
              "#f0f921"
             ]
            ],
            "type": "surface"
           }
          ],
          "table": [
           {
            "cells": {
             "fill": {
              "color": "#EBF0F8"
             },
             "line": {
              "color": "white"
             }
            },
            "header": {
             "fill": {
              "color": "#C8D4E3"
             },
             "line": {
              "color": "white"
             }
            },
            "type": "table"
           }
          ]
         },
         "layout": {
          "annotationdefaults": {
           "arrowcolor": "#2a3f5f",
           "arrowhead": 0,
           "arrowwidth": 1
          },
          "autotypenumbers": "strict",
          "coloraxis": {
           "colorbar": {
            "outlinewidth": 0,
            "ticks": ""
           }
          },
          "colorscale": {
           "diverging": [
            [
             0,
             "#8e0152"
            ],
            [
             0.1,
             "#c51b7d"
            ],
            [
             0.2,
             "#de77ae"
            ],
            [
             0.3,
             "#f1b6da"
            ],
            [
             0.4,
             "#fde0ef"
            ],
            [
             0.5,
             "#f7f7f7"
            ],
            [
             0.6,
             "#e6f5d0"
            ],
            [
             0.7,
             "#b8e186"
            ],
            [
             0.8,
             "#7fbc41"
            ],
            [
             0.9,
             "#4d9221"
            ],
            [
             1,
             "#276419"
            ]
           ],
           "sequential": [
            [
             0,
             "#0d0887"
            ],
            [
             0.1111111111111111,
             "#46039f"
            ],
            [
             0.2222222222222222,
             "#7201a8"
            ],
            [
             0.3333333333333333,
             "#9c179e"
            ],
            [
             0.4444444444444444,
             "#bd3786"
            ],
            [
             0.5555555555555556,
             "#d8576b"
            ],
            [
             0.6666666666666666,
             "#ed7953"
            ],
            [
             0.7777777777777778,
             "#fb9f3a"
            ],
            [
             0.8888888888888888,
             "#fdca26"
            ],
            [
             1,
             "#f0f921"
            ]
           ],
           "sequentialminus": [
            [
             0,
             "#0d0887"
            ],
            [
             0.1111111111111111,
             "#46039f"
            ],
            [
             0.2222222222222222,
             "#7201a8"
            ],
            [
             0.3333333333333333,
             "#9c179e"
            ],
            [
             0.4444444444444444,
             "#bd3786"
            ],
            [
             0.5555555555555556,
             "#d8576b"
            ],
            [
             0.6666666666666666,
             "#ed7953"
            ],
            [
             0.7777777777777778,
             "#fb9f3a"
            ],
            [
             0.8888888888888888,
             "#fdca26"
            ],
            [
             1,
             "#f0f921"
            ]
           ]
          },
          "colorway": [
           "#636efa",
           "#EF553B",
           "#00cc96",
           "#ab63fa",
           "#FFA15A",
           "#19d3f3",
           "#FF6692",
           "#B6E880",
           "#FF97FF",
           "#FECB52"
          ],
          "font": {
           "color": "#2a3f5f"
          },
          "geo": {
           "bgcolor": "white",
           "lakecolor": "white",
           "landcolor": "#E5ECF6",
           "showlakes": true,
           "showland": true,
           "subunitcolor": "white"
          },
          "hoverlabel": {
           "align": "left"
          },
          "hovermode": "closest",
          "mapbox": {
           "style": "light"
          },
          "paper_bgcolor": "white",
          "plot_bgcolor": "#E5ECF6",
          "polar": {
           "angularaxis": {
            "gridcolor": "white",
            "linecolor": "white",
            "ticks": ""
           },
           "bgcolor": "#E5ECF6",
           "radialaxis": {
            "gridcolor": "white",
            "linecolor": "white",
            "ticks": ""
           }
          },
          "scene": {
           "xaxis": {
            "backgroundcolor": "#E5ECF6",
            "gridcolor": "white",
            "gridwidth": 2,
            "linecolor": "white",
            "showbackground": true,
            "ticks": "",
            "zerolinecolor": "white"
           },
           "yaxis": {
            "backgroundcolor": "#E5ECF6",
            "gridcolor": "white",
            "gridwidth": 2,
            "linecolor": "white",
            "showbackground": true,
            "ticks": "",
            "zerolinecolor": "white"
           },
           "zaxis": {
            "backgroundcolor": "#E5ECF6",
            "gridcolor": "white",
            "gridwidth": 2,
            "linecolor": "white",
            "showbackground": true,
            "ticks": "",
            "zerolinecolor": "white"
           }
          },
          "shapedefaults": {
           "line": {
            "color": "#2a3f5f"
           }
          },
          "ternary": {
           "aaxis": {
            "gridcolor": "white",
            "linecolor": "white",
            "ticks": ""
           },
           "baxis": {
            "gridcolor": "white",
            "linecolor": "white",
            "ticks": ""
           },
           "bgcolor": "#E5ECF6",
           "caxis": {
            "gridcolor": "white",
            "linecolor": "white",
            "ticks": ""
           }
          },
          "title": {
           "x": 0.05
          },
          "xaxis": {
           "automargin": true,
           "gridcolor": "white",
           "linecolor": "white",
           "ticks": "",
           "title": {
            "standoff": 15
           },
           "zerolinecolor": "white",
           "zerolinewidth": 2
          },
          "yaxis": {
           "automargin": true,
           "gridcolor": "white",
           "linecolor": "white",
           "ticks": "",
           "title": {
            "standoff": 15
           },
           "zerolinecolor": "white",
           "zerolinewidth": 2
          }
         }
        },
        "title": {
         "text": "Mean Closeness Scores Comparison"
        },
        "width": 700,
        "yaxis": {
         "title": {
          "text": "First Step Closeness Scores"
         }
        }
       }
      }
     },
     "metadata": {},
     "output_type": "display_data"
    }
   ],
   "source": [
    "# Path Degree Analysis\n",
    "in_degrees = dict(G.in_degree())  \n",
    "out_degrees = dict(G.out_degree()) \n",
    "total_degrees = {node: in_degrees.get(node, 0) + out_degrees.get(node, 0) for node in set(in_degrees) | set(out_degrees)}\n",
    "\n",
    "AI_path_degrees = compute_path_degrees(AI_paths, out_degrees)\n",
    "human_path_degrees = compute_path_degrees(human_paths, out_degrees)\n",
    "shortest_path_degrees = compute_path_degrees(shortest_paths, out_degrees)\n",
    "\n",
    "degree_filtering_length = 3\n",
    "degree_first_n = 3\n",
    "filtered_ai_degrees = score_filtering(AI_path_degrees, ai_path_len, degree_filtering_length, degree_first_n)\n",
    "filtered_human_degrees = score_filtering(human_path_degrees, human_path_len, degree_filtering_length, degree_first_n)\n",
    "filtered_shortest_degrees = score_filtering(shortest_path_degrees, shortest_path_len, degree_filtering_length, degree_first_n)\n",
    "\n",
    "degree_means, score_means = compute_degree_and_score_means(human_path_len, ai_path_len, AI_paths, AI_path_degrees, ai_closeness_scores, human_paths, human_path_degrees, human_closeness_scores, shortest_path_degrees, optimal_closeness_scores)\n",
    "\n",
    "plot_mean_degrees_and_closeness(degree_means, score_means)"
   ]
  },
  {
   "cell_type": "code",
   "execution_count": 14,
   "metadata": {},
   "outputs": [
    {
     "data": {
      "application/vnd.plotly.v1+json": {
       "config": {
        "plotlyServerURL": "https://plot.ly"
       },
       "data": [
        {
         "hovertemplate": "<b>Shortest Path Length:</b> 2<extra></extra>",
         "marker": {
          "color": "rgba(218, 165, 32, 0.7)",
          "line": {
           "color": "white",
           "width": 1.5
          },
          "size": 10
         },
         "mode": "markers",
         "name": "Shortest",
         "showlegend": true,
         "type": "scatter",
         "x": [
          2
         ],
         "y": [
          0
         ]
        },
        {
         "hovertemplate": "<b>Shortest Path Length:</b> 2<extra></extra>",
         "marker": {
          "color": "rgba(218, 165, 32, 0.7)",
          "line": {
           "color": "white",
           "width": 1.5
          },
          "size": 10
         },
         "mode": "markers",
         "name": "Shortest",
         "showlegend": false,
         "type": "scatter",
         "x": [
          2
         ],
         "y": [
          1
         ]
        },
        {
         "hovertemplate": "<b>Shortest Path Length:</b> 2<extra></extra>",
         "marker": {
          "color": "rgba(218, 165, 32, 0.7)",
          "line": {
           "color": "white",
           "width": 1.5
          },
          "size": 10
         },
         "mode": "markers",
         "name": "Shortest",
         "showlegend": false,
         "type": "scatter",
         "x": [
          2
         ],
         "y": [
          2
         ]
        },
        {
         "hovertemplate": "<b>Shortest Path Length:</b> 2<extra></extra>",
         "marker": {
          "color": "rgba(218, 165, 32, 0.7)",
          "line": {
           "color": "white",
           "width": 1.5
          },
          "size": 10
         },
         "mode": "markers",
         "name": "Shortest",
         "showlegend": false,
         "type": "scatter",
         "x": [
          2
         ],
         "y": [
          3
         ]
        },
        {
         "hovertemplate": "<b>Shortest Path Length:</b> 2<extra></extra>",
         "marker": {
          "color": "rgba(218, 165, 32, 0.7)",
          "line": {
           "color": "white",
           "width": 1.5
          },
          "size": 10
         },
         "mode": "markers",
         "name": "Shortest",
         "showlegend": false,
         "type": "scatter",
         "x": [
          2
         ],
         "y": [
          4
         ]
        },
        {
         "hovertemplate": "<b>Shortest Path Length:</b> 2<extra></extra>",
         "marker": {
          "color": "rgba(218, 165, 32, 0.7)",
          "line": {
           "color": "white",
           "width": 1.5
          },
          "size": 10
         },
         "mode": "markers",
         "name": "Shortest",
         "showlegend": false,
         "type": "scatter",
         "x": [
          2
         ],
         "y": [
          5
         ]
        },
        {
         "hovertemplate": "<b>Shortest Path Length:</b> 2<extra></extra>",
         "marker": {
          "color": "rgba(218, 165, 32, 0.7)",
          "line": {
           "color": "white",
           "width": 1.5
          },
          "size": 10
         },
         "mode": "markers",
         "name": "Shortest",
         "showlegend": false,
         "type": "scatter",
         "x": [
          2
         ],
         "y": [
          6
         ]
        },
        {
         "hovertemplate": "<b>Shortest Path Length:</b> 2<extra></extra>",
         "marker": {
          "color": "rgba(218, 165, 32, 0.7)",
          "line": {
           "color": "white",
           "width": 1.5
          },
          "size": 10
         },
         "mode": "markers",
         "name": "Shortest",
         "showlegend": false,
         "type": "scatter",
         "x": [
          2
         ],
         "y": [
          7
         ]
        },
        {
         "hovertemplate": "<b>Shortest Path Length:</b> 2<extra></extra>",
         "marker": {
          "color": "rgba(218, 165, 32, 0.7)",
          "line": {
           "color": "white",
           "width": 1.5
          },
          "size": 10
         },
         "mode": "markers",
         "name": "Shortest",
         "showlegend": false,
         "type": "scatter",
         "x": [
          2
         ],
         "y": [
          8
         ]
        },
        {
         "hovertemplate": "<b>Shortest Path Length:</b> 3<extra></extra>",
         "marker": {
          "color": "rgba(218, 165, 32, 0.7)",
          "line": {
           "color": "white",
           "width": 1.5
          },
          "size": 10
         },
         "mode": "markers",
         "name": "Shortest",
         "showlegend": false,
         "type": "scatter",
         "x": [
          3
         ],
         "y": [
          9
         ]
        },
        {
         "hovertemplate": "<b>Shortest Path Length:</b> 3<extra></extra>",
         "marker": {
          "color": "rgba(218, 165, 32, 0.7)",
          "line": {
           "color": "white",
           "width": 1.5
          },
          "size": 10
         },
         "mode": "markers",
         "name": "Shortest",
         "showlegend": false,
         "type": "scatter",
         "x": [
          3
         ],
         "y": [
          10
         ]
        },
        {
         "hovertemplate": "<b>Shortest Path Length:</b> 3<extra></extra>",
         "marker": {
          "color": "rgba(218, 165, 32, 0.7)",
          "line": {
           "color": "white",
           "width": 1.5
          },
          "size": 10
         },
         "mode": "markers",
         "name": "Shortest",
         "showlegend": false,
         "type": "scatter",
         "x": [
          3
         ],
         "y": [
          11
         ]
        },
        {
         "hovertemplate": "<b>Shortest Path Length:</b> 3<extra></extra>",
         "marker": {
          "color": "rgba(218, 165, 32, 0.7)",
          "line": {
           "color": "white",
           "width": 1.5
          },
          "size": 10
         },
         "mode": "markers",
         "name": "Shortest",
         "showlegend": false,
         "type": "scatter",
         "x": [
          3
         ],
         "y": [
          12
         ]
        },
        {
         "hovertemplate": "<b>Shortest Path Length:</b> 3<extra></extra>",
         "marker": {
          "color": "rgba(218, 165, 32, 0.7)",
          "line": {
           "color": "white",
           "width": 1.5
          },
          "size": 10
         },
         "mode": "markers",
         "name": "Shortest",
         "showlegend": false,
         "type": "scatter",
         "x": [
          3
         ],
         "y": [
          13
         ]
        },
        {
         "hovertemplate": "<b>Shortest Path Length:</b> 3<extra></extra>",
         "marker": {
          "color": "rgba(218, 165, 32, 0.7)",
          "line": {
           "color": "white",
           "width": 1.5
          },
          "size": 10
         },
         "mode": "markers",
         "name": "Shortest",
         "showlegend": false,
         "type": "scatter",
         "x": [
          3
         ],
         "y": [
          14
         ]
        },
        {
         "hovertemplate": "<b>Shortest Path Length:</b> 3<extra></extra>",
         "marker": {
          "color": "rgba(218, 165, 32, 0.7)",
          "line": {
           "color": "white",
           "width": 1.5
          },
          "size": 10
         },
         "mode": "markers",
         "name": "Shortest",
         "showlegend": false,
         "type": "scatter",
         "x": [
          3
         ],
         "y": [
          15
         ]
        },
        {
         "hovertemplate": "<b>Shortest Path Length:</b> 3<extra></extra>",
         "marker": {
          "color": "rgba(218, 165, 32, 0.7)",
          "line": {
           "color": "white",
           "width": 1.5
          },
          "size": 10
         },
         "mode": "markers",
         "name": "Shortest",
         "showlegend": false,
         "type": "scatter",
         "x": [
          3
         ],
         "y": [
          16
         ]
        },
        {
         "hovertemplate": "<b>Shortest Path Length:</b> 3<extra></extra>",
         "marker": {
          "color": "rgba(218, 165, 32, 0.7)",
          "line": {
           "color": "white",
           "width": 1.5
          },
          "size": 10
         },
         "mode": "markers",
         "name": "Shortest",
         "showlegend": false,
         "type": "scatter",
         "x": [
          3
         ],
         "y": [
          17
         ]
        },
        {
         "hovertemplate": "<b>Shortest Path Length:</b> 3<extra></extra>",
         "marker": {
          "color": "rgba(218, 165, 32, 0.7)",
          "line": {
           "color": "white",
           "width": 1.5
          },
          "size": 10
         },
         "mode": "markers",
         "name": "Shortest",
         "showlegend": false,
         "type": "scatter",
         "x": [
          3
         ],
         "y": [
          18
         ]
        },
        {
         "hovertemplate": "<b>Shortest Path Length:</b> 3<extra></extra>",
         "marker": {
          "color": "rgba(218, 165, 32, 0.7)",
          "line": {
           "color": "white",
           "width": 1.5
          },
          "size": 10
         },
         "mode": "markers",
         "name": "Shortest",
         "showlegend": false,
         "type": "scatter",
         "x": [
          3
         ],
         "y": [
          19
         ]
        },
        {
         "hovertemplate": "<b>Shortest Path Length:</b> 4<extra></extra>",
         "marker": {
          "color": "rgba(218, 165, 32, 0.7)",
          "line": {
           "color": "white",
           "width": 1.5
          },
          "size": 10
         },
         "mode": "markers",
         "name": "Shortest",
         "showlegend": false,
         "type": "scatter",
         "x": [
          4
         ],
         "y": [
          20
         ]
        },
        {
         "hovertemplate": "<b>Shortest Path Length:</b> 3<extra></extra>",
         "marker": {
          "color": "rgba(218, 165, 32, 0.7)",
          "line": {
           "color": "white",
           "width": 1.5
          },
          "size": 10
         },
         "mode": "markers",
         "name": "Shortest",
         "showlegend": false,
         "type": "scatter",
         "x": [
          3
         ],
         "y": [
          21
         ]
        },
        {
         "hovertemplate": "<b>Shortest Path Length:</b> 3<extra></extra>",
         "marker": {
          "color": "rgba(218, 165, 32, 0.7)",
          "line": {
           "color": "white",
           "width": 1.5
          },
          "size": 10
         },
         "mode": "markers",
         "name": "Shortest",
         "showlegend": false,
         "type": "scatter",
         "x": [
          3
         ],
         "y": [
          22
         ]
        },
        {
         "hovertemplate": "<b>Shortest Path Length:</b> 3<extra></extra>",
         "marker": {
          "color": "rgba(218, 165, 32, 0.7)",
          "line": {
           "color": "white",
           "width": 1.5
          },
          "size": 10
         },
         "mode": "markers",
         "name": "Shortest",
         "showlegend": false,
         "type": "scatter",
         "x": [
          3
         ],
         "y": [
          23
         ]
        },
        {
         "hovertemplate": "<b>Shortest Path Length:</b> 4<extra></extra>",
         "marker": {
          "color": "rgba(218, 165, 32, 0.7)",
          "line": {
           "color": "white",
           "width": 1.5
          },
          "size": 10
         },
         "mode": "markers",
         "name": "Shortest",
         "showlegend": false,
         "type": "scatter",
         "x": [
          4
         ],
         "y": [
          24
         ]
        },
        {
         "hovertemplate": "<b>Shortest Path Length:</b> 4<extra></extra>",
         "marker": {
          "color": "rgba(218, 165, 32, 0.7)",
          "line": {
           "color": "white",
           "width": 1.5
          },
          "size": 10
         },
         "mode": "markers",
         "name": "Shortest",
         "showlegend": false,
         "type": "scatter",
         "x": [
          4
         ],
         "y": [
          25
         ]
        },
        {
         "hovertemplate": "<b>Shortest Path Length:</b> 4<extra></extra>",
         "marker": {
          "color": "rgba(218, 165, 32, 0.7)",
          "line": {
           "color": "white",
           "width": 1.5
          },
          "size": 10
         },
         "mode": "markers",
         "name": "Shortest",
         "showlegend": false,
         "type": "scatter",
         "x": [
          4
         ],
         "y": [
          26
         ]
        },
        {
         "hovertemplate": "<b>Shortest Path Length:</b> 3<extra></extra>",
         "marker": {
          "color": "rgba(218, 165, 32, 0.7)",
          "line": {
           "color": "white",
           "width": 1.5
          },
          "size": 10
         },
         "mode": "markers",
         "name": "Shortest",
         "showlegend": false,
         "type": "scatter",
         "x": [
          3
         ],
         "y": [
          27
         ]
        },
        {
         "hovertemplate": "<b>Shortest Path Length:</b> 3<extra></extra>",
         "marker": {
          "color": "rgba(218, 165, 32, 0.7)",
          "line": {
           "color": "white",
           "width": 1.5
          },
          "size": 10
         },
         "mode": "markers",
         "name": "Shortest",
         "showlegend": false,
         "type": "scatter",
         "x": [
          3
         ],
         "y": [
          28
         ]
        },
        {
         "hovertemplate": "<b>Shortest Path Length:</b> 3<extra></extra>",
         "marker": {
          "color": "rgba(218, 165, 32, 0.7)",
          "line": {
           "color": "white",
           "width": 1.5
          },
          "size": 10
         },
         "mode": "markers",
         "name": "Shortest",
         "showlegend": false,
         "type": "scatter",
         "x": [
          3
         ],
         "y": [
          29
         ]
        },
        {
         "hovertemplate": "<b>Shortest Path Length:</b> 3<extra></extra>",
         "marker": {
          "color": "rgba(218, 165, 32, 0.7)",
          "line": {
           "color": "white",
           "width": 1.5
          },
          "size": 10
         },
         "mode": "markers",
         "name": "Shortest",
         "showlegend": false,
         "type": "scatter",
         "x": [
          3
         ],
         "y": [
          30
         ]
        },
        {
         "hovertemplate": "<b>Shortest Path Length:</b> 3<extra></extra>",
         "marker": {
          "color": "rgba(218, 165, 32, 0.7)",
          "line": {
           "color": "white",
           "width": 1.5
          },
          "size": 10
         },
         "mode": "markers",
         "name": "Shortest",
         "showlegend": false,
         "type": "scatter",
         "x": [
          3
         ],
         "y": [
          31
         ]
        },
        {
         "hovertemplate": "<b>Shortest Path Length:</b> 4<extra></extra>",
         "marker": {
          "color": "rgba(218, 165, 32, 0.7)",
          "line": {
           "color": "white",
           "width": 1.5
          },
          "size": 10
         },
         "mode": "markers",
         "name": "Shortest",
         "showlegend": false,
         "type": "scatter",
         "x": [
          4
         ],
         "y": [
          32
         ]
        },
        {
         "hovertemplate": "<b>Shortest Path Length:</b> 3<extra></extra>",
         "marker": {
          "color": "rgba(218, 165, 32, 0.7)",
          "line": {
           "color": "white",
           "width": 1.5
          },
          "size": 10
         },
         "mode": "markers",
         "name": "Shortest",
         "showlegend": false,
         "type": "scatter",
         "x": [
          3
         ],
         "y": [
          33
         ]
        },
        {
         "hovertemplate": "<b>Shortest Path Length:</b> 4<extra></extra>",
         "marker": {
          "color": "rgba(218, 165, 32, 0.7)",
          "line": {
           "color": "white",
           "width": 1.5
          },
          "size": 10
         },
         "mode": "markers",
         "name": "Shortest",
         "showlegend": false,
         "type": "scatter",
         "x": [
          4
         ],
         "y": [
          34
         ]
        },
        {
         "hovertemplate": "<b>Shortest Path Length:</b> 3<extra></extra>",
         "marker": {
          "color": "rgba(218, 165, 32, 0.7)",
          "line": {
           "color": "white",
           "width": 1.5
          },
          "size": 10
         },
         "mode": "markers",
         "name": "Shortest",
         "showlegend": false,
         "type": "scatter",
         "x": [
          3
         ],
         "y": [
          35
         ]
        },
        {
         "hovertemplate": "<b>Shortest Path Length:</b> 3<extra></extra>",
         "marker": {
          "color": "rgba(218, 165, 32, 0.7)",
          "line": {
           "color": "white",
           "width": 1.5
          },
          "size": 10
         },
         "mode": "markers",
         "name": "Shortest",
         "showlegend": false,
         "type": "scatter",
         "x": [
          3
         ],
         "y": [
          36
         ]
        },
        {
         "hovertemplate": "<b>Shortest Path Length:</b> 4<extra></extra>",
         "marker": {
          "color": "rgba(218, 165, 32, 0.7)",
          "line": {
           "color": "white",
           "width": 1.5
          },
          "size": 10
         },
         "mode": "markers",
         "name": "Shortest",
         "showlegend": false,
         "type": "scatter",
         "x": [
          4
         ],
         "y": [
          37
         ]
        },
        {
         "hovertemplate": "<b>Shortest Path Length:</b> 3<extra></extra>",
         "marker": {
          "color": "rgba(218, 165, 32, 0.7)",
          "line": {
           "color": "white",
           "width": 1.5
          },
          "size": 10
         },
         "mode": "markers",
         "name": "Shortest",
         "showlegend": false,
         "type": "scatter",
         "x": [
          3
         ],
         "y": [
          38
         ]
        },
        {
         "hovertemplate": "<b>Shortest Path Length:</b> 4<extra></extra>",
         "marker": {
          "color": "rgba(218, 165, 32, 0.7)",
          "line": {
           "color": "white",
           "width": 1.5
          },
          "size": 10
         },
         "mode": "markers",
         "name": "Shortest",
         "showlegend": false,
         "type": "scatter",
         "x": [
          4
         ],
         "y": [
          39
         ]
        },
        {
         "hovertemplate": "<b>Shortest Path Length:</b> 3<extra></extra>",
         "marker": {
          "color": "rgba(218, 165, 32, 0.7)",
          "line": {
           "color": "white",
           "width": 1.5
          },
          "size": 10
         },
         "mode": "markers",
         "name": "Shortest",
         "showlegend": false,
         "type": "scatter",
         "x": [
          3
         ],
         "y": [
          40
         ]
        },
        {
         "hovertemplate": "<b>Mean Path Length:</b> 2.0<extra></extra>",
         "marker": {
          "color": "rgba(0, 191, 255, 0.7)",
          "line": {
           "color": "white",
           "width": 1.5
          },
          "size": 10
         },
         "mode": "markers",
         "name": "Before Tuning",
         "showlegend": true,
         "type": "scatter",
         "x": [
          2
         ],
         "y": [
          0.15
         ]
        },
        {
         "hovertemplate": "<b>Mean Path Length:</b> 2.0<extra></extra>",
         "marker": {
          "color": "rgba(0, 191, 255, 0.7)",
          "line": {
           "color": "white",
           "width": 1.5
          },
          "size": 10
         },
         "mode": "markers",
         "name": "Before Tuning",
         "showlegend": false,
         "type": "scatter",
         "x": [
          2
         ],
         "y": [
          1.15
         ]
        },
        {
         "hovertemplate": "<b>Mean Path Length:</b> 2.0<extra></extra>",
         "marker": {
          "color": "rgba(0, 191, 255, 0.7)",
          "line": {
           "color": "white",
           "width": 1.5
          },
          "size": 10
         },
         "mode": "markers",
         "name": "Before Tuning",
         "showlegend": false,
         "type": "scatter",
         "x": [
          2
         ],
         "y": [
          2.15
         ]
        },
        {
         "hovertemplate": "<b>Mean Path Length:</b> 2.0<extra></extra>",
         "marker": {
          "color": "rgba(0, 191, 255, 0.7)",
          "line": {
           "color": "white",
           "width": 1.5
          },
          "size": 10
         },
         "mode": "markers",
         "name": "Before Tuning",
         "showlegend": false,
         "type": "scatter",
         "x": [
          2
         ],
         "y": [
          3.15
         ]
        },
        {
         "hovertemplate": "<b>Mean Path Length:</b> 2.0<extra></extra>",
         "marker": {
          "color": "rgba(0, 191, 255, 0.7)",
          "line": {
           "color": "white",
           "width": 1.5
          },
          "size": 10
         },
         "mode": "markers",
         "name": "Before Tuning",
         "showlegend": false,
         "type": "scatter",
         "x": [
          2
         ],
         "y": [
          4.15
         ]
        },
        {
         "hovertemplate": "<b>Mean Path Length:</b> 2.0<extra></extra>",
         "marker": {
          "color": "rgba(0, 191, 255, 0.7)",
          "line": {
           "color": "white",
           "width": 1.5
          },
          "size": 10
         },
         "mode": "markers",
         "name": "Before Tuning",
         "showlegend": false,
         "type": "scatter",
         "x": [
          2
         ],
         "y": [
          5.15
         ]
        },
        {
         "hovertemplate": "<b>Mean Path Length:</b> 2.0<extra></extra>",
         "marker": {
          "color": "rgba(0, 191, 255, 0.7)",
          "line": {
           "color": "white",
           "width": 1.5
          },
          "size": 10
         },
         "mode": "markers",
         "name": "Before Tuning",
         "showlegend": false,
         "type": "scatter",
         "x": [
          2
         ],
         "y": [
          6.15
         ]
        },
        {
         "hovertemplate": "<b>Mean Path Length:</b> 2.0<extra></extra>",
         "marker": {
          "color": "rgba(0, 191, 255, 0.7)",
          "line": {
           "color": "white",
           "width": 1.5
          },
          "size": 10
         },
         "mode": "markers",
         "name": "Before Tuning",
         "showlegend": false,
         "type": "scatter",
         "x": [
          2
         ],
         "y": [
          7.15
         ]
        },
        {
         "hovertemplate": "<b>Mean Path Length:</b> 2.0<extra></extra>",
         "marker": {
          "color": "rgba(0, 191, 255, 0.7)",
          "line": {
           "color": "white",
           "width": 1.5
          },
          "size": 10
         },
         "mode": "markers",
         "name": "Before Tuning",
         "showlegend": false,
         "type": "scatter",
         "x": [
          2
         ],
         "y": [
          8.15
         ]
        },
        {
         "hovertemplate": "<b>Mean Path Length:</b> 3.0<extra></extra>",
         "marker": {
          "color": "rgba(0, 191, 255, 0.7)",
          "line": {
           "color": "white",
           "width": 1.5
          },
          "size": 10
         },
         "mode": "markers",
         "name": "Before Tuning",
         "showlegend": false,
         "type": "scatter",
         "x": [
          3
         ],
         "y": [
          9.15
         ]
        },
        {
         "hovertemplate": "<b>Mean Path Length:</b> 3.0<extra></extra>",
         "marker": {
          "color": "rgba(0, 191, 255, 0.7)",
          "line": {
           "color": "white",
           "width": 1.5
          },
          "size": 10
         },
         "mode": "markers",
         "name": "Before Tuning",
         "showlegend": false,
         "type": "scatter",
         "x": [
          3
         ],
         "y": [
          10.15
         ]
        },
        {
         "hovertemplate": "<b>Mean Path Length:</b> 3.0<extra></extra>",
         "marker": {
          "color": "rgba(0, 191, 255, 0.7)",
          "line": {
           "color": "white",
           "width": 1.5
          },
          "size": 10
         },
         "mode": "markers",
         "name": "Before Tuning",
         "showlegend": false,
         "type": "scatter",
         "x": [
          3
         ],
         "y": [
          11.15
         ]
        },
        {
         "hovertemplate": "<b>Mean Path Length:</b> 3.0<extra></extra>",
         "marker": {
          "color": "rgba(0, 191, 255, 0.7)",
          "line": {
           "color": "white",
           "width": 1.5
          },
          "size": 10
         },
         "mode": "markers",
         "name": "Before Tuning",
         "showlegend": false,
         "type": "scatter",
         "x": [
          3
         ],
         "y": [
          12.15
         ]
        },
        {
         "hovertemplate": "<b>Mean Path Length:</b> 3.0<extra></extra>",
         "marker": {
          "color": "rgba(0, 191, 255, 0.7)",
          "line": {
           "color": "white",
           "width": 1.5
          },
          "size": 10
         },
         "mode": "markers",
         "name": "Before Tuning",
         "showlegend": false,
         "type": "scatter",
         "x": [
          3
         ],
         "y": [
          13.15
         ]
        },
        {
         "hovertemplate": "<b>Mean Path Length:</b> 3.0<extra></extra>",
         "marker": {
          "color": "rgba(0, 191, 255, 0.7)",
          "line": {
           "color": "white",
           "width": 1.5
          },
          "size": 10
         },
         "mode": "markers",
         "name": "Before Tuning",
         "showlegend": false,
         "type": "scatter",
         "x": [
          3
         ],
         "y": [
          14.15
         ]
        },
        {
         "hovertemplate": "<b>Mean Path Length:</b> 3.0<extra></extra>",
         "marker": {
          "color": "rgba(0, 191, 255, 0.7)",
          "line": {
           "color": "white",
           "width": 1.5
          },
          "size": 10
         },
         "mode": "markers",
         "name": "Before Tuning",
         "showlegend": false,
         "type": "scatter",
         "x": [
          3
         ],
         "y": [
          15.15
         ]
        },
        {
         "hovertemplate": "<b>Mean Path Length:</b> 3.0<extra></extra>",
         "marker": {
          "color": "rgba(0, 191, 255, 0.7)",
          "line": {
           "color": "white",
           "width": 1.5
          },
          "size": 10
         },
         "mode": "markers",
         "name": "Before Tuning",
         "showlegend": false,
         "type": "scatter",
         "x": [
          3
         ],
         "y": [
          16.15
         ]
        },
        {
         "hovertemplate": "<b>Mean Path Length:</b> 3.0<extra></extra>",
         "marker": {
          "color": "rgba(0, 191, 255, 0.7)",
          "line": {
           "color": "white",
           "width": 1.5
          },
          "size": 10
         },
         "mode": "markers",
         "name": "Before Tuning",
         "showlegend": false,
         "type": "scatter",
         "x": [
          3
         ],
         "y": [
          17.15
         ]
        },
        {
         "hovertemplate": "<b>Mean Path Length:</b> 4.0<extra></extra>",
         "marker": {
          "color": "rgba(0, 191, 255, 0.7)",
          "line": {
           "color": "white",
           "width": 1.5
          },
          "size": 10
         },
         "mode": "markers",
         "name": "Before Tuning",
         "showlegend": false,
         "type": "scatter",
         "x": [
          4
         ],
         "y": [
          18.15
         ]
        },
        {
         "hovertemplate": "<b>Mean Path Length:</b> 4.0<extra></extra>",
         "marker": {
          "color": "rgba(0, 191, 255, 0.7)",
          "line": {
           "color": "white",
           "width": 1.5
          },
          "size": 10
         },
         "mode": "markers",
         "name": "Before Tuning",
         "showlegend": false,
         "type": "scatter",
         "x": [
          4
         ],
         "y": [
          19.15
         ]
        },
        {
         "hovertemplate": "<b>Mean Path Length:</b> 4.0<extra></extra>",
         "marker": {
          "color": "rgba(0, 191, 255, 0.7)",
          "line": {
           "color": "white",
           "width": 1.5
          },
          "size": 10
         },
         "mode": "markers",
         "name": "Before Tuning",
         "showlegend": false,
         "type": "scatter",
         "x": [
          4
         ],
         "y": [
          20.15
         ]
        },
        {
         "hovertemplate": "<b>Mean Path Length:</b> 4.0<extra></extra>",
         "marker": {
          "color": "rgba(0, 191, 255, 0.7)",
          "line": {
           "color": "white",
           "width": 1.5
          },
          "size": 10
         },
         "mode": "markers",
         "name": "Before Tuning",
         "showlegend": false,
         "type": "scatter",
         "x": [
          4
         ],
         "y": [
          21.15
         ]
        },
        {
         "hovertemplate": "<b>Mean Path Length:</b> 4.0<extra></extra>",
         "marker": {
          "color": "rgba(0, 191, 255, 0.7)",
          "line": {
           "color": "white",
           "width": 1.5
          },
          "size": 10
         },
         "mode": "markers",
         "name": "Before Tuning",
         "showlegend": false,
         "type": "scatter",
         "x": [
          4
         ],
         "y": [
          22.15
         ]
        },
        {
         "hovertemplate": "<b>Mean Path Length:</b> 4.0<extra></extra>",
         "marker": {
          "color": "rgba(0, 191, 255, 0.7)",
          "line": {
           "color": "white",
           "width": 1.5
          },
          "size": 10
         },
         "mode": "markers",
         "name": "Before Tuning",
         "showlegend": false,
         "type": "scatter",
         "x": [
          4
         ],
         "y": [
          23.15
         ]
        },
        {
         "hovertemplate": "<b>Mean Path Length:</b> 4.0<extra></extra>",
         "marker": {
          "color": "rgba(0, 191, 255, 0.7)",
          "line": {
           "color": "white",
           "width": 1.5
          },
          "size": 10
         },
         "mode": "markers",
         "name": "Before Tuning",
         "showlegend": false,
         "type": "scatter",
         "x": [
          4
         ],
         "y": [
          24.15
         ]
        },
        {
         "hovertemplate": "<b>Mean Path Length:</b> 4.0<extra></extra>",
         "marker": {
          "color": "rgba(0, 191, 255, 0.7)",
          "line": {
           "color": "white",
           "width": 1.5
          },
          "size": 10
         },
         "mode": "markers",
         "name": "Before Tuning",
         "showlegend": false,
         "type": "scatter",
         "x": [
          4
         ],
         "y": [
          25.15
         ]
        },
        {
         "hovertemplate": "<b>Mean Path Length:</b> 4.0<extra></extra>",
         "marker": {
          "color": "rgba(0, 191, 255, 0.7)",
          "line": {
           "color": "white",
           "width": 1.5
          },
          "size": 10
         },
         "mode": "markers",
         "name": "Before Tuning",
         "showlegend": false,
         "type": "scatter",
         "x": [
          4
         ],
         "y": [
          26.15
         ]
        },
        {
         "hovertemplate": "<b>Mean Path Length:</b> 4.0<extra></extra>",
         "marker": {
          "color": "rgba(0, 191, 255, 0.7)",
          "line": {
           "color": "white",
           "width": 1.5
          },
          "size": 10
         },
         "mode": "markers",
         "name": "Before Tuning",
         "showlegend": false,
         "type": "scatter",
         "x": [
          4
         ],
         "y": [
          27.15
         ]
        },
        {
         "hovertemplate": "<b>Mean Path Length:</b> 4.0<extra></extra>",
         "marker": {
          "color": "rgba(0, 191, 255, 0.7)",
          "line": {
           "color": "white",
           "width": 1.5
          },
          "size": 10
         },
         "mode": "markers",
         "name": "Before Tuning",
         "showlegend": false,
         "type": "scatter",
         "x": [
          4
         ],
         "y": [
          28.15
         ]
        },
        {
         "hovertemplate": "<b>Mean Path Length:</b> 4.0<extra></extra>",
         "marker": {
          "color": "rgba(0, 191, 255, 0.7)",
          "line": {
           "color": "white",
           "width": 1.5
          },
          "size": 10
         },
         "mode": "markers",
         "name": "Before Tuning",
         "showlegend": false,
         "type": "scatter",
         "x": [
          4
         ],
         "y": [
          29.15
         ]
        },
        {
         "hovertemplate": "<b>Mean Path Length:</b> 4.0<extra></extra>",
         "marker": {
          "color": "rgba(0, 191, 255, 0.7)",
          "line": {
           "color": "white",
           "width": 1.5
          },
          "size": 10
         },
         "mode": "markers",
         "name": "Before Tuning",
         "showlegend": false,
         "type": "scatter",
         "x": [
          4
         ],
         "y": [
          30.15
         ]
        },
        {
         "hovertemplate": "<b>Mean Path Length:</b> 4.0<extra></extra>",
         "marker": {
          "color": "rgba(0, 191, 255, 0.7)",
          "line": {
           "color": "white",
           "width": 1.5
          },
          "size": 10
         },
         "mode": "markers",
         "name": "Before Tuning",
         "showlegend": false,
         "type": "scatter",
         "x": [
          4
         ],
         "y": [
          31.15
         ]
        },
        {
         "hovertemplate": "<b>Mean Path Length:</b> 4.0<extra></extra>",
         "marker": {
          "color": "rgba(0, 191, 255, 0.7)",
          "line": {
           "color": "white",
           "width": 1.5
          },
          "size": 10
         },
         "mode": "markers",
         "name": "Before Tuning",
         "showlegend": false,
         "type": "scatter",
         "x": [
          4
         ],
         "y": [
          32.15
         ]
        },
        {
         "hovertemplate": "<b>Mean Path Length:</b> 4.0<extra></extra>",
         "marker": {
          "color": "rgba(0, 191, 255, 0.7)",
          "line": {
           "color": "white",
           "width": 1.5
          },
          "size": 10
         },
         "mode": "markers",
         "name": "Before Tuning",
         "showlegend": false,
         "type": "scatter",
         "x": [
          4
         ],
         "y": [
          33.15
         ]
        },
        {
         "hovertemplate": "<b>Mean Path Length:</b> 4.0<extra></extra>",
         "marker": {
          "color": "rgba(0, 191, 255, 0.7)",
          "line": {
           "color": "white",
           "width": 1.5
          },
          "size": 10
         },
         "mode": "markers",
         "name": "Before Tuning",
         "showlegend": false,
         "type": "scatter",
         "x": [
          4
         ],
         "y": [
          34.15
         ]
        },
        {
         "hovertemplate": "<b>Mean Path Length:</b> 4.0<extra></extra>",
         "marker": {
          "color": "rgba(0, 191, 255, 0.7)",
          "line": {
           "color": "white",
           "width": 1.5
          },
          "size": 10
         },
         "mode": "markers",
         "name": "Before Tuning",
         "showlegend": false,
         "type": "scatter",
         "x": [
          4
         ],
         "y": [
          35.15
         ]
        },
        {
         "hovertemplate": "<b>Mean Path Length:</b> 4.0<extra></extra>",
         "marker": {
          "color": "rgba(0, 191, 255, 0.7)",
          "line": {
           "color": "white",
           "width": 1.5
          },
          "size": 10
         },
         "mode": "markers",
         "name": "Before Tuning",
         "showlegend": false,
         "type": "scatter",
         "x": [
          4
         ],
         "y": [
          36.15
         ]
        },
        {
         "hovertemplate": "<b>Mean Path Length:</b> 4.0<extra></extra>",
         "marker": {
          "color": "rgba(0, 191, 255, 0.7)",
          "line": {
           "color": "white",
           "width": 1.5
          },
          "size": 10
         },
         "mode": "markers",
         "name": "Before Tuning",
         "showlegend": false,
         "type": "scatter",
         "x": [
          4
         ],
         "y": [
          37.15
         ]
        },
        {
         "hovertemplate": "<b>Mean Path Length:</b> 4.0<extra></extra>",
         "marker": {
          "color": "rgba(0, 191, 255, 0.7)",
          "line": {
           "color": "white",
           "width": 1.5
          },
          "size": 10
         },
         "mode": "markers",
         "name": "Before Tuning",
         "showlegend": false,
         "type": "scatter",
         "x": [
          4
         ],
         "y": [
          38.15
         ]
        },
        {
         "hovertemplate": "<b>Mean Path Length:</b> 4.0<extra></extra>",
         "marker": {
          "color": "rgba(0, 191, 255, 0.7)",
          "line": {
           "color": "white",
           "width": 1.5
          },
          "size": 10
         },
         "mode": "markers",
         "name": "Before Tuning",
         "showlegend": false,
         "type": "scatter",
         "x": [
          4
         ],
         "y": [
          39.15
         ]
        },
        {
         "hovertemplate": "<b>Mean Path Length:</b> 4.0<extra></extra>",
         "marker": {
          "color": "rgba(0, 191, 255, 0.7)",
          "line": {
           "color": "white",
           "width": 1.5
          },
          "size": 10
         },
         "mode": "markers",
         "name": "Before Tuning",
         "showlegend": false,
         "type": "scatter",
         "x": [
          4
         ],
         "y": [
          40.15
         ]
        },
        {
         "hovertemplate": "<b>Mean Path Length:</b> 2.0<extra></extra>",
         "marker": {
          "color": "rgba(255, 127, 80, 0.7)",
          "line": {
           "color": "white",
           "width": 1.5
          },
          "size": 10
         },
         "mode": "markers",
         "name": "After 4o Tuning",
         "showlegend": true,
         "type": "scatter",
         "x": [
          2
         ],
         "y": [
          0
         ]
        },
        {
         "hovertemplate": "<b>Mean Path Length:</b> 2.0<extra></extra>",
         "marker": {
          "color": "rgba(255, 127, 80, 0.7)",
          "line": {
           "color": "white",
           "width": 1.5
          },
          "size": 10
         },
         "mode": "markers",
         "name": "After 4o Tuning",
         "showlegend": false,
         "type": "scatter",
         "x": [
          2
         ],
         "y": [
          1
         ]
        },
        {
         "hovertemplate": "<b>Mean Path Length:</b> 2.0<extra></extra>",
         "marker": {
          "color": "rgba(255, 127, 80, 0.7)",
          "line": {
           "color": "white",
           "width": 1.5
          },
          "size": 10
         },
         "mode": "markers",
         "name": "After 4o Tuning",
         "showlegend": false,
         "type": "scatter",
         "x": [
          2
         ],
         "y": [
          2
         ]
        },
        {
         "hovertemplate": "<b>Mean Path Length:</b> 2.0<extra></extra>",
         "marker": {
          "color": "rgba(255, 127, 80, 0.7)",
          "line": {
           "color": "white",
           "width": 1.5
          },
          "size": 10
         },
         "mode": "markers",
         "name": "After 4o Tuning",
         "showlegend": false,
         "type": "scatter",
         "x": [
          2
         ],
         "y": [
          3
         ]
        },
        {
         "hovertemplate": "<b>Mean Path Length:</b> 2.0<extra></extra>",
         "marker": {
          "color": "rgba(255, 127, 80, 0.7)",
          "line": {
           "color": "white",
           "width": 1.5
          },
          "size": 10
         },
         "mode": "markers",
         "name": "After 4o Tuning",
         "showlegend": false,
         "type": "scatter",
         "x": [
          2
         ],
         "y": [
          4
         ]
        },
        {
         "hovertemplate": "<b>Mean Path Length:</b> 2.0<extra></extra>",
         "marker": {
          "color": "rgba(255, 127, 80, 0.7)",
          "line": {
           "color": "white",
           "width": 1.5
          },
          "size": 10
         },
         "mode": "markers",
         "name": "After 4o Tuning",
         "showlegend": false,
         "type": "scatter",
         "x": [
          2
         ],
         "y": [
          5
         ]
        },
        {
         "hovertemplate": "<b>Mean Path Length:</b> 2.0<extra></extra>",
         "marker": {
          "color": "rgba(255, 127, 80, 0.7)",
          "line": {
           "color": "white",
           "width": 1.5
          },
          "size": 10
         },
         "mode": "markers",
         "name": "After 4o Tuning",
         "showlegend": false,
         "type": "scatter",
         "x": [
          2
         ],
         "y": [
          6
         ]
        },
        {
         "hovertemplate": "<b>Mean Path Length:</b> 2.0<extra></extra>",
         "marker": {
          "color": "rgba(255, 127, 80, 0.7)",
          "line": {
           "color": "white",
           "width": 1.5
          },
          "size": 10
         },
         "mode": "markers",
         "name": "After 4o Tuning",
         "showlegend": false,
         "type": "scatter",
         "x": [
          2
         ],
         "y": [
          7
         ]
        },
        {
         "hovertemplate": "<b>Mean Path Length:</b> 2.0<extra></extra>",
         "marker": {
          "color": "rgba(255, 127, 80, 0.7)",
          "line": {
           "color": "white",
           "width": 1.5
          },
          "size": 10
         },
         "mode": "markers",
         "name": "After 4o Tuning",
         "showlegend": false,
         "type": "scatter",
         "x": [
          2
         ],
         "y": [
          8
         ]
        },
        {
         "hovertemplate": "<b>Mean Path Length:</b> 3.0<extra></extra>",
         "marker": {
          "color": "rgba(255, 127, 80, 0.7)",
          "line": {
           "color": "white",
           "width": 1.5
          },
          "size": 10
         },
         "mode": "markers",
         "name": "After 4o Tuning",
         "showlegend": false,
         "type": "scatter",
         "x": [
          3
         ],
         "y": [
          9
         ]
        },
        {
         "hovertemplate": "<b>Mean Path Length:</b> 3.0<extra></extra>",
         "marker": {
          "color": "rgba(255, 127, 80, 0.7)",
          "line": {
           "color": "white",
           "width": 1.5
          },
          "size": 10
         },
         "mode": "markers",
         "name": "After 4o Tuning",
         "showlegend": false,
         "type": "scatter",
         "x": [
          3
         ],
         "y": [
          10
         ]
        },
        {
         "hovertemplate": "<b>Mean Path Length:</b> 5.0<extra></extra>",
         "marker": {
          "color": "rgba(255, 127, 80, 0.7)",
          "line": {
           "color": "white",
           "width": 1.5
          },
          "size": 10
         },
         "mode": "markers",
         "name": "After 4o Tuning",
         "showlegend": false,
         "type": "scatter",
         "x": [
          5
         ],
         "y": [
          11
         ]
        },
        {
         "hovertemplate": "<b>Mean Path Length:</b> 4.0<extra></extra>",
         "marker": {
          "color": "rgba(255, 127, 80, 0.7)",
          "line": {
           "color": "white",
           "width": 1.5
          },
          "size": 10
         },
         "mode": "markers",
         "name": "After 4o Tuning",
         "showlegend": false,
         "type": "scatter",
         "x": [
          4
         ],
         "y": [
          12
         ]
        },
        {
         "hovertemplate": "<b>Mean Path Length:</b> 3.0<extra></extra>",
         "marker": {
          "color": "rgba(255, 127, 80, 0.7)",
          "line": {
           "color": "white",
           "width": 1.5
          },
          "size": 10
         },
         "mode": "markers",
         "name": "After 4o Tuning",
         "showlegend": false,
         "type": "scatter",
         "x": [
          3
         ],
         "y": [
          13
         ]
        },
        {
         "hovertemplate": "<b>Mean Path Length:</b> 3.0<extra></extra>",
         "marker": {
          "color": "rgba(255, 127, 80, 0.7)",
          "line": {
           "color": "white",
           "width": 1.5
          },
          "size": 10
         },
         "mode": "markers",
         "name": "After 4o Tuning",
         "showlegend": false,
         "type": "scatter",
         "x": [
          3
         ],
         "y": [
          14
         ]
        },
        {
         "hovertemplate": "<b>Mean Path Length:</b> 3.0<extra></extra>",
         "marker": {
          "color": "rgba(255, 127, 80, 0.7)",
          "line": {
           "color": "white",
           "width": 1.5
          },
          "size": 10
         },
         "mode": "markers",
         "name": "After 4o Tuning",
         "showlegend": false,
         "type": "scatter",
         "x": [
          3
         ],
         "y": [
          15
         ]
        },
        {
         "hovertemplate": "<b>Mean Path Length:</b> 3.0<extra></extra>",
         "marker": {
          "color": "rgba(255, 127, 80, 0.7)",
          "line": {
           "color": "white",
           "width": 1.5
          },
          "size": 10
         },
         "mode": "markers",
         "name": "After 4o Tuning",
         "showlegend": false,
         "type": "scatter",
         "x": [
          3
         ],
         "y": [
          16
         ]
        },
        {
         "hovertemplate": "<b>Mean Path Length:</b> 3.0<extra></extra>",
         "marker": {
          "color": "rgba(255, 127, 80, 0.7)",
          "line": {
           "color": "white",
           "width": 1.5
          },
          "size": 10
         },
         "mode": "markers",
         "name": "After 4o Tuning",
         "showlegend": false,
         "type": "scatter",
         "x": [
          3
         ],
         "y": [
          17
         ]
        },
        {
         "hovertemplate": "<b>Mean Path Length:</b> 15.0<extra></extra>",
         "marker": {
          "color": "rgba(255, 127, 80, 0.7)",
          "line": {
           "color": "white",
           "width": 1.5
          },
          "size": 10
         },
         "mode": "markers",
         "name": "After 4o Tuning",
         "showlegend": false,
         "type": "scatter",
         "x": [
          15
         ],
         "y": [
          18
         ]
        },
        {
         "hovertemplate": "<b>Mean Path Length:</b> 4.0<extra></extra>",
         "marker": {
          "color": "rgba(255, 127, 80, 0.7)",
          "line": {
           "color": "white",
           "width": 1.5
          },
          "size": 10
         },
         "mode": "markers",
         "name": "After 4o Tuning",
         "showlegend": false,
         "type": "scatter",
         "x": [
          4
         ],
         "y": [
          19
         ]
        },
        {
         "hovertemplate": "<b>Mean Path Length:</b> 6.0<extra></extra>",
         "marker": {
          "color": "rgba(255, 127, 80, 0.7)",
          "line": {
           "color": "white",
           "width": 1.5
          },
          "size": 10
         },
         "mode": "markers",
         "name": "After 4o Tuning",
         "showlegend": false,
         "type": "scatter",
         "x": [
          6
         ],
         "y": [
          20
         ]
        },
        {
         "hovertemplate": "<b>Mean Path Length:</b> 6.0<extra></extra>",
         "marker": {
          "color": "rgba(255, 127, 80, 0.7)",
          "line": {
           "color": "white",
           "width": 1.5
          },
          "size": 10
         },
         "mode": "markers",
         "name": "After 4o Tuning",
         "showlegend": false,
         "type": "scatter",
         "x": [
          6
         ],
         "y": [
          21
         ]
        },
        {
         "hovertemplate": "<b>Mean Path Length:</b> 5.0<extra></extra>",
         "marker": {
          "color": "rgba(255, 127, 80, 0.7)",
          "line": {
           "color": "white",
           "width": 1.5
          },
          "size": 10
         },
         "mode": "markers",
         "name": "After 4o Tuning",
         "showlegend": false,
         "type": "scatter",
         "x": [
          5
         ],
         "y": [
          22
         ]
        },
        {
         "hovertemplate": "<b>Mean Path Length:</b> 4.0<extra></extra>",
         "marker": {
          "color": "rgba(255, 127, 80, 0.7)",
          "line": {
           "color": "white",
           "width": 1.5
          },
          "size": 10
         },
         "mode": "markers",
         "name": "After 4o Tuning",
         "showlegend": false,
         "type": "scatter",
         "x": [
          4
         ],
         "y": [
          23
         ]
        },
        {
         "hovertemplate": "<b>Mean Path Length:</b> 4.0<extra></extra>",
         "marker": {
          "color": "rgba(255, 127, 80, 0.7)",
          "line": {
           "color": "white",
           "width": 1.5
          },
          "size": 10
         },
         "mode": "markers",
         "name": "After 4o Tuning",
         "showlegend": false,
         "type": "scatter",
         "x": [
          4
         ],
         "y": [
          24
         ]
        },
        {
         "hovertemplate": "<b>Mean Path Length:</b> 4.0<extra></extra>",
         "marker": {
          "color": "rgba(255, 127, 80, 0.7)",
          "line": {
           "color": "white",
           "width": 1.5
          },
          "size": 10
         },
         "mode": "markers",
         "name": "After 4o Tuning",
         "showlegend": false,
         "type": "scatter",
         "x": [
          4
         ],
         "y": [
          25
         ]
        },
        {
         "hovertemplate": "<b>Mean Path Length:</b> 4.0<extra></extra>",
         "marker": {
          "color": "rgba(255, 127, 80, 0.7)",
          "line": {
           "color": "white",
           "width": 1.5
          },
          "size": 10
         },
         "mode": "markers",
         "name": "After 4o Tuning",
         "showlegend": false,
         "type": "scatter",
         "x": [
          4
         ],
         "y": [
          26
         ]
        },
        {
         "hovertemplate": "<b>Mean Path Length:</b> 7.0<extra></extra>",
         "marker": {
          "color": "rgba(255, 127, 80, 0.7)",
          "line": {
           "color": "white",
           "width": 1.5
          },
          "size": 10
         },
         "mode": "markers",
         "name": "After 4o Tuning",
         "showlegend": false,
         "type": "scatter",
         "x": [
          7
         ],
         "y": [
          27
         ]
        },
        {
         "hovertemplate": "<b>Mean Path Length:</b> 4.0<extra></extra>",
         "marker": {
          "color": "rgba(255, 127, 80, 0.7)",
          "line": {
           "color": "white",
           "width": 1.5
          },
          "size": 10
         },
         "mode": "markers",
         "name": "After 4o Tuning",
         "showlegend": false,
         "type": "scatter",
         "x": [
          4
         ],
         "y": [
          28
         ]
        },
        {
         "hovertemplate": "<b>Mean Path Length:</b> 4.0<extra></extra>",
         "marker": {
          "color": "rgba(255, 127, 80, 0.7)",
          "line": {
           "color": "white",
           "width": 1.5
          },
          "size": 10
         },
         "mode": "markers",
         "name": "After 4o Tuning",
         "showlegend": false,
         "type": "scatter",
         "x": [
          4
         ],
         "y": [
          29
         ]
        },
        {
         "hovertemplate": "<b>Mean Path Length:</b> 5.0<extra></extra>",
         "marker": {
          "color": "rgba(255, 127, 80, 0.7)",
          "line": {
           "color": "white",
           "width": 1.5
          },
          "size": 10
         },
         "mode": "markers",
         "name": "After 4o Tuning",
         "showlegend": false,
         "type": "scatter",
         "x": [
          5
         ],
         "y": [
          30
         ]
        },
        {
         "hovertemplate": "<b>Mean Path Length:</b> 4.0<extra></extra>",
         "marker": {
          "color": "rgba(255, 127, 80, 0.7)",
          "line": {
           "color": "white",
           "width": 1.5
          },
          "size": 10
         },
         "mode": "markers",
         "name": "After 4o Tuning",
         "showlegend": false,
         "type": "scatter",
         "x": [
          4
         ],
         "y": [
          31
         ]
        },
        {
         "hovertemplate": "<b>Mean Path Length:</b> 5.0<extra></extra>",
         "marker": {
          "color": "rgba(255, 127, 80, 0.7)",
          "line": {
           "color": "white",
           "width": 1.5
          },
          "size": 10
         },
         "mode": "markers",
         "name": "After 4o Tuning",
         "showlegend": false,
         "type": "scatter",
         "x": [
          5
         ],
         "y": [
          32
         ]
        },
        {
         "hovertemplate": "<b>Mean Path Length:</b> 3.0<extra></extra>",
         "marker": {
          "color": "rgba(255, 127, 80, 0.7)",
          "line": {
           "color": "white",
           "width": 1.5
          },
          "size": 10
         },
         "mode": "markers",
         "name": "After 4o Tuning",
         "showlegend": false,
         "type": "scatter",
         "x": [
          3
         ],
         "y": [
          33
         ]
        },
        {
         "hovertemplate": "<b>Mean Path Length:</b> 4.0<extra></extra>",
         "marker": {
          "color": "rgba(255, 127, 80, 0.7)",
          "line": {
           "color": "white",
           "width": 1.5
          },
          "size": 10
         },
         "mode": "markers",
         "name": "After 4o Tuning",
         "showlegend": false,
         "type": "scatter",
         "x": [
          4
         ],
         "y": [
          34
         ]
        },
        {
         "hovertemplate": "<b>Mean Path Length:</b> 5.0<extra></extra>",
         "marker": {
          "color": "rgba(255, 127, 80, 0.7)",
          "line": {
           "color": "white",
           "width": 1.5
          },
          "size": 10
         },
         "mode": "markers",
         "name": "After 4o Tuning",
         "showlegend": false,
         "type": "scatter",
         "x": [
          5
         ],
         "y": [
          35
         ]
        },
        {
         "hovertemplate": "<b>Mean Path Length:</b> 4.0<extra></extra>",
         "marker": {
          "color": "rgba(255, 127, 80, 0.7)",
          "line": {
           "color": "white",
           "width": 1.5
          },
          "size": 10
         },
         "mode": "markers",
         "name": "After 4o Tuning",
         "showlegend": false,
         "type": "scatter",
         "x": [
          4
         ],
         "y": [
          36
         ]
        },
        {
         "hovertemplate": "<b>Mean Path Length:</b> 5.0<extra></extra>",
         "marker": {
          "color": "rgba(255, 127, 80, 0.7)",
          "line": {
           "color": "white",
           "width": 1.5
          },
          "size": 10
         },
         "mode": "markers",
         "name": "After 4o Tuning",
         "showlegend": false,
         "type": "scatter",
         "x": [
          5
         ],
         "y": [
          37
         ]
        },
        {
         "hovertemplate": "<b>Mean Path Length:</b> 4.0<extra></extra>",
         "marker": {
          "color": "rgba(255, 127, 80, 0.7)",
          "line": {
           "color": "white",
           "width": 1.5
          },
          "size": 10
         },
         "mode": "markers",
         "name": "After 4o Tuning",
         "showlegend": false,
         "type": "scatter",
         "x": [
          4
         ],
         "y": [
          38
         ]
        },
        {
         "hovertemplate": "<b>Mean Path Length:</b> 4.0<extra></extra>",
         "marker": {
          "color": "rgba(255, 127, 80, 0.7)",
          "line": {
           "color": "white",
           "width": 1.5
          },
          "size": 10
         },
         "mode": "markers",
         "name": "After 4o Tuning",
         "showlegend": false,
         "type": "scatter",
         "x": [
          4
         ],
         "y": [
          39
         ]
        },
        {
         "hovertemplate": "<b>Mean Path Length:</b> 5.0<extra></extra>",
         "marker": {
          "color": "rgba(255, 127, 80, 0.7)",
          "line": {
           "color": "white",
           "width": 1.5
          },
          "size": 10
         },
         "mode": "markers",
         "name": "After 4o Tuning",
         "showlegend": false,
         "type": "scatter",
         "x": [
          5
         ],
         "y": [
          40
         ]
        },
        {
         "hovertemplate": "<b>Mean Path Length:</b> 2.0<extra></extra>",
         "marker": {
          "color": "rgba(60, 179, 113, 0.7)",
          "line": {
           "color": "white",
           "width": 1.5
          },
          "size": 10
         },
         "mode": "markers",
         "name": "After 4o Mini Tuning",
         "showlegend": true,
         "type": "scatter",
         "x": [
          2
         ],
         "y": [
          -0.15
         ]
        },
        {
         "hovertemplate": "<b>Mean Path Length:</b> 2.0<extra></extra>",
         "marker": {
          "color": "rgba(60, 179, 113, 0.7)",
          "line": {
           "color": "white",
           "width": 1.5
          },
          "size": 10
         },
         "mode": "markers",
         "name": "After 4o Mini Tuning",
         "showlegend": false,
         "type": "scatter",
         "x": [
          2
         ],
         "y": [
          0.85
         ]
        },
        {
         "hovertemplate": "<b>Mean Path Length:</b> 3.0<extra></extra>",
         "marker": {
          "color": "rgba(60, 179, 113, 0.7)",
          "line": {
           "color": "white",
           "width": 1.5
          },
          "size": 10
         },
         "mode": "markers",
         "name": "After 4o Mini Tuning",
         "showlegend": false,
         "type": "scatter",
         "x": [
          3
         ],
         "y": [
          1.85
         ]
        },
        {
         "hovertemplate": "<b>Mean Path Length:</b> 2.0<extra></extra>",
         "marker": {
          "color": "rgba(60, 179, 113, 0.7)",
          "line": {
           "color": "white",
           "width": 1.5
          },
          "size": 10
         },
         "mode": "markers",
         "name": "After 4o Mini Tuning",
         "showlegend": false,
         "type": "scatter",
         "x": [
          2
         ],
         "y": [
          2.85
         ]
        },
        {
         "hovertemplate": "<b>Mean Path Length:</b> 2.0<extra></extra>",
         "marker": {
          "color": "rgba(60, 179, 113, 0.7)",
          "line": {
           "color": "white",
           "width": 1.5
          },
          "size": 10
         },
         "mode": "markers",
         "name": "After 4o Mini Tuning",
         "showlegend": false,
         "type": "scatter",
         "x": [
          2
         ],
         "y": [
          3.85
         ]
        },
        {
         "hovertemplate": "<b>Mean Path Length:</b> 2.0<extra></extra>",
         "marker": {
          "color": "rgba(60, 179, 113, 0.7)",
          "line": {
           "color": "white",
           "width": 1.5
          },
          "size": 10
         },
         "mode": "markers",
         "name": "After 4o Mini Tuning",
         "showlegend": false,
         "type": "scatter",
         "x": [
          2
         ],
         "y": [
          4.85
         ]
        },
        {
         "hovertemplate": "<b>Mean Path Length:</b> 2.0<extra></extra>",
         "marker": {
          "color": "rgba(60, 179, 113, 0.7)",
          "line": {
           "color": "white",
           "width": 1.5
          },
          "size": 10
         },
         "mode": "markers",
         "name": "After 4o Mini Tuning",
         "showlegend": false,
         "type": "scatter",
         "x": [
          2
         ],
         "y": [
          5.85
         ]
        },
        {
         "hovertemplate": "<b>Mean Path Length:</b> 2.0<extra></extra>",
         "marker": {
          "color": "rgba(60, 179, 113, 0.7)",
          "line": {
           "color": "white",
           "width": 1.5
          },
          "size": 10
         },
         "mode": "markers",
         "name": "After 4o Mini Tuning",
         "showlegend": false,
         "type": "scatter",
         "x": [
          2
         ],
         "y": [
          6.85
         ]
        },
        {
         "hovertemplate": "<b>Mean Path Length:</b> 2.0<extra></extra>",
         "marker": {
          "color": "rgba(60, 179, 113, 0.7)",
          "line": {
           "color": "white",
           "width": 1.5
          },
          "size": 10
         },
         "mode": "markers",
         "name": "After 4o Mini Tuning",
         "showlegend": false,
         "type": "scatter",
         "x": [
          2
         ],
         "y": [
          7.85
         ]
        },
        {
         "hovertemplate": "<b>Mean Path Length:</b> 3.0<extra></extra>",
         "marker": {
          "color": "rgba(60, 179, 113, 0.7)",
          "line": {
           "color": "white",
           "width": 1.5
          },
          "size": 10
         },
         "mode": "markers",
         "name": "After 4o Mini Tuning",
         "showlegend": false,
         "type": "scatter",
         "x": [
          3
         ],
         "y": [
          8.85
         ]
        },
        {
         "hovertemplate": "<b>Mean Path Length:</b> 3.0<extra></extra>",
         "marker": {
          "color": "rgba(60, 179, 113, 0.7)",
          "line": {
           "color": "white",
           "width": 1.5
          },
          "size": 10
         },
         "mode": "markers",
         "name": "After 4o Mini Tuning",
         "showlegend": false,
         "type": "scatter",
         "x": [
          3
         ],
         "y": [
          9.85
         ]
        },
        {
         "hovertemplate": "<b>Mean Path Length:</b> 5.0<extra></extra>",
         "marker": {
          "color": "rgba(60, 179, 113, 0.7)",
          "line": {
           "color": "white",
           "width": 1.5
          },
          "size": 10
         },
         "mode": "markers",
         "name": "After 4o Mini Tuning",
         "showlegend": false,
         "type": "scatter",
         "x": [
          5
         ],
         "y": [
          10.85
         ]
        },
        {
         "hovertemplate": "<b>Mean Path Length:</b> 4.0<extra></extra>",
         "marker": {
          "color": "rgba(60, 179, 113, 0.7)",
          "line": {
           "color": "white",
           "width": 1.5
          },
          "size": 10
         },
         "mode": "markers",
         "name": "After 4o Mini Tuning",
         "showlegend": false,
         "type": "scatter",
         "x": [
          4
         ],
         "y": [
          11.85
         ]
        },
        {
         "hovertemplate": "<b>Mean Path Length:</b> 3.0<extra></extra>",
         "marker": {
          "color": "rgba(60, 179, 113, 0.7)",
          "line": {
           "color": "white",
           "width": 1.5
          },
          "size": 10
         },
         "mode": "markers",
         "name": "After 4o Mini Tuning",
         "showlegend": false,
         "type": "scatter",
         "x": [
          3
         ],
         "y": [
          12.85
         ]
        },
        {
         "hovertemplate": "<b>Mean Path Length:</b> 3.0<extra></extra>",
         "marker": {
          "color": "rgba(60, 179, 113, 0.7)",
          "line": {
           "color": "white",
           "width": 1.5
          },
          "size": 10
         },
         "mode": "markers",
         "name": "After 4o Mini Tuning",
         "showlegend": false,
         "type": "scatter",
         "x": [
          3
         ],
         "y": [
          13.85
         ]
        },
        {
         "hovertemplate": "<b>Mean Path Length:</b> 4.0<extra></extra>",
         "marker": {
          "color": "rgba(60, 179, 113, 0.7)",
          "line": {
           "color": "white",
           "width": 1.5
          },
          "size": 10
         },
         "mode": "markers",
         "name": "After 4o Mini Tuning",
         "showlegend": false,
         "type": "scatter",
         "x": [
          4
         ],
         "y": [
          14.85
         ]
        },
        {
         "hovertemplate": "<b>Mean Path Length:</b> 5.0<extra></extra>",
         "marker": {
          "color": "rgba(60, 179, 113, 0.7)",
          "line": {
           "color": "white",
           "width": 1.5
          },
          "size": 10
         },
         "mode": "markers",
         "name": "After 4o Mini Tuning",
         "showlegend": false,
         "type": "scatter",
         "x": [
          5
         ],
         "y": [
          15.85
         ]
        },
        {
         "hovertemplate": "<b>Mean Path Length:</b> 7.0<extra></extra>",
         "marker": {
          "color": "rgba(60, 179, 113, 0.7)",
          "line": {
           "color": "white",
           "width": 1.5
          },
          "size": 10
         },
         "mode": "markers",
         "name": "After 4o Mini Tuning",
         "showlegend": false,
         "type": "scatter",
         "x": [
          7
         ],
         "y": [
          16.85
         ]
        },
        {
         "hovertemplate": "<b>Mean Path Length:</b> 4.0<extra></extra>",
         "marker": {
          "color": "rgba(60, 179, 113, 0.7)",
          "line": {
           "color": "white",
           "width": 1.5
          },
          "size": 10
         },
         "mode": "markers",
         "name": "After 4o Mini Tuning",
         "showlegend": false,
         "type": "scatter",
         "x": [
          4
         ],
         "y": [
          17.85
         ]
        },
        {
         "hovertemplate": "<b>Mean Path Length:</b> 4.0<extra></extra>",
         "marker": {
          "color": "rgba(60, 179, 113, 0.7)",
          "line": {
           "color": "white",
           "width": 1.5
          },
          "size": 10
         },
         "mode": "markers",
         "name": "After 4o Mini Tuning",
         "showlegend": false,
         "type": "scatter",
         "x": [
          4
         ],
         "y": [
          18.85
         ]
        },
        {
         "hovertemplate": "<b>Mean Path Length:</b> 4.0<extra></extra>",
         "marker": {
          "color": "rgba(60, 179, 113, 0.7)",
          "line": {
           "color": "white",
           "width": 1.5
          },
          "size": 10
         },
         "mode": "markers",
         "name": "After 4o Mini Tuning",
         "showlegend": false,
         "type": "scatter",
         "x": [
          4
         ],
         "y": [
          19.85
         ]
        },
        {
         "hovertemplate": "<b>Mean Path Length:</b> 4.0<extra></extra>",
         "marker": {
          "color": "rgba(60, 179, 113, 0.7)",
          "line": {
           "color": "white",
           "width": 1.5
          },
          "size": 10
         },
         "mode": "markers",
         "name": "After 4o Mini Tuning",
         "showlegend": false,
         "type": "scatter",
         "x": [
          4
         ],
         "y": [
          20.85
         ]
        },
        {
         "hovertemplate": "<b>Mean Path Length:</b> 5.0<extra></extra>",
         "marker": {
          "color": "rgba(60, 179, 113, 0.7)",
          "line": {
           "color": "white",
           "width": 1.5
          },
          "size": 10
         },
         "mode": "markers",
         "name": "After 4o Mini Tuning",
         "showlegend": false,
         "type": "scatter",
         "x": [
          5
         ],
         "y": [
          21.85
         ]
        },
        {
         "hovertemplate": "<b>Mean Path Length:</b> 4.0<extra></extra>",
         "marker": {
          "color": "rgba(60, 179, 113, 0.7)",
          "line": {
           "color": "white",
           "width": 1.5
          },
          "size": 10
         },
         "mode": "markers",
         "name": "After 4o Mini Tuning",
         "showlegend": false,
         "type": "scatter",
         "x": [
          4
         ],
         "y": [
          22.85
         ]
        },
        {
         "hovertemplate": "<b>Mean Path Length:</b> 4.0<extra></extra>",
         "marker": {
          "color": "rgba(60, 179, 113, 0.7)",
          "line": {
           "color": "white",
           "width": 1.5
          },
          "size": 10
         },
         "mode": "markers",
         "name": "After 4o Mini Tuning",
         "showlegend": false,
         "type": "scatter",
         "x": [
          4
         ],
         "y": [
          23.85
         ]
        },
        {
         "hovertemplate": "<b>Mean Path Length:</b> 4.0<extra></extra>",
         "marker": {
          "color": "rgba(60, 179, 113, 0.7)",
          "line": {
           "color": "white",
           "width": 1.5
          },
          "size": 10
         },
         "mode": "markers",
         "name": "After 4o Mini Tuning",
         "showlegend": false,
         "type": "scatter",
         "x": [
          4
         ],
         "y": [
          24.85
         ]
        },
        {
         "hovertemplate": "<b>Mean Path Length:</b> 6.0<extra></extra>",
         "marker": {
          "color": "rgba(60, 179, 113, 0.7)",
          "line": {
           "color": "white",
           "width": 1.5
          },
          "size": 10
         },
         "mode": "markers",
         "name": "After 4o Mini Tuning",
         "showlegend": false,
         "type": "scatter",
         "x": [
          6
         ],
         "y": [
          25.85
         ]
        },
        {
         "hovertemplate": "<b>Mean Path Length:</b> 4.0<extra></extra>",
         "marker": {
          "color": "rgba(60, 179, 113, 0.7)",
          "line": {
           "color": "white",
           "width": 1.5
          },
          "size": 10
         },
         "mode": "markers",
         "name": "After 4o Mini Tuning",
         "showlegend": false,
         "type": "scatter",
         "x": [
          4
         ],
         "y": [
          26.85
         ]
        },
        {
         "hovertemplate": "<b>Mean Path Length:</b> 4.0<extra></extra>",
         "marker": {
          "color": "rgba(60, 179, 113, 0.7)",
          "line": {
           "color": "white",
           "width": 1.5
          },
          "size": 10
         },
         "mode": "markers",
         "name": "After 4o Mini Tuning",
         "showlegend": false,
         "type": "scatter",
         "x": [
          4
         ],
         "y": [
          27.85
         ]
        },
        {
         "hovertemplate": "<b>Mean Path Length:</b> 6.0<extra></extra>",
         "marker": {
          "color": "rgba(60, 179, 113, 0.7)",
          "line": {
           "color": "white",
           "width": 1.5
          },
          "size": 10
         },
         "mode": "markers",
         "name": "After 4o Mini Tuning",
         "showlegend": false,
         "type": "scatter",
         "x": [
          6
         ],
         "y": [
          28.85
         ]
        },
        {
         "hovertemplate": "<b>Mean Path Length:</b> 4.0<extra></extra>",
         "marker": {
          "color": "rgba(60, 179, 113, 0.7)",
          "line": {
           "color": "white",
           "width": 1.5
          },
          "size": 10
         },
         "mode": "markers",
         "name": "After 4o Mini Tuning",
         "showlegend": false,
         "type": "scatter",
         "x": [
          4
         ],
         "y": [
          29.85
         ]
        },
        {
         "hovertemplate": "<b>Mean Path Length:</b> 6.0<extra></extra>",
         "marker": {
          "color": "rgba(60, 179, 113, 0.7)",
          "line": {
           "color": "white",
           "width": 1.5
          },
          "size": 10
         },
         "mode": "markers",
         "name": "After 4o Mini Tuning",
         "showlegend": false,
         "type": "scatter",
         "x": [
          6
         ],
         "y": [
          30.85
         ]
        },
        {
         "hovertemplate": "<b>Mean Path Length:</b> 5.0<extra></extra>",
         "marker": {
          "color": "rgba(60, 179, 113, 0.7)",
          "line": {
           "color": "white",
           "width": 1.5
          },
          "size": 10
         },
         "mode": "markers",
         "name": "After 4o Mini Tuning",
         "showlegend": false,
         "type": "scatter",
         "x": [
          5
         ],
         "y": [
          31.85
         ]
        },
        {
         "hovertemplate": "<b>Mean Path Length:</b> 3.0<extra></extra>",
         "marker": {
          "color": "rgba(60, 179, 113, 0.7)",
          "line": {
           "color": "white",
           "width": 1.5
          },
          "size": 10
         },
         "mode": "markers",
         "name": "After 4o Mini Tuning",
         "showlegend": false,
         "type": "scatter",
         "x": [
          3
         ],
         "y": [
          32.85
         ]
        },
        {
         "hovertemplate": "<b>Mean Path Length:</b> 4.0<extra></extra>",
         "marker": {
          "color": "rgba(60, 179, 113, 0.7)",
          "line": {
           "color": "white",
           "width": 1.5
          },
          "size": 10
         },
         "mode": "markers",
         "name": "After 4o Mini Tuning",
         "showlegend": false,
         "type": "scatter",
         "x": [
          4
         ],
         "y": [
          33.85
         ]
        },
        {
         "hovertemplate": "<b>Mean Path Length:</b> 9.0<extra></extra>",
         "marker": {
          "color": "rgba(60, 179, 113, 0.7)",
          "line": {
           "color": "white",
           "width": 1.5
          },
          "size": 10
         },
         "mode": "markers",
         "name": "After 4o Mini Tuning",
         "showlegend": false,
         "type": "scatter",
         "x": [
          9
         ],
         "y": [
          34.85
         ]
        },
        {
         "hovertemplate": "<b>Mean Path Length:</b> 4.0<extra></extra>",
         "marker": {
          "color": "rgba(60, 179, 113, 0.7)",
          "line": {
           "color": "white",
           "width": 1.5
          },
          "size": 10
         },
         "mode": "markers",
         "name": "After 4o Mini Tuning",
         "showlegend": false,
         "type": "scatter",
         "x": [
          4
         ],
         "y": [
          35.85
         ]
        },
        {
         "hovertemplate": "<b>Mean Path Length:</b> 5.0<extra></extra>",
         "marker": {
          "color": "rgba(60, 179, 113, 0.7)",
          "line": {
           "color": "white",
           "width": 1.5
          },
          "size": 10
         },
         "mode": "markers",
         "name": "After 4o Mini Tuning",
         "showlegend": false,
         "type": "scatter",
         "x": [
          5
         ],
         "y": [
          36.85
         ]
        },
        {
         "hovertemplate": "<b>Mean Path Length:</b> 4.0<extra></extra>",
         "marker": {
          "color": "rgba(60, 179, 113, 0.7)",
          "line": {
           "color": "white",
           "width": 1.5
          },
          "size": 10
         },
         "mode": "markers",
         "name": "After 4o Mini Tuning",
         "showlegend": false,
         "type": "scatter",
         "x": [
          4
         ],
         "y": [
          37.85
         ]
        },
        {
         "hovertemplate": "<b>Mean Path Length:</b> 4.0<extra></extra>",
         "marker": {
          "color": "rgba(60, 179, 113, 0.7)",
          "line": {
           "color": "white",
           "width": 1.5
          },
          "size": 10
         },
         "mode": "markers",
         "name": "After 4o Mini Tuning",
         "showlegend": false,
         "type": "scatter",
         "x": [
          4
         ],
         "y": [
          38.85
         ]
        },
        {
         "hovertemplate": "<b>Mean Path Length:</b> 5.0<extra></extra>",
         "marker": {
          "color": "rgba(60, 179, 113, 0.7)",
          "line": {
           "color": "white",
           "width": 1.5
          },
          "size": 10
         },
         "mode": "markers",
         "name": "After 4o Mini Tuning",
         "showlegend": false,
         "type": "scatter",
         "x": [
          5
         ],
         "y": [
          39.85
         ]
        }
       ],
       "layout": {
        "height": 2050,
        "legend": {
         "bgcolor": "white",
         "bordercolor": "#E0E8F0",
         "borderwidth": 1,
         "font": {
          "color": "rgba(0, 0, 0, 0.7)"
         }
        },
        "paper_bgcolor": "white",
        "plot_bgcolor": "#F0F4FF",
        "shapes": [
         {
          "line": {
           "color": "#E0E8F0",
           "dash": "dot",
           "width": 1
          },
          "type": "line",
          "x0": 0,
          "x1": 1,
          "xref": "paper",
          "y0": 0,
          "y1": 0,
          "yref": "y"
         },
         {
          "line": {
           "color": "#E0E8F0",
           "dash": "dot",
           "width": 1
          },
          "type": "line",
          "x0": 0,
          "x1": 1,
          "xref": "paper",
          "y0": 1,
          "y1": 1,
          "yref": "y"
         },
         {
          "line": {
           "color": "#E0E8F0",
           "dash": "dot",
           "width": 1
          },
          "type": "line",
          "x0": 0,
          "x1": 1,
          "xref": "paper",
          "y0": 2,
          "y1": 2,
          "yref": "y"
         },
         {
          "line": {
           "color": "#E0E8F0",
           "dash": "dot",
           "width": 1
          },
          "type": "line",
          "x0": 0,
          "x1": 1,
          "xref": "paper",
          "y0": 3,
          "y1": 3,
          "yref": "y"
         },
         {
          "line": {
           "color": "#E0E8F0",
           "dash": "dot",
           "width": 1
          },
          "type": "line",
          "x0": 0,
          "x1": 1,
          "xref": "paper",
          "y0": 4,
          "y1": 4,
          "yref": "y"
         },
         {
          "line": {
           "color": "#E0E8F0",
           "dash": "dot",
           "width": 1
          },
          "type": "line",
          "x0": 0,
          "x1": 1,
          "xref": "paper",
          "y0": 5,
          "y1": 5,
          "yref": "y"
         },
         {
          "line": {
           "color": "#E0E8F0",
           "dash": "dot",
           "width": 1
          },
          "type": "line",
          "x0": 0,
          "x1": 1,
          "xref": "paper",
          "y0": 6,
          "y1": 6,
          "yref": "y"
         },
         {
          "line": {
           "color": "#E0E8F0",
           "dash": "dot",
           "width": 1
          },
          "type": "line",
          "x0": 0,
          "x1": 1,
          "xref": "paper",
          "y0": 7,
          "y1": 7,
          "yref": "y"
         },
         {
          "line": {
           "color": "#E0E8F0",
           "dash": "dot",
           "width": 1
          },
          "type": "line",
          "x0": 0,
          "x1": 1,
          "xref": "paper",
          "y0": 8,
          "y1": 8,
          "yref": "y"
         },
         {
          "line": {
           "color": "#E0E8F0",
           "dash": "dot",
           "width": 1
          },
          "type": "line",
          "x0": 0,
          "x1": 1,
          "xref": "paper",
          "y0": 9,
          "y1": 9,
          "yref": "y"
         },
         {
          "line": {
           "color": "#E0E8F0",
           "dash": "dot",
           "width": 1
          },
          "type": "line",
          "x0": 0,
          "x1": 1,
          "xref": "paper",
          "y0": 10,
          "y1": 10,
          "yref": "y"
         },
         {
          "line": {
           "color": "#E0E8F0",
           "dash": "dot",
           "width": 1
          },
          "type": "line",
          "x0": 0,
          "x1": 1,
          "xref": "paper",
          "y0": 11,
          "y1": 11,
          "yref": "y"
         },
         {
          "line": {
           "color": "#E0E8F0",
           "dash": "dot",
           "width": 1
          },
          "type": "line",
          "x0": 0,
          "x1": 1,
          "xref": "paper",
          "y0": 12,
          "y1": 12,
          "yref": "y"
         },
         {
          "line": {
           "color": "#E0E8F0",
           "dash": "dot",
           "width": 1
          },
          "type": "line",
          "x0": 0,
          "x1": 1,
          "xref": "paper",
          "y0": 13,
          "y1": 13,
          "yref": "y"
         },
         {
          "line": {
           "color": "#E0E8F0",
           "dash": "dot",
           "width": 1
          },
          "type": "line",
          "x0": 0,
          "x1": 1,
          "xref": "paper",
          "y0": 14,
          "y1": 14,
          "yref": "y"
         },
         {
          "line": {
           "color": "#E0E8F0",
           "dash": "dot",
           "width": 1
          },
          "type": "line",
          "x0": 0,
          "x1": 1,
          "xref": "paper",
          "y0": 15,
          "y1": 15,
          "yref": "y"
         },
         {
          "line": {
           "color": "#E0E8F0",
           "dash": "dot",
           "width": 1
          },
          "type": "line",
          "x0": 0,
          "x1": 1,
          "xref": "paper",
          "y0": 16,
          "y1": 16,
          "yref": "y"
         },
         {
          "line": {
           "color": "#E0E8F0",
           "dash": "dot",
           "width": 1
          },
          "type": "line",
          "x0": 0,
          "x1": 1,
          "xref": "paper",
          "y0": 17,
          "y1": 17,
          "yref": "y"
         },
         {
          "line": {
           "color": "#E0E8F0",
           "dash": "dot",
           "width": 1
          },
          "type": "line",
          "x0": 0,
          "x1": 1,
          "xref": "paper",
          "y0": 18,
          "y1": 18,
          "yref": "y"
         },
         {
          "line": {
           "color": "#E0E8F0",
           "dash": "dot",
           "width": 1
          },
          "type": "line",
          "x0": 0,
          "x1": 1,
          "xref": "paper",
          "y0": 19,
          "y1": 19,
          "yref": "y"
         },
         {
          "line": {
           "color": "#E0E8F0",
           "dash": "dot",
           "width": 1
          },
          "type": "line",
          "x0": 0,
          "x1": 1,
          "xref": "paper",
          "y0": 20,
          "y1": 20,
          "yref": "y"
         },
         {
          "line": {
           "color": "#E0E8F0",
           "dash": "dot",
           "width": 1
          },
          "type": "line",
          "x0": 0,
          "x1": 1,
          "xref": "paper",
          "y0": 21,
          "y1": 21,
          "yref": "y"
         },
         {
          "line": {
           "color": "#E0E8F0",
           "dash": "dot",
           "width": 1
          },
          "type": "line",
          "x0": 0,
          "x1": 1,
          "xref": "paper",
          "y0": 22,
          "y1": 22,
          "yref": "y"
         },
         {
          "line": {
           "color": "#E0E8F0",
           "dash": "dot",
           "width": 1
          },
          "type": "line",
          "x0": 0,
          "x1": 1,
          "xref": "paper",
          "y0": 23,
          "y1": 23,
          "yref": "y"
         },
         {
          "line": {
           "color": "#E0E8F0",
           "dash": "dot",
           "width": 1
          },
          "type": "line",
          "x0": 0,
          "x1": 1,
          "xref": "paper",
          "y0": 24,
          "y1": 24,
          "yref": "y"
         },
         {
          "line": {
           "color": "#E0E8F0",
           "dash": "dot",
           "width": 1
          },
          "type": "line",
          "x0": 0,
          "x1": 1,
          "xref": "paper",
          "y0": 25,
          "y1": 25,
          "yref": "y"
         },
         {
          "line": {
           "color": "#E0E8F0",
           "dash": "dot",
           "width": 1
          },
          "type": "line",
          "x0": 0,
          "x1": 1,
          "xref": "paper",
          "y0": 26,
          "y1": 26,
          "yref": "y"
         },
         {
          "line": {
           "color": "#E0E8F0",
           "dash": "dot",
           "width": 1
          },
          "type": "line",
          "x0": 0,
          "x1": 1,
          "xref": "paper",
          "y0": 27,
          "y1": 27,
          "yref": "y"
         },
         {
          "line": {
           "color": "#E0E8F0",
           "dash": "dot",
           "width": 1
          },
          "type": "line",
          "x0": 0,
          "x1": 1,
          "xref": "paper",
          "y0": 28,
          "y1": 28,
          "yref": "y"
         },
         {
          "line": {
           "color": "#E0E8F0",
           "dash": "dot",
           "width": 1
          },
          "type": "line",
          "x0": 0,
          "x1": 1,
          "xref": "paper",
          "y0": 29,
          "y1": 29,
          "yref": "y"
         },
         {
          "line": {
           "color": "#E0E8F0",
           "dash": "dot",
           "width": 1
          },
          "type": "line",
          "x0": 0,
          "x1": 1,
          "xref": "paper",
          "y0": 30,
          "y1": 30,
          "yref": "y"
         },
         {
          "line": {
           "color": "#E0E8F0",
           "dash": "dot",
           "width": 1
          },
          "type": "line",
          "x0": 0,
          "x1": 1,
          "xref": "paper",
          "y0": 31,
          "y1": 31,
          "yref": "y"
         },
         {
          "line": {
           "color": "#E0E8F0",
           "dash": "dot",
           "width": 1
          },
          "type": "line",
          "x0": 0,
          "x1": 1,
          "xref": "paper",
          "y0": 32,
          "y1": 32,
          "yref": "y"
         },
         {
          "line": {
           "color": "#E0E8F0",
           "dash": "dot",
           "width": 1
          },
          "type": "line",
          "x0": 0,
          "x1": 1,
          "xref": "paper",
          "y0": 33,
          "y1": 33,
          "yref": "y"
         },
         {
          "line": {
           "color": "#E0E8F0",
           "dash": "dot",
           "width": 1
          },
          "type": "line",
          "x0": 0,
          "x1": 1,
          "xref": "paper",
          "y0": 34,
          "y1": 34,
          "yref": "y"
         },
         {
          "line": {
           "color": "#E0E8F0",
           "dash": "dot",
           "width": 1
          },
          "type": "line",
          "x0": 0,
          "x1": 1,
          "xref": "paper",
          "y0": 35,
          "y1": 35,
          "yref": "y"
         },
         {
          "line": {
           "color": "#E0E8F0",
           "dash": "dot",
           "width": 1
          },
          "type": "line",
          "x0": 0,
          "x1": 1,
          "xref": "paper",
          "y0": 36,
          "y1": 36,
          "yref": "y"
         },
         {
          "line": {
           "color": "#E0E8F0",
           "dash": "dot",
           "width": 1
          },
          "type": "line",
          "x0": 0,
          "x1": 1,
          "xref": "paper",
          "y0": 37,
          "y1": 37,
          "yref": "y"
         },
         {
          "line": {
           "color": "#E0E8F0",
           "dash": "dot",
           "width": 1
          },
          "type": "line",
          "x0": 0,
          "x1": 1,
          "xref": "paper",
          "y0": 38,
          "y1": 38,
          "yref": "y"
         },
         {
          "line": {
           "color": "#E0E8F0",
           "dash": "dot",
           "width": 1
          },
          "type": "line",
          "x0": 0,
          "x1": 1,
          "xref": "paper",
          "y0": 39,
          "y1": 39,
          "yref": "y"
         },
         {
          "line": {
           "color": "#E0E8F0",
           "dash": "dot",
           "width": 1
          },
          "type": "line",
          "x0": 0,
          "x1": 1,
          "xref": "paper",
          "y0": 40,
          "y1": 40,
          "yref": "y"
         }
        ],
        "showlegend": true,
        "template": {
         "data": {
          "bar": [
           {
            "error_x": {
             "color": "#2a3f5f"
            },
            "error_y": {
             "color": "#2a3f5f"
            },
            "marker": {
             "line": {
              "color": "#E5ECF6",
              "width": 0.5
             },
             "pattern": {
              "fillmode": "overlay",
              "size": 10,
              "solidity": 0.2
             }
            },
            "type": "bar"
           }
          ],
          "barpolar": [
           {
            "marker": {
             "line": {
              "color": "#E5ECF6",
              "width": 0.5
             },
             "pattern": {
              "fillmode": "overlay",
              "size": 10,
              "solidity": 0.2
             }
            },
            "type": "barpolar"
           }
          ],
          "carpet": [
           {
            "aaxis": {
             "endlinecolor": "#2a3f5f",
             "gridcolor": "white",
             "linecolor": "white",
             "minorgridcolor": "white",
             "startlinecolor": "#2a3f5f"
            },
            "baxis": {
             "endlinecolor": "#2a3f5f",
             "gridcolor": "white",
             "linecolor": "white",
             "minorgridcolor": "white",
             "startlinecolor": "#2a3f5f"
            },
            "type": "carpet"
           }
          ],
          "choropleth": [
           {
            "colorbar": {
             "outlinewidth": 0,
             "ticks": ""
            },
            "type": "choropleth"
           }
          ],
          "contour": [
           {
            "colorbar": {
             "outlinewidth": 0,
             "ticks": ""
            },
            "colorscale": [
             [
              0,
              "#0d0887"
             ],
             [
              0.1111111111111111,
              "#46039f"
             ],
             [
              0.2222222222222222,
              "#7201a8"
             ],
             [
              0.3333333333333333,
              "#9c179e"
             ],
             [
              0.4444444444444444,
              "#bd3786"
             ],
             [
              0.5555555555555556,
              "#d8576b"
             ],
             [
              0.6666666666666666,
              "#ed7953"
             ],
             [
              0.7777777777777778,
              "#fb9f3a"
             ],
             [
              0.8888888888888888,
              "#fdca26"
             ],
             [
              1,
              "#f0f921"
             ]
            ],
            "type": "contour"
           }
          ],
          "contourcarpet": [
           {
            "colorbar": {
             "outlinewidth": 0,
             "ticks": ""
            },
            "type": "contourcarpet"
           }
          ],
          "heatmap": [
           {
            "colorbar": {
             "outlinewidth": 0,
             "ticks": ""
            },
            "colorscale": [
             [
              0,
              "#0d0887"
             ],
             [
              0.1111111111111111,
              "#46039f"
             ],
             [
              0.2222222222222222,
              "#7201a8"
             ],
             [
              0.3333333333333333,
              "#9c179e"
             ],
             [
              0.4444444444444444,
              "#bd3786"
             ],
             [
              0.5555555555555556,
              "#d8576b"
             ],
             [
              0.6666666666666666,
              "#ed7953"
             ],
             [
              0.7777777777777778,
              "#fb9f3a"
             ],
             [
              0.8888888888888888,
              "#fdca26"
             ],
             [
              1,
              "#f0f921"
             ]
            ],
            "type": "heatmap"
           }
          ],
          "heatmapgl": [
           {
            "colorbar": {
             "outlinewidth": 0,
             "ticks": ""
            },
            "colorscale": [
             [
              0,
              "#0d0887"
             ],
             [
              0.1111111111111111,
              "#46039f"
             ],
             [
              0.2222222222222222,
              "#7201a8"
             ],
             [
              0.3333333333333333,
              "#9c179e"
             ],
             [
              0.4444444444444444,
              "#bd3786"
             ],
             [
              0.5555555555555556,
              "#d8576b"
             ],
             [
              0.6666666666666666,
              "#ed7953"
             ],
             [
              0.7777777777777778,
              "#fb9f3a"
             ],
             [
              0.8888888888888888,
              "#fdca26"
             ],
             [
              1,
              "#f0f921"
             ]
            ],
            "type": "heatmapgl"
           }
          ],
          "histogram": [
           {
            "marker": {
             "pattern": {
              "fillmode": "overlay",
              "size": 10,
              "solidity": 0.2
             }
            },
            "type": "histogram"
           }
          ],
          "histogram2d": [
           {
            "colorbar": {
             "outlinewidth": 0,
             "ticks": ""
            },
            "colorscale": [
             [
              0,
              "#0d0887"
             ],
             [
              0.1111111111111111,
              "#46039f"
             ],
             [
              0.2222222222222222,
              "#7201a8"
             ],
             [
              0.3333333333333333,
              "#9c179e"
             ],
             [
              0.4444444444444444,
              "#bd3786"
             ],
             [
              0.5555555555555556,
              "#d8576b"
             ],
             [
              0.6666666666666666,
              "#ed7953"
             ],
             [
              0.7777777777777778,
              "#fb9f3a"
             ],
             [
              0.8888888888888888,
              "#fdca26"
             ],
             [
              1,
              "#f0f921"
             ]
            ],
            "type": "histogram2d"
           }
          ],
          "histogram2dcontour": [
           {
            "colorbar": {
             "outlinewidth": 0,
             "ticks": ""
            },
            "colorscale": [
             [
              0,
              "#0d0887"
             ],
             [
              0.1111111111111111,
              "#46039f"
             ],
             [
              0.2222222222222222,
              "#7201a8"
             ],
             [
              0.3333333333333333,
              "#9c179e"
             ],
             [
              0.4444444444444444,
              "#bd3786"
             ],
             [
              0.5555555555555556,
              "#d8576b"
             ],
             [
              0.6666666666666666,
              "#ed7953"
             ],
             [
              0.7777777777777778,
              "#fb9f3a"
             ],
             [
              0.8888888888888888,
              "#fdca26"
             ],
             [
              1,
              "#f0f921"
             ]
            ],
            "type": "histogram2dcontour"
           }
          ],
          "mesh3d": [
           {
            "colorbar": {
             "outlinewidth": 0,
             "ticks": ""
            },
            "type": "mesh3d"
           }
          ],
          "parcoords": [
           {
            "line": {
             "colorbar": {
              "outlinewidth": 0,
              "ticks": ""
             }
            },
            "type": "parcoords"
           }
          ],
          "pie": [
           {
            "automargin": true,
            "type": "pie"
           }
          ],
          "scatter": [
           {
            "fillpattern": {
             "fillmode": "overlay",
             "size": 10,
             "solidity": 0.2
            },
            "type": "scatter"
           }
          ],
          "scatter3d": [
           {
            "line": {
             "colorbar": {
              "outlinewidth": 0,
              "ticks": ""
             }
            },
            "marker": {
             "colorbar": {
              "outlinewidth": 0,
              "ticks": ""
             }
            },
            "type": "scatter3d"
           }
          ],
          "scattercarpet": [
           {
            "marker": {
             "colorbar": {
              "outlinewidth": 0,
              "ticks": ""
             }
            },
            "type": "scattercarpet"
           }
          ],
          "scattergeo": [
           {
            "marker": {
             "colorbar": {
              "outlinewidth": 0,
              "ticks": ""
             }
            },
            "type": "scattergeo"
           }
          ],
          "scattergl": [
           {
            "marker": {
             "colorbar": {
              "outlinewidth": 0,
              "ticks": ""
             }
            },
            "type": "scattergl"
           }
          ],
          "scattermapbox": [
           {
            "marker": {
             "colorbar": {
              "outlinewidth": 0,
              "ticks": ""
             }
            },
            "type": "scattermapbox"
           }
          ],
          "scatterpolar": [
           {
            "marker": {
             "colorbar": {
              "outlinewidth": 0,
              "ticks": ""
             }
            },
            "type": "scatterpolar"
           }
          ],
          "scatterpolargl": [
           {
            "marker": {
             "colorbar": {
              "outlinewidth": 0,
              "ticks": ""
             }
            },
            "type": "scatterpolargl"
           }
          ],
          "scatterternary": [
           {
            "marker": {
             "colorbar": {
              "outlinewidth": 0,
              "ticks": ""
             }
            },
            "type": "scatterternary"
           }
          ],
          "surface": [
           {
            "colorbar": {
             "outlinewidth": 0,
             "ticks": ""
            },
            "colorscale": [
             [
              0,
              "#0d0887"
             ],
             [
              0.1111111111111111,
              "#46039f"
             ],
             [
              0.2222222222222222,
              "#7201a8"
             ],
             [
              0.3333333333333333,
              "#9c179e"
             ],
             [
              0.4444444444444444,
              "#bd3786"
             ],
             [
              0.5555555555555556,
              "#d8576b"
             ],
             [
              0.6666666666666666,
              "#ed7953"
             ],
             [
              0.7777777777777778,
              "#fb9f3a"
             ],
             [
              0.8888888888888888,
              "#fdca26"
             ],
             [
              1,
              "#f0f921"
             ]
            ],
            "type": "surface"
           }
          ],
          "table": [
           {
            "cells": {
             "fill": {
              "color": "#EBF0F8"
             },
             "line": {
              "color": "white"
             }
            },
            "header": {
             "fill": {
              "color": "#C8D4E3"
             },
             "line": {
              "color": "white"
             }
            },
            "type": "table"
           }
          ]
         },
         "layout": {
          "annotationdefaults": {
           "arrowcolor": "#2a3f5f",
           "arrowhead": 0,
           "arrowwidth": 1
          },
          "autotypenumbers": "strict",
          "coloraxis": {
           "colorbar": {
            "outlinewidth": 0,
            "ticks": ""
           }
          },
          "colorscale": {
           "diverging": [
            [
             0,
             "#8e0152"
            ],
            [
             0.1,
             "#c51b7d"
            ],
            [
             0.2,
             "#de77ae"
            ],
            [
             0.3,
             "#f1b6da"
            ],
            [
             0.4,
             "#fde0ef"
            ],
            [
             0.5,
             "#f7f7f7"
            ],
            [
             0.6,
             "#e6f5d0"
            ],
            [
             0.7,
             "#b8e186"
            ],
            [
             0.8,
             "#7fbc41"
            ],
            [
             0.9,
             "#4d9221"
            ],
            [
             1,
             "#276419"
            ]
           ],
           "sequential": [
            [
             0,
             "#0d0887"
            ],
            [
             0.1111111111111111,
             "#46039f"
            ],
            [
             0.2222222222222222,
             "#7201a8"
            ],
            [
             0.3333333333333333,
             "#9c179e"
            ],
            [
             0.4444444444444444,
             "#bd3786"
            ],
            [
             0.5555555555555556,
             "#d8576b"
            ],
            [
             0.6666666666666666,
             "#ed7953"
            ],
            [
             0.7777777777777778,
             "#fb9f3a"
            ],
            [
             0.8888888888888888,
             "#fdca26"
            ],
            [
             1,
             "#f0f921"
            ]
           ],
           "sequentialminus": [
            [
             0,
             "#0d0887"
            ],
            [
             0.1111111111111111,
             "#46039f"
            ],
            [
             0.2222222222222222,
             "#7201a8"
            ],
            [
             0.3333333333333333,
             "#9c179e"
            ],
            [
             0.4444444444444444,
             "#bd3786"
            ],
            [
             0.5555555555555556,
             "#d8576b"
            ],
            [
             0.6666666666666666,
             "#ed7953"
            ],
            [
             0.7777777777777778,
             "#fb9f3a"
            ],
            [
             0.8888888888888888,
             "#fdca26"
            ],
            [
             1,
             "#f0f921"
            ]
           ]
          },
          "colorway": [
           "#636efa",
           "#EF553B",
           "#00cc96",
           "#ab63fa",
           "#FFA15A",
           "#19d3f3",
           "#FF6692",
           "#B6E880",
           "#FF97FF",
           "#FECB52"
          ],
          "font": {
           "color": "#2a3f5f"
          },
          "geo": {
           "bgcolor": "white",
           "lakecolor": "white",
           "landcolor": "#E5ECF6",
           "showlakes": true,
           "showland": true,
           "subunitcolor": "white"
          },
          "hoverlabel": {
           "align": "left"
          },
          "hovermode": "closest",
          "mapbox": {
           "style": "light"
          },
          "paper_bgcolor": "white",
          "plot_bgcolor": "#E5ECF6",
          "polar": {
           "angularaxis": {
            "gridcolor": "white",
            "linecolor": "white",
            "ticks": ""
           },
           "bgcolor": "#E5ECF6",
           "radialaxis": {
            "gridcolor": "white",
            "linecolor": "white",
            "ticks": ""
           }
          },
          "scene": {
           "xaxis": {
            "backgroundcolor": "#E5ECF6",
            "gridcolor": "white",
            "gridwidth": 2,
            "linecolor": "white",
            "showbackground": true,
            "ticks": "",
            "zerolinecolor": "white"
           },
           "yaxis": {
            "backgroundcolor": "#E5ECF6",
            "gridcolor": "white",
            "gridwidth": 2,
            "linecolor": "white",
            "showbackground": true,
            "ticks": "",
            "zerolinecolor": "white"
           },
           "zaxis": {
            "backgroundcolor": "#E5ECF6",
            "gridcolor": "white",
            "gridwidth": 2,
            "linecolor": "white",
            "showbackground": true,
            "ticks": "",
            "zerolinecolor": "white"
           }
          },
          "shapedefaults": {
           "line": {
            "color": "#2a3f5f"
           }
          },
          "ternary": {
           "aaxis": {
            "gridcolor": "white",
            "linecolor": "white",
            "ticks": ""
           },
           "baxis": {
            "gridcolor": "white",
            "linecolor": "white",
            "ticks": ""
           },
           "bgcolor": "#E5ECF6",
           "caxis": {
            "gridcolor": "white",
            "linecolor": "white",
            "ticks": ""
           }
          },
          "title": {
           "x": 0.05
          },
          "xaxis": {
           "automargin": true,
           "gridcolor": "white",
           "linecolor": "white",
           "ticks": "",
           "title": {
            "standoff": 15
           },
           "zerolinecolor": "white",
           "zerolinewidth": 2
          },
          "yaxis": {
           "automargin": true,
           "gridcolor": "white",
           "linecolor": "white",
           "ticks": "",
           "title": {
            "standoff": 15
           },
           "zerolinecolor": "white",
           "zerolinewidth": 2
          }
         }
        },
        "title": {
         "font": {
          "color": "rgba(0, 0, 0, 0.7)",
          "family": "Arial, sans-serif",
          "size": 24
         },
         "text": "Path Length Comparison For Before and After Improvement Paths"
        },
        "width": 1400,
        "xaxis": {
         "gridcolor": "#E0E8F0",
         "side": "top",
         "title": {
          "standoff": 10,
          "text": "Path Length"
         },
         "zerolinecolor": "#E0E8F0"
        },
        "yaxis": {
         "gridcolor": "#E0E8F0",
         "tickangle": 0,
         "tickfont": {
          "color": "rgba(0, 0, 0, 0.8)",
          "family": "Arial, sans-serif",
          "size": 15
         },
         "ticktext": [
          "Cat → Dog",
          "North_America → Canada",
          "Moon → Mars",
          "Apple → Fruit",
          "Jesus → God",
          "Mario → Nintendo",
          "Batman → Superman",
          "Germany → Adolf_Hitler",
          "Dinosaur → China",
          "Apple → Banana",
          "Batman → Japan",
          "Manchester → Water",
          "England → Japan",
          "Africa → England",
          "Necktie → Lion",
          "California → Middle_East",
          "James_Bond → Human_rights",
          "Cat → Computer",
          "Volcano → Alphabet",
          "China → Afghanistan",
          "Linguistics → Rome",
          "England → Train",
          "Jew → Telephone",
          "Dinosaur → George_W._Bush",
          "Video → China",
          "Citrus → Physics",
          "Chemistry → Fidel_Castro",
          "Dog → Sea",
          "Colombia → Meat",
          "Human → Pluto",
          "Achilles → Winston_Churchill",
          "Beer → Warsaw",
          "Earth → Odysseus",
          "Adolf_Hitler → Jesus",
          "AT%26T → Vegetable",
          "Bird → Thomas_Jefferson",
          "United_States → English_language",
          "Computer → Baseball",
          "California → Adolf_Hitler",
          "Australian_Open → George_W._Bush",
          "Tennis → Nuclear_weapon",
          "Batman → The_Holocaust",
          "Hydrogen → Gold",
          "Flower → Adolf_Hitler",
          "Dog → Beer",
          "Computer → Russia",
          "England → God",
          "Bangladesh → Harry_S._Truman",
          "Brazil → Vitamin",
          "Alpaca → Nuclear_fission",
          "Google → God",
          "Pyramid → Adolf_Hitler",
          "Planet → Nuclear_power",
          "Brain → DVD",
          "Pluto → Wall_Street",
          "Citrus → Desert",
          "Flower → George_H._W._Bush",
          "Weed → Jesus",
          "Meteorological_history_of_Hurricane_Katrina → Iraq_War",
          "Dodo → Film",
          "Colombia → 6th_century",
          "Batman → Bill_Clinton",
          "Chemistry → George_H._W._Bush",
          "Batman → Jesus",
          "Anaconda → Agnosticism",
          "American_Civil_War → Kuwait_City",
          "Seed → New_York_City",
          "Mario → God",
          "Aircraft → Yugoslavia",
          "Solar_System → Babe_Ruth",
          "Brain → Telephone",
          "14th_century → Rainbow",
          "Batman → Wood",
          "Dog → Telephone",
          "Automobile → Windows_XP",
          "Antlion → Hip_hop_music",
          "Cat → Adolf_Hitler",
          "God → Adolf_Hitler",
          "Cat → University",
          "Batman → Bible",
          "Pyramid → Bean",
          "Cat → Microsoft",
          "Automobile → Pluto",
          "Electricity → God",
          "Achilles_tendon → Ocean",
          "Reptile → Jesus",
          "Pikachu → Jesus",
          "Brazil → Hydrogen",
          "Art → Mango",
          "God → Aztec",
          "Canada → Pony",
          "Aluminium_chloride → Parrot",
          "Batman → Penguin",
          "Mormon → Ice",
          "Computer → Fruit",
          "Batman → Banana",
          "15th_century → Windows_Vista",
          "Calculus → Lemon",
          "Earless_seal → Citrus",
          "Aircraft → Solar_eclipse",
          "AIDS → Jesus",
          "Arnold_Schwarzenegger → Vegetable",
          "Famine → Arctic",
          "Jesus → Google",
          "Wasp → United_Arab_Emirates",
          "Age_of_Enlightenment → Kazakhstan",
          "Dog → Venus",
          "Fourteenth_Amendment_to_the_United_States_Constitution → Reptile",
          "Acceleration → Mozilla_Firefox",
          "Computer_programming → Fresh_water",
          "Beer → Sun",
          "Khudai_Khidmatgar → Whale",
          "Judaism → Flute",
          "Theatre → Zebra",
          "Jesus → Microsoft",
          "Booby → Ununhexium",
          "Nintendo → Snow",
          "Brothers_Grimm → Windows_Vista",
          "Ocean → Love",
          "Dog → Elementary_algebra",
          "Archbishop_of_Canterbury → Neil_Armstrong",
          "Batman → Peanut",
          "Weasel → Barium",
          "Batman → Coconut_crab",
          "Bird → Great_white_shark",
          "Electricity → Anne_Frank",
          "Continent → Gorilla",
          "Smog → Toy_Story",
          "Gregorian_chant → Inductance",
          "George_W._Bush → Monkey",
          "Linux → Adolf_Hitler",
          "Forth → Anne_Frank",
          "David_Beckham → Great_white_shark",
          "Metal → Prague",
          "Achilles_tendon → Ivory",
          "Mathematics → Juice",
          "Chocolate → Velociraptor"
         ],
         "tickvals": [
          0,
          1,
          2,
          3,
          4,
          5,
          6,
          7,
          8,
          9,
          10,
          11,
          12,
          13,
          14,
          15,
          16,
          17,
          18,
          19,
          20,
          21,
          22,
          23,
          24,
          25,
          26,
          27,
          28,
          29,
          30,
          31,
          32,
          33,
          34,
          35,
          36,
          37,
          38,
          39,
          40
         ]
        }
       }
      }
     },
     "metadata": {},
     "output_type": "display_data"
    }
   ],
   "source": [
    "before_tuning_paths = load_ai_paths('data/paths_before_tuning', ori_dest)\n",
    "after_4o_tuning_paths = load_ai_paths('data/paths_after_tuning', ori_dest)\n",
    "after_4o_mini_tuning_paths = load_ai_paths('data/paths_after_tuning_4o_mini', ori_dest)\n",
    "\n",
    "plot_updated_task_path_length_comparison(before_tuning_paths, after_4o_tuning_paths, after_4o_mini_tuning_paths, ori_dest, shortest_paths, sample_fraction=0.3, fixed_height_per_pair=50, fixed_width=1400, x_jitter_offset=0.025, seed=58, y_offset=0.15)\n"
   ]
  },
  {
   "cell_type": "code",
   "execution_count": 15,
   "metadata": {},
   "outputs": [
    {
     "data": {
      "image/png": "[encoded data removed]",
      "text/plain": [
       "<Figure size 800x800 with 3 Axes>"
      ]
     },
     "metadata": {},
     "output_type": "display_data"
    }
   ],
   "source": [
    "correlation_between_embedding_and_distance(G, sentence_embeddings, 5000)"
   ]
  },
  {
   "cell_type": "code",
   "execution_count": 16,
   "metadata": {},
   "outputs": [
    {
     "name": "stdout",
     "output_type": "stream",
     "text": [
      "---------------Path 1: baseline, Path 2: manually improved prompt-------------\n",
      "Failure rate for Paths 1: 0.0, Path 2: 0.0\n",
      "Number of paths that are shorter for Paths 1: 33, Path 2: 69\n",
      "Average for Path 1: 6.215074309978768, Path 2: 5.8055201698513805\n",
      "Median path length for Path 1: 5.2, Path 2: 5.2\n",
      "T test result: t_stat=2.9152835586817876, p_value=0.004077256994251107\n",
      "Average difference with the shortest path for Path 1: 2.5144373673036093, Path 2: 2.104883227176221\n",
      "T test result: t_stat=2.9152835586817876, p_value=0.004077256994251107\n",
      "-------------Path 1: baseline, Path 2: task modification-------------\n",
      "Failure rate for Paths 1: 0.0, Path 2: 0.07006369426751592\n",
      "Number of paths that are shorter for Paths 1: 40, Path 2: 66\n",
      "Average for Path 1: 6.113812785388128, Path 2: 5.698630136986301\n",
      "Median path length for Path 1: 5.2, Path 2: 5.0\n",
      "T test result: t_stat=1.9184075019203766, p_value=0.0570246309949651\n",
      "Average difference with the shortest path for Path 1: 2.408333333333333, Path 2: 1.9931506849315068\n",
      "T test result: t_stat=1.9184075019203766, p_value=0.0570246309949651\n",
      "-------------Path 1: Before tuning, Path 2: GPT-4o tuning-------------\n",
      "Failure rate for Paths 1: 0.07006369426751592, Path 2: 0.08280254777070063\n",
      "Number of paths that are shorter for Paths 1: 31, Path 2: 31\n",
      "Average for Path 1: 5.64748201438849, Path 2: 5.661870503597123\n",
      "Median path length for Path 1: 5.0, Path 2: 5.0\n",
      "T test result: t_stat=-0.08705794688592748, p_value=0.9307516473797014\n",
      "Average difference with the shortest path for Path 1: 1.935251798561151, Path 2: 1.9496402877697843\n",
      "T test result: t_stat=-0.08705794688592748, p_value=0.9307516473797014\n",
      "-------------Path 1: Before tuning, Path 2: GPT-4o mini tuning-------------\n",
      "Failure rate for Paths 1: 0.07006369426751592, Path 2: 0.050955414012738856\n",
      "Number of paths that are shorter for Paths 1: 47, Path 2: 22\n",
      "Average for Path 1: 5.602836879432624, Path 2: 5.929078014184397\n",
      "Median path length for Path 1: 5.0, Path 2: 5.0\n",
      "T test result: t_stat=-1.7668799780658386, p_value=0.07942740469419846\n",
      "Average difference with the shortest path for Path 1: 1.8936170212765957, Path 2: 2.219858156028369\n",
      "T test result: t_stat=-1.7668799780658386, p_value=0.07942740469419846\n"
     ]
    }
   ],
   "source": [
    "baseline = load_ai_paths('data/paths', ori_dest)\n",
    "manually_improved_prompt = load_ai_paths('data/paths_improved_prompt', ori_dest)\n",
    "print(\"---------------Path 1: baseline, Path 2: manually improved prompt-------------\")\n",
    "paths_comparation(baseline, manually_improved_prompt, shortest_paths, ori_dest)\n",
    "\n",
    "task_modification = load_ai_paths('data/paths_before_tuning', ori_dest)\n",
    "print(\"-------------Path 1: baseline, Path 2: task modification-------------\")\n",
    "paths_comparation(baseline, task_modification, shortest_paths, ori_dest)\n",
    "\n",
    "gpt_4o_tuning = load_ai_paths('data/paths_after_tuning', ori_dest)\n",
    "print(\"-------------Path 1: Before tuning, Path 2: GPT-4o tuning-------------\")\n",
    "paths_comparation(task_modification, gpt_4o_tuning, shortest_paths, ori_dest)\n",
    "\n",
    "gpt_4o_mini_tuning = load_ai_paths('data/paths_after_tuning_4o_mini', ori_dest)\n",
    "print(\"-------------Path 1: Before tuning, Path 2: GPT-4o mini tuning-------------\")\n",
    "paths_comparation(task_modification, gpt_4o_mini_tuning, shortest_paths, ori_dest)\n"
   ]
  }
 ],
 "metadata": {
  "kernelspec": {
   "display_name": "ada2",
   "language": "python",
   "name": "python3"
  },
  "language_info": {
   "codemirror_mode": {
    "name": "ipython",
    "version": 3
   },
   "file_extension": ".py",
   "mimetype": "text/x-python",
   "name": "python",
   "nbconvert_exporter": "python",
   "pygments_lexer": "ipython3",
   "version": "3.9.20"
  }
 },
 "nbformat": 4,
 "nbformat_minor": 2
}
