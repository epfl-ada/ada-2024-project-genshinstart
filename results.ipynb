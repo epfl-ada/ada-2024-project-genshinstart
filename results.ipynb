{
 "cells": [
  {
   "cell_type": "markdown",
   "metadata": {},
   "source": [
    "### Articles analysis\n",
    "\n",
    "In this part, we explored various features across all articles. We collected data on title length, high-frequency words, and titles containing years, hypothesizing that these factors might influence path selection in the game."
   ]
  },
  {
   "cell_type": "code",
   "metadata": {
    "ExecuteTime": {
     "end_time": "2024-11-11T00:22:50.313361Z",
     "start_time": "2024-11-11T00:22:50.296127Z"
    }
   },
   "source": [
    "import pandas as pd\n",
    "from urllib.parse import unquote\n",
    "\n",
    "articles = pd.read_csv('data/wikispeedia_paths-and-graph/articles.tsv', \n",
    "                      sep='\\t', \n",
    "                      comment='#', \n",
    "                      header=None,\n",
    "                      names=['article'])\n",
    "# unquote the titles\n",
    "articles = articles.map(unquote)\n",
    "articles.head()"
   ],
   "outputs": [
    {
     "data": {
      "text/plain": [
       "                 article\n",
       "0      Áedán_mac_Gabráin\n",
       "1                  Åland\n",
       "2          Édouard_Manet\n",
       "3                   Éire\n",
       "4  Óengus_I_of_the_Picts"
      ],
      "text/html": [
       "<div>\n",
       "<style scoped>\n",
       "    .dataframe tbody tr th:only-of-type {\n",
       "        vertical-align: middle;\n",
       "    }\n",
       "\n",
       "    .dataframe tbody tr th {\n",
       "        vertical-align: top;\n",
       "    }\n",
       "\n",
       "    .dataframe thead th {\n",
       "        text-align: right;\n",
       "    }\n",
       "</style>\n",
       "<table border=\"1\" class=\"dataframe\">\n",
       "  <thead>\n",
       "    <tr style=\"text-align: right;\">\n",
       "      <th></th>\n",
       "      <th>article</th>\n",
       "    </tr>\n",
       "  </thead>\n",
       "  <tbody>\n",
       "    <tr>\n",
       "      <th>0</th>\n",
       "      <td>Áedán_mac_Gabráin</td>\n",
       "    </tr>\n",
       "    <tr>\n",
       "      <th>1</th>\n",
       "      <td>Åland</td>\n",
       "    </tr>\n",
       "    <tr>\n",
       "      <th>2</th>\n",
       "      <td>Édouard_Manet</td>\n",
       "    </tr>\n",
       "    <tr>\n",
       "      <th>3</th>\n",
       "      <td>Éire</td>\n",
       "    </tr>\n",
       "    <tr>\n",
       "      <th>4</th>\n",
       "      <td>Óengus_I_of_the_Picts</td>\n",
       "    </tr>\n",
       "  </tbody>\n",
       "</table>\n",
       "</div>"
      ]
     },
     "execution_count": 44,
     "metadata": {},
     "output_type": "execute_result"
    }
   ],
   "execution_count": 44
  },
  {
   "metadata": {
    "ExecuteTime": {
     "end_time": "2024-11-11T00:22:50.345360Z",
     "start_time": "2024-11-11T00:22:50.343188Z"
    }
   },
   "cell_type": "code",
   "source": [
    "# print the shape\n",
    "print(f'articles.shape: {articles.shape}')"
   ],
   "outputs": [
    {
     "name": "stdout",
     "output_type": "stream",
     "text": [
      "articles.shape: (4604, 1)\n"
     ]
    }
   ],
   "execution_count": 45
  },
  {
   "metadata": {
    "ExecuteTime": {
     "end_time": "2024-11-11T00:22:50.424034Z",
     "start_time": "2024-11-11T00:22:50.415983Z"
    }
   },
   "cell_type": "code",
   "source": [
    "# print the frequency of each word occurred in the titles\n",
    "articles['article'].str.split('_').explode().value_counts()"
   ],
   "outputs": [
    {
     "data": {
      "text/plain": [
       "article\n",
       "of          431\n",
       "the         126\n",
       "The          73\n",
       "and          64\n",
       "United       48\n",
       "           ... \n",
       "Lloyd         1\n",
       "Francium      1\n",
       "Goya          1\n",
       "Assisi        1\n",
       "Zulu          1\n",
       "Name: count, Length: 5585, dtype: int64"
      ]
     },
     "execution_count": 46,
     "metadata": {},
     "output_type": "execute_result"
    }
   ],
   "execution_count": 46
  },
  {
   "metadata": {},
   "cell_type": "markdown",
   "source": "Among the high-frequency words, meaningful terms such as \"United,\" \"History,\" \"England,\" and \"War\" appeared frequently. This may indicate a selection bias in the data or reflect topics that attract more attention. "
  },
  {
   "metadata": {
    "ExecuteTime": {
     "end_time": "2024-11-11T00:22:50.496448Z",
     "start_time": "2024-11-11T00:22:50.490857Z"
    }
   },
   "cell_type": "code",
   "source": [
    "# the length of titles may affect human's preference\n",
    "articles['article'].str.len().describe()"
   ],
   "outputs": [
    {
     "data": {
      "text/plain": [
       "count    4604.000000\n",
       "mean       13.637489\n",
       "std         7.777092\n",
       "min         2.000000\n",
       "25%         8.000000\n",
       "50%        12.000000\n",
       "75%        17.000000\n",
       "max        83.000000\n",
       "Name: article, dtype: float64"
      ]
     },
     "execution_count": 47,
     "metadata": {},
     "output_type": "execute_result"
    }
   ],
   "execution_count": 47
  },
  {
   "metadata": {
    "ExecuteTime": {
     "end_time": "2024-11-11T00:22:50.570152Z",
     "start_time": "2024-11-11T00:22:50.565659Z"
    }
   },
   "cell_type": "code",
   "source": [
    "# the titles with specified year may affect human's preference\n",
    "contain_year = articles[articles['article'].str.contains(r'\\b\\d{4}\\b')]\n",
    "print(f'Counts: {len(contain_year)}\\n{contain_year}')"
   ],
   "outputs": [
    {
     "name": "stdout",
     "output_type": "stream",
     "text": [
      "Counts: 40\n",
      "                                  article\n",
      "511             Battle_of_Smolensk_(1943)\n",
      "515               Battle_of_Warsaw_(1920)\n",
      "520            Battle_of_the_Somme_(1916)\n",
      "1368          Elizabethan_Poor_Law_(1601)\n",
      "1961        History_of_Poland_(1945–1989)\n",
      "1962      History_of_Portugal_(1777–1834)\n",
      "2040                Hurricane_Alex_(2004)\n",
      "2044               Hurricane_Danny_(1997)\n",
      "2047             Hurricane_Edouard_(1996)\n",
      "2048             Hurricane_Epsilon_(2005)\n",
      "2049               Hurricane_Felix_(1995)\n",
      "2054                Hurricane_John_(1994)\n",
      "2055                Hurricane_John_(2006)\n",
      "2058               Hurricane_Marty_(2003)\n",
      "2060            Hurricane_Philippe_(2005)\n",
      "2061               Hurricane_Vince_(2005)\n",
      "2427         Laws_in_Wales_Acts_1535–1542\n",
      "3290     Polish–Muscovite_War_(1605–1618)\n",
      "3292     Polish-Muscovite_War_(1605–1618)\n",
      "3745  Sino-German_cooperation_(1911-1941)\n",
      "4223            Tropical_Storm_Ana_(2003)\n",
      "4224          Tropical_Storm_Bilis_(2006)\n",
      "4225         Tropical_Storm_Bonnie_(2004)\n",
      "4226          Tropical_Storm_Chris_(2006)\n",
      "4227       Tropical_Storm_Danielle_(1992)\n",
      "4228          Tropical_Storm_Delta_(2005)\n",
      "4229       Tropical_Storm_Franklin_(2005)\n",
      "4230         Tropical_Storm_Harvey_(2005)\n",
      "4231          Tropical_Storm_Henri_(2003)\n",
      "4232         Tropical_Storm_Isabel_(1985)\n",
      "4233          Tropical_Storm_Larry_(2003)\n",
      "4234            Tropical_Storm_Lee_(2005)\n",
      "4235         Tropical_Storm_Leslie_(2000)\n",
      "4236        Tropical_Storm_Matthew_(2004)\n",
      "4237         Tropical_Storm_Odette_(2003)\n",
      "4239           Tropical_Storm_Zeta_(2005)\n",
      "4269               Typhoon_Ewiniar_(2006)\n",
      "4270                Typhoon_Saomai_(2006)\n",
      "4407        War_in_Somalia_(2006–present)\n",
      "4415               Warsaw_Uprising_(1794)\n"
     ]
    }
   ],
   "execution_count": 48
  },
  {
   "metadata": {},
   "cell_type": "markdown",
   "source": "Only 40 titles contain years, representing a very small proportion of the dataset."
  },
  {
   "cell_type": "markdown",
   "metadata": {},
   "source": [
    "### Categories analysis\n",
    "We analyzed the number of categories each article belongs to. "
   ]
  },
  {
   "cell_type": "code",
   "metadata": {
    "ExecuteTime": {
     "end_time": "2024-11-11T00:22:50.641546Z",
     "start_time": "2024-11-11T00:22:50.631649Z"
    }
   },
   "source": [
    "categories = pd.read_csv('data/wikispeedia_paths-and-graph/categories.tsv',\n",
    "                        sep='\\t',\n",
    "                        comment='#',\n",
    "                        header=None,\n",
    "                        names=['article', 'category'])\n",
    "# unquote \n",
    "categories = categories.map(unquote)\n",
    "categories.head()"
   ],
   "outputs": [
    {
     "data": {
      "text/plain": [
       "             article                                           category\n",
       "0  Áedán_mac_Gabráin  subject.History.British_History.British_Histor...\n",
       "1  Áedán_mac_Gabráin                  subject.People.Historical_figures\n",
       "2              Åland                                  subject.Countries\n",
       "3              Åland  subject.Geography.European_Geography.European_...\n",
       "4      Édouard_Manet                             subject.People.Artists"
      ],
      "text/html": [
       "<div>\n",
       "<style scoped>\n",
       "    .dataframe tbody tr th:only-of-type {\n",
       "        vertical-align: middle;\n",
       "    }\n",
       "\n",
       "    .dataframe tbody tr th {\n",
       "        vertical-align: top;\n",
       "    }\n",
       "\n",
       "    .dataframe thead th {\n",
       "        text-align: right;\n",
       "    }\n",
       "</style>\n",
       "<table border=\"1\" class=\"dataframe\">\n",
       "  <thead>\n",
       "    <tr style=\"text-align: right;\">\n",
       "      <th></th>\n",
       "      <th>article</th>\n",
       "      <th>category</th>\n",
       "    </tr>\n",
       "  </thead>\n",
       "  <tbody>\n",
       "    <tr>\n",
       "      <th>0</th>\n",
       "      <td>Áedán_mac_Gabráin</td>\n",
       "      <td>subject.History.British_History.British_Histor...</td>\n",
       "    </tr>\n",
       "    <tr>\n",
       "      <th>1</th>\n",
       "      <td>Áedán_mac_Gabráin</td>\n",
       "      <td>subject.People.Historical_figures</td>\n",
       "    </tr>\n",
       "    <tr>\n",
       "      <th>2</th>\n",
       "      <td>Åland</td>\n",
       "      <td>subject.Countries</td>\n",
       "    </tr>\n",
       "    <tr>\n",
       "      <th>3</th>\n",
       "      <td>Åland</td>\n",
       "      <td>subject.Geography.European_Geography.European_...</td>\n",
       "    </tr>\n",
       "    <tr>\n",
       "      <th>4</th>\n",
       "      <td>Édouard_Manet</td>\n",
       "      <td>subject.People.Artists</td>\n",
       "    </tr>\n",
       "  </tbody>\n",
       "</table>\n",
       "</div>"
      ]
     },
     "execution_count": 49,
     "metadata": {},
     "output_type": "execute_result"
    }
   ],
   "execution_count": 49
  },
  {
   "metadata": {
    "ExecuteTime": {
     "end_time": "2024-11-11T00:22:50.712703Z",
     "start_time": "2024-11-11T00:22:50.710650Z"
    }
   },
   "cell_type": "code",
   "source": [
    "# print the shape\n",
    "print(f'categories.shape: {categories.shape}')"
   ],
   "outputs": [
    {
     "name": "stdout",
     "output_type": "stream",
     "text": [
      "categories.shape: (5204, 2)\n"
     ]
    }
   ],
   "execution_count": 50
  },
  {
   "metadata": {
    "ExecuteTime": {
     "end_time": "2024-11-11T00:22:50.813422Z",
     "start_time": "2024-11-11T00:22:50.767564Z"
    }
   },
   "cell_type": "code",
   "source": [
    "# Use a list to store the categories for each article \n",
    "# and calculate the number of categories\n",
    "articles_categories = pd.DataFrame(articles, columns=['article'])\n",
    "\n",
    "category_dict = categories.groupby('article')['category'].apply(list).to_dict()\n",
    "articles_categories['categories'] = articles_categories['article'].map(category_dict).apply(lambda x: x if isinstance(x, list) else [])\n",
    "articles_categories['num_categories'] = articles_categories['categories'].apply(len)\n",
    "\n",
    "len(articles_categories)"
   ],
   "outputs": [
    {
     "data": {
      "text/plain": [
       "4604"
      ]
     },
     "execution_count": 51,
     "metadata": {},
     "output_type": "execute_result"
    }
   ],
   "execution_count": 51
  },
  {
   "metadata": {
    "ExecuteTime": {
     "end_time": "2024-11-11T00:22:50.833057Z",
     "start_time": "2024-11-11T00:22:50.828382Z"
    }
   },
   "cell_type": "code",
   "source": "articles_categories.head()",
   "outputs": [
    {
     "data": {
      "text/plain": [
       "                 article                                         categories  \\\n",
       "0      Áedán_mac_Gabráin  [subject.History.British_History.British_Histo...   \n",
       "1                  Åland  [subject.Countries, subject.Geography.European...   \n",
       "2          Édouard_Manet                           [subject.People.Artists]   \n",
       "3                   Éire  [subject.Countries, subject.Geography.European...   \n",
       "4  Óengus_I_of_the_Picts  [subject.History.British_History.British_Histo...   \n",
       "\n",
       "   num_categories  \n",
       "0               2  \n",
       "1               2  \n",
       "2               1  \n",
       "3               2  \n",
       "4               2  "
      ],
      "text/html": [
       "<div>\n",
       "<style scoped>\n",
       "    .dataframe tbody tr th:only-of-type {\n",
       "        vertical-align: middle;\n",
       "    }\n",
       "\n",
       "    .dataframe tbody tr th {\n",
       "        vertical-align: top;\n",
       "    }\n",
       "\n",
       "    .dataframe thead th {\n",
       "        text-align: right;\n",
       "    }\n",
       "</style>\n",
       "<table border=\"1\" class=\"dataframe\">\n",
       "  <thead>\n",
       "    <tr style=\"text-align: right;\">\n",
       "      <th></th>\n",
       "      <th>article</th>\n",
       "      <th>categories</th>\n",
       "      <th>num_categories</th>\n",
       "    </tr>\n",
       "  </thead>\n",
       "  <tbody>\n",
       "    <tr>\n",
       "      <th>0</th>\n",
       "      <td>Áedán_mac_Gabráin</td>\n",
       "      <td>[subject.History.British_History.British_Histo...</td>\n",
       "      <td>2</td>\n",
       "    </tr>\n",
       "    <tr>\n",
       "      <th>1</th>\n",
       "      <td>Åland</td>\n",
       "      <td>[subject.Countries, subject.Geography.European...</td>\n",
       "      <td>2</td>\n",
       "    </tr>\n",
       "    <tr>\n",
       "      <th>2</th>\n",
       "      <td>Édouard_Manet</td>\n",
       "      <td>[subject.People.Artists]</td>\n",
       "      <td>1</td>\n",
       "    </tr>\n",
       "    <tr>\n",
       "      <th>3</th>\n",
       "      <td>Éire</td>\n",
       "      <td>[subject.Countries, subject.Geography.European...</td>\n",
       "      <td>2</td>\n",
       "    </tr>\n",
       "    <tr>\n",
       "      <th>4</th>\n",
       "      <td>Óengus_I_of_the_Picts</td>\n",
       "      <td>[subject.History.British_History.British_Histo...</td>\n",
       "      <td>2</td>\n",
       "    </tr>\n",
       "  </tbody>\n",
       "</table>\n",
       "</div>"
      ]
     },
     "execution_count": 52,
     "metadata": {},
     "output_type": "execute_result"
    }
   ],
   "execution_count": 52
  },
  {
   "metadata": {
    "ExecuteTime": {
     "end_time": "2024-11-11T00:22:50.895403Z",
     "start_time": "2024-11-11T00:22:50.890748Z"
    }
   },
   "cell_type": "code",
   "source": [
    "# Count the occurrence frequency of each num_categories value\n",
    "num_categories_counts = articles_categories['num_categories'].value_counts().sort_index().to_frame(name='count')\n",
    "total = num_categories_counts['count'].sum()\n",
    "num_categories_counts['percentage'] = (num_categories_counts['count'] / total) * 100\n",
    "num_categories_counts"
   ],
   "outputs": [
    {
     "data": {
      "text/plain": [
       "                count  percentage\n",
       "num_categories                   \n",
       "0                   6    0.130321\n",
       "1                4000   86.880973\n",
       "2                 590   12.814944\n",
       "3                   8    0.173762"
      ],
      "text/html": [
       "<div>\n",
       "<style scoped>\n",
       "    .dataframe tbody tr th:only-of-type {\n",
       "        vertical-align: middle;\n",
       "    }\n",
       "\n",
       "    .dataframe tbody tr th {\n",
       "        vertical-align: top;\n",
       "    }\n",
       "\n",
       "    .dataframe thead th {\n",
       "        text-align: right;\n",
       "    }\n",
       "</style>\n",
       "<table border=\"1\" class=\"dataframe\">\n",
       "  <thead>\n",
       "    <tr style=\"text-align: right;\">\n",
       "      <th></th>\n",
       "      <th>count</th>\n",
       "      <th>percentage</th>\n",
       "    </tr>\n",
       "    <tr>\n",
       "      <th>num_categories</th>\n",
       "      <th></th>\n",
       "      <th></th>\n",
       "    </tr>\n",
       "  </thead>\n",
       "  <tbody>\n",
       "    <tr>\n",
       "      <th>0</th>\n",
       "      <td>6</td>\n",
       "      <td>0.130321</td>\n",
       "    </tr>\n",
       "    <tr>\n",
       "      <th>1</th>\n",
       "      <td>4000</td>\n",
       "      <td>86.880973</td>\n",
       "    </tr>\n",
       "    <tr>\n",
       "      <th>2</th>\n",
       "      <td>590</td>\n",
       "      <td>12.814944</td>\n",
       "    </tr>\n",
       "    <tr>\n",
       "      <th>3</th>\n",
       "      <td>8</td>\n",
       "      <td>0.173762</td>\n",
       "    </tr>\n",
       "  </tbody>\n",
       "</table>\n",
       "</div>"
      ]
     },
     "execution_count": 53,
     "metadata": {},
     "output_type": "execute_result"
    }
   ],
   "execution_count": 53
  },
  {
   "metadata": {},
   "cell_type": "markdown",
   "source": "Over 85% of articles are assigned to only one category, with a small portion belonging to two, and other counts being close to zero."
  },
  {
   "cell_type": "markdown",
   "metadata": {},
   "source": [
    "### links analysis\n",
    "In the link analysis phase, we treated the Wikipedia network as a directed graph, calculating in-degree and out-degree distributions and computing PageRank to identify the most structurally influential pages. Pages with higher PageRank scores are typically more central or connected within the network, which may make them attractive choices in a player's navigation path.\n",
    "\n",
    "Our observations reveal that entities like \"United States,\" \"United Kingdom,\" and \"Europe\" hold greater influence in terms of both in-degree and PageRank, reflecting their centrality in the network. On the other hand, more generalized articles, such as \"Driving on the left or right\" and \"List of countries,\" tend to have higher out-degrees. These articles may serve effectively as intermediate nodes, potentially facilitating efficient transitions between more specific topics."
   ]
  },
  {
   "cell_type": "code",
   "metadata": {
    "ExecuteTime": {
     "end_time": "2024-11-11T00:22:51.018637Z",
     "start_time": "2024-11-11T00:22:50.942801Z"
    }
   },
   "source": [
    "links = pd.read_csv('data/wikispeedia_paths-and-graph/links.tsv',\n",
    "                     sep='\\t',\n",
    "                     comment='#',\n",
    "                     header=None,\n",
    "                     names=['from', 'to'])\n",
    "# unquote\n",
    "links = links.map(unquote)\n",
    "links.head()"
   ],
   "outputs": [
    {
     "data": {
      "text/plain": [
       "                from             to\n",
       "0  Áedán_mac_Gabráin           Bede\n",
       "1  Áedán_mac_Gabráin        Columba\n",
       "2  Áedán_mac_Gabráin      Dál_Riata\n",
       "3  Áedán_mac_Gabráin  Great_Britain\n",
       "4  Áedán_mac_Gabráin        Ireland"
      ],
      "text/html": [
       "<div>\n",
       "<style scoped>\n",
       "    .dataframe tbody tr th:only-of-type {\n",
       "        vertical-align: middle;\n",
       "    }\n",
       "\n",
       "    .dataframe tbody tr th {\n",
       "        vertical-align: top;\n",
       "    }\n",
       "\n",
       "    .dataframe thead th {\n",
       "        text-align: right;\n",
       "    }\n",
       "</style>\n",
       "<table border=\"1\" class=\"dataframe\">\n",
       "  <thead>\n",
       "    <tr style=\"text-align: right;\">\n",
       "      <th></th>\n",
       "      <th>from</th>\n",
       "      <th>to</th>\n",
       "    </tr>\n",
       "  </thead>\n",
       "  <tbody>\n",
       "    <tr>\n",
       "      <th>0</th>\n",
       "      <td>Áedán_mac_Gabráin</td>\n",
       "      <td>Bede</td>\n",
       "    </tr>\n",
       "    <tr>\n",
       "      <th>1</th>\n",
       "      <td>Áedán_mac_Gabráin</td>\n",
       "      <td>Columba</td>\n",
       "    </tr>\n",
       "    <tr>\n",
       "      <th>2</th>\n",
       "      <td>Áedán_mac_Gabráin</td>\n",
       "      <td>Dál_Riata</td>\n",
       "    </tr>\n",
       "    <tr>\n",
       "      <th>3</th>\n",
       "      <td>Áedán_mac_Gabráin</td>\n",
       "      <td>Great_Britain</td>\n",
       "    </tr>\n",
       "    <tr>\n",
       "      <th>4</th>\n",
       "      <td>Áedán_mac_Gabráin</td>\n",
       "      <td>Ireland</td>\n",
       "    </tr>\n",
       "  </tbody>\n",
       "</table>\n",
       "</div>"
      ]
     },
     "execution_count": 54,
     "metadata": {},
     "output_type": "execute_result"
    }
   ],
   "execution_count": 54
  },
  {
   "metadata": {
    "ExecuteTime": {
     "end_time": "2024-11-11T14:03:14.503963Z",
     "start_time": "2024-11-11T14:03:14.495870Z"
    }
   },
   "cell_type": "code",
   "source": [
    "# The number of edges\n",
    "len(links)"
   ],
   "outputs": [
    {
     "data": {
      "text/plain": [
       "119882"
      ]
     },
     "execution_count": 59,
     "metadata": {},
     "output_type": "execute_result"
    }
   ],
   "execution_count": 59
  },
  {
   "metadata": {
    "ExecuteTime": {
     "end_time": "2024-11-11T14:34:08.054993Z",
     "start_time": "2024-11-11T14:34:08.043559Z"
    }
   },
   "cell_type": "code",
   "source": [
    "out_degree = links['from'].value_counts().reset_index()\n",
    "out_degree.columns = ['article', 'out_degree']\n",
    "out_degree.head()"
   ],
   "outputs": [
    {
     "data": {
      "text/plain": [
       "                          article  out_degree\n",
       "0                   United_States         294\n",
       "1    Driving_on_the_left_or_right         255\n",
       "2               List_of_countries         244\n",
       "3  List_of_circulating_currencies         236\n",
       "4        List_of_sovereign_states         216"
      ],
      "text/html": [
       "<div>\n",
       "<style scoped>\n",
       "    .dataframe tbody tr th:only-of-type {\n",
       "        vertical-align: middle;\n",
       "    }\n",
       "\n",
       "    .dataframe tbody tr th {\n",
       "        vertical-align: top;\n",
       "    }\n",
       "\n",
       "    .dataframe thead th {\n",
       "        text-align: right;\n",
       "    }\n",
       "</style>\n",
       "<table border=\"1\" class=\"dataframe\">\n",
       "  <thead>\n",
       "    <tr style=\"text-align: right;\">\n",
       "      <th></th>\n",
       "      <th>article</th>\n",
       "      <th>out_degree</th>\n",
       "    </tr>\n",
       "  </thead>\n",
       "  <tbody>\n",
       "    <tr>\n",
       "      <th>0</th>\n",
       "      <td>United_States</td>\n",
       "      <td>294</td>\n",
       "    </tr>\n",
       "    <tr>\n",
       "      <th>1</th>\n",
       "      <td>Driving_on_the_left_or_right</td>\n",
       "      <td>255</td>\n",
       "    </tr>\n",
       "    <tr>\n",
       "      <th>2</th>\n",
       "      <td>List_of_countries</td>\n",
       "      <td>244</td>\n",
       "    </tr>\n",
       "    <tr>\n",
       "      <th>3</th>\n",
       "      <td>List_of_circulating_currencies</td>\n",
       "      <td>236</td>\n",
       "    </tr>\n",
       "    <tr>\n",
       "      <th>4</th>\n",
       "      <td>List_of_sovereign_states</td>\n",
       "      <td>216</td>\n",
       "    </tr>\n",
       "  </tbody>\n",
       "</table>\n",
       "</div>"
      ]
     },
     "execution_count": 61,
     "metadata": {},
     "output_type": "execute_result"
    }
   ],
   "execution_count": 61
  },
  {
   "metadata": {
    "ExecuteTime": {
     "end_time": "2024-11-11T14:40:26.524642Z",
     "start_time": "2024-11-11T14:40:26.516601Z"
    }
   },
   "cell_type": "code",
   "source": [
    "in_degree = links['to'].value_counts().reset_index()\n",
    "in_degree.columns = ['article', 'in_degree']\n",
    "in_degree.head()"
   ],
   "outputs": [
    {
     "data": {
      "text/plain": [
       "          article  in_degree\n",
       "0   United_States       1551\n",
       "1  United_Kingdom        972\n",
       "2          France        959\n",
       "3          Europe        933\n",
       "4         England        751"
      ],
      "text/html": [
       "<div>\n",
       "<style scoped>\n",
       "    .dataframe tbody tr th:only-of-type {\n",
       "        vertical-align: middle;\n",
       "    }\n",
       "\n",
       "    .dataframe tbody tr th {\n",
       "        vertical-align: top;\n",
       "    }\n",
       "\n",
       "    .dataframe thead th {\n",
       "        text-align: right;\n",
       "    }\n",
       "</style>\n",
       "<table border=\"1\" class=\"dataframe\">\n",
       "  <thead>\n",
       "    <tr style=\"text-align: right;\">\n",
       "      <th></th>\n",
       "      <th>article</th>\n",
       "      <th>in_degree</th>\n",
       "    </tr>\n",
       "  </thead>\n",
       "  <tbody>\n",
       "    <tr>\n",
       "      <th>0</th>\n",
       "      <td>United_States</td>\n",
       "      <td>1551</td>\n",
       "    </tr>\n",
       "    <tr>\n",
       "      <th>1</th>\n",
       "      <td>United_Kingdom</td>\n",
       "      <td>972</td>\n",
       "    </tr>\n",
       "    <tr>\n",
       "      <th>2</th>\n",
       "      <td>France</td>\n",
       "      <td>959</td>\n",
       "    </tr>\n",
       "    <tr>\n",
       "      <th>3</th>\n",
       "      <td>Europe</td>\n",
       "      <td>933</td>\n",
       "    </tr>\n",
       "    <tr>\n",
       "      <th>4</th>\n",
       "      <td>England</td>\n",
       "      <td>751</td>\n",
       "    </tr>\n",
       "  </tbody>\n",
       "</table>\n",
       "</div>"
      ]
     },
     "execution_count": 66,
     "metadata": {},
     "output_type": "execute_result"
    }
   ],
   "execution_count": 66
  },
  {
   "metadata": {
    "ExecuteTime": {
     "end_time": "2024-11-11T14:39:30.954966Z",
     "start_time": "2024-11-11T14:39:30.945422Z"
    }
   },
   "cell_type": "code",
   "source": [
    "degree_df = pd.merge(out_degree, in_degree, on='article', how='outer').fillna(0)\n",
    "degree_df['out_degree'] = degree_df['out_degree'].astype(int)\n",
    "degree_df['in_degree'] = degree_df['in_degree'].astype(int)\n",
    "degree_df.head()"
   ],
   "outputs": [
    {
     "data": {
      "text/plain": [
       "        article  out_degree  in_degree\n",
       "0  10th_century          26         65\n",
       "1  11th_century          48         57\n",
       "2  12th_century          45         85\n",
       "3  13th_century          34         84\n",
       "4  14th_century          31         71"
      ],
      "text/html": [
       "<div>\n",
       "<style scoped>\n",
       "    .dataframe tbody tr th:only-of-type {\n",
       "        vertical-align: middle;\n",
       "    }\n",
       "\n",
       "    .dataframe tbody tr th {\n",
       "        vertical-align: top;\n",
       "    }\n",
       "\n",
       "    .dataframe thead th {\n",
       "        text-align: right;\n",
       "    }\n",
       "</style>\n",
       "<table border=\"1\" class=\"dataframe\">\n",
       "  <thead>\n",
       "    <tr style=\"text-align: right;\">\n",
       "      <th></th>\n",
       "      <th>article</th>\n",
       "      <th>out_degree</th>\n",
       "      <th>in_degree</th>\n",
       "    </tr>\n",
       "  </thead>\n",
       "  <tbody>\n",
       "    <tr>\n",
       "      <th>0</th>\n",
       "      <td>10th_century</td>\n",
       "      <td>26</td>\n",
       "      <td>65</td>\n",
       "    </tr>\n",
       "    <tr>\n",
       "      <th>1</th>\n",
       "      <td>11th_century</td>\n",
       "      <td>48</td>\n",
       "      <td>57</td>\n",
       "    </tr>\n",
       "    <tr>\n",
       "      <th>2</th>\n",
       "      <td>12th_century</td>\n",
       "      <td>45</td>\n",
       "      <td>85</td>\n",
       "    </tr>\n",
       "    <tr>\n",
       "      <th>3</th>\n",
       "      <td>13th_century</td>\n",
       "      <td>34</td>\n",
       "      <td>84</td>\n",
       "    </tr>\n",
       "    <tr>\n",
       "      <th>4</th>\n",
       "      <td>14th_century</td>\n",
       "      <td>31</td>\n",
       "      <td>71</td>\n",
       "    </tr>\n",
       "  </tbody>\n",
       "</table>\n",
       "</div>"
      ]
     },
     "execution_count": 64,
     "metadata": {},
     "output_type": "execute_result"
    }
   ],
   "execution_count": 64
  },
  {
   "metadata": {
    "ExecuteTime": {
     "end_time": "2024-11-11T14:51:19.038005Z",
     "start_time": "2024-11-11T14:51:17.503417Z"
    }
   },
   "cell_type": "code",
   "source": [
    "# PageRank algorithm\n",
    "import networkx as nx\n",
    "\n",
    "G = nx.DiGraph()\n",
    "edges = list(zip(links['from'], links['to']))\n",
    "G.add_edges_from(edges)\n",
    "\n",
    "pagerank_dict = nx.pagerank(G, alpha=0.85)\n",
    "pagerank_df = pd.DataFrame(list(pagerank_dict.items()), columns=['article', 'pagerank'])\n",
    "pagerank_df = pagerank_df.sort_values(by='pagerank', ascending=False).reset_index(drop=True)\n",
    "pagerank_df.head()"
   ],
   "outputs": [
    {
     "data": {
      "text/plain": [
       "            article  pagerank\n",
       "0     United_States  0.009566\n",
       "1            France  0.006423\n",
       "2            Europe  0.006340\n",
       "3    United_Kingdom  0.006235\n",
       "4  English_language  0.004865"
      ],
      "text/html": [
       "<div>\n",
       "<style scoped>\n",
       "    .dataframe tbody tr th:only-of-type {\n",
       "        vertical-align: middle;\n",
       "    }\n",
       "\n",
       "    .dataframe tbody tr th {\n",
       "        vertical-align: top;\n",
       "    }\n",
       "\n",
       "    .dataframe thead th {\n",
       "        text-align: right;\n",
       "    }\n",
       "</style>\n",
       "<table border=\"1\" class=\"dataframe\">\n",
       "  <thead>\n",
       "    <tr style=\"text-align: right;\">\n",
       "      <th></th>\n",
       "      <th>article</th>\n",
       "      <th>pagerank</th>\n",
       "    </tr>\n",
       "  </thead>\n",
       "  <tbody>\n",
       "    <tr>\n",
       "      <th>0</th>\n",
       "      <td>United_States</td>\n",
       "      <td>0.009566</td>\n",
       "    </tr>\n",
       "    <tr>\n",
       "      <th>1</th>\n",
       "      <td>France</td>\n",
       "      <td>0.006423</td>\n",
       "    </tr>\n",
       "    <tr>\n",
       "      <th>2</th>\n",
       "      <td>Europe</td>\n",
       "      <td>0.006340</td>\n",
       "    </tr>\n",
       "    <tr>\n",
       "      <th>3</th>\n",
       "      <td>United_Kingdom</td>\n",
       "      <td>0.006235</td>\n",
       "    </tr>\n",
       "    <tr>\n",
       "      <th>4</th>\n",
       "      <td>English_language</td>\n",
       "      <td>0.004865</td>\n",
       "    </tr>\n",
       "  </tbody>\n",
       "</table>\n",
       "</div>"
      ]
     },
     "execution_count": 67,
     "metadata": {},
     "output_type": "execute_result"
    }
   ],
   "execution_count": 67
  },
  {
   "cell_type": "markdown",
   "metadata": {},
   "source": [
    "### path analysis\n",
    "\n",
    "In the analysis of finished paths, we explored path length and the average PageRank of articles within each path, examining their relationships with user-assigned ratings. We observed that as the difficulty rating increases, path length tends to rise. However, the average influence (PageRank) of articles in a path shows only a very weak negative correlation with perceived difficulty, suggesting that the impact of article importance on user-perceived difficulty is minimal.\n",
    "\n",
    "In the analysis of unfinished paths, we also explored the path length. Based on the data, it appears that giving up on a path is not necessarily due to excessive path length, as the average length is comparable to paths with difficulty ratings of 1.0 to 2.0. Most users abandon paths due to restarts rather than timeouts."
   ]
  },
  {
   "cell_type": "code",
   "metadata": {
    "ExecuteTime": {
     "end_time": "2024-11-11T00:22:51.129825Z",
     "start_time": "2024-11-11T00:22:51.060559Z"
    }
   },
   "source": [
    "def load_and_unquote_paths(file_path, column_names):\n",
    "    df = pd.read_csv(file_path, sep='\\t', comment='#', header=None, names=column_names)\n",
    "    df['path'] = df['path'].map(unquote)\n",
    "    return df\n",
    "\n",
    "paths_finished = load_and_unquote_paths('data/wikispeedia_paths-and-graph/paths_finished.tsv',\n",
    "                                          ['hashedIpAddress','timestamp', 'durationInSec','path','rating'])\n",
    "paths_finished.head()"
   ],
   "outputs": [
    {
     "data": {
      "text/plain": [
       "    hashedIpAddress   timestamp  durationInSec  \\\n",
       "0  6a3701d319fc3754  1297740409            166   \n",
       "1  3824310e536af032  1344753412             88   \n",
       "2  415612e93584d30e  1349298640            138   \n",
       "3  64dd5cd342e3780c  1265613925             37   \n",
       "4  015245d773376aab  1366730828            175   \n",
       "\n",
       "                                                path  rating  \n",
       "0  14th_century;15th_century;16th_century;Pacific...     NaN  \n",
       "1  14th_century;Europe;Africa;Atlantic_slave_trad...     3.0  \n",
       "2  14th_century;Niger;Nigeria;British_Empire;Slav...     NaN  \n",
       "3     14th_century;Renaissance;Ancient_Greece;Greece     NaN  \n",
       "4  14th_century;Italy;Roman_Catholic_Church;HIV;R...     3.0  "
      ],
      "text/html": [
       "<div>\n",
       "<style scoped>\n",
       "    .dataframe tbody tr th:only-of-type {\n",
       "        vertical-align: middle;\n",
       "    }\n",
       "\n",
       "    .dataframe tbody tr th {\n",
       "        vertical-align: top;\n",
       "    }\n",
       "\n",
       "    .dataframe thead th {\n",
       "        text-align: right;\n",
       "    }\n",
       "</style>\n",
       "<table border=\"1\" class=\"dataframe\">\n",
       "  <thead>\n",
       "    <tr style=\"text-align: right;\">\n",
       "      <th></th>\n",
       "      <th>hashedIpAddress</th>\n",
       "      <th>timestamp</th>\n",
       "      <th>durationInSec</th>\n",
       "      <th>path</th>\n",
       "      <th>rating</th>\n",
       "    </tr>\n",
       "  </thead>\n",
       "  <tbody>\n",
       "    <tr>\n",
       "      <th>0</th>\n",
       "      <td>6a3701d319fc3754</td>\n",
       "      <td>1297740409</td>\n",
       "      <td>166</td>\n",
       "      <td>14th_century;15th_century;16th_century;Pacific...</td>\n",
       "      <td>NaN</td>\n",
       "    </tr>\n",
       "    <tr>\n",
       "      <th>1</th>\n",
       "      <td>3824310e536af032</td>\n",
       "      <td>1344753412</td>\n",
       "      <td>88</td>\n",
       "      <td>14th_century;Europe;Africa;Atlantic_slave_trad...</td>\n",
       "      <td>3.0</td>\n",
       "    </tr>\n",
       "    <tr>\n",
       "      <th>2</th>\n",
       "      <td>415612e93584d30e</td>\n",
       "      <td>1349298640</td>\n",
       "      <td>138</td>\n",
       "      <td>14th_century;Niger;Nigeria;British_Empire;Slav...</td>\n",
       "      <td>NaN</td>\n",
       "    </tr>\n",
       "    <tr>\n",
       "      <th>3</th>\n",
       "      <td>64dd5cd342e3780c</td>\n",
       "      <td>1265613925</td>\n",
       "      <td>37</td>\n",
       "      <td>14th_century;Renaissance;Ancient_Greece;Greece</td>\n",
       "      <td>NaN</td>\n",
       "    </tr>\n",
       "    <tr>\n",
       "      <th>4</th>\n",
       "      <td>015245d773376aab</td>\n",
       "      <td>1366730828</td>\n",
       "      <td>175</td>\n",
       "      <td>14th_century;Italy;Roman_Catholic_Church;HIV;R...</td>\n",
       "      <td>3.0</td>\n",
       "    </tr>\n",
       "  </tbody>\n",
       "</table>\n",
       "</div>"
      ]
     },
     "execution_count": 55,
     "metadata": {},
     "output_type": "execute_result"
    }
   ],
   "execution_count": 55
  },
  {
   "metadata": {
    "ExecuteTime": {
     "end_time": "2024-11-11T16:17:05.772320Z",
     "start_time": "2024-11-11T16:17:05.766775Z"
    }
   },
   "cell_type": "code",
   "source": "paths_finished.shape",
   "outputs": [
    {
     "data": {
      "text/plain": [
       "(51318, 5)"
      ]
     },
     "execution_count": 68,
     "metadata": {},
     "output_type": "execute_result"
    }
   ],
   "execution_count": 68
  },
  {
   "metadata": {
    "ExecuteTime": {
     "end_time": "2024-11-11T16:57:12.020624Z",
     "start_time": "2024-11-11T16:57:11.960703Z"
    }
   },
   "cell_type": "code",
   "source": [
    "# calculate the length of each path\n",
    "paths_finished['path_length'] = paths_finished['path'].apply(lambda x: len([p for p in x.split(';')]))\n",
    "path_finished_analysis = paths_finished[['path_length', 'rating', 'durationInSec']].copy()\n",
    "path_finished_analysis.head()"
   ],
   "outputs": [
    {
     "data": {
      "text/plain": [
       "   path_length  rating  durationInSec\n",
       "0            9     NaN            166\n",
       "1            5     3.0             88\n",
       "2            8     NaN            138\n",
       "3            4     NaN             37\n",
       "4            7     3.0            175"
      ],
      "text/html": [
       "<div>\n",
       "<style scoped>\n",
       "    .dataframe tbody tr th:only-of-type {\n",
       "        vertical-align: middle;\n",
       "    }\n",
       "\n",
       "    .dataframe tbody tr th {\n",
       "        vertical-align: top;\n",
       "    }\n",
       "\n",
       "    .dataframe thead th {\n",
       "        text-align: right;\n",
       "    }\n",
       "</style>\n",
       "<table border=\"1\" class=\"dataframe\">\n",
       "  <thead>\n",
       "    <tr style=\"text-align: right;\">\n",
       "      <th></th>\n",
       "      <th>path_length</th>\n",
       "      <th>rating</th>\n",
       "      <th>durationInSec</th>\n",
       "    </tr>\n",
       "  </thead>\n",
       "  <tbody>\n",
       "    <tr>\n",
       "      <th>0</th>\n",
       "      <td>9</td>\n",
       "      <td>NaN</td>\n",
       "      <td>166</td>\n",
       "    </tr>\n",
       "    <tr>\n",
       "      <th>1</th>\n",
       "      <td>5</td>\n",
       "      <td>3.0</td>\n",
       "      <td>88</td>\n",
       "    </tr>\n",
       "    <tr>\n",
       "      <th>2</th>\n",
       "      <td>8</td>\n",
       "      <td>NaN</td>\n",
       "      <td>138</td>\n",
       "    </tr>\n",
       "    <tr>\n",
       "      <th>3</th>\n",
       "      <td>4</td>\n",
       "      <td>NaN</td>\n",
       "      <td>37</td>\n",
       "    </tr>\n",
       "    <tr>\n",
       "      <th>4</th>\n",
       "      <td>7</td>\n",
       "      <td>3.0</td>\n",
       "      <td>175</td>\n",
       "    </tr>\n",
       "  </tbody>\n",
       "</table>\n",
       "</div>"
      ]
     },
     "execution_count": 72,
     "metadata": {},
     "output_type": "execute_result"
    }
   ],
   "execution_count": 72
  },
  {
   "metadata": {
    "ExecuteTime": {
     "end_time": "2024-11-11T18:22:35.486109Z",
     "start_time": "2024-11-11T18:22:35.467065Z"
    }
   },
   "cell_type": "code",
   "source": [
    "# observe the difference in path lengths at different ratings\n",
    "path_finished_analysis_rated = path_finished_analysis.dropna()\n",
    "path_finished_analysis_rated = path_finished_analysis_rated.groupby('rating')['path_length'].describe()\n",
    "path_finished_analysis_rated"
   ],
   "outputs": [
    {
     "data": {
      "text/plain": [
       "         count       mean        std  min  25%   50%   75%    max\n",
       "rating                                                           \n",
       "1.0     8542.0   4.666120   2.052404  2.0  4.0   4.0   5.0   67.0\n",
       "2.0     8792.0   6.001592   2.438691  2.0  5.0   5.0   7.0   47.0\n",
       "3.0     7261.0   7.645503   3.715827  2.0  5.0   7.0   9.0   62.0\n",
       "4.0     2748.0  10.082969   5.863857  3.0  7.0   9.0  12.0   86.0\n",
       "5.0     1158.0  13.296200  17.189809  2.0  6.0  10.0  16.0  435.0"
      ],
      "text/html": [
       "<div>\n",
       "<style scoped>\n",
       "    .dataframe tbody tr th:only-of-type {\n",
       "        vertical-align: middle;\n",
       "    }\n",
       "\n",
       "    .dataframe tbody tr th {\n",
       "        vertical-align: top;\n",
       "    }\n",
       "\n",
       "    .dataframe thead th {\n",
       "        text-align: right;\n",
       "    }\n",
       "</style>\n",
       "<table border=\"1\" class=\"dataframe\">\n",
       "  <thead>\n",
       "    <tr style=\"text-align: right;\">\n",
       "      <th></th>\n",
       "      <th>count</th>\n",
       "      <th>mean</th>\n",
       "      <th>std</th>\n",
       "      <th>min</th>\n",
       "      <th>25%</th>\n",
       "      <th>50%</th>\n",
       "      <th>75%</th>\n",
       "      <th>max</th>\n",
       "    </tr>\n",
       "    <tr>\n",
       "      <th>rating</th>\n",
       "      <th></th>\n",
       "      <th></th>\n",
       "      <th></th>\n",
       "      <th></th>\n",
       "      <th></th>\n",
       "      <th></th>\n",
       "      <th></th>\n",
       "      <th></th>\n",
       "    </tr>\n",
       "  </thead>\n",
       "  <tbody>\n",
       "    <tr>\n",
       "      <th>1.0</th>\n",
       "      <td>8542.0</td>\n",
       "      <td>4.666120</td>\n",
       "      <td>2.052404</td>\n",
       "      <td>2.0</td>\n",
       "      <td>4.0</td>\n",
       "      <td>4.0</td>\n",
       "      <td>5.0</td>\n",
       "      <td>67.0</td>\n",
       "    </tr>\n",
       "    <tr>\n",
       "      <th>2.0</th>\n",
       "      <td>8792.0</td>\n",
       "      <td>6.001592</td>\n",
       "      <td>2.438691</td>\n",
       "      <td>2.0</td>\n",
       "      <td>5.0</td>\n",
       "      <td>5.0</td>\n",
       "      <td>7.0</td>\n",
       "      <td>47.0</td>\n",
       "    </tr>\n",
       "    <tr>\n",
       "      <th>3.0</th>\n",
       "      <td>7261.0</td>\n",
       "      <td>7.645503</td>\n",
       "      <td>3.715827</td>\n",
       "      <td>2.0</td>\n",
       "      <td>5.0</td>\n",
       "      <td>7.0</td>\n",
       "      <td>9.0</td>\n",
       "      <td>62.0</td>\n",
       "    </tr>\n",
       "    <tr>\n",
       "      <th>4.0</th>\n",
       "      <td>2748.0</td>\n",
       "      <td>10.082969</td>\n",
       "      <td>5.863857</td>\n",
       "      <td>3.0</td>\n",
       "      <td>7.0</td>\n",
       "      <td>9.0</td>\n",
       "      <td>12.0</td>\n",
       "      <td>86.0</td>\n",
       "    </tr>\n",
       "    <tr>\n",
       "      <th>5.0</th>\n",
       "      <td>1158.0</td>\n",
       "      <td>13.296200</td>\n",
       "      <td>17.189809</td>\n",
       "      <td>2.0</td>\n",
       "      <td>6.0</td>\n",
       "      <td>10.0</td>\n",
       "      <td>16.0</td>\n",
       "      <td>435.0</td>\n",
       "    </tr>\n",
       "  </tbody>\n",
       "</table>\n",
       "</div>"
      ]
     },
     "execution_count": 85,
     "metadata": {},
     "output_type": "execute_result"
    }
   ],
   "execution_count": 85
  },
  {
   "metadata": {
    "ExecuteTime": {
     "end_time": "2024-11-11T17:06:30.100477Z",
     "start_time": "2024-11-11T17:06:30.011674Z"
    }
   },
   "cell_type": "code",
   "source": [
    "import matplotlib.pyplot as plt\n",
    "\n",
    "plt.figure(figsize=(10, 6))\n",
    "plt.plot(path_finished_analysis_rated['mean'], marker='o', label='Mean Path Length')\n",
    "plt.plot(path_finished_analysis_rated['50%'], marker='s', label='Median Path Length')\n",
    "plt.plot(path_finished_analysis_rated['std'], marker='^', label='Standard Deviation')\n",
    "plt.xticks(path_finished_analysis_rated.index)\n",
    "plt.xlabel('Rating')\n",
    "plt.ylabel('Path Length')\n",
    "plt.title('Path Length Statistics by Rating')\n",
    "plt.legend()\n",
    "plt.grid(True)\n",
    "plt.show()"
   ],
   "outputs": [
    {
     "data": {
      "text/plain": [
       "<Figure size 1000x600 with 1 Axes>"
      ],
      "image/png": "[encoded data removed]"
     },
     "metadata": {},
     "output_type": "display_data"
    }
   ],
   "execution_count": 80
  },
  {
   "metadata": {
    "ExecuteTime": {
     "end_time": "2024-11-11T18:29:05.406645Z",
     "start_time": "2024-11-11T18:27:44.780876Z"
    }
   },
   "cell_type": "code",
   "source": [
    "def calculate_average_pagerank(path):\n",
    "    page_list = path.split(';')\n",
    "    total_pagerank = 0\n",
    "    count = 0\n",
    "    for page in page_list:\n",
    "        pagerank_values = pagerank_df.loc[pagerank_df['article'] == page, 'pagerank'].values\n",
    "        if len(pagerank_values) > 0: \n",
    "            total_pagerank += pagerank_values[0]\n",
    "            count += 1\n",
    "    return total_pagerank / count if count > 0 else None\n",
    "\n",
    "paths_finished['avg_pagerank'] = paths_finished['path'].apply(calculate_average_pagerank)\n",
    "rating_vs_pagerank = paths_finished[['rating', 'avg_pagerank']].dropna()\n",
    "rating_vs_pagerank.head()"
   ],
   "outputs": [
    {
     "data": {
      "text/plain": [
       "   rating  avg_pagerank\n",
       "1     3.0      0.002058\n",
       "4     3.0      0.001188\n",
       "6     2.0      0.001181\n",
       "7     1.0      0.000674\n",
       "8     3.0      0.000544"
      ],
      "text/html": [
       "<div>\n",
       "<style scoped>\n",
       "    .dataframe tbody tr th:only-of-type {\n",
       "        vertical-align: middle;\n",
       "    }\n",
       "\n",
       "    .dataframe tbody tr th {\n",
       "        vertical-align: top;\n",
       "    }\n",
       "\n",
       "    .dataframe thead th {\n",
       "        text-align: right;\n",
       "    }\n",
       "</style>\n",
       "<table border=\"1\" class=\"dataframe\">\n",
       "  <thead>\n",
       "    <tr style=\"text-align: right;\">\n",
       "      <th></th>\n",
       "      <th>rating</th>\n",
       "      <th>avg_pagerank</th>\n",
       "    </tr>\n",
       "  </thead>\n",
       "  <tbody>\n",
       "    <tr>\n",
       "      <th>1</th>\n",
       "      <td>3.0</td>\n",
       "      <td>0.002058</td>\n",
       "    </tr>\n",
       "    <tr>\n",
       "      <th>4</th>\n",
       "      <td>3.0</td>\n",
       "      <td>0.001188</td>\n",
       "    </tr>\n",
       "    <tr>\n",
       "      <th>6</th>\n",
       "      <td>2.0</td>\n",
       "      <td>0.001181</td>\n",
       "    </tr>\n",
       "    <tr>\n",
       "      <th>7</th>\n",
       "      <td>1.0</td>\n",
       "      <td>0.000674</td>\n",
       "    </tr>\n",
       "    <tr>\n",
       "      <th>8</th>\n",
       "      <td>3.0</td>\n",
       "      <td>0.000544</td>\n",
       "    </tr>\n",
       "  </tbody>\n",
       "</table>\n",
       "</div>"
      ]
     },
     "execution_count": 86,
     "metadata": {},
     "output_type": "execute_result"
    }
   ],
   "execution_count": 86
  },
  {
   "metadata": {
    "ExecuteTime": {
     "end_time": "2024-11-11T18:31:30.036518Z",
     "start_time": "2024-11-11T18:31:30.021914Z"
    }
   },
   "cell_type": "code",
   "source": [
    "correlation = rating_vs_pagerank.corr()\n",
    "correlation"
   ],
   "outputs": [
    {
     "data": {
      "text/plain": [
       "                rating  avg_pagerank\n",
       "rating        1.000000     -0.114099\n",
       "avg_pagerank -0.114099      1.000000"
      ],
      "text/html": [
       "<div>\n",
       "<style scoped>\n",
       "    .dataframe tbody tr th:only-of-type {\n",
       "        vertical-align: middle;\n",
       "    }\n",
       "\n",
       "    .dataframe tbody tr th {\n",
       "        vertical-align: top;\n",
       "    }\n",
       "\n",
       "    .dataframe thead th {\n",
       "        text-align: right;\n",
       "    }\n",
       "</style>\n",
       "<table border=\"1\" class=\"dataframe\">\n",
       "  <thead>\n",
       "    <tr style=\"text-align: right;\">\n",
       "      <th></th>\n",
       "      <th>rating</th>\n",
       "      <th>avg_pagerank</th>\n",
       "    </tr>\n",
       "  </thead>\n",
       "  <tbody>\n",
       "    <tr>\n",
       "      <th>rating</th>\n",
       "      <td>1.000000</td>\n",
       "      <td>-0.114099</td>\n",
       "    </tr>\n",
       "    <tr>\n",
       "      <th>avg_pagerank</th>\n",
       "      <td>-0.114099</td>\n",
       "      <td>1.000000</td>\n",
       "    </tr>\n",
       "  </tbody>\n",
       "</table>\n",
       "</div>"
      ]
     },
     "execution_count": 87,
     "metadata": {},
     "output_type": "execute_result"
    }
   ],
   "execution_count": 87
  },
  {
   "cell_type": "code",
   "metadata": {
    "ExecuteTime": {
     "end_time": "2024-11-11T00:22:51.186239Z",
     "start_time": "2024-11-11T00:22:51.149055Z"
    }
   },
   "source": [
    "paths_unfinished = load_and_unquote_paths('data/wikispeedia_paths-and-graph/paths_unfinished.tsv',\n",
    "                                          ['hashedIpAddress','timestamp', 'durationInSec','path','target','type'])\n",
    "paths_unfinished.head()"
   ],
   "outputs": [
    {
     "data": {
      "text/plain": [
       "    hashedIpAddress   timestamp  durationInSec  \\\n",
       "0  2426091a53125110  1297054935           1804   \n",
       "1  26141fd878806294  1297055651           1805   \n",
       "2  2b015fb8181c48f2  1297090819           1818   \n",
       "3  53a53bc244e08a6a  1297094761             49   \n",
       "4  53a53bc244e08a6a  1297099105           1808   \n",
       "\n",
       "                                   path            target     type  \n",
       "0                        Obi-Wan_Kenobi         Microsoft  timeout  \n",
       "1                         Julius_Caesar           Caracas  timeout  \n",
       "2  Malawi;Democracy;Alexander_the_Great     First_Crusade  timeout  \n",
       "3                              Paraguay  Mount_St._Helens  restart  \n",
       "4                      Paraguay;Bolivia  Mount_St._Helens  timeout  "
      ],
      "text/html": [
       "<div>\n",
       "<style scoped>\n",
       "    .dataframe tbody tr th:only-of-type {\n",
       "        vertical-align: middle;\n",
       "    }\n",
       "\n",
       "    .dataframe tbody tr th {\n",
       "        vertical-align: top;\n",
       "    }\n",
       "\n",
       "    .dataframe thead th {\n",
       "        text-align: right;\n",
       "    }\n",
       "</style>\n",
       "<table border=\"1\" class=\"dataframe\">\n",
       "  <thead>\n",
       "    <tr style=\"text-align: right;\">\n",
       "      <th></th>\n",
       "      <th>hashedIpAddress</th>\n",
       "      <th>timestamp</th>\n",
       "      <th>durationInSec</th>\n",
       "      <th>path</th>\n",
       "      <th>target</th>\n",
       "      <th>type</th>\n",
       "    </tr>\n",
       "  </thead>\n",
       "  <tbody>\n",
       "    <tr>\n",
       "      <th>0</th>\n",
       "      <td>2426091a53125110</td>\n",
       "      <td>1297054935</td>\n",
       "      <td>1804</td>\n",
       "      <td>Obi-Wan_Kenobi</td>\n",
       "      <td>Microsoft</td>\n",
       "      <td>timeout</td>\n",
       "    </tr>\n",
       "    <tr>\n",
       "      <th>1</th>\n",
       "      <td>26141fd878806294</td>\n",
       "      <td>1297055651</td>\n",
       "      <td>1805</td>\n",
       "      <td>Julius_Caesar</td>\n",
       "      <td>Caracas</td>\n",
       "      <td>timeout</td>\n",
       "    </tr>\n",
       "    <tr>\n",
       "      <th>2</th>\n",
       "      <td>2b015fb8181c48f2</td>\n",
       "      <td>1297090819</td>\n",
       "      <td>1818</td>\n",
       "      <td>Malawi;Democracy;Alexander_the_Great</td>\n",
       "      <td>First_Crusade</td>\n",
       "      <td>timeout</td>\n",
       "    </tr>\n",
       "    <tr>\n",
       "      <th>3</th>\n",
       "      <td>53a53bc244e08a6a</td>\n",
       "      <td>1297094761</td>\n",
       "      <td>49</td>\n",
       "      <td>Paraguay</td>\n",
       "      <td>Mount_St._Helens</td>\n",
       "      <td>restart</td>\n",
       "    </tr>\n",
       "    <tr>\n",
       "      <th>4</th>\n",
       "      <td>53a53bc244e08a6a</td>\n",
       "      <td>1297099105</td>\n",
       "      <td>1808</td>\n",
       "      <td>Paraguay;Bolivia</td>\n",
       "      <td>Mount_St._Helens</td>\n",
       "      <td>timeout</td>\n",
       "    </tr>\n",
       "  </tbody>\n",
       "</table>\n",
       "</div>"
      ]
     },
     "execution_count": 56,
     "metadata": {},
     "output_type": "execute_result"
    }
   ],
   "execution_count": 56
  },
  {
   "metadata": {
    "ExecuteTime": {
     "end_time": "2024-11-11T16:17:41.354831Z",
     "start_time": "2024-11-11T16:17:41.352184Z"
    }
   },
   "cell_type": "code",
   "source": "paths_unfinished.shape",
   "outputs": [
    {
     "data": {
      "text/plain": [
       "(24875, 6)"
      ]
     },
     "execution_count": 69,
     "metadata": {},
     "output_type": "execute_result"
    }
   ],
   "execution_count": 69
  },
  {
   "metadata": {
    "ExecuteTime": {
     "end_time": "2024-11-11T18:44:01.981624Z",
     "start_time": "2024-11-11T18:44:01.963955Z"
    }
   },
   "cell_type": "code",
   "source": [
    "# calculate the length of each path\n",
    "paths_unfinished['path_length'] = paths_unfinished['path'].apply(lambda x: len([p for p in x.split(';')]))\n",
    "path_unfinished_analysis = paths_unfinished[['path_length', 'durationInSec', 'type']].copy()\n",
    "path_unfinished_analysis.head()"
   ],
   "outputs": [
    {
     "data": {
      "text/plain": [
       "   path_length  durationInSec     type\n",
       "0            1           1804  timeout\n",
       "1            1           1805  timeout\n",
       "2            3           1818  timeout\n",
       "3            1             49  restart\n",
       "4            2           1808  timeout"
      ],
      "text/html": [
       "<div>\n",
       "<style scoped>\n",
       "    .dataframe tbody tr th:only-of-type {\n",
       "        vertical-align: middle;\n",
       "    }\n",
       "\n",
       "    .dataframe tbody tr th {\n",
       "        vertical-align: top;\n",
       "    }\n",
       "\n",
       "    .dataframe thead th {\n",
       "        text-align: right;\n",
       "    }\n",
       "</style>\n",
       "<table border=\"1\" class=\"dataframe\">\n",
       "  <thead>\n",
       "    <tr style=\"text-align: right;\">\n",
       "      <th></th>\n",
       "      <th>path_length</th>\n",
       "      <th>durationInSec</th>\n",
       "      <th>type</th>\n",
       "    </tr>\n",
       "  </thead>\n",
       "  <tbody>\n",
       "    <tr>\n",
       "      <th>0</th>\n",
       "      <td>1</td>\n",
       "      <td>1804</td>\n",
       "      <td>timeout</td>\n",
       "    </tr>\n",
       "    <tr>\n",
       "      <th>1</th>\n",
       "      <td>1</td>\n",
       "      <td>1805</td>\n",
       "      <td>timeout</td>\n",
       "    </tr>\n",
       "    <tr>\n",
       "      <th>2</th>\n",
       "      <td>3</td>\n",
       "      <td>1818</td>\n",
       "      <td>timeout</td>\n",
       "    </tr>\n",
       "    <tr>\n",
       "      <th>3</th>\n",
       "      <td>1</td>\n",
       "      <td>49</td>\n",
       "      <td>restart</td>\n",
       "    </tr>\n",
       "    <tr>\n",
       "      <th>4</th>\n",
       "      <td>2</td>\n",
       "      <td>1808</td>\n",
       "      <td>timeout</td>\n",
       "    </tr>\n",
       "  </tbody>\n",
       "</table>\n",
       "</div>"
      ]
     },
     "execution_count": 91,
     "metadata": {},
     "output_type": "execute_result"
    }
   ],
   "execution_count": 91
  },
  {
   "metadata": {
    "ExecuteTime": {
     "end_time": "2024-11-11T18:44:50.403714Z",
     "start_time": "2024-11-11T18:44:50.395018Z"
    }
   },
   "cell_type": "code",
   "source": "path_unfinished_analysis.describe()",
   "outputs": [
    {
     "data": {
      "text/plain": [
       "        path_length  durationInSec\n",
       "count  24875.000000   24875.000000\n",
       "mean       5.197789     835.296884\n",
       "std        5.772234     881.287961\n",
       "min        1.000000       4.000000\n",
       "25%        2.000000      86.000000\n",
       "50%        4.000000     261.000000\n",
       "75%        7.000000    1831.000000\n",
       "max      235.000000    9089.000000"
      ],
      "text/html": [
       "<div>\n",
       "<style scoped>\n",
       "    .dataframe tbody tr th:only-of-type {\n",
       "        vertical-align: middle;\n",
       "    }\n",
       "\n",
       "    .dataframe tbody tr th {\n",
       "        vertical-align: top;\n",
       "    }\n",
       "\n",
       "    .dataframe thead th {\n",
       "        text-align: right;\n",
       "    }\n",
       "</style>\n",
       "<table border=\"1\" class=\"dataframe\">\n",
       "  <thead>\n",
       "    <tr style=\"text-align: right;\">\n",
       "      <th></th>\n",
       "      <th>path_length</th>\n",
       "      <th>durationInSec</th>\n",
       "    </tr>\n",
       "  </thead>\n",
       "  <tbody>\n",
       "    <tr>\n",
       "      <th>count</th>\n",
       "      <td>24875.000000</td>\n",
       "      <td>24875.000000</td>\n",
       "    </tr>\n",
       "    <tr>\n",
       "      <th>mean</th>\n",
       "      <td>5.197789</td>\n",
       "      <td>835.296884</td>\n",
       "    </tr>\n",
       "    <tr>\n",
       "      <th>std</th>\n",
       "      <td>5.772234</td>\n",
       "      <td>881.287961</td>\n",
       "    </tr>\n",
       "    <tr>\n",
       "      <th>min</th>\n",
       "      <td>1.000000</td>\n",
       "      <td>4.000000</td>\n",
       "    </tr>\n",
       "    <tr>\n",
       "      <th>25%</th>\n",
       "      <td>2.000000</td>\n",
       "      <td>86.000000</td>\n",
       "    </tr>\n",
       "    <tr>\n",
       "      <th>50%</th>\n",
       "      <td>4.000000</td>\n",
       "      <td>261.000000</td>\n",
       "    </tr>\n",
       "    <tr>\n",
       "      <th>75%</th>\n",
       "      <td>7.000000</td>\n",
       "      <td>1831.000000</td>\n",
       "    </tr>\n",
       "    <tr>\n",
       "      <th>max</th>\n",
       "      <td>235.000000</td>\n",
       "      <td>9089.000000</td>\n",
       "    </tr>\n",
       "  </tbody>\n",
       "</table>\n",
       "</div>"
      ]
     },
     "execution_count": 92,
     "metadata": {},
     "output_type": "execute_result"
    }
   ],
   "execution_count": 92
  },
  {
   "metadata": {
    "ExecuteTime": {
     "end_time": "2024-11-11T18:47:23.167167Z",
     "start_time": "2024-11-11T18:47:23.109069Z"
    }
   },
   "cell_type": "code",
   "source": [
    "type_counts = path_unfinished_analysis['type'].value_counts()\n",
    "plt.figure(figsize=(8, 6))\n",
    "plt.pie(type_counts, labels=type_counts.index, autopct='%1.1f%%', startangle=140)\n",
    "plt.title(\"Distribution of Unfinished Path Types\")\n",
    "plt.show()"
   ],
   "outputs": [
    {
     "data": {
      "text/plain": [
       "<Figure size 800x600 with 1 Axes>"
      ],
      "image/png": "[encoded data removed]"
     },
     "metadata": {},
     "output_type": "display_data"
    }
   ],
   "execution_count": 93
  },
  {
   "cell_type": "code",
   "metadata": {
    "ExecuteTime": {
     "end_time": "2024-11-11T00:22:56.642838Z",
     "start_time": "2024-11-11T00:22:51.264668Z"
    }
   },
   "source": [
    "with open('data/wikispeedia_paths-and-graph/shortest-path-distance-matrix.txt', 'r') as file:\n",
    "    data = file.readlines()\n",
    "# remove comment \n",
    "data = [line.strip() for line in data if not line.startswith('#') and line.strip()]\n",
    "# convert the data into a matrix\n",
    "distance_matrix = [list(line) for line in data]\n",
    "# convert the matrix into a DataFrame\n",
    "df = pd.DataFrame(distance_matrix)\n",
    "df.replace('_', pd.NA, inplace=True)\n",
    "df = df.apply(pd.to_numeric)\n",
    "df.head()"
   ],
   "outputs": [
    {
     "data": {
      "text/plain": [
       "   0     1     2     3     4     5     6     7     8     9     ...  4594  \\\n",
       "0   0.0   NaN   NaN   NaN   NaN   NaN   3.0   3.0   3.0   3.0  ...   4.0   \n",
       "1   NaN   0.0   NaN   NaN   NaN   NaN   2.0   2.0   2.0   2.0  ...   4.0   \n",
       "2   NaN   NaN   0.0   NaN   NaN   NaN   3.0   3.0   2.0   2.0  ...   4.0   \n",
       "3   NaN   NaN   NaN   0.0   NaN   NaN   3.0   3.0   3.0   3.0  ...   4.0   \n",
       "4   NaN   NaN   NaN   NaN   0.0   NaN   2.0   2.0   3.0   2.0  ...   4.0   \n",
       "\n",
       "   4595  4596  4597  4598  4599  4600  4601  4602  4603  \n",
       "0   3.0   3.0   4.0   4.0   3.0   4.0   4.0   4.0   2.0  \n",
       "1   2.0   3.0   4.0   4.0   3.0   4.0   3.0   3.0   3.0  \n",
       "2   3.0   2.0   3.0   4.0   3.0   4.0   3.0   3.0   3.0  \n",
       "3   2.0   2.0   3.0   4.0   3.0   4.0   4.0   3.0   3.0  \n",
       "4   2.0   3.0   4.0   4.0   3.0   4.0   3.0   3.0   3.0  \n",
       "\n",
       "[5 rows x 4604 columns]"
      ],
      "text/html": [
       "<div>\n",
       "<style scoped>\n",
       "    .dataframe tbody tr th:only-of-type {\n",
       "        vertical-align: middle;\n",
       "    }\n",
       "\n",
       "    .dataframe tbody tr th {\n",
       "        vertical-align: top;\n",
       "    }\n",
       "\n",
       "    .dataframe thead th {\n",
       "        text-align: right;\n",
       "    }\n",
       "</style>\n",
       "<table border=\"1\" class=\"dataframe\">\n",
       "  <thead>\n",
       "    <tr style=\"text-align: right;\">\n",
       "      <th></th>\n",
       "      <th>0</th>\n",
       "      <th>1</th>\n",
       "      <th>2</th>\n",
       "      <th>3</th>\n",
       "      <th>4</th>\n",
       "      <th>5</th>\n",
       "      <th>6</th>\n",
       "      <th>7</th>\n",
       "      <th>8</th>\n",
       "      <th>9</th>\n",
       "      <th>...</th>\n",
       "      <th>4594</th>\n",
       "      <th>4595</th>\n",
       "      <th>4596</th>\n",
       "      <th>4597</th>\n",
       "      <th>4598</th>\n",
       "      <th>4599</th>\n",
       "      <th>4600</th>\n",
       "      <th>4601</th>\n",
       "      <th>4602</th>\n",
       "      <th>4603</th>\n",
       "    </tr>\n",
       "  </thead>\n",
       "  <tbody>\n",
       "    <tr>\n",
       "      <th>0</th>\n",
       "      <td>0.0</td>\n",
       "      <td>NaN</td>\n",
       "      <td>NaN</td>\n",
       "      <td>NaN</td>\n",
       "      <td>NaN</td>\n",
       "      <td>NaN</td>\n",
       "      <td>3.0</td>\n",
       "      <td>3.0</td>\n",
       "      <td>3.0</td>\n",
       "      <td>3.0</td>\n",
       "      <td>...</td>\n",
       "      <td>4.0</td>\n",
       "      <td>3.0</td>\n",
       "      <td>3.0</td>\n",
       "      <td>4.0</td>\n",
       "      <td>4.0</td>\n",
       "      <td>3.0</td>\n",
       "      <td>4.0</td>\n",
       "      <td>4.0</td>\n",
       "      <td>4.0</td>\n",
       "      <td>2.0</td>\n",
       "    </tr>\n",
       "    <tr>\n",
       "      <th>1</th>\n",
       "      <td>NaN</td>\n",
       "      <td>0.0</td>\n",
       "      <td>NaN</td>\n",
       "      <td>NaN</td>\n",
       "      <td>NaN</td>\n",
       "      <td>NaN</td>\n",
       "      <td>2.0</td>\n",
       "      <td>2.0</td>\n",
       "      <td>2.0</td>\n",
       "      <td>2.0</td>\n",
       "      <td>...</td>\n",
       "      <td>4.0</td>\n",
       "      <td>2.0</td>\n",
       "      <td>3.0</td>\n",
       "      <td>4.0</td>\n",
       "      <td>4.0</td>\n",
       "      <td>3.0</td>\n",
       "      <td>4.0</td>\n",
       "      <td>3.0</td>\n",
       "      <td>3.0</td>\n",
       "      <td>3.0</td>\n",
       "    </tr>\n",
       "    <tr>\n",
       "      <th>2</th>\n",
       "      <td>NaN</td>\n",
       "      <td>NaN</td>\n",
       "      <td>0.0</td>\n",
       "      <td>NaN</td>\n",
       "      <td>NaN</td>\n",
       "      <td>NaN</td>\n",
       "      <td>3.0</td>\n",
       "      <td>3.0</td>\n",
       "      <td>2.0</td>\n",
       "      <td>2.0</td>\n",
       "      <td>...</td>\n",
       "      <td>4.0</td>\n",
       "      <td>3.0</td>\n",
       "      <td>2.0</td>\n",
       "      <td>3.0</td>\n",
       "      <td>4.0</td>\n",
       "      <td>3.0</td>\n",
       "      <td>4.0</td>\n",
       "      <td>3.0</td>\n",
       "      <td>3.0</td>\n",
       "      <td>3.0</td>\n",
       "    </tr>\n",
       "    <tr>\n",
       "      <th>3</th>\n",
       "      <td>NaN</td>\n",
       "      <td>NaN</td>\n",
       "      <td>NaN</td>\n",
       "      <td>0.0</td>\n",
       "      <td>NaN</td>\n",
       "      <td>NaN</td>\n",
       "      <td>3.0</td>\n",
       "      <td>3.0</td>\n",
       "      <td>3.0</td>\n",
       "      <td>3.0</td>\n",
       "      <td>...</td>\n",
       "      <td>4.0</td>\n",
       "      <td>2.0</td>\n",
       "      <td>2.0</td>\n",
       "      <td>3.0</td>\n",
       "      <td>4.0</td>\n",
       "      <td>3.0</td>\n",
       "      <td>4.0</td>\n",
       "      <td>4.0</td>\n",
       "      <td>3.0</td>\n",
       "      <td>3.0</td>\n",
       "    </tr>\n",
       "    <tr>\n",
       "      <th>4</th>\n",
       "      <td>NaN</td>\n",
       "      <td>NaN</td>\n",
       "      <td>NaN</td>\n",
       "      <td>NaN</td>\n",
       "      <td>0.0</td>\n",
       "      <td>NaN</td>\n",
       "      <td>2.0</td>\n",
       "      <td>2.0</td>\n",
       "      <td>3.0</td>\n",
       "      <td>2.0</td>\n",
       "      <td>...</td>\n",
       "      <td>4.0</td>\n",
       "      <td>2.0</td>\n",
       "      <td>3.0</td>\n",
       "      <td>4.0</td>\n",
       "      <td>4.0</td>\n",
       "      <td>3.0</td>\n",
       "      <td>4.0</td>\n",
       "      <td>3.0</td>\n",
       "      <td>3.0</td>\n",
       "      <td>3.0</td>\n",
       "    </tr>\n",
       "  </tbody>\n",
       "</table>\n",
       "<p>5 rows × 4604 columns</p>\n",
       "</div>"
      ]
     },
     "execution_count": 57,
     "metadata": {},
     "output_type": "execute_result"
    }
   ],
   "execution_count": 57
  },
  {
   "cell_type": "code",
   "metadata": {
    "ExecuteTime": {
     "end_time": "2024-11-11T00:22:58.011746Z",
     "start_time": "2024-11-11T00:22:56.682089Z"
    }
   },
   "source": [
    "import matplotlib.pyplot as plt\n",
    "\n",
    "mean_distance = df.stack().mean()\n",
    "median_distance = df.stack().median()\n",
    "distance_distribution = df.stack().value_counts().sort_index()\n",
    "\n",
    "print(f\"Mean shortest-path distance: {mean_distance}\")\n",
    "print(f\"Median shortest-path distance: {median_distance}\")\n",
    "\n",
    "plt.figure(figsize=(10, 6))\n",
    "distance_distribution.plot(kind='bar')\n",
    "plt.title('Distribution of Shortest-Path Distances')\n",
    "plt.xlabel('Shortest-Path Distance')\n",
    "plt.ylabel('Frequency')\n",
    "plt.show()"
   ],
   "outputs": [
    {
     "name": "stdout",
     "output_type": "stream",
     "text": [
      "Mean shortest-path distance: 3.201729547596255\n",
      "Median shortest-path distance: 3.0\n"
     ]
    },
    {
     "data": {
      "text/plain": [
       "<Figure size 1000x600 with 1 Axes>"
      ],
      "image/png": "[encoded data removed]"
     },
     "metadata": {},
     "output_type": "display_data"
    }
   ],
   "execution_count": 58
  }
 ],
 "metadata": {
  "kernelspec": {
   "display_name": "base",
   "language": "python",
   "name": "python3"
  },
  "language_info": {
   "codemirror_mode": {
    "name": "ipython",
    "version": 3
   },
   "file_extension": ".py",
   "mimetype": "text/x-python",
   "name": "python",
   "nbconvert_exporter": "python",
   "pygments_lexer": "ipython3",
   "version": "3.11.7"
  }
 },
 "nbformat": 4,
 "nbformat_minor": 2
}
